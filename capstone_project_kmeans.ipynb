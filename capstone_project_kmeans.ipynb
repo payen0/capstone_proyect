{
 "cells": [
  {
   "cell_type": "markdown",
   "metadata": {},
   "source": [
    "<h1 align = 'center'> \n",
    "    Machine learning against pollution: clustering analysis of Greater Mexico City's air quality \n",
    "</h1>\n",
    "<h4 align = 'center'>\n",
    "    A. Payen-Sandoval\n",
    "</h4>"
   ]
  },
  {
   "cell_type": "markdown",
   "metadata": {},
   "source": [
    "In this notebook, we will inspect the possible relationships between air quality and the types and amounts of venues in a 2km radius around air quality measuring stations, located across Greater Mexico City (GMX)."
   ]
  },
  {
   "cell_type": "markdown",
   "metadata": {},
   "source": [
    "## Table of contents\n",
    "* [0. Introduction](#introduction)\n",
    "* [1. Required libraries](#libraries)\n",
    "* [2.a Data: air quality](#data_air)\n",
    "* [2.b Data: venues](#data_venues)\n",
    "* [2.c Data: joining the pieces together](#data_join)\n",
    "* [3. Clustering](#methodology_clustering)\n",
    "* [4. Results and discussion](#results)\n",
    "* [5. Conclusion](#conclusion)\n",
    "* [6. Final remarks](#remarks)"
   ]
  },
  {
   "cell_type": "markdown",
   "metadata": {},
   "source": [
    "<hr>\n",
    "<h1 align='center'> 0. Introduction </h1> <a name=\"introduction\"></a>\n",
    "<hr>"
   ]
  },
  {
   "cell_type": "markdown",
   "metadata": {},
   "source": [
    "<hr>\n",
    "<h1 align='center'> 1. Required libraries </h1> <a name=\"libraries\"></a>\n",
    "<hr>"
   ]
  },
  {
   "cell_type": "code",
   "execution_count": 1,
   "metadata": {},
   "outputs": [
    {
     "name": "stdout",
     "output_type": "stream",
     "text": [
      "Requirement already satisfied: lxml in ./env/lib/python3.6/site-packages\n",
      "Requirement already satisfied: cssselect in ./env/lib/python3.6/site-packages\n",
      "Requirement already satisfied: folium in ./env/lib/python3.6/site-packages\n",
      "Requirement already satisfied: numpy in ./env/lib/python3.6/site-packages (from folium)\n",
      "Requirement already satisfied: branca>=0.3.0 in ./env/lib/python3.6/site-packages (from folium)\n",
      "Requirement already satisfied: jinja2>=2.9 in ./env/lib/python3.6/site-packages (from folium)\n",
      "Requirement already satisfied: requests in ./env/lib/python3.6/site-packages (from folium)\n",
      "Requirement already satisfied: six in ./env/lib/python3.6/site-packages (from branca>=0.3.0->folium)\n",
      "Requirement already satisfied: MarkupSafe>=0.23 in ./env/lib/python3.6/site-packages (from jinja2>=2.9->folium)\n",
      "Requirement already satisfied: certifi>=2017.4.17 in ./env/lib/python3.6/site-packages (from requests->folium)\n",
      "Requirement already satisfied: chardet<3.1.0,>=3.0.2 in ./env/lib/python3.6/site-packages (from requests->folium)\n",
      "Requirement already satisfied: urllib3!=1.25.0,!=1.25.1,<1.26,>=1.21.1 in ./env/lib/python3.6/site-packages (from requests->folium)\n",
      "Requirement already satisfied: idna<2.9,>=2.5 in ./env/lib/python3.6/site-packages (from requests->folium)\n"
     ]
    }
   ],
   "source": [
    "!python3 -m pip install lxml\n",
    "!python3 -m pip install cssselect\n",
    "!python3 -m pip install folium"
   ]
  },
  {
   "cell_type": "code",
   "execution_count": 2,
   "metadata": {},
   "outputs": [],
   "source": [
    "%matplotlib inline\n",
    "\n",
    "import requests, json, random\n",
    "import folium\n",
    "import seaborn as sns\n",
    "import pandas as pd\n",
    "import numpy as np\n",
    "from scipy import stats\n",
    "from pandas.io.json import json_normalize\n",
    "from mpl_toolkits.axes_grid1 import make_axes_locatable\n",
    "from lxml.html import parse\n",
    "import lxml.html as lh\n",
    "from sklearn.cluster import KMeans\n",
    "from sklearn.cluster import DBSCAN\n",
    "from sklearn import preprocessing, metrics\n",
    "from sklearn.preprocessing import MinMaxScaler\n",
    "import matplotlib.pyplot as plt\n",
    "import matplotlib.cm as cm\n",
    "import matplotlib.colors as colors"
   ]
  },
  {
   "cell_type": "markdown",
   "metadata": {},
   "source": [
    "<hr>\n",
    "<h1 align='center'> 2.a Data: air quality </h1> <a name=\"data_air\"></a>\n",
    "<hr>"
   ]
  },
  {
   "cell_type": "markdown",
   "metadata": {},
   "source": [
    "The air quality data is split into six files: one for carbon monoxide (CO), nitrogen dioxide (NO2), ozone (O3), sulfur dioxide (SO2), particulate matter less than 10 micrometers in diameter (PM10) and particulate matter less than 2.5 micrometers in diameter (PM25).\n",
    "\n",
    "Let's read the data files and see their contents:"
   ]
  },
  {
   "cell_type": "code",
   "execution_count": 3,
   "metadata": {},
   "outputs": [],
   "source": [
    "molecules = ['CO', 'NO2', 'O3', 'SO2', 'PM10', 'PM25'] \n",
    "dfs = np.zeros(len(molecules), dtype = object) # creating an array for dataframes\n",
    " \n",
    "for i, molecule in enumerate(molecules):\n",
    "    dfs[i] = pd.read_csv(molecule + '.csv', delimiter=',')"
   ]
  },
  {
   "cell_type": "markdown",
   "metadata": {},
   "source": [
    "This is what the NO2 file looks like:"
   ]
  },
  {
   "cell_type": "code",
   "execution_count": 4,
   "metadata": {},
   "outputs": [
    {
     "data": {
      "text/html": [
       "<div>\n",
       "<style scoped>\n",
       "    .dataframe tbody tr th:only-of-type {\n",
       "        vertical-align: middle;\n",
       "    }\n",
       "\n",
       "    .dataframe tbody tr th {\n",
       "        vertical-align: top;\n",
       "    }\n",
       "\n",
       "    .dataframe thead th {\n",
       "        text-align: right;\n",
       "    }\n",
       "</style>\n",
       "<table border=\"1\" class=\"dataframe\">\n",
       "  <thead>\n",
       "    <tr style=\"text-align: right;\">\n",
       "      <th></th>\n",
       "      <th>FECHA</th>\n",
       "      <th>HORA</th>\n",
       "      <th>ACO</th>\n",
       "      <th>AJM</th>\n",
       "      <th>ATI</th>\n",
       "      <th>BJU</th>\n",
       "      <th>CAM</th>\n",
       "      <th>CCA</th>\n",
       "      <th>CHO</th>\n",
       "      <th>COY</th>\n",
       "      <th>...</th>\n",
       "      <th>SAG</th>\n",
       "      <th>SFE</th>\n",
       "      <th>SJA</th>\n",
       "      <th>TAH</th>\n",
       "      <th>TLA</th>\n",
       "      <th>TLI</th>\n",
       "      <th>UAX</th>\n",
       "      <th>UIZ</th>\n",
       "      <th>VIF</th>\n",
       "      <th>XAL</th>\n",
       "    </tr>\n",
       "  </thead>\n",
       "  <tbody>\n",
       "    <tr>\n",
       "      <th>0</th>\n",
       "      <td>2019-01-01</td>\n",
       "      <td>1</td>\n",
       "      <td>-99</td>\n",
       "      <td>-99</td>\n",
       "      <td>-99</td>\n",
       "      <td>-99</td>\n",
       "      <td>-99</td>\n",
       "      <td>-99</td>\n",
       "      <td>-99</td>\n",
       "      <td>-99</td>\n",
       "      <td>...</td>\n",
       "      <td>-99</td>\n",
       "      <td>-99</td>\n",
       "      <td>-99</td>\n",
       "      <td>-99</td>\n",
       "      <td>-99</td>\n",
       "      <td>-99</td>\n",
       "      <td>-99</td>\n",
       "      <td>-99</td>\n",
       "      <td>-99</td>\n",
       "      <td>-99</td>\n",
       "    </tr>\n",
       "    <tr>\n",
       "      <th>1</th>\n",
       "      <td>2019-01-01</td>\n",
       "      <td>2</td>\n",
       "      <td>-99</td>\n",
       "      <td>-99</td>\n",
       "      <td>-99</td>\n",
       "      <td>-99</td>\n",
       "      <td>-99</td>\n",
       "      <td>-99</td>\n",
       "      <td>-99</td>\n",
       "      <td>-99</td>\n",
       "      <td>...</td>\n",
       "      <td>-99</td>\n",
       "      <td>-99</td>\n",
       "      <td>-99</td>\n",
       "      <td>-99</td>\n",
       "      <td>-99</td>\n",
       "      <td>-99</td>\n",
       "      <td>-99</td>\n",
       "      <td>-99</td>\n",
       "      <td>-99</td>\n",
       "      <td>-99</td>\n",
       "    </tr>\n",
       "    <tr>\n",
       "      <th>2</th>\n",
       "      <td>2019-01-01</td>\n",
       "      <td>3</td>\n",
       "      <td>-99</td>\n",
       "      <td>-99</td>\n",
       "      <td>-99</td>\n",
       "      <td>-99</td>\n",
       "      <td>-99</td>\n",
       "      <td>-99</td>\n",
       "      <td>-99</td>\n",
       "      <td>-99</td>\n",
       "      <td>...</td>\n",
       "      <td>-99</td>\n",
       "      <td>-99</td>\n",
       "      <td>-99</td>\n",
       "      <td>-99</td>\n",
       "      <td>-99</td>\n",
       "      <td>-99</td>\n",
       "      <td>-99</td>\n",
       "      <td>-99</td>\n",
       "      <td>-99</td>\n",
       "      <td>-99</td>\n",
       "    </tr>\n",
       "    <tr>\n",
       "      <th>3</th>\n",
       "      <td>2019-01-01</td>\n",
       "      <td>4</td>\n",
       "      <td>-99</td>\n",
       "      <td>1</td>\n",
       "      <td>15</td>\n",
       "      <td>15</td>\n",
       "      <td>17</td>\n",
       "      <td>15</td>\n",
       "      <td>13</td>\n",
       "      <td>-99</td>\n",
       "      <td>...</td>\n",
       "      <td>15</td>\n",
       "      <td>7</td>\n",
       "      <td>-99</td>\n",
       "      <td>11</td>\n",
       "      <td>14</td>\n",
       "      <td>-99</td>\n",
       "      <td>14</td>\n",
       "      <td>16</td>\n",
       "      <td>18</td>\n",
       "      <td>17</td>\n",
       "    </tr>\n",
       "    <tr>\n",
       "      <th>4</th>\n",
       "      <td>2019-01-01</td>\n",
       "      <td>5</td>\n",
       "      <td>-99</td>\n",
       "      <td>1</td>\n",
       "      <td>12</td>\n",
       "      <td>15</td>\n",
       "      <td>16</td>\n",
       "      <td>13</td>\n",
       "      <td>12</td>\n",
       "      <td>-99</td>\n",
       "      <td>...</td>\n",
       "      <td>14</td>\n",
       "      <td>6</td>\n",
       "      <td>-99</td>\n",
       "      <td>7</td>\n",
       "      <td>14</td>\n",
       "      <td>-99</td>\n",
       "      <td>14</td>\n",
       "      <td>16</td>\n",
       "      <td>16</td>\n",
       "      <td>16</td>\n",
       "    </tr>\n",
       "  </tbody>\n",
       "</table>\n",
       "<p>5 rows × 37 columns</p>\n",
       "</div>"
      ],
      "text/plain": [
       "        FECHA  HORA  ACO  AJM  ATI  BJU  CAM  CCA  CHO  COY  ...  SAG  SFE  \\\n",
       "0  2019-01-01     1  -99  -99  -99  -99  -99  -99  -99  -99  ...  -99  -99   \n",
       "1  2019-01-01     2  -99  -99  -99  -99  -99  -99  -99  -99  ...  -99  -99   \n",
       "2  2019-01-01     3  -99  -99  -99  -99  -99  -99  -99  -99  ...  -99  -99   \n",
       "3  2019-01-01     4  -99    1   15   15   17   15   13  -99  ...   15    7   \n",
       "4  2019-01-01     5  -99    1   12   15   16   13   12  -99  ...   14    6   \n",
       "\n",
       "   SJA  TAH  TLA  TLI  UAX  UIZ  VIF  XAL  \n",
       "0  -99  -99  -99  -99  -99  -99  -99  -99  \n",
       "1  -99  -99  -99  -99  -99  -99  -99  -99  \n",
       "2  -99  -99  -99  -99  -99  -99  -99  -99  \n",
       "3  -99   11   14  -99   14   16   18   17  \n",
       "4  -99    7   14  -99   14   16   16   16  \n",
       "\n",
       "[5 rows x 37 columns]"
      ]
     },
     "execution_count": 4,
     "metadata": {},
     "output_type": "execute_result"
    }
   ],
   "source": [
    "dfs[1].head()"
   ]
  },
  {
   "cell_type": "markdown",
   "metadata": {},
   "source": [
    "The fist and second columns are the date and hour in which measurements were taken. The next columns correspond to the codenames of the stations. We will see more of these codes in section 2, when we prepare the venue data. Let's see in which months pollution is highest, so that we can choose an appropriate range of time to analyze:"
   ]
  },
  {
   "cell_type": "code",
   "execution_count": 5,
   "metadata": {},
   "outputs": [
    {
     "name": "stdout",
     "output_type": "stream",
     "text": [
      "CO --> TLA 2019-02-15 25\n",
      "NO2 --> CAM 2019-01-07 52\n",
      "O3 --> CAM 2019-03-30 155\n",
      "SO2 --> TLI 2019-12-19 68\n",
      "PM10 --> VIF 2019-01-01 166\n",
      "PM25 --> NEZ 2019-01-01 185\n"
     ]
    }
   ],
   "source": [
    "for df, mol in zip(dfs, molecules):\n",
    "    proxy = df.drop(columns = ['FECHA', 'HORA'])\n",
    "    max_pollution = proxy.values.max()\n",
    "    max_pol_col = proxy.max().idxmax()\n",
    "    max_pol_row = proxy[max_pol_col].idxmax()\n",
    "    \n",
    "    print(mol, '-->', max_pol_col, df.loc[max_pol_row, 'FECHA'], max_pollution)"
   ]
  },
  {
   "cell_type": "markdown",
   "metadata": {},
   "source": [
    "From last year, the winter months (plus march) were the most polluted. We will take the data from january to march of 2019, and december of 2019."
   ]
  },
  {
   "cell_type": "code",
   "execution_count": 6,
   "metadata": {
    "jupyter": {
     "source_hidden": true
    }
   },
   "outputs": [],
   "source": [
    "def format_dataframe(df):\n",
    "    \n",
    "    df = df.loc[df['FECHA'].str.contains('-01-') | df['FECHA'].str.contains('-02-') | \n",
    "           df['FECHA'].str.contains('-03-') | df['FECHA'].str.contains('-12-')].copy()\n",
    "    df = df.drop(columns = ['FECHA', 'HORA'])\n",
    "    \n",
    "    for col in df.columns[2:]:\n",
    "        df.loc[:, col] = pd.to_numeric(df[col], errors = 'coerce')\n",
    "\n",
    "    return df.copy()"
   ]
  },
  {
   "cell_type": "code",
   "execution_count": 7,
   "metadata": {},
   "outputs": [],
   "source": [
    "for i, frame in enumerate(dfs):\n",
    "    dfs[i] = format_dataframe(frame)"
   ]
  },
  {
   "cell_type": "code",
   "execution_count": 8,
   "metadata": {},
   "outputs": [
    {
     "data": {
      "text/html": [
       "<div>\n",
       "<style scoped>\n",
       "    .dataframe tbody tr th:only-of-type {\n",
       "        vertical-align: middle;\n",
       "    }\n",
       "\n",
       "    .dataframe tbody tr th {\n",
       "        vertical-align: top;\n",
       "    }\n",
       "\n",
       "    .dataframe thead th {\n",
       "        text-align: right;\n",
       "    }\n",
       "</style>\n",
       "<table border=\"1\" class=\"dataframe\">\n",
       "  <thead>\n",
       "    <tr style=\"text-align: right;\">\n",
       "      <th></th>\n",
       "      <th>ACO</th>\n",
       "      <th>AJM</th>\n",
       "      <th>ATI</th>\n",
       "      <th>BJU</th>\n",
       "      <th>CAM</th>\n",
       "      <th>CCA</th>\n",
       "      <th>CHO</th>\n",
       "      <th>COY</th>\n",
       "      <th>CUA</th>\n",
       "      <th>CUT</th>\n",
       "      <th>...</th>\n",
       "      <th>SAG</th>\n",
       "      <th>SFE</th>\n",
       "      <th>SJA</th>\n",
       "      <th>TAH</th>\n",
       "      <th>TLA</th>\n",
       "      <th>TLI</th>\n",
       "      <th>UAX</th>\n",
       "      <th>UIZ</th>\n",
       "      <th>VIF</th>\n",
       "      <th>XAL</th>\n",
       "    </tr>\n",
       "  </thead>\n",
       "  <tbody>\n",
       "    <tr>\n",
       "      <th>0</th>\n",
       "      <td>-99</td>\n",
       "      <td>-99</td>\n",
       "      <td>-99</td>\n",
       "      <td>-99</td>\n",
       "      <td>-99</td>\n",
       "      <td>-99</td>\n",
       "      <td>-99</td>\n",
       "      <td>-99</td>\n",
       "      <td>-99</td>\n",
       "      <td>-99</td>\n",
       "      <td>...</td>\n",
       "      <td>-99</td>\n",
       "      <td>-99</td>\n",
       "      <td>-99</td>\n",
       "      <td>-99</td>\n",
       "      <td>-99</td>\n",
       "      <td>-99</td>\n",
       "      <td>-99</td>\n",
       "      <td>-99</td>\n",
       "      <td>-99</td>\n",
       "      <td>-99</td>\n",
       "    </tr>\n",
       "    <tr>\n",
       "      <th>1</th>\n",
       "      <td>-99</td>\n",
       "      <td>-99</td>\n",
       "      <td>-99</td>\n",
       "      <td>-99</td>\n",
       "      <td>-99</td>\n",
       "      <td>-99</td>\n",
       "      <td>-99</td>\n",
       "      <td>-99</td>\n",
       "      <td>-99</td>\n",
       "      <td>-99</td>\n",
       "      <td>...</td>\n",
       "      <td>-99</td>\n",
       "      <td>-99</td>\n",
       "      <td>-99</td>\n",
       "      <td>-99</td>\n",
       "      <td>-99</td>\n",
       "      <td>-99</td>\n",
       "      <td>-99</td>\n",
       "      <td>-99</td>\n",
       "      <td>-99</td>\n",
       "      <td>-99</td>\n",
       "    </tr>\n",
       "    <tr>\n",
       "      <th>2</th>\n",
       "      <td>-99</td>\n",
       "      <td>-99</td>\n",
       "      <td>-99</td>\n",
       "      <td>-99</td>\n",
       "      <td>-99</td>\n",
       "      <td>-99</td>\n",
       "      <td>-99</td>\n",
       "      <td>-99</td>\n",
       "      <td>-99</td>\n",
       "      <td>-99</td>\n",
       "      <td>...</td>\n",
       "      <td>-99</td>\n",
       "      <td>-99</td>\n",
       "      <td>-99</td>\n",
       "      <td>-99</td>\n",
       "      <td>-99</td>\n",
       "      <td>-99</td>\n",
       "      <td>-99</td>\n",
       "      <td>-99</td>\n",
       "      <td>-99</td>\n",
       "      <td>-99</td>\n",
       "    </tr>\n",
       "    <tr>\n",
       "      <th>3</th>\n",
       "      <td>-99</td>\n",
       "      <td>1</td>\n",
       "      <td>15</td>\n",
       "      <td>15</td>\n",
       "      <td>17</td>\n",
       "      <td>15</td>\n",
       "      <td>13</td>\n",
       "      <td>-99</td>\n",
       "      <td>14</td>\n",
       "      <td>9</td>\n",
       "      <td>...</td>\n",
       "      <td>15</td>\n",
       "      <td>7</td>\n",
       "      <td>-99</td>\n",
       "      <td>11</td>\n",
       "      <td>14</td>\n",
       "      <td>-99</td>\n",
       "      <td>14</td>\n",
       "      <td>16</td>\n",
       "      <td>18</td>\n",
       "      <td>17</td>\n",
       "    </tr>\n",
       "    <tr>\n",
       "      <th>4</th>\n",
       "      <td>-99</td>\n",
       "      <td>1</td>\n",
       "      <td>12</td>\n",
       "      <td>15</td>\n",
       "      <td>16</td>\n",
       "      <td>13</td>\n",
       "      <td>12</td>\n",
       "      <td>-99</td>\n",
       "      <td>16</td>\n",
       "      <td>8</td>\n",
       "      <td>...</td>\n",
       "      <td>14</td>\n",
       "      <td>6</td>\n",
       "      <td>-99</td>\n",
       "      <td>7</td>\n",
       "      <td>14</td>\n",
       "      <td>-99</td>\n",
       "      <td>14</td>\n",
       "      <td>16</td>\n",
       "      <td>16</td>\n",
       "      <td>16</td>\n",
       "    </tr>\n",
       "  </tbody>\n",
       "</table>\n",
       "<p>5 rows × 35 columns</p>\n",
       "</div>"
      ],
      "text/plain": [
       "   ACO  AJM  ATI  BJU  CAM  CCA  CHO  COY  CUA  CUT  ...  SAG  SFE  SJA  TAH  \\\n",
       "0  -99  -99  -99  -99  -99  -99  -99  -99  -99  -99  ...  -99  -99  -99  -99   \n",
       "1  -99  -99  -99  -99  -99  -99  -99  -99  -99  -99  ...  -99  -99  -99  -99   \n",
       "2  -99  -99  -99  -99  -99  -99  -99  -99  -99  -99  ...  -99  -99  -99  -99   \n",
       "3  -99    1   15   15   17   15   13  -99   14    9  ...   15    7  -99   11   \n",
       "4  -99    1   12   15   16   13   12  -99   16    8  ...   14    6  -99    7   \n",
       "\n",
       "   TLA  TLI  UAX  UIZ  VIF  XAL  \n",
       "0  -99  -99  -99  -99  -99  -99  \n",
       "1  -99  -99  -99  -99  -99  -99  \n",
       "2  -99  -99  -99  -99  -99  -99  \n",
       "3   14  -99   14   16   18   17  \n",
       "4   14  -99   14   16   16   16  \n",
       "\n",
       "[5 rows x 35 columns]"
      ]
     },
     "execution_count": 8,
     "metadata": {},
     "output_type": "execute_result"
    }
   ],
   "source": [
    "dfs[1].head()"
   ]
  },
  {
   "cell_type": "markdown",
   "metadata": {},
   "source": [
    "Now we see some columns with -99, such as \"ACO\", \"AJM\", etc. This is the case for every dataframe. We should maybe get rid of those columns, but first, we should count the proportion of -99 values per column. We're going to save any column with at least 66% of useful data."
   ]
  },
  {
   "cell_type": "code",
   "execution_count": 9,
   "metadata": {
    "jupyter": {
     "source_hidden": true
    }
   },
   "outputs": [],
   "source": [
    "def filter_empty(df):\n",
    "    length = df.shape[0]\n",
    "    valid_columns = []\n",
    "\n",
    "    for col in df.columns.values:\n",
    "        series = df[col] == -99\n",
    "        counts = series.value_counts()\n",
    "        ratio = (counts.values * np.array(counts.index).astype(int)).sum()/length\n",
    "        if ratio < 0.34:\n",
    "            valid_columns.append(col) # getting the names of columns with >66% fullness\n",
    "\n",
    "    return df[valid_columns].copy()"
   ]
  },
  {
   "cell_type": "code",
   "execution_count": 10,
   "metadata": {},
   "outputs": [],
   "source": [
    "for i, frame in enumerate(dfs):\n",
    "    dfs[i] = filter_empty(frame)"
   ]
  },
  {
   "cell_type": "code",
   "execution_count": 11,
   "metadata": {},
   "outputs": [],
   "source": [
    "max_stations = 0\n",
    "for frame in dfs:\n",
    "    cols = frame.shape[1]\n",
    "    if cols > max_stations:\n",
    "        max_stations = cols # we count the total number of surviving stations\n",
    "        stations_set = frame.columns.values"
   ]
  },
  {
   "cell_type": "markdown",
   "metadata": {},
   "source": [
    "We will now take a big leap: averaging every column, for each dataframe, separately. This will give us a seasonal average of each pollutant, at each station. The averages will be stored in a new dataframe, along their respective stations."
   ]
  },
  {
   "cell_type": "code",
   "execution_count": 12,
   "metadata": {},
   "outputs": [
    {
     "name": "stdout",
     "output_type": "stream",
     "text": [
      "(26, 6)\n"
     ]
    },
    {
     "data": {
      "text/html": [
       "<div>\n",
       "<style scoped>\n",
       "    .dataframe tbody tr th:only-of-type {\n",
       "        vertical-align: middle;\n",
       "    }\n",
       "\n",
       "    .dataframe tbody tr th {\n",
       "        vertical-align: top;\n",
       "    }\n",
       "\n",
       "    .dataframe thead th {\n",
       "        text-align: right;\n",
       "    }\n",
       "</style>\n",
       "<table border=\"1\" class=\"dataframe\">\n",
       "  <thead>\n",
       "    <tr style=\"text-align: right;\">\n",
       "      <th></th>\n",
       "      <th>CO</th>\n",
       "      <th>NO2</th>\n",
       "      <th>O3</th>\n",
       "      <th>SO2</th>\n",
       "      <th>PM10</th>\n",
       "      <th>PM25</th>\n",
       "    </tr>\n",
       "  </thead>\n",
       "  <tbody>\n",
       "    <tr>\n",
       "      <th>AJM</th>\n",
       "      <td>2.957509</td>\n",
       "      <td>7.826194</td>\n",
       "      <td>29.899060</td>\n",
       "      <td>5.377872</td>\n",
       "      <td>48.423798</td>\n",
       "      <td>61.818256</td>\n",
       "    </tr>\n",
       "    <tr>\n",
       "      <th>ATI</th>\n",
       "      <td>3.788774</td>\n",
       "      <td>11.174881</td>\n",
       "      <td>18.627983</td>\n",
       "      <td>6.873116</td>\n",
       "      <td>61.458678</td>\n",
       "      <td>NaN</td>\n",
       "    </tr>\n",
       "    <tr>\n",
       "      <th>BJU</th>\n",
       "      <td>4.624619</td>\n",
       "      <td>NaN</td>\n",
       "      <td>21.430937</td>\n",
       "      <td>NaN</td>\n",
       "      <td>NaN</td>\n",
       "      <td>NaN</td>\n",
       "    </tr>\n",
       "    <tr>\n",
       "      <th>CCA</th>\n",
       "      <td>3.840015</td>\n",
       "      <td>11.999284</td>\n",
       "      <td>22.680272</td>\n",
       "      <td>4.214862</td>\n",
       "      <td>NaN</td>\n",
       "      <td>63.772226</td>\n",
       "    </tr>\n",
       "    <tr>\n",
       "      <th>CHO</th>\n",
       "      <td>4.696246</td>\n",
       "      <td>9.789322</td>\n",
       "      <td>18.401833</td>\n",
       "      <td>1.866947</td>\n",
       "      <td>NaN</td>\n",
       "      <td>NaN</td>\n",
       "    </tr>\n",
       "  </tbody>\n",
       "</table>\n",
       "</div>"
      ],
      "text/plain": [
       "           CO        NO2         O3       SO2       PM10       PM25\n",
       "AJM  2.957509   7.826194  29.899060  5.377872  48.423798  61.818256\n",
       "ATI  3.788774  11.174881  18.627983  6.873116  61.458678        NaN\n",
       "BJU  4.624619        NaN  21.430937       NaN        NaN        NaN\n",
       "CCA  3.840015  11.999284  22.680272  4.214862        NaN  63.772226\n",
       "CHO  4.696246   9.789322  18.401833  1.866947        NaN        NaN"
      ]
     },
     "execution_count": 12,
     "metadata": {},
     "output_type": "execute_result"
    }
   ],
   "source": [
    "cd = np.zeros((max_stations, len(molecules))) \n",
    "\n",
    "for j, molecule in enumerate(molecules): #for each molecule\n",
    "    current = dfs[j]\n",
    "    for i, col in enumerate(stations_set):\n",
    "        if col in current.columns:       #check if columns from the big set are in subset\n",
    "            cd[i, j] = current.loc[:, col].replace(-99, np.nan).mean()\n",
    "    \n",
    "cd = pd.DataFrame(data = cd)\n",
    "cd.columns = molecules\n",
    "cd.index = stations_set\n",
    "\n",
    "cd = cd.replace(0, np.nan)\n",
    "stations_set = frame.columns.values\n",
    "\n",
    "print(cd.shape)\n",
    "cd.head()"
   ]
  },
  {
   "cell_type": "markdown",
   "metadata": {},
   "source": [
    "Our data doesn't look that promising. There are a lot of stations that haven't been working (apparently), and thus, we have missing data. To mitigate some of this, let's fill the NaNs with the means of their respective columns, and add some noise so the clustering algorithm doesn't group those stations together instantly."
   ]
  },
  {
   "cell_type": "code",
   "execution_count": 13,
   "metadata": {},
   "outputs": [
    {
     "data": {
      "text/html": [
       "<div>\n",
       "<style scoped>\n",
       "    .dataframe tbody tr th:only-of-type {\n",
       "        vertical-align: middle;\n",
       "    }\n",
       "\n",
       "    .dataframe tbody tr th {\n",
       "        vertical-align: top;\n",
       "    }\n",
       "\n",
       "    .dataframe thead th {\n",
       "        text-align: right;\n",
       "    }\n",
       "</style>\n",
       "<table border=\"1\" class=\"dataframe\">\n",
       "  <thead>\n",
       "    <tr style=\"text-align: right;\">\n",
       "      <th></th>\n",
       "      <th>CO</th>\n",
       "      <th>NO2</th>\n",
       "      <th>O3</th>\n",
       "      <th>SO2</th>\n",
       "      <th>PM10</th>\n",
       "      <th>PM25</th>\n",
       "    </tr>\n",
       "  </thead>\n",
       "  <tbody>\n",
       "    <tr>\n",
       "      <th>AJM</th>\n",
       "      <td>2.957509</td>\n",
       "      <td>7.826194</td>\n",
       "      <td>29.899060</td>\n",
       "      <td>5.377872</td>\n",
       "      <td>48.423798</td>\n",
       "      <td>61.818256</td>\n",
       "    </tr>\n",
       "    <tr>\n",
       "      <th>ATI</th>\n",
       "      <td>3.788774</td>\n",
       "      <td>11.174881</td>\n",
       "      <td>18.627983</td>\n",
       "      <td>6.873116</td>\n",
       "      <td>61.458678</td>\n",
       "      <td>62.950649</td>\n",
       "    </tr>\n",
       "    <tr>\n",
       "      <th>BJU</th>\n",
       "      <td>4.624619</td>\n",
       "      <td>16.542634</td>\n",
       "      <td>21.430937</td>\n",
       "      <td>10.964558</td>\n",
       "      <td>96.108170</td>\n",
       "      <td>79.460323</td>\n",
       "    </tr>\n",
       "    <tr>\n",
       "      <th>CCA</th>\n",
       "      <td>3.840015</td>\n",
       "      <td>11.999284</td>\n",
       "      <td>22.680272</td>\n",
       "      <td>4.214862</td>\n",
       "      <td>57.399327</td>\n",
       "      <td>63.772226</td>\n",
       "    </tr>\n",
       "    <tr>\n",
       "      <th>CHO</th>\n",
       "      <td>4.696246</td>\n",
       "      <td>9.789322</td>\n",
       "      <td>18.401833</td>\n",
       "      <td>1.866947</td>\n",
       "      <td>65.168476</td>\n",
       "      <td>69.238241</td>\n",
       "    </tr>\n",
       "  </tbody>\n",
       "</table>\n",
       "</div>"
      ],
      "text/plain": [
       "           CO        NO2         O3        SO2       PM10       PM25\n",
       "AJM  2.957509   7.826194  29.899060   5.377872  48.423798  61.818256\n",
       "ATI  3.788774  11.174881  18.627983   6.873116  61.458678  62.950649\n",
       "BJU  4.624619  16.542634  21.430937  10.964558  96.108170  79.460323\n",
       "CCA  3.840015  11.999284  22.680272   4.214862  57.399327  63.772226\n",
       "CHO  4.696246   9.789322  18.401833   1.866947  65.168476  69.238241"
      ]
     },
     "execution_count": 13,
     "metadata": {},
     "output_type": "execute_result"
    }
   ],
   "source": [
    "for i, col in enumerate(molecules):\n",
    "    column_data = cd[col]\n",
    "    mean = column_data.mean()\n",
    "    maxi = column_data.max()\n",
    "    for j, row in enumerate(cd.index.values):\n",
    "        if np.isnan(cd.loc[row, col]):\n",
    "            random.seed(j)\n",
    "            noise = random.uniform(-1.0, 1.0) * random.uniform(0.0, maxi - mean)\n",
    "            cd.loc[row, col] = mean + noise\n",
    "\n",
    "cd.head()"
   ]
  },
  {
   "cell_type": "markdown",
   "metadata": {},
   "source": [
    "## Exploratory analysis of the data"
   ]
  },
  {
   "cell_type": "code",
   "execution_count": 14,
   "metadata": {},
   "outputs": [
    {
     "data": {
      "text/plain": [
       "<matplotlib.axes._subplots.AxesSubplot at 0x7fd7c0b25978>"
      ]
     },
     "execution_count": 14,
     "metadata": {},
     "output_type": "execute_result"
    },
    {
     "data": {
      "image/png": "[encoded data removed]",
      "text/plain": [
       "<matplotlib.figure.Figure at 0x7fd7c03d9208>"
      ]
     },
     "metadata": {
      "needs_background": "light"
     },
     "output_type": "display_data"
    },
    {
     "data": {
      "image/png": "[encoded data removed]",
      "text/plain": [
       "<matplotlib.figure.Figure at 0x7fd7c03d9240>"
      ]
     },
     "metadata": {
      "needs_background": "light"
     },
     "output_type": "display_data"
    },
    {
     "data": {
      "image/png": "[encoded data removed]",
      "text/plain": [
       "<matplotlib.figure.Figure at 0x7fd7c0c46f98>"
      ]
     },
     "metadata": {
      "needs_background": "light"
     },
     "output_type": "display_data"
    }
   ],
   "source": [
    "cd.plot(y = [molecules[0], molecules[3]], kind='bar', figsize=(12,5))\n",
    "cd.plot(y = [molecules[1], molecules[2]], kind='bar', figsize=(12,5))\n",
    "cd.plot(y = [molecules[4], molecules[5]], kind='bar', figsize=(12,5))"
   ]
  },
  {
   "cell_type": "markdown",
   "metadata": {},
   "source": [
    "We haven't normalized yet, but we will, once the dataset is complete. As things are, most of our data is in inconsistent units (some in parts per million (ppm), some in parts per billion (ppb) and others in micrograms per cubic meter (ug/m^3)."
   ]
  },
  {
   "cell_type": "markdown",
   "metadata": {},
   "source": [
    "<hr>\n",
    "<h1 align='center'> 2.b Data: venues </h1> <a name=\"data_venues\"></a>\n",
    "<hr>"
   ]
  },
  {
   "cell_type": "markdown",
   "metadata": {},
   "source": [
    "We will now obtain the coordinates for each station from the Dirección de Monitoreo Atmosférico (Athmospheric Monitoring Direction, url: http://www.aire.cdmx.gob.mx/default.php?opc=%27ZaBhnmI=&dc=%27ZA==)"
   ]
  },
  {
   "cell_type": "code",
   "execution_count": 15,
   "metadata": {
    "jupyter": {
     "source_hidden": true
    }
   },
   "outputs": [],
   "source": [
    "def scrape_table(url, length, level):\n",
    "    req = requests.get(url)\n",
    "    doc = lh.fromstring(req.content)\n",
    "    tr_elements = doc.xpath('//tr')\n",
    "    col=[] # Create empty list\n",
    "    \n",
    "    for t in tr_elements[level]:  # create header of the table\n",
    "        name = t.text_content()\n",
    "        col.append((name.replace(\"\\n\",\"\"),[]))\n",
    "        \n",
    "    for j in range(level + 1,len(tr_elements)): # populate the table\n",
    "        raw_row = tr_elements[j]\n",
    "        row = [clean_string(word.text_content()) for word in raw_row.iterchildren()] # get words in each column\n",
    "        \n",
    "        if len(row)!= length: # if the row doesn't have \"length\" columns, then it isn't part of our table\n",
    "            break\n",
    "            \n",
    "        for i, data in enumerate(row):\n",
    "            col[i][1].append(data)\n",
    "\n",
    "    Dict={title:column for (title,column) in col}\n",
    "    return pd.DataFrame(Dict)"
   ]
  },
  {
   "cell_type": "code",
   "execution_count": 16,
   "metadata": {
    "jupyter": {
     "source_hidden": true
    }
   },
   "outputs": [],
   "source": [
    "def clean_string(string):\n",
    "    return string.replace('\\t', '').replace('\\n', '').replace('\\r', '').replace(\"msnm\", '')"
   ]
  },
  {
   "cell_type": "markdown",
   "metadata": {},
   "source": [
    "Inspecting the url, we see that there is only one table. The column 'Clave' contains short names for the stations, 'Nombre' contains the actual names of the stations, 'Alcaldia o municipio' is where the stations are located, and 'Entidad' is either Mexico City or Estado de Mexico, which is the area around Mexico City. "
   ]
  },
  {
   "cell_type": "code",
   "execution_count": 17,
   "metadata": {},
   "outputs": [
    {
     "data": {
      "text/html": [
       "<div>\n",
       "<style scoped>\n",
       "    .dataframe tbody tr th:only-of-type {\n",
       "        vertical-align: middle;\n",
       "    }\n",
       "\n",
       "    .dataframe tbody tr th {\n",
       "        vertical-align: top;\n",
       "    }\n",
       "\n",
       "    .dataframe thead th {\n",
       "        text-align: right;\n",
       "    }\n",
       "</style>\n",
       "<table border=\"1\" class=\"dataframe\">\n",
       "  <thead>\n",
       "    <tr style=\"text-align: right;\">\n",
       "      <th></th>\n",
       "      <th>Clave</th>\n",
       "      <th>Nombre</th>\n",
       "      <th>Alcaldía o municipio</th>\n",
       "      <th>Entidad</th>\n",
       "    </tr>\n",
       "  </thead>\n",
       "  <tbody>\n",
       "    <tr>\n",
       "      <th>0</th>\n",
       "      <td>ACO</td>\n",
       "      <td>Acolman</td>\n",
       "      <td>Acolman</td>\n",
       "      <td>Estado de México</td>\n",
       "    </tr>\n",
       "    <tr>\n",
       "      <th>1</th>\n",
       "      <td>AJU</td>\n",
       "      <td>Ajusco</td>\n",
       "      <td>Tlalpan</td>\n",
       "      <td>CDMX</td>\n",
       "    </tr>\n",
       "    <tr>\n",
       "      <th>2</th>\n",
       "      <td>AJM</td>\n",
       "      <td>Ajusco Medio</td>\n",
       "      <td>Tlalpan</td>\n",
       "      <td>CDMX</td>\n",
       "    </tr>\n",
       "    <tr>\n",
       "      <th>3</th>\n",
       "      <td>ATI</td>\n",
       "      <td>Atizapán</td>\n",
       "      <td>Atizapán de Zaragoza</td>\n",
       "      <td>Estado de México</td>\n",
       "    </tr>\n",
       "    <tr>\n",
       "      <th>4</th>\n",
       "      <td>BJU</td>\n",
       "      <td>Benito Juarez</td>\n",
       "      <td>Benito Juárez</td>\n",
       "      <td>CDMX</td>\n",
       "    </tr>\n",
       "  </tbody>\n",
       "</table>\n",
       "</div>"
      ],
      "text/plain": [
       "  Clave         Nombre  Alcaldía o municipio           Entidad\n",
       "0   ACO        Acolman               Acolman  Estado de México\n",
       "1   AJU         Ajusco               Tlalpan              CDMX\n",
       "2   AJM   Ajusco Medio               Tlalpan              CDMX\n",
       "3   ATI       Atizapán  Atizapán de Zaragoza  Estado de México\n",
       "4   BJU  Benito Juarez         Benito Juárez              CDMX"
      ]
     },
     "execution_count": 17,
     "metadata": {},
     "output_type": "execute_result"
    }
   ],
   "source": [
    "deleg = scrape_table('http://www.aire.cdmx.gob.mx/default.php?opc=%27ZaBhnmI=&dc=%27ZA==', 4, 0)\n",
    "deleg.head()"
   ]
  },
  {
   "cell_type": "markdown",
   "metadata": {},
   "source": [
    "We then get the data from the links inside the table above. This will give us the coordinates of each station:"
   ]
  },
  {
   "cell_type": "code",
   "execution_count": 18,
   "metadata": {},
   "outputs": [
    {
     "data": {
      "text/html": [
       "<div>\n",
       "<style scoped>\n",
       "    .dataframe tbody tr th:only-of-type {\n",
       "        vertical-align: middle;\n",
       "    }\n",
       "\n",
       "    .dataframe tbody tr th {\n",
       "        vertical-align: top;\n",
       "    }\n",
       "\n",
       "    .dataframe thead th {\n",
       "        text-align: right;\n",
       "    }\n",
       "</style>\n",
       "<table border=\"1\" class=\"dataframe\">\n",
       "  <thead>\n",
       "    <tr style=\"text-align: right;\">\n",
       "      <th></th>\n",
       "      <th>Domicilio</th>\n",
       "      <th>Alcaldía o municipio</th>\n",
       "      <th>Estado</th>\n",
       "      <th>Latitud</th>\n",
       "      <th>Longitud</th>\n",
       "      <th>Altitud</th>\n",
       "    </tr>\n",
       "  </thead>\n",
       "  <tbody>\n",
       "    <tr>\n",
       "      <th>0</th>\n",
       "      <td>Calzada de los Agustinos s/n, Col. Centro, C.P...</td>\n",
       "      <td>Acolman</td>\n",
       "      <td>Estado de México</td>\n",
       "      <td>19.635501</td>\n",
       "      <td>-98.912003</td>\n",
       "      <td>2198</td>\n",
       "    </tr>\n",
       "    <tr>\n",
       "      <th>1</th>\n",
       "      <td>Km 36.5 Carretera Federal México-Cuernavaca, C...</td>\n",
       "      <td>Tlalpan</td>\n",
       "      <td>CDMX</td>\n",
       "      <td>19.154674</td>\n",
       "      <td>-99.162459</td>\n",
       "      <td>2953</td>\n",
       "    </tr>\n",
       "    <tr>\n",
       "      <th>2</th>\n",
       "      <td>Encinos # 41, col. Miguel Hidalgo 4ta sección,...</td>\n",
       "      <td>Tlalpan</td>\n",
       "      <td>CDMX</td>\n",
       "      <td>19.272100</td>\n",
       "      <td>-99.207658</td>\n",
       "      <td>2619</td>\n",
       "    </tr>\n",
       "    <tr>\n",
       "      <th>3</th>\n",
       "      <td>Oceano Pacífico s/n, Col. Lomas Lindas, C.P. 5...</td>\n",
       "      <td>Atizapán de Zaragoza</td>\n",
       "      <td>Estado de México</td>\n",
       "      <td>19.576963</td>\n",
       "      <td>-99.254133</td>\n",
       "      <td>2341</td>\n",
       "    </tr>\n",
       "    <tr>\n",
       "      <th>4</th>\n",
       "      <td>Municipio libre y Uxmal, Col. Santa Cruz Atoya...</td>\n",
       "      <td>Benito Juárez</td>\n",
       "      <td>CDMX</td>\n",
       "      <td>19.371612</td>\n",
       "      <td>-99.158969</td>\n",
       "      <td>2250</td>\n",
       "    </tr>\n",
       "  </tbody>\n",
       "</table>\n",
       "</div>"
      ],
      "text/plain": [
       "                                           Domicilio  Alcaldía o municipio  \\\n",
       "0  Calzada de los Agustinos s/n, Col. Centro, C.P...               Acolman   \n",
       "1  Km 36.5 Carretera Federal México-Cuernavaca, C...               Tlalpan   \n",
       "2  Encinos # 41, col. Miguel Hidalgo 4ta sección,...               Tlalpan   \n",
       "3  Oceano Pacífico s/n, Col. Lomas Lindas, C.P. 5...  Atizapán de Zaragoza   \n",
       "4  Municipio libre y Uxmal, Col. Santa Cruz Atoya...         Benito Juárez   \n",
       "\n",
       "             Estado    Latitud     Longitud Altitud  \n",
       "0  Estado de México  19.635501   -98.912003   2198   \n",
       "1              CDMX  19.154674   -99.162459   2953   \n",
       "2              CDMX  19.272100  -99.207658    2619   \n",
       "3  Estado de México  19.576963   -99.254133   2341   \n",
       "4              CDMX  19.371612   -99.158969   2250   "
      ]
     },
     "execution_count": 18,
     "metadata": {},
     "output_type": "execute_result"
    }
   ],
   "source": [
    "dom = parse('http://www.aire.cdmx.gob.mx/default.php?opc=%27ZaBhnmI=&dc=%27ZA==').getroot()\n",
    "links = dom.cssselect('a')\n",
    "\n",
    "latlon = []\n",
    "\n",
    "for link in links:\n",
    "    if len(link.text_content()) == 3:\n",
    "        latlon.append(scrape_table(link.get('href'), 6, 2))\n",
    "\n",
    "ll = latlon[0]\n",
    "\n",
    "for i in range(1, len(latlon)):\n",
    "    ll = ll.append(latlon[i], ignore_index=True)\n",
    "\n",
    "ll.head()"
   ]
  },
  {
   "cell_type": "markdown",
   "metadata": {},
   "source": [
    "From the dataframes, we only need 'Clave', 'Latitud', 'Longitud' and 'Altitud'. Let's drop every other column, join the dataframes, make 'Clave' the index, rename the columns and drop every station without air quality data:"
   ]
  },
  {
   "cell_type": "code",
   "execution_count": 19,
   "metadata": {},
   "outputs": [
    {
     "data": {
      "text/html": [
       "<div>\n",
       "<style scoped>\n",
       "    .dataframe tbody tr th:only-of-type {\n",
       "        vertical-align: middle;\n",
       "    }\n",
       "\n",
       "    .dataframe tbody tr th {\n",
       "        vertical-align: top;\n",
       "    }\n",
       "\n",
       "    .dataframe thead th {\n",
       "        text-align: right;\n",
       "    }\n",
       "</style>\n",
       "<table border=\"1\" class=\"dataframe\">\n",
       "  <thead>\n",
       "    <tr style=\"text-align: right;\">\n",
       "      <th></th>\n",
       "      <th>Latitude</th>\n",
       "      <th>Longitude</th>\n",
       "      <th>Altitude</th>\n",
       "    </tr>\n",
       "  </thead>\n",
       "  <tbody>\n",
       "    <tr>\n",
       "      <th>AJM</th>\n",
       "      <td>19.272100</td>\n",
       "      <td>-99.207658</td>\n",
       "      <td>2619</td>\n",
       "    </tr>\n",
       "    <tr>\n",
       "      <th>ATI</th>\n",
       "      <td>19.576963</td>\n",
       "      <td>-99.254133</td>\n",
       "      <td>2341</td>\n",
       "    </tr>\n",
       "    <tr>\n",
       "      <th>BJU</th>\n",
       "      <td>19.371612</td>\n",
       "      <td>-99.158969</td>\n",
       "      <td>2250</td>\n",
       "    </tr>\n",
       "    <tr>\n",
       "      <th>CCA</th>\n",
       "      <td>19.326200</td>\n",
       "      <td>-99.176100</td>\n",
       "      <td>2280</td>\n",
       "    </tr>\n",
       "    <tr>\n",
       "      <th>CHO</th>\n",
       "      <td>19.266948</td>\n",
       "      <td>-98.886088</td>\n",
       "      <td>2253</td>\n",
       "    </tr>\n",
       "  </tbody>\n",
       "</table>\n",
       "</div>"
      ],
      "text/plain": [
       "      Latitude  Longitude  Altitude\n",
       "AJM  19.272100 -99.207658      2619\n",
       "ATI  19.576963 -99.254133      2341\n",
       "BJU  19.371612 -99.158969      2250\n",
       "CCA  19.326200 -99.176100      2280\n",
       "CHO  19.266948 -98.886088      2253"
      ]
     },
     "execution_count": 19,
     "metadata": {},
     "output_type": "execute_result"
    }
   ],
   "source": [
    "if 'Clave' in deleg.columns:\n",
    "    deleg = deleg[['Clave']].join(ll[['Latitud', 'Longitud', 'Altitud']])\n",
    "    deleg.index = deleg['Clave']\n",
    "    deleg.drop(columns = ['Clave'], inplace= True)\n",
    "\n",
    "deleg.index.name = None\n",
    "deleg.rename(columns = {'Latitud': 'Latitude', 'Longitud': 'Longitude', 'Altitud': 'Altitude'}, inplace = True)\n",
    "deleg.loc['FAR', 'Latitude'] = 19.473692\n",
    "\n",
    "for col in deleg.columns:\n",
    "    deleg.loc[:, col] = pd.to_numeric(deleg[col], errors = 'coerce')\n",
    "    \n",
    "deleg = deleg.loc[cd.index.values].copy()\n",
    "    \n",
    "deleg.head()"
   ]
  },
  {
   "cell_type": "markdown",
   "metadata": {},
   "source": [
    "We see that our coordinates dataframe has the same stations as our air quality dataframe. Let's visualize these stations."
   ]
  },
  {
   "cell_type": "code",
   "execution_count": 20,
   "metadata": {},
   "outputs": [
    {
     "data": {
      "text/html": [
       "<div style=\"width:100%;\"><div style=\"position:relative;width:100%;height:0;padding-bottom:60%;\"><iframe src=\"data:text/html;charset=utf-8;base64,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\" style=\"position:absolute;width:100%;height:100%;left:0;top:0;border:none !important;\" allowfullscreen webkitallowfullscreen mozallowfullscreen></iframe></div></div>"
      ],
      "text/plain": [
       "<folium.folium.Map at 0x7fd7c04a95c0>"
      ]
     },
     "execution_count": 20,
     "metadata": {},
     "output_type": "execute_result"
    }
   ],
   "source": [
    "# create map of Mexico City (and Estado de Mexico) using latitude and longitude values\n",
    "latitude = 19.4284700\n",
    "longitude = -99.1276600\n",
    "\n",
    "map_mx = folium.Map(location=[latitude, longitude], zoom_start = 10)\n",
    "    \n",
    "# add markers to map\n",
    "for lat, lng, label in zip(deleg['Latitude'], deleg['Longitude'], deleg.index):\n",
    "    label = folium.Popup(label, parse_html=True)\n",
    "    folium.CircleMarker(\n",
    "        [lat, lng],\n",
    "        radius=5,\n",
    "        popup=label,\n",
    "        color='blue',\n",
    "        fill=True,\n",
    "        fill_color='#3186cc',\n",
    "        fill_opacity=0.8,\n",
    "        parse_html=False).add_to(map_mx)  \n",
    "\n",
    "map_mx"
   ]
  },
  {
   "cell_type": "markdown",
   "metadata": {},
   "source": [
    "Now we can set up our credentials for the Foursquare API:"
   ]
  },
  {
   "cell_type": "code",
   "execution_count": 24,
   "metadata": {},
   "outputs": [],
   "source": [
    "CLIENT_ID = 'ALOOBVNM4UKUV3TC31W42DGIRYYUGBX3YL25EIQF5S0XSMFK' # your Foursquare ID\n",
    "CLIENT_SECRET = 'ZKPJX1KRF0YEEGWHTMLIYBPLJGYPRBE44JBHGSBKL4FRU1XT' # your Foursquare Secret\n",
    "TOKEN = 'FT0HKS1OFGA4B5N5MZR5C1JE3KSC2XTKOMEVYFZJFWRFJKZN'\n",
    "VERSION = '20180605' # Foursquare API version\n",
    "\n",
    "LIMIT = 1000 # limit of number of venues returned by Foursquare API"
   ]
  },
  {
   "cell_type": "markdown",
   "metadata": {},
   "source": [
    "Define the function to fetch locations near to our stations:"
   ]
  },
  {
   "cell_type": "code",
   "execution_count": 25,
   "metadata": {
    "jupyter": {
     "source_hidden": true
    }
   },
   "outputs": [],
   "source": [
    "def getNearbyVenues(names, latitudes, longitudes, radius):\n",
    "    \n",
    "    venues_list=[]\n",
    "    for name, lat, lng in zip(names, latitudes, longitudes):\n",
    "        # create the API request URL\n",
    "        url = 'https://api.foursquare.com/v2/venues/explore?&client_id={}&oauth_token={}&client_secret={}&v={}&ll={},{}&radius={}&limit={}'.format(\n",
    "            CLIENT_ID,\n",
    "            TOKEN,\n",
    "            CLIENT_SECRET, \n",
    "            VERSION, \n",
    "            lat, \n",
    "            lng, \n",
    "            radius, \n",
    "            LIMIT)\n",
    "            \n",
    "        # make the GET request\n",
    "        try:\n",
    "            results = requests.get(url).json()['response']['groups'][0]['items']\n",
    "\n",
    "            # return only relevant information for each nearby venue\n",
    "            venues_list.append([(\n",
    "                name, \n",
    "                lat, \n",
    "                lng, \n",
    "                v['venue']['name'], \n",
    "                v['venue']['location']['lat'], \n",
    "                v['venue']['location']['lng'],  \n",
    "                v['venue']['categories'][0]['name']) for v in results])\n",
    "        except:\n",
    "            pass\n",
    "\n",
    "    nearby_venues = pd.DataFrame([item for venue_list in venues_list for item in venue_list])\n",
    "    nearby_venues.columns = ['Code', \n",
    "                  'Latitude', \n",
    "                  'Longitude', \n",
    "                  'Venue', \n",
    "                  'Venue Latitude', \n",
    "                  'Venue Longitude', \n",
    "                  'Venue Category']\n",
    "    \n",
    "    return(nearby_venues)"
   ]
  },
  {
   "cell_type": "markdown",
   "metadata": {},
   "source": [
    "For good measure, we will grab every venue from a 500 m radius to a 2000 m radius. The 500 m search yields some venues that do not exist in the 2000 m search, maybe due to some restriction in the API. We can then join both dataframes and drop the duplicates, to prevent overlapping. "
   ]
  },
  {
   "cell_type": "code",
   "execution_count": 27,
   "metadata": {},
   "outputs": [],
   "source": [
    "venues0 = getNearbyVenues(names = deleg.index,\n",
    "                         latitudes = deleg['Latitude'],\n",
    "                         longitudes = deleg['Longitude'],\n",
    "                         radius = 500)"
   ]
  },
  {
   "cell_type": "code",
   "execution_count": 28,
   "metadata": {},
   "outputs": [],
   "source": [
    "venues1 = getNearbyVenues(names = deleg.index,\n",
    "                         latitudes = deleg['Latitude'],\n",
    "                         longitudes = deleg['Longitude'],\n",
    "                         radius = 2000)"
   ]
  },
  {
   "cell_type": "markdown",
   "metadata": {},
   "source": [
    "Let's drop the duplicate venues. We will do this by comparing the venue name along with its latitude and longitude, as there cannot be two different venues with the same name and coordinates."
   ]
  },
  {
   "cell_type": "code",
   "execution_count": 29,
   "metadata": {},
   "outputs": [
    {
     "name": "stdout",
     "output_type": "stream",
     "text": [
      "(2405, 7)\n",
      "(2137, 7)\n"
     ]
    },
    {
     "data": {
      "text/html": [
       "<div>\n",
       "<style scoped>\n",
       "    .dataframe tbody tr th:only-of-type {\n",
       "        vertical-align: middle;\n",
       "    }\n",
       "\n",
       "    .dataframe tbody tr th {\n",
       "        vertical-align: top;\n",
       "    }\n",
       "\n",
       "    .dataframe thead th {\n",
       "        text-align: right;\n",
       "    }\n",
       "</style>\n",
       "<table border=\"1\" class=\"dataframe\">\n",
       "  <thead>\n",
       "    <tr style=\"text-align: right;\">\n",
       "      <th></th>\n",
       "      <th>Code</th>\n",
       "      <th>Latitude</th>\n",
       "      <th>Longitude</th>\n",
       "      <th>Venue</th>\n",
       "      <th>Venue Latitude</th>\n",
       "      <th>Venue Longitude</th>\n",
       "      <th>Venue Category</th>\n",
       "    </tr>\n",
       "  </thead>\n",
       "  <tbody>\n",
       "    <tr>\n",
       "      <th>0</th>\n",
       "      <td>AJM</td>\n",
       "      <td>19.2721</td>\n",
       "      <td>-99.207658</td>\n",
       "      <td>Carnitas del Ajusco</td>\n",
       "      <td>19.272523</td>\n",
       "      <td>-99.208687</td>\n",
       "      <td>Mexican Restaurant</td>\n",
       "    </tr>\n",
       "    <tr>\n",
       "      <th>1</th>\n",
       "      <td>AJM</td>\n",
       "      <td>19.2721</td>\n",
       "      <td>-99.207658</td>\n",
       "      <td>El Mostachón</td>\n",
       "      <td>19.273790</td>\n",
       "      <td>-99.207150</td>\n",
       "      <td>Taco Place</td>\n",
       "    </tr>\n",
       "    <tr>\n",
       "      <th>2</th>\n",
       "      <td>AJM</td>\n",
       "      <td>19.2721</td>\n",
       "      <td>-99.207658</td>\n",
       "      <td>La naranja mecánica</td>\n",
       "      <td>19.273658</td>\n",
       "      <td>-99.207507</td>\n",
       "      <td>Convenience Store</td>\n",
       "    </tr>\n",
       "    <tr>\n",
       "      <th>3</th>\n",
       "      <td>AJM</td>\n",
       "      <td>19.2721</td>\n",
       "      <td>-99.207658</td>\n",
       "      <td>Oxxo</td>\n",
       "      <td>19.274657</td>\n",
       "      <td>-99.209401</td>\n",
       "      <td>Convenience Store</td>\n",
       "    </tr>\n",
       "    <tr>\n",
       "      <th>4</th>\n",
       "      <td>AJM</td>\n",
       "      <td>19.2721</td>\n",
       "      <td>-99.207658</td>\n",
       "      <td>Sykaryos Paintball</td>\n",
       "      <td>19.272159</td>\n",
       "      <td>-99.209839</td>\n",
       "      <td>Paintball Field</td>\n",
       "    </tr>\n",
       "  </tbody>\n",
       "</table>\n",
       "</div>"
      ],
      "text/plain": [
       "  Code  Latitude  Longitude                Venue  Venue Latitude  \\\n",
       "0  AJM   19.2721 -99.207658  Carnitas del Ajusco       19.272523   \n",
       "1  AJM   19.2721 -99.207658         El Mostachón       19.273790   \n",
       "2  AJM   19.2721 -99.207658  La naranja mecánica       19.273658   \n",
       "3  AJM   19.2721 -99.207658                 Oxxo       19.274657   \n",
       "4  AJM   19.2721 -99.207658   Sykaryos Paintball       19.272159   \n",
       "\n",
       "   Venue Longitude      Venue Category  \n",
       "0       -99.208687  Mexican Restaurant  \n",
       "1       -99.207150          Taco Place  \n",
       "2       -99.207507   Convenience Store  \n",
       "3       -99.209401   Convenience Store  \n",
       "4       -99.209839     Paintball Field  "
      ]
     },
     "execution_count": 29,
     "metadata": {},
     "output_type": "execute_result"
    }
   ],
   "source": [
    "venues = venues0.append(venues1)\n",
    "print(venues.shape)\n",
    "venues = venues.drop_duplicates(subset = ['Venue', 'Venue Latitude', 'Venue Longitude'], keep = False)\n",
    "venues = venues.reset_index(drop = True)\n",
    "print(venues.shape)\n",
    "venues.head()"
   ]
  },
  {
   "cell_type": "markdown",
   "metadata": {},
   "source": [
    "Dropping duplicates, we got rid of almost 300 venues; however, we still have more than 2000 venues. If we do one-hot encoding, we will have hundreds of dimensions in our data (one per category), and we don't even have a hundred data samples. If we are to cluster this, we need to group our venues in more general categories, and use those categories as our new dimensions. We will group every place to eat under a 'Restaurants & Bars' label, every shop and store under the 'Stores' label, and so on. Sadly, we will do that manually."
   ]
  },
  {
   "cell_type": "code",
   "execution_count": 30,
   "metadata": {},
   "outputs": [],
   "source": [
    "categories = np.unique(venues['Venue Category'])\n",
    "stations = deleg.index.values\n",
    "\n",
    "stores = ['Store', 'Shop', 'Auto Dealership', 'Bookstore', 'Bakery', 'Market']\n",
    "restaurants_bars = ['Restaurant', 'Bar', 'Joint', 'Beer', 'Place', 'Botanero', \n",
    "                    'Breakfast Spot', 'Food', 'Brewery', 'Tea', 'Cafeteria', 'Buffet']\n",
    "medical = ['Dentist', 'Dental', 'Doctor', 'Veterinarian']\n",
    "buildings = ['Building', 'Office']\n",
    "hotels_hostels = ['Bed & Breakfast', 'Hostel', 'Motel']\n",
    "museums_galleries = ['Museum', 'Gallery', 'Exhibit']\n",
    "plazas = ['Plaza']\n",
    "farms = ['Farm']\n",
    "parks_forests = ['Park', 'Forest']\n",
    "schools = ['University', 'School']\n",
    "gyms_sports = ['Gym', 'Sports', 'Studio', 'Martial Arts', 'Paintball', 'Go Kart']\n",
    "stadiums_theaters = ['Stadium', 'Concert Hall', 'Theater']\n",
    "bus_stations = ['Bus Stop', 'Bus Station']\n",
    "sports_fields = ['Soccer', 'Golf']\n",
    "industrial = ['Gas Station', 'Distillery']\n",
    "\n",
    "venues_list = [stores, restaurants_bars, medical, buildings, hotels_hostels, museums_galleries, plazas, \n",
    "         farms, parks_forests, schools, gyms_sports, stadiums_theaters, bus_stations, sports_fields, industrial]\n",
    "names = ['Stores', 'Restaurants & Bars', 'Medical', 'Buildings & Offices', 'Hotels & Hostels',\n",
    "        'Museums & Galleries', 'Plazas', 'Farms', 'Parks & Forests', 'Schools', 'Gyms & Sports', \n",
    "         'Stadiums & Theaters', 'Bus Stations', 'Sports Fields', 'Industrial']\n",
    "\n",
    "skull = np.zeros((len(stations) + 1, len(venues_list) + 1), dtype=object)\n",
    "skull[0, 0] = 'Code'\n",
    "skull[0, 1:] = names\n",
    "skull[1:, 0] = stations\n",
    "\n",
    "for i, station in enumerate(stations):\n",
    "    venues_in_station = venues[venues['Code'] == station]\n",
    "    for j, type_of_venue in enumerate(venues_list):\n",
    "        count = 0\n",
    "        for k, specific_venue in enumerate(type_of_venue):\n",
    "            a = venues_in_station[venues_in_station['Venue Category'].str.contains(specific_venue)]\n",
    "            count += a['Venue Category'].count()\n",
    "        skull[i + 1, j + 1] = count    "
   ]
  },
  {
   "cell_type": "code",
   "execution_count": 31,
   "metadata": {},
   "outputs": [
    {
     "data": {
      "text/html": [
       "<div>\n",
       "<style scoped>\n",
       "    .dataframe tbody tr th:only-of-type {\n",
       "        vertical-align: middle;\n",
       "    }\n",
       "\n",
       "    .dataframe tbody tr th {\n",
       "        vertical-align: top;\n",
       "    }\n",
       "\n",
       "    .dataframe thead th {\n",
       "        text-align: right;\n",
       "    }\n",
       "</style>\n",
       "<table border=\"1\" class=\"dataframe\">\n",
       "  <thead>\n",
       "    <tr style=\"text-align: right;\">\n",
       "      <th></th>\n",
       "      <th>Stores</th>\n",
       "      <th>Restaurants &amp; Bars</th>\n",
       "      <th>Medical</th>\n",
       "      <th>Buildings &amp; Offices</th>\n",
       "      <th>Hotels &amp; Hostels</th>\n",
       "      <th>Museums &amp; Galleries</th>\n",
       "      <th>Plazas</th>\n",
       "      <th>Farms</th>\n",
       "      <th>Parks &amp; Forests</th>\n",
       "      <th>Schools</th>\n",
       "      <th>Gyms &amp; Sports</th>\n",
       "      <th>Stadiums &amp; Theaters</th>\n",
       "      <th>Bus Stations</th>\n",
       "      <th>Sports Fields</th>\n",
       "      <th>Industrial</th>\n",
       "    </tr>\n",
       "  </thead>\n",
       "  <tbody>\n",
       "    <tr>\n",
       "      <th>AJM</th>\n",
       "      <td>7</td>\n",
       "      <td>28</td>\n",
       "      <td>0</td>\n",
       "      <td>1</td>\n",
       "      <td>0</td>\n",
       "      <td>0</td>\n",
       "      <td>0</td>\n",
       "      <td>0</td>\n",
       "      <td>1</td>\n",
       "      <td>0</td>\n",
       "      <td>4</td>\n",
       "      <td>0</td>\n",
       "      <td>0</td>\n",
       "      <td>0</td>\n",
       "      <td>0</td>\n",
       "    </tr>\n",
       "    <tr>\n",
       "      <th>ATI</th>\n",
       "      <td>5</td>\n",
       "      <td>22</td>\n",
       "      <td>0</td>\n",
       "      <td>1</td>\n",
       "      <td>0</td>\n",
       "      <td>0</td>\n",
       "      <td>0</td>\n",
       "      <td>0</td>\n",
       "      <td>2</td>\n",
       "      <td>0</td>\n",
       "      <td>4</td>\n",
       "      <td>0</td>\n",
       "      <td>0</td>\n",
       "      <td>2</td>\n",
       "      <td>0</td>\n",
       "    </tr>\n",
       "    <tr>\n",
       "      <th>BJU</th>\n",
       "      <td>48</td>\n",
       "      <td>55</td>\n",
       "      <td>0</td>\n",
       "      <td>3</td>\n",
       "      <td>1</td>\n",
       "      <td>2</td>\n",
       "      <td>0</td>\n",
       "      <td>0</td>\n",
       "      <td>4</td>\n",
       "      <td>0</td>\n",
       "      <td>13</td>\n",
       "      <td>8</td>\n",
       "      <td>0</td>\n",
       "      <td>4</td>\n",
       "      <td>0</td>\n",
       "    </tr>\n",
       "    <tr>\n",
       "      <th>CCA</th>\n",
       "      <td>9</td>\n",
       "      <td>59</td>\n",
       "      <td>0</td>\n",
       "      <td>0</td>\n",
       "      <td>0</td>\n",
       "      <td>2</td>\n",
       "      <td>1</td>\n",
       "      <td>0</td>\n",
       "      <td>3</td>\n",
       "      <td>2</td>\n",
       "      <td>9</td>\n",
       "      <td>7</td>\n",
       "      <td>2</td>\n",
       "      <td>1</td>\n",
       "      <td>0</td>\n",
       "    </tr>\n",
       "    <tr>\n",
       "      <th>CHO</th>\n",
       "      <td>6</td>\n",
       "      <td>29</td>\n",
       "      <td>0</td>\n",
       "      <td>1</td>\n",
       "      <td>0</td>\n",
       "      <td>0</td>\n",
       "      <td>0</td>\n",
       "      <td>0</td>\n",
       "      <td>0</td>\n",
       "      <td>0</td>\n",
       "      <td>3</td>\n",
       "      <td>0</td>\n",
       "      <td>0</td>\n",
       "      <td>0</td>\n",
       "      <td>0</td>\n",
       "    </tr>\n",
       "  </tbody>\n",
       "</table>\n",
       "</div>"
      ],
      "text/plain": [
       "     Stores  Restaurants & Bars  Medical  Buildings & Offices  \\\n",
       "AJM       7                  28        0                    1   \n",
       "ATI       5                  22        0                    1   \n",
       "BJU      48                  55        0                    3   \n",
       "CCA       9                  59        0                    0   \n",
       "CHO       6                  29        0                    1   \n",
       "\n",
       "     Hotels & Hostels  Museums & Galleries  Plazas  Farms  Parks & Forests  \\\n",
       "AJM                 0                    0       0      0                1   \n",
       "ATI                 0                    0       0      0                2   \n",
       "BJU                 1                    2       0      0                4   \n",
       "CCA                 0                    2       1      0                3   \n",
       "CHO                 0                    0       0      0                0   \n",
       "\n",
       "     Schools  Gyms & Sports  Stadiums & Theaters  Bus Stations  Sports Fields  \\\n",
       "AJM        0              4                    0             0              0   \n",
       "ATI        0              4                    0             0              2   \n",
       "BJU        0             13                    8             0              4   \n",
       "CCA        2              9                    7             2              1   \n",
       "CHO        0              3                    0             0              0   \n",
       "\n",
       "     Industrial  \n",
       "AJM           0  \n",
       "ATI           0  \n",
       "BJU           0  \n",
       "CCA           0  \n",
       "CHO           0  "
      ]
     },
     "execution_count": 31,
     "metadata": {},
     "output_type": "execute_result"
    }
   ],
   "source": [
    "mx = pd.DataFrame(skull[1:, 1:])\n",
    "mx.index = skull[1:, 0]\n",
    "mx.columns = skull[0, 1:]\n",
    "mx.loc['XAL', 'Industrial'] += 1 # accounting for soap factory in XAL, missregistered in foursquare as a lounge\n",
    "\n",
    "mx.head()"
   ]
  },
  {
   "cell_type": "code",
   "execution_count": 32,
   "metadata": {},
   "outputs": [
    {
     "name": "stdout",
     "output_type": "stream",
     "text": [
      "(2137, 7)\n",
      "(26, 15)\n"
     ]
    }
   ],
   "source": [
    "print(venues.shape)\n",
    "print(mx.shape)"
   ]
  },
  {
   "cell_type": "markdown",
   "metadata": {},
   "source": [
    "We've reduced our dimensions from 2000 to 15. Nice! But we can do better."
   ]
  },
  {
   "cell_type": "markdown",
   "metadata": {},
   "source": [
    "## Exploratory analysis of the data"
   ]
  },
  {
   "cell_type": "markdown",
   "metadata": {},
   "source": [
    "Let's do a bar plot to see which group of venue is the most common among all samples:"
   ]
  },
  {
   "cell_type": "code",
   "execution_count": 33,
   "metadata": {},
   "outputs": [
    {
     "data": {
      "text/plain": [
       "<matplotlib.axes._subplots.AxesSubplot at 0x7fd7bdd15b38>"
      ]
     },
     "execution_count": 33,
     "metadata": {},
     "output_type": "execute_result"
    },
    {
     "data": {
      "image/png": "[encoded data removed]",
      "text/plain": [
       "<matplotlib.figure.Figure at 0x7fd7bdd45d68>"
      ]
     },
     "metadata": {
      "needs_background": "light"
     },
     "output_type": "display_data"
    }
   ],
   "source": [
    "series = mx[names].sum()\n",
    "series.plot.bar()"
   ]
  },
  {
   "cell_type": "markdown",
   "metadata": {},
   "source": [
    "As expected, most venues are either places to eat or stores of some kind."
   ]
  },
  {
   "cell_type": "markdown",
   "metadata": {},
   "source": [
    "<hr>\n",
    "<h1 align='center'> 2.c Data: joining the pieces together </h1> <a name=\"data_join\"></a>\n",
    "<hr>"
   ]
  },
  {
   "cell_type": "markdown",
   "metadata": {},
   "source": [
    "Let's add the altitude to this dataframe, mx, and join it with the air quality dataframe, cd:"
   ]
  },
  {
   "cell_type": "code",
   "execution_count": 34,
   "metadata": {},
   "outputs": [
    {
     "data": {
      "text/html": [
       "<div>\n",
       "<style scoped>\n",
       "    .dataframe tbody tr th:only-of-type {\n",
       "        vertical-align: middle;\n",
       "    }\n",
       "\n",
       "    .dataframe tbody tr th {\n",
       "        vertical-align: top;\n",
       "    }\n",
       "\n",
       "    .dataframe thead th {\n",
       "        text-align: right;\n",
       "    }\n",
       "</style>\n",
       "<table border=\"1\" class=\"dataframe\">\n",
       "  <thead>\n",
       "    <tr style=\"text-align: right;\">\n",
       "      <th></th>\n",
       "      <th>CO</th>\n",
       "      <th>NO2</th>\n",
       "      <th>O3</th>\n",
       "      <th>SO2</th>\n",
       "      <th>PM10</th>\n",
       "      <th>PM25</th>\n",
       "      <th>Altitude</th>\n",
       "      <th>Stores</th>\n",
       "      <th>Restaurants &amp; Bars</th>\n",
       "      <th>Medical</th>\n",
       "      <th>...</th>\n",
       "      <th>Museums &amp; Galleries</th>\n",
       "      <th>Plazas</th>\n",
       "      <th>Farms</th>\n",
       "      <th>Parks &amp; Forests</th>\n",
       "      <th>Schools</th>\n",
       "      <th>Gyms &amp; Sports</th>\n",
       "      <th>Stadiums &amp; Theaters</th>\n",
       "      <th>Bus Stations</th>\n",
       "      <th>Sports Fields</th>\n",
       "      <th>Industrial</th>\n",
       "    </tr>\n",
       "  </thead>\n",
       "  <tbody>\n",
       "    <tr>\n",
       "      <th>AJM</th>\n",
       "      <td>2.957509</td>\n",
       "      <td>7.826194</td>\n",
       "      <td>29.899060</td>\n",
       "      <td>5.377872</td>\n",
       "      <td>48.423798</td>\n",
       "      <td>61.818256</td>\n",
       "      <td>2619</td>\n",
       "      <td>7</td>\n",
       "      <td>28</td>\n",
       "      <td>0</td>\n",
       "      <td>...</td>\n",
       "      <td>0</td>\n",
       "      <td>0</td>\n",
       "      <td>0</td>\n",
       "      <td>1</td>\n",
       "      <td>0</td>\n",
       "      <td>4</td>\n",
       "      <td>0</td>\n",
       "      <td>0</td>\n",
       "      <td>0</td>\n",
       "      <td>0</td>\n",
       "    </tr>\n",
       "    <tr>\n",
       "      <th>ATI</th>\n",
       "      <td>3.788774</td>\n",
       "      <td>11.174881</td>\n",
       "      <td>18.627983</td>\n",
       "      <td>6.873116</td>\n",
       "      <td>61.458678</td>\n",
       "      <td>62.950649</td>\n",
       "      <td>2341</td>\n",
       "      <td>5</td>\n",
       "      <td>22</td>\n",
       "      <td>0</td>\n",
       "      <td>...</td>\n",
       "      <td>0</td>\n",
       "      <td>0</td>\n",
       "      <td>0</td>\n",
       "      <td>2</td>\n",
       "      <td>0</td>\n",
       "      <td>4</td>\n",
       "      <td>0</td>\n",
       "      <td>0</td>\n",
       "      <td>2</td>\n",
       "      <td>0</td>\n",
       "    </tr>\n",
       "    <tr>\n",
       "      <th>BJU</th>\n",
       "      <td>4.624619</td>\n",
       "      <td>16.542634</td>\n",
       "      <td>21.430937</td>\n",
       "      <td>10.964558</td>\n",
       "      <td>96.108170</td>\n",
       "      <td>79.460323</td>\n",
       "      <td>2250</td>\n",
       "      <td>48</td>\n",
       "      <td>55</td>\n",
       "      <td>0</td>\n",
       "      <td>...</td>\n",
       "      <td>2</td>\n",
       "      <td>0</td>\n",
       "      <td>0</td>\n",
       "      <td>4</td>\n",
       "      <td>0</td>\n",
       "      <td>13</td>\n",
       "      <td>8</td>\n",
       "      <td>0</td>\n",
       "      <td>4</td>\n",
       "      <td>0</td>\n",
       "    </tr>\n",
       "    <tr>\n",
       "      <th>CCA</th>\n",
       "      <td>3.840015</td>\n",
       "      <td>11.999284</td>\n",
       "      <td>22.680272</td>\n",
       "      <td>4.214862</td>\n",
       "      <td>57.399327</td>\n",
       "      <td>63.772226</td>\n",
       "      <td>2280</td>\n",
       "      <td>9</td>\n",
       "      <td>59</td>\n",
       "      <td>0</td>\n",
       "      <td>...</td>\n",
       "      <td>2</td>\n",
       "      <td>1</td>\n",
       "      <td>0</td>\n",
       "      <td>3</td>\n",
       "      <td>2</td>\n",
       "      <td>9</td>\n",
       "      <td>7</td>\n",
       "      <td>2</td>\n",
       "      <td>1</td>\n",
       "      <td>0</td>\n",
       "    </tr>\n",
       "    <tr>\n",
       "      <th>CHO</th>\n",
       "      <td>4.696246</td>\n",
       "      <td>9.789322</td>\n",
       "      <td>18.401833</td>\n",
       "      <td>1.866947</td>\n",
       "      <td>65.168476</td>\n",
       "      <td>69.238241</td>\n",
       "      <td>2253</td>\n",
       "      <td>6</td>\n",
       "      <td>29</td>\n",
       "      <td>0</td>\n",
       "      <td>...</td>\n",
       "      <td>0</td>\n",
       "      <td>0</td>\n",
       "      <td>0</td>\n",
       "      <td>0</td>\n",
       "      <td>0</td>\n",
       "      <td>3</td>\n",
       "      <td>0</td>\n",
       "      <td>0</td>\n",
       "      <td>0</td>\n",
       "      <td>0</td>\n",
       "    </tr>\n",
       "  </tbody>\n",
       "</table>\n",
       "<p>5 rows × 22 columns</p>\n",
       "</div>"
      ],
      "text/plain": [
       "           CO        NO2         O3        SO2       PM10       PM25  \\\n",
       "AJM  2.957509   7.826194  29.899060   5.377872  48.423798  61.818256   \n",
       "ATI  3.788774  11.174881  18.627983   6.873116  61.458678  62.950649   \n",
       "BJU  4.624619  16.542634  21.430937  10.964558  96.108170  79.460323   \n",
       "CCA  3.840015  11.999284  22.680272   4.214862  57.399327  63.772226   \n",
       "CHO  4.696246   9.789322  18.401833   1.866947  65.168476  69.238241   \n",
       "\n",
       "     Altitude  Stores  Restaurants & Bars  Medical  ...  Museums & Galleries  \\\n",
       "AJM      2619       7                  28        0  ...                    0   \n",
       "ATI      2341       5                  22        0  ...                    0   \n",
       "BJU      2250      48                  55        0  ...                    2   \n",
       "CCA      2280       9                  59        0  ...                    2   \n",
       "CHO      2253       6                  29        0  ...                    0   \n",
       "\n",
       "     Plazas  Farms  Parks & Forests  Schools  Gyms & Sports  \\\n",
       "AJM       0      0                1        0              4   \n",
       "ATI       0      0                2        0              4   \n",
       "BJU       0      0                4        0             13   \n",
       "CCA       1      0                3        2              9   \n",
       "CHO       0      0                0        0              3   \n",
       "\n",
       "     Stadiums & Theaters  Bus Stations  Sports Fields  Industrial  \n",
       "AJM                    0             0              0           0  \n",
       "ATI                    0             0              2           0  \n",
       "BJU                    8             0              4           0  \n",
       "CCA                    7             2              1           0  \n",
       "CHO                    0             0              0           0  \n",
       "\n",
       "[5 rows x 22 columns]"
      ]
     },
     "execution_count": 34,
     "metadata": {},
     "output_type": "execute_result"
    }
   ],
   "source": [
    "if not ('Altitude' in mx.columns): \n",
    "    mx.insert(0, 'Altitude', deleg['Altitude'])\n",
    "cdmx = cd.join(mx)\n",
    "cdmx = cdmx.dropna()\n",
    "cdmx.head()"
   ]
  },
  {
   "cell_type": "markdown",
   "metadata": {},
   "source": [
    "Let's proceed to calculate the IMECA for each pollutant. The IMECA ('metropolitan index for air quality', by its spanish meaning) is a uniform scale by which every pollutant can be compared to each other without worrying about units. First, we have to convert every molecule concentration to ppm (O3, SO2 and NO2 are in ppb units.)"
   ]
  },
  {
   "cell_type": "code",
   "execution_count": 35,
   "metadata": {},
   "outputs": [
    {
     "data": {
      "text/html": [
       "<div>\n",
       "<style scoped>\n",
       "    .dataframe tbody tr th:only-of-type {\n",
       "        vertical-align: middle;\n",
       "    }\n",
       "\n",
       "    .dataframe tbody tr th {\n",
       "        vertical-align: top;\n",
       "    }\n",
       "\n",
       "    .dataframe thead th {\n",
       "        text-align: right;\n",
       "    }\n",
       "</style>\n",
       "<table border=\"1\" class=\"dataframe\">\n",
       "  <thead>\n",
       "    <tr style=\"text-align: right;\">\n",
       "      <th></th>\n",
       "      <th>CO</th>\n",
       "      <th>NO2</th>\n",
       "      <th>O3</th>\n",
       "      <th>SO2</th>\n",
       "      <th>PM10</th>\n",
       "      <th>PM25</th>\n",
       "      <th>Altitude</th>\n",
       "      <th>Stores</th>\n",
       "      <th>Restaurants &amp; Bars</th>\n",
       "      <th>Medical</th>\n",
       "      <th>...</th>\n",
       "      <th>Museums &amp; Galleries</th>\n",
       "      <th>Plazas</th>\n",
       "      <th>Farms</th>\n",
       "      <th>Parks &amp; Forests</th>\n",
       "      <th>Schools</th>\n",
       "      <th>Gyms &amp; Sports</th>\n",
       "      <th>Stadiums &amp; Theaters</th>\n",
       "      <th>Bus Stations</th>\n",
       "      <th>Sports Fields</th>\n",
       "      <th>Industrial</th>\n",
       "    </tr>\n",
       "  </thead>\n",
       "  <tbody>\n",
       "    <tr>\n",
       "      <th>AJM</th>\n",
       "      <td>2.957509</td>\n",
       "      <td>0.007826</td>\n",
       "      <td>0.029899</td>\n",
       "      <td>0.005378</td>\n",
       "      <td>48.423798</td>\n",
       "      <td>61.818256</td>\n",
       "      <td>2619</td>\n",
       "      <td>7</td>\n",
       "      <td>28</td>\n",
       "      <td>0</td>\n",
       "      <td>...</td>\n",
       "      <td>0</td>\n",
       "      <td>0</td>\n",
       "      <td>0</td>\n",
       "      <td>1</td>\n",
       "      <td>0</td>\n",
       "      <td>4</td>\n",
       "      <td>0</td>\n",
       "      <td>0</td>\n",
       "      <td>0</td>\n",
       "      <td>0</td>\n",
       "    </tr>\n",
       "    <tr>\n",
       "      <th>ATI</th>\n",
       "      <td>3.788774</td>\n",
       "      <td>0.011175</td>\n",
       "      <td>0.018628</td>\n",
       "      <td>0.006873</td>\n",
       "      <td>61.458678</td>\n",
       "      <td>62.950649</td>\n",
       "      <td>2341</td>\n",
       "      <td>5</td>\n",
       "      <td>22</td>\n",
       "      <td>0</td>\n",
       "      <td>...</td>\n",
       "      <td>0</td>\n",
       "      <td>0</td>\n",
       "      <td>0</td>\n",
       "      <td>2</td>\n",
       "      <td>0</td>\n",
       "      <td>4</td>\n",
       "      <td>0</td>\n",
       "      <td>0</td>\n",
       "      <td>2</td>\n",
       "      <td>0</td>\n",
       "    </tr>\n",
       "    <tr>\n",
       "      <th>BJU</th>\n",
       "      <td>4.624619</td>\n",
       "      <td>0.016543</td>\n",
       "      <td>0.021431</td>\n",
       "      <td>0.010965</td>\n",
       "      <td>96.108170</td>\n",
       "      <td>79.460323</td>\n",
       "      <td>2250</td>\n",
       "      <td>48</td>\n",
       "      <td>55</td>\n",
       "      <td>0</td>\n",
       "      <td>...</td>\n",
       "      <td>2</td>\n",
       "      <td>0</td>\n",
       "      <td>0</td>\n",
       "      <td>4</td>\n",
       "      <td>0</td>\n",
       "      <td>13</td>\n",
       "      <td>8</td>\n",
       "      <td>0</td>\n",
       "      <td>4</td>\n",
       "      <td>0</td>\n",
       "    </tr>\n",
       "    <tr>\n",
       "      <th>CCA</th>\n",
       "      <td>3.840015</td>\n",
       "      <td>0.011999</td>\n",
       "      <td>0.022680</td>\n",
       "      <td>0.004215</td>\n",
       "      <td>57.399327</td>\n",
       "      <td>63.772226</td>\n",
       "      <td>2280</td>\n",
       "      <td>9</td>\n",
       "      <td>59</td>\n",
       "      <td>0</td>\n",
       "      <td>...</td>\n",
       "      <td>2</td>\n",
       "      <td>1</td>\n",
       "      <td>0</td>\n",
       "      <td>3</td>\n",
       "      <td>2</td>\n",
       "      <td>9</td>\n",
       "      <td>7</td>\n",
       "      <td>2</td>\n",
       "      <td>1</td>\n",
       "      <td>0</td>\n",
       "    </tr>\n",
       "    <tr>\n",
       "      <th>CHO</th>\n",
       "      <td>4.696246</td>\n",
       "      <td>0.009789</td>\n",
       "      <td>0.018402</td>\n",
       "      <td>0.001867</td>\n",
       "      <td>65.168476</td>\n",
       "      <td>69.238241</td>\n",
       "      <td>2253</td>\n",
       "      <td>6</td>\n",
       "      <td>29</td>\n",
       "      <td>0</td>\n",
       "      <td>...</td>\n",
       "      <td>0</td>\n",
       "      <td>0</td>\n",
       "      <td>0</td>\n",
       "      <td>0</td>\n",
       "      <td>0</td>\n",
       "      <td>3</td>\n",
       "      <td>0</td>\n",
       "      <td>0</td>\n",
       "      <td>0</td>\n",
       "      <td>0</td>\n",
       "    </tr>\n",
       "  </tbody>\n",
       "</table>\n",
       "<p>5 rows × 22 columns</p>\n",
       "</div>"
      ],
      "text/plain": [
       "           CO       NO2        O3       SO2       PM10       PM25  Altitude  \\\n",
       "AJM  2.957509  0.007826  0.029899  0.005378  48.423798  61.818256      2619   \n",
       "ATI  3.788774  0.011175  0.018628  0.006873  61.458678  62.950649      2341   \n",
       "BJU  4.624619  0.016543  0.021431  0.010965  96.108170  79.460323      2250   \n",
       "CCA  3.840015  0.011999  0.022680  0.004215  57.399327  63.772226      2280   \n",
       "CHO  4.696246  0.009789  0.018402  0.001867  65.168476  69.238241      2253   \n",
       "\n",
       "     Stores  Restaurants & Bars  Medical  ...  Museums & Galleries  Plazas  \\\n",
       "AJM       7                  28        0  ...                    0       0   \n",
       "ATI       5                  22        0  ...                    0       0   \n",
       "BJU      48                  55        0  ...                    2       0   \n",
       "CCA       9                  59        0  ...                    2       1   \n",
       "CHO       6                  29        0  ...                    0       0   \n",
       "\n",
       "     Farms  Parks & Forests  Schools  Gyms & Sports  Stadiums & Theaters  \\\n",
       "AJM      0                1        0              4                    0   \n",
       "ATI      0                2        0              4                    0   \n",
       "BJU      0                4        0             13                    8   \n",
       "CCA      0                3        2              9                    7   \n",
       "CHO      0                0        0              3                    0   \n",
       "\n",
       "     Bus Stations  Sports Fields  Industrial  \n",
       "AJM             0              0           0  \n",
       "ATI             0              2           0  \n",
       "BJU             0              4           0  \n",
       "CCA             2              1           0  \n",
       "CHO             0              0           0  \n",
       "\n",
       "[5 rows x 22 columns]"
      ]
     },
     "execution_count": 35,
     "metadata": {},
     "output_type": "execute_result"
    }
   ],
   "source": [
    "cdmx_ppm = cdmx.copy()\n",
    "cdmx_ppm['O3'] = cdmx_ppm['O3'].multiply(1./1000)\n",
    "cdmx_ppm['NO2'] = cdmx_ppm['NO2'].multiply(1./1000)\n",
    "cdmx_ppm['SO2'] = cdmx_ppm['SO2'].multiply(1./1000)\n",
    "cdmx_ppm.head()"
   ]
  },
  {
   "cell_type": "markdown",
   "metadata": {},
   "source": [
    "Next, let's calculate the IMECA, according to Gaceta Oficial del Distrito Federal (the official Mexico City law on how to calculate this):"
   ]
  },
  {
   "cell_type": "code",
   "execution_count": 36,
   "metadata": {
    "jupyter": {
     "source_hidden": true
    }
   },
   "outputs": [],
   "source": [
    "def imeca(df):\n",
    "    df_ = df.copy()\n",
    "    \n",
    "    #for O3\n",
    "    df_['O3'] = df['O3'].multiply(100./0.11)\n",
    "    \n",
    "    #for SO2\n",
    "    df_['SO2'] = df['SO2'].multiply(100./0.13) \n",
    "    \n",
    "    #for CO\n",
    "    df_.loc[df['CO'] <= 5.50, ['CO']] = df.loc[df['CO'] <= 5.50, ['CO']] * (50./5.50)\n",
    "    df_.loc[df['CO'] > 5.50 , ['CO']] = 1.82 + df.loc[df['CO'] > 5.50, ['CO']] * (49./5.49)\n",
    "    df_.loc[df['CO'] > 11.00 , ['CO']] = 2.73+ df.loc[df['CO'] > 11.00, ['CO']] * (49./5.49)\n",
    "    df_.loc[df['CO'] > 16.50 , ['CO']] = 3.64 + df.loc[df['CO'] > 16.50, ['CO']] * (49./5.49)\n",
    "    df_.loc[df['CO'] > 22.00 , ['CO']] = df.loc[df['CO'] > 22.00, ['CO']] * (201./22.01)\n",
    "    \n",
    "    #for NO2\n",
    "    df_.loc[df['NO2'] <= 0.105, ['NO2']] = df.loc[df['NO2'] <= 0.105, ['NO2']] * (50./0.105)\n",
    "    df_.loc[df['NO2'] > 0.105, ['NO2']] = 1.058 + df.loc[df['NO2'] > 0.105, ['NO2']] * (49./0.104)\n",
    "    df_.loc[df['NO2'] > 0.210, ['NO2']] = 1.587 + df.loc[df['NO2'] > 0.210, ['NO2']] * (49./0.104)\n",
    "    df_.loc[df['NO2'] > 0.315, ['NO2']] = 2.115 + df.loc[df['NO2'] < 0.315, ['NO2']] * (49./0.104)\n",
    "    df_.loc[df['NO2'] > 0.420, ['NO2']] = df.loc[df['NO2'] < 0.420, ['NO2']] * (201./0.421)\n",
    "    \n",
    "    #for PM10\n",
    "    df_.loc[df['PM10'] <= 120.0 , ['PM10']] = df.loc[df['PM10'] <= 120.0, ['PM10']] * (5./6)\n",
    "    df_.loc[df['PM10'] > 120.0 , ['PM10']] = 40.0 + df.loc[df['PM10'] > 120.0, ['PM10']] * (0.5)\n",
    "    df_.loc[df['PM10'] > 320.0 , ['PM10']] = df.loc[df['PM10'] > 320.0, ['PM10']] * (5./8)\n",
    "    \n",
    "    #for PM25\n",
    "    df_.loc[df['PM25'] <= 15.4 , ['PM25']] = df.loc[df['PM25'] <= 15.4, ['PM25']] * (50./15.4)\n",
    "    df_.loc[df['PM25'] > 15.4 , ['PM25']] = 20.5 + df.loc[df['PM25'] > 15.4, ['PM25']] * (49./24.9)\n",
    "    df_.loc[df['PM25'] > 40.4 , ['PM25']] = 21.3 + df.loc[df['PM25'] > 40.4, ['PM25']] * (49./24.9)\n",
    "    df_.loc[df['PM25'] > 65.4 , ['PM25']] = 113.2 + df.loc[df['PM25'] > 65.4, ['PM25']] * (49./84.9)\n",
    "    df_.loc[df['PM25'] > 150.4 , ['PM25']] = df.loc[df['PM25'] > 150.4, ['PM25']] * (201./150.5)\n",
    "    \n",
    "    return df_"
   ]
  },
  {
   "cell_type": "code",
   "execution_count": 37,
   "metadata": {},
   "outputs": [
    {
     "data": {
      "text/html": [
       "<div>\n",
       "<style scoped>\n",
       "    .dataframe tbody tr th:only-of-type {\n",
       "        vertical-align: middle;\n",
       "    }\n",
       "\n",
       "    .dataframe tbody tr th {\n",
       "        vertical-align: top;\n",
       "    }\n",
       "\n",
       "    .dataframe thead th {\n",
       "        text-align: right;\n",
       "    }\n",
       "</style>\n",
       "<table border=\"1\" class=\"dataframe\">\n",
       "  <thead>\n",
       "    <tr style=\"text-align: right;\">\n",
       "      <th></th>\n",
       "      <th>CO</th>\n",
       "      <th>NO2</th>\n",
       "      <th>O3</th>\n",
       "      <th>SO2</th>\n",
       "      <th>PM10</th>\n",
       "      <th>PM25</th>\n",
       "      <th>Altitude</th>\n",
       "      <th>Stores</th>\n",
       "      <th>Restaurants &amp; Bars</th>\n",
       "      <th>Medical</th>\n",
       "      <th>...</th>\n",
       "      <th>Museums &amp; Galleries</th>\n",
       "      <th>Plazas</th>\n",
       "      <th>Farms</th>\n",
       "      <th>Parks &amp; Forests</th>\n",
       "      <th>Schools</th>\n",
       "      <th>Gyms &amp; Sports</th>\n",
       "      <th>Stadiums &amp; Theaters</th>\n",
       "      <th>Bus Stations</th>\n",
       "      <th>Sports Fields</th>\n",
       "      <th>Industrial</th>\n",
       "    </tr>\n",
       "  </thead>\n",
       "  <tbody>\n",
       "    <tr>\n",
       "      <th>AJM</th>\n",
       "      <td>26.886450</td>\n",
       "      <td>3.726759</td>\n",
       "      <td>27.180964</td>\n",
       "      <td>4.136824</td>\n",
       "      <td>40.353165</td>\n",
       "      <td>142.950383</td>\n",
       "      <td>2619</td>\n",
       "      <td>7</td>\n",
       "      <td>28</td>\n",
       "      <td>0</td>\n",
       "      <td>...</td>\n",
       "      <td>0</td>\n",
       "      <td>0</td>\n",
       "      <td>0</td>\n",
       "      <td>1</td>\n",
       "      <td>0</td>\n",
       "      <td>4</td>\n",
       "      <td>0</td>\n",
       "      <td>0</td>\n",
       "      <td>0</td>\n",
       "      <td>0</td>\n",
       "    </tr>\n",
       "    <tr>\n",
       "      <th>ATI</th>\n",
       "      <td>34.443400</td>\n",
       "      <td>5.321372</td>\n",
       "      <td>16.934530</td>\n",
       "      <td>5.287012</td>\n",
       "      <td>51.215565</td>\n",
       "      <td>145.178786</td>\n",
       "      <td>2341</td>\n",
       "      <td>5</td>\n",
       "      <td>22</td>\n",
       "      <td>0</td>\n",
       "      <td>...</td>\n",
       "      <td>0</td>\n",
       "      <td>0</td>\n",
       "      <td>0</td>\n",
       "      <td>2</td>\n",
       "      <td>0</td>\n",
       "      <td>4</td>\n",
       "      <td>0</td>\n",
       "      <td>0</td>\n",
       "      <td>2</td>\n",
       "      <td>0</td>\n",
       "    </tr>\n",
       "    <tr>\n",
       "      <th>BJU</th>\n",
       "      <td>42.041990</td>\n",
       "      <td>7.877445</td>\n",
       "      <td>19.482670</td>\n",
       "      <td>8.434276</td>\n",
       "      <td>80.090142</td>\n",
       "      <td>159.060493</td>\n",
       "      <td>2250</td>\n",
       "      <td>48</td>\n",
       "      <td>55</td>\n",
       "      <td>0</td>\n",
       "      <td>...</td>\n",
       "      <td>2</td>\n",
       "      <td>0</td>\n",
       "      <td>0</td>\n",
       "      <td>4</td>\n",
       "      <td>0</td>\n",
       "      <td>13</td>\n",
       "      <td>8</td>\n",
       "      <td>0</td>\n",
       "      <td>4</td>\n",
       "      <td>0</td>\n",
       "    </tr>\n",
       "    <tr>\n",
       "      <th>CCA</th>\n",
       "      <td>34.909223</td>\n",
       "      <td>5.713945</td>\n",
       "      <td>20.618429</td>\n",
       "      <td>3.242201</td>\n",
       "      <td>47.832773</td>\n",
       "      <td>146.795545</td>\n",
       "      <td>2280</td>\n",
       "      <td>9</td>\n",
       "      <td>59</td>\n",
       "      <td>0</td>\n",
       "      <td>...</td>\n",
       "      <td>2</td>\n",
       "      <td>1</td>\n",
       "      <td>0</td>\n",
       "      <td>3</td>\n",
       "      <td>2</td>\n",
       "      <td>9</td>\n",
       "      <td>7</td>\n",
       "      <td>2</td>\n",
       "      <td>1</td>\n",
       "      <td>0</td>\n",
       "    </tr>\n",
       "    <tr>\n",
       "      <th>CHO</th>\n",
       "      <td>42.693143</td>\n",
       "      <td>4.661582</td>\n",
       "      <td>16.728939</td>\n",
       "      <td>1.436113</td>\n",
       "      <td>54.307063</td>\n",
       "      <td>153.160822</td>\n",
       "      <td>2253</td>\n",
       "      <td>6</td>\n",
       "      <td>29</td>\n",
       "      <td>0</td>\n",
       "      <td>...</td>\n",
       "      <td>0</td>\n",
       "      <td>0</td>\n",
       "      <td>0</td>\n",
       "      <td>0</td>\n",
       "      <td>0</td>\n",
       "      <td>3</td>\n",
       "      <td>0</td>\n",
       "      <td>0</td>\n",
       "      <td>0</td>\n",
       "      <td>0</td>\n",
       "    </tr>\n",
       "  </tbody>\n",
       "</table>\n",
       "<p>5 rows × 22 columns</p>\n",
       "</div>"
      ],
      "text/plain": [
       "            CO       NO2         O3       SO2       PM10        PM25  \\\n",
       "AJM  26.886450  3.726759  27.180964  4.136824  40.353165  142.950383   \n",
       "ATI  34.443400  5.321372  16.934530  5.287012  51.215565  145.178786   \n",
       "BJU  42.041990  7.877445  19.482670  8.434276  80.090142  159.060493   \n",
       "CCA  34.909223  5.713945  20.618429  3.242201  47.832773  146.795545   \n",
       "CHO  42.693143  4.661582  16.728939  1.436113  54.307063  153.160822   \n",
       "\n",
       "     Altitude  Stores  Restaurants & Bars  Medical  ...  Museums & Galleries  \\\n",
       "AJM      2619       7                  28        0  ...                    0   \n",
       "ATI      2341       5                  22        0  ...                    0   \n",
       "BJU      2250      48                  55        0  ...                    2   \n",
       "CCA      2280       9                  59        0  ...                    2   \n",
       "CHO      2253       6                  29        0  ...                    0   \n",
       "\n",
       "     Plazas  Farms  Parks & Forests  Schools  Gyms & Sports  \\\n",
       "AJM       0      0                1        0              4   \n",
       "ATI       0      0                2        0              4   \n",
       "BJU       0      0                4        0             13   \n",
       "CCA       1      0                3        2              9   \n",
       "CHO       0      0                0        0              3   \n",
       "\n",
       "     Stadiums & Theaters  Bus Stations  Sports Fields  Industrial  \n",
       "AJM                    0             0              0           0  \n",
       "ATI                    0             0              2           0  \n",
       "BJU                    8             0              4           0  \n",
       "CCA                    7             2              1           0  \n",
       "CHO                    0             0              0           0  \n",
       "\n",
       "[5 rows x 22 columns]"
      ]
     },
     "execution_count": 37,
     "metadata": {},
     "output_type": "execute_result"
    }
   ],
   "source": [
    "cdmx_imeca = imeca(cdmx_ppm)\n",
    "cdmx_imeca.head()"
   ]
  },
  {
   "cell_type": "markdown",
   "metadata": {},
   "source": [
    "Normalizing the last dataframe using minmax:"
   ]
  },
  {
   "cell_type": "code",
   "execution_count": 38,
   "metadata": {},
   "outputs": [],
   "source": [
    "def normalize_dataframe(df): \n",
    "    filtered_columns = list(df.drop(columns = molecules).columns.values)\n",
    "    df_n = df.copy()\n",
    "    \n",
    "    max_pol = df_n.loc[:, molecules].values.max()\n",
    "    min_pol = df_n.loc[:, molecules].values.min()\n",
    "    \n",
    "    for col in molecules:\n",
    "        factor = 1./(max_pol - min_pol)\n",
    "        df_n[col] = (df_n[col] - min_pol) * factor\n",
    "    \n",
    "    for col in filtered_columns:\n",
    "        if col in df_n.columns:\n",
    "            factor = 1.0/(df_n[col].max() - df_n[col].min())\n",
    "            df_n[col] = (df_n[col] - df_n[col].min()).multiply(factor)\n",
    "            \n",
    "    return df_n"
   ]
  },
  {
   "cell_type": "code",
   "execution_count": 39,
   "metadata": {},
   "outputs": [
    {
     "data": {
      "text/html": [
       "<div>\n",
       "<style scoped>\n",
       "    .dataframe tbody tr th:only-of-type {\n",
       "        vertical-align: middle;\n",
       "    }\n",
       "\n",
       "    .dataframe tbody tr th {\n",
       "        vertical-align: top;\n",
       "    }\n",
       "\n",
       "    .dataframe thead th {\n",
       "        text-align: right;\n",
       "    }\n",
       "</style>\n",
       "<table border=\"1\" class=\"dataframe\">\n",
       "  <thead>\n",
       "    <tr style=\"text-align: right;\">\n",
       "      <th></th>\n",
       "      <th>CO</th>\n",
       "      <th>NO2</th>\n",
       "      <th>O3</th>\n",
       "      <th>SO2</th>\n",
       "      <th>PM10</th>\n",
       "      <th>PM25</th>\n",
       "      <th>Altitude</th>\n",
       "      <th>Stores</th>\n",
       "      <th>Restaurants &amp; Bars</th>\n",
       "      <th>Medical</th>\n",
       "      <th>...</th>\n",
       "      <th>Museums &amp; Galleries</th>\n",
       "      <th>Plazas</th>\n",
       "      <th>Farms</th>\n",
       "      <th>Parks &amp; Forests</th>\n",
       "      <th>Schools</th>\n",
       "      <th>Gyms &amp; Sports</th>\n",
       "      <th>Stadiums &amp; Theaters</th>\n",
       "      <th>Bus Stations</th>\n",
       "      <th>Sports Fields</th>\n",
       "      <th>Industrial</th>\n",
       "    </tr>\n",
       "  </thead>\n",
       "  <tbody>\n",
       "    <tr>\n",
       "      <th>AJM</th>\n",
       "      <td>0.160576</td>\n",
       "      <td>0.014453</td>\n",
       "      <td>0.162434</td>\n",
       "      <td>0.017040</td>\n",
       "      <td>0.245542</td>\n",
       "      <td>0.892866</td>\n",
       "      <td>0.843750</td>\n",
       "      <td>0.046512</td>\n",
       "      <td>0.250000</td>\n",
       "      <td>0.0</td>\n",
       "      <td>...</td>\n",
       "      <td>0.000000</td>\n",
       "      <td>0.0</td>\n",
       "      <td>0.0</td>\n",
       "      <td>0.166667</td>\n",
       "      <td>0.0</td>\n",
       "      <td>0.266667</td>\n",
       "      <td>0.000</td>\n",
       "      <td>0.0</td>\n",
       "      <td>0.000000</td>\n",
       "      <td>0.0</td>\n",
       "    </tr>\n",
       "    <tr>\n",
       "      <th>ATI</th>\n",
       "      <td>0.208255</td>\n",
       "      <td>0.024514</td>\n",
       "      <td>0.097785</td>\n",
       "      <td>0.024297</td>\n",
       "      <td>0.314077</td>\n",
       "      <td>0.906926</td>\n",
       "      <td>0.332721</td>\n",
       "      <td>0.000000</td>\n",
       "      <td>0.150000</td>\n",
       "      <td>0.0</td>\n",
       "      <td>...</td>\n",
       "      <td>0.000000</td>\n",
       "      <td>0.0</td>\n",
       "      <td>0.0</td>\n",
       "      <td>0.333333</td>\n",
       "      <td>0.0</td>\n",
       "      <td>0.266667</td>\n",
       "      <td>0.000</td>\n",
       "      <td>0.0</td>\n",
       "      <td>0.133333</td>\n",
       "      <td>0.0</td>\n",
       "    </tr>\n",
       "    <tr>\n",
       "      <th>BJU</th>\n",
       "      <td>0.256198</td>\n",
       "      <td>0.040641</td>\n",
       "      <td>0.113862</td>\n",
       "      <td>0.044154</td>\n",
       "      <td>0.496257</td>\n",
       "      <td>0.994511</td>\n",
       "      <td>0.165441</td>\n",
       "      <td>1.000000</td>\n",
       "      <td>0.700000</td>\n",
       "      <td>0.0</td>\n",
       "      <td>...</td>\n",
       "      <td>0.181818</td>\n",
       "      <td>0.0</td>\n",
       "      <td>0.0</td>\n",
       "      <td>0.666667</td>\n",
       "      <td>0.0</td>\n",
       "      <td>0.866667</td>\n",
       "      <td>1.000</td>\n",
       "      <td>0.0</td>\n",
       "      <td>0.266667</td>\n",
       "      <td>0.0</td>\n",
       "    </tr>\n",
       "    <tr>\n",
       "      <th>CCA</th>\n",
       "      <td>0.211194</td>\n",
       "      <td>0.026990</td>\n",
       "      <td>0.121028</td>\n",
       "      <td>0.011395</td>\n",
       "      <td>0.292734</td>\n",
       "      <td>0.917127</td>\n",
       "      <td>0.220588</td>\n",
       "      <td>0.093023</td>\n",
       "      <td>0.766667</td>\n",
       "      <td>0.0</td>\n",
       "      <td>...</td>\n",
       "      <td>0.181818</td>\n",
       "      <td>1.0</td>\n",
       "      <td>0.0</td>\n",
       "      <td>0.500000</td>\n",
       "      <td>1.0</td>\n",
       "      <td>0.600000</td>\n",
       "      <td>0.875</td>\n",
       "      <td>1.0</td>\n",
       "      <td>0.066667</td>\n",
       "      <td>0.0</td>\n",
       "    </tr>\n",
       "    <tr>\n",
       "      <th>CHO</th>\n",
       "      <td>0.260306</td>\n",
       "      <td>0.020351</td>\n",
       "      <td>0.096488</td>\n",
       "      <td>0.000000</td>\n",
       "      <td>0.333582</td>\n",
       "      <td>0.957288</td>\n",
       "      <td>0.170956</td>\n",
       "      <td>0.023256</td>\n",
       "      <td>0.266667</td>\n",
       "      <td>0.0</td>\n",
       "      <td>...</td>\n",
       "      <td>0.000000</td>\n",
       "      <td>0.0</td>\n",
       "      <td>0.0</td>\n",
       "      <td>0.000000</td>\n",
       "      <td>0.0</td>\n",
       "      <td>0.200000</td>\n",
       "      <td>0.000</td>\n",
       "      <td>0.0</td>\n",
       "      <td>0.000000</td>\n",
       "      <td>0.0</td>\n",
       "    </tr>\n",
       "  </tbody>\n",
       "</table>\n",
       "<p>5 rows × 22 columns</p>\n",
       "</div>"
      ],
      "text/plain": [
       "           CO       NO2        O3       SO2      PM10      PM25  Altitude  \\\n",
       "AJM  0.160576  0.014453  0.162434  0.017040  0.245542  0.892866  0.843750   \n",
       "ATI  0.208255  0.024514  0.097785  0.024297  0.314077  0.906926  0.332721   \n",
       "BJU  0.256198  0.040641  0.113862  0.044154  0.496257  0.994511  0.165441   \n",
       "CCA  0.211194  0.026990  0.121028  0.011395  0.292734  0.917127  0.220588   \n",
       "CHO  0.260306  0.020351  0.096488  0.000000  0.333582  0.957288  0.170956   \n",
       "\n",
       "       Stores  Restaurants & Bars  Medical  ...  Museums & Galleries  Plazas  \\\n",
       "AJM  0.046512            0.250000      0.0  ...             0.000000     0.0   \n",
       "ATI  0.000000            0.150000      0.0  ...             0.000000     0.0   \n",
       "BJU  1.000000            0.700000      0.0  ...             0.181818     0.0   \n",
       "CCA  0.093023            0.766667      0.0  ...             0.181818     1.0   \n",
       "CHO  0.023256            0.266667      0.0  ...             0.000000     0.0   \n",
       "\n",
       "     Farms  Parks & Forests  Schools  Gyms & Sports  Stadiums & Theaters  \\\n",
       "AJM    0.0         0.166667      0.0       0.266667                0.000   \n",
       "ATI    0.0         0.333333      0.0       0.266667                0.000   \n",
       "BJU    0.0         0.666667      0.0       0.866667                1.000   \n",
       "CCA    0.0         0.500000      1.0       0.600000                0.875   \n",
       "CHO    0.0         0.000000      0.0       0.200000                0.000   \n",
       "\n",
       "     Bus Stations  Sports Fields  Industrial  \n",
       "AJM           0.0       0.000000         0.0  \n",
       "ATI           0.0       0.133333         0.0  \n",
       "BJU           0.0       0.266667         0.0  \n",
       "CCA           1.0       0.066667         0.0  \n",
       "CHO           0.0       0.000000         0.0  \n",
       "\n",
       "[5 rows x 22 columns]"
      ]
     },
     "execution_count": 39,
     "metadata": {},
     "output_type": "execute_result"
    }
   ],
   "source": [
    "cdmx_imeca = normalize_dataframe(cdmx_imeca)\n",
    "cdmx_imeca.head()"
   ]
  },
  {
   "cell_type": "markdown",
   "metadata": {},
   "source": [
    "We are now going to create one last dataframe. We will average each column in cdmx to create a single pollution value. This value, which we will call 'pIndex' (for 'pollution index'), will summarize the values for all molecules. The other columns from cdmx will be copied on to the new dataframe. "
   ]
  },
  {
   "cell_type": "code",
   "execution_count": 40,
   "metadata": {},
   "outputs": [
    {
     "data": {
      "text/html": [
       "<div>\n",
       "<style scoped>\n",
       "    .dataframe tbody tr th:only-of-type {\n",
       "        vertical-align: middle;\n",
       "    }\n",
       "\n",
       "    .dataframe tbody tr th {\n",
       "        vertical-align: top;\n",
       "    }\n",
       "\n",
       "    .dataframe thead th {\n",
       "        text-align: right;\n",
       "    }\n",
       "</style>\n",
       "<table border=\"1\" class=\"dataframe\">\n",
       "  <thead>\n",
       "    <tr style=\"text-align: right;\">\n",
       "      <th></th>\n",
       "      <th>pIndex</th>\n",
       "      <th>CO</th>\n",
       "      <th>NO2</th>\n",
       "      <th>O3</th>\n",
       "      <th>SO2</th>\n",
       "      <th>PM10</th>\n",
       "      <th>PM25</th>\n",
       "      <th>Altitude</th>\n",
       "      <th>Stores</th>\n",
       "      <th>Restaurants &amp; Bars</th>\n",
       "      <th>...</th>\n",
       "      <th>Museums &amp; Galleries</th>\n",
       "      <th>Plazas</th>\n",
       "      <th>Farms</th>\n",
       "      <th>Parks &amp; Forests</th>\n",
       "      <th>Schools</th>\n",
       "      <th>Gyms &amp; Sports</th>\n",
       "      <th>Stadiums &amp; Theaters</th>\n",
       "      <th>Bus Stations</th>\n",
       "      <th>Sports Fields</th>\n",
       "      <th>Industrial</th>\n",
       "    </tr>\n",
       "  </thead>\n",
       "  <tbody>\n",
       "    <tr>\n",
       "      <th>AJM</th>\n",
       "      <td>0.248818</td>\n",
       "      <td>0.160576</td>\n",
       "      <td>0.014453</td>\n",
       "      <td>0.162434</td>\n",
       "      <td>0.017040</td>\n",
       "      <td>0.245542</td>\n",
       "      <td>0.892866</td>\n",
       "      <td>0.843750</td>\n",
       "      <td>0.046512</td>\n",
       "      <td>0.250000</td>\n",
       "      <td>...</td>\n",
       "      <td>0.000000</td>\n",
       "      <td>0.0</td>\n",
       "      <td>0.0</td>\n",
       "      <td>0.166667</td>\n",
       "      <td>0.0</td>\n",
       "      <td>0.266667</td>\n",
       "      <td>0.000</td>\n",
       "      <td>0.0</td>\n",
       "      <td>0.000000</td>\n",
       "      <td>0.0</td>\n",
       "    </tr>\n",
       "    <tr>\n",
       "      <th>ATI</th>\n",
       "      <td>0.262642</td>\n",
       "      <td>0.208255</td>\n",
       "      <td>0.024514</td>\n",
       "      <td>0.097785</td>\n",
       "      <td>0.024297</td>\n",
       "      <td>0.314077</td>\n",
       "      <td>0.906926</td>\n",
       "      <td>0.332721</td>\n",
       "      <td>0.000000</td>\n",
       "      <td>0.150000</td>\n",
       "      <td>...</td>\n",
       "      <td>0.000000</td>\n",
       "      <td>0.0</td>\n",
       "      <td>0.0</td>\n",
       "      <td>0.333333</td>\n",
       "      <td>0.0</td>\n",
       "      <td>0.266667</td>\n",
       "      <td>0.000</td>\n",
       "      <td>0.0</td>\n",
       "      <td>0.133333</td>\n",
       "      <td>0.0</td>\n",
       "    </tr>\n",
       "    <tr>\n",
       "      <th>BJU</th>\n",
       "      <td>0.324270</td>\n",
       "      <td>0.256198</td>\n",
       "      <td>0.040641</td>\n",
       "      <td>0.113862</td>\n",
       "      <td>0.044154</td>\n",
       "      <td>0.496257</td>\n",
       "      <td>0.994511</td>\n",
       "      <td>0.165441</td>\n",
       "      <td>1.000000</td>\n",
       "      <td>0.700000</td>\n",
       "      <td>...</td>\n",
       "      <td>0.181818</td>\n",
       "      <td>0.0</td>\n",
       "      <td>0.0</td>\n",
       "      <td>0.666667</td>\n",
       "      <td>0.0</td>\n",
       "      <td>0.866667</td>\n",
       "      <td>1.000</td>\n",
       "      <td>0.0</td>\n",
       "      <td>0.266667</td>\n",
       "      <td>0.0</td>\n",
       "    </tr>\n",
       "    <tr>\n",
       "      <th>CCA</th>\n",
       "      <td>0.263411</td>\n",
       "      <td>0.211194</td>\n",
       "      <td>0.026990</td>\n",
       "      <td>0.121028</td>\n",
       "      <td>0.011395</td>\n",
       "      <td>0.292734</td>\n",
       "      <td>0.917127</td>\n",
       "      <td>0.220588</td>\n",
       "      <td>0.093023</td>\n",
       "      <td>0.766667</td>\n",
       "      <td>...</td>\n",
       "      <td>0.181818</td>\n",
       "      <td>1.0</td>\n",
       "      <td>0.0</td>\n",
       "      <td>0.500000</td>\n",
       "      <td>1.0</td>\n",
       "      <td>0.600000</td>\n",
       "      <td>0.875</td>\n",
       "      <td>1.0</td>\n",
       "      <td>0.066667</td>\n",
       "      <td>0.0</td>\n",
       "    </tr>\n",
       "    <tr>\n",
       "      <th>CHO</th>\n",
       "      <td>0.278002</td>\n",
       "      <td>0.260306</td>\n",
       "      <td>0.020351</td>\n",
       "      <td>0.096488</td>\n",
       "      <td>0.000000</td>\n",
       "      <td>0.333582</td>\n",
       "      <td>0.957288</td>\n",
       "      <td>0.170956</td>\n",
       "      <td>0.023256</td>\n",
       "      <td>0.266667</td>\n",
       "      <td>...</td>\n",
       "      <td>0.000000</td>\n",
       "      <td>0.0</td>\n",
       "      <td>0.0</td>\n",
       "      <td>0.000000</td>\n",
       "      <td>0.0</td>\n",
       "      <td>0.200000</td>\n",
       "      <td>0.000</td>\n",
       "      <td>0.0</td>\n",
       "      <td>0.000000</td>\n",
       "      <td>0.0</td>\n",
       "    </tr>\n",
       "  </tbody>\n",
       "</table>\n",
       "<p>5 rows × 23 columns</p>\n",
       "</div>"
      ],
      "text/plain": [
       "       pIndex        CO       NO2        O3       SO2      PM10      PM25  \\\n",
       "AJM  0.248818  0.160576  0.014453  0.162434  0.017040  0.245542  0.892866   \n",
       "ATI  0.262642  0.208255  0.024514  0.097785  0.024297  0.314077  0.906926   \n",
       "BJU  0.324270  0.256198  0.040641  0.113862  0.044154  0.496257  0.994511   \n",
       "CCA  0.263411  0.211194  0.026990  0.121028  0.011395  0.292734  0.917127   \n",
       "CHO  0.278002  0.260306  0.020351  0.096488  0.000000  0.333582  0.957288   \n",
       "\n",
       "     Altitude    Stores  Restaurants & Bars  ...  Museums & Galleries  Plazas  \\\n",
       "AJM  0.843750  0.046512            0.250000  ...             0.000000     0.0   \n",
       "ATI  0.332721  0.000000            0.150000  ...             0.000000     0.0   \n",
       "BJU  0.165441  1.000000            0.700000  ...             0.181818     0.0   \n",
       "CCA  0.220588  0.093023            0.766667  ...             0.181818     1.0   \n",
       "CHO  0.170956  0.023256            0.266667  ...             0.000000     0.0   \n",
       "\n",
       "     Farms  Parks & Forests  Schools  Gyms & Sports  Stadiums & Theaters  \\\n",
       "AJM    0.0         0.166667      0.0       0.266667                0.000   \n",
       "ATI    0.0         0.333333      0.0       0.266667                0.000   \n",
       "BJU    0.0         0.666667      0.0       0.866667                1.000   \n",
       "CCA    0.0         0.500000      1.0       0.600000                0.875   \n",
       "CHO    0.0         0.000000      0.0       0.200000                0.000   \n",
       "\n",
       "     Bus Stations  Sports Fields  Industrial  \n",
       "AJM           0.0       0.000000         0.0  \n",
       "ATI           0.0       0.133333         0.0  \n",
       "BJU           0.0       0.266667         0.0  \n",
       "CCA           1.0       0.066667         0.0  \n",
       "CHO           0.0       0.000000         0.0  \n",
       "\n",
       "[5 rows x 23 columns]"
      ]
     },
     "execution_count": 40,
     "metadata": {},
     "output_type": "execute_result"
    }
   ],
   "source": [
    "cdmx_n = np.zeros((cdmx_imeca.shape[0], 1))\n",
    "len_molecules = len(molecules)\n",
    "\n",
    "for i, row in enumerate(cdmx_imeca.index):\n",
    "    average = 0\n",
    "    len_data = 0\n",
    "    for col in molecules:\n",
    "        average += cdmx_imeca.loc[row, col]\n",
    "        len_data += 1\n",
    "    cdmx_n[i] = average/len_data\n",
    "    \n",
    "cdmx_n = pd.DataFrame(data = cdmx_n, columns = ['pIndex'])\n",
    "cdmx_n.index = cdmx_imeca.index\n",
    "cdmx_n = cdmx_n.join(cdmx_imeca)\n",
    "cdmx_n.head()"
   ]
  },
  {
   "cell_type": "markdown",
   "metadata": {},
   "source": [
    "Normalizing the pIndex column:"
   ]
  },
  {
   "cell_type": "code",
   "execution_count": 41,
   "metadata": {},
   "outputs": [
    {
     "data": {
      "text/html": [
       "<div>\n",
       "<style scoped>\n",
       "    .dataframe tbody tr th:only-of-type {\n",
       "        vertical-align: middle;\n",
       "    }\n",
       "\n",
       "    .dataframe tbody tr th {\n",
       "        vertical-align: top;\n",
       "    }\n",
       "\n",
       "    .dataframe thead th {\n",
       "        text-align: right;\n",
       "    }\n",
       "</style>\n",
       "<table border=\"1\" class=\"dataframe\">\n",
       "  <thead>\n",
       "    <tr style=\"text-align: right;\">\n",
       "      <th></th>\n",
       "      <th>pIndex</th>\n",
       "      <th>CO</th>\n",
       "      <th>NO2</th>\n",
       "      <th>O3</th>\n",
       "      <th>SO2</th>\n",
       "      <th>PM10</th>\n",
       "      <th>PM25</th>\n",
       "      <th>Altitude</th>\n",
       "      <th>Stores</th>\n",
       "      <th>Restaurants &amp; Bars</th>\n",
       "      <th>...</th>\n",
       "      <th>Museums &amp; Galleries</th>\n",
       "      <th>Plazas</th>\n",
       "      <th>Farms</th>\n",
       "      <th>Parks &amp; Forests</th>\n",
       "      <th>Schools</th>\n",
       "      <th>Gyms &amp; Sports</th>\n",
       "      <th>Stadiums &amp; Theaters</th>\n",
       "      <th>Bus Stations</th>\n",
       "      <th>Sports Fields</th>\n",
       "      <th>Industrial</th>\n",
       "    </tr>\n",
       "  </thead>\n",
       "  <tbody>\n",
       "    <tr>\n",
       "      <th>AJM</th>\n",
       "      <td>0.063152</td>\n",
       "      <td>0.160576</td>\n",
       "      <td>0.014453</td>\n",
       "      <td>0.162434</td>\n",
       "      <td>0.017040</td>\n",
       "      <td>0.245542</td>\n",
       "      <td>0.892866</td>\n",
       "      <td>0.843750</td>\n",
       "      <td>0.046512</td>\n",
       "      <td>0.250000</td>\n",
       "      <td>...</td>\n",
       "      <td>0.000000</td>\n",
       "      <td>0.0</td>\n",
       "      <td>0.0</td>\n",
       "      <td>0.166667</td>\n",
       "      <td>0.0</td>\n",
       "      <td>0.266667</td>\n",
       "      <td>0.000</td>\n",
       "      <td>0.0</td>\n",
       "      <td>0.000000</td>\n",
       "      <td>0.0</td>\n",
       "    </tr>\n",
       "    <tr>\n",
       "      <th>ATI</th>\n",
       "      <td>0.206851</td>\n",
       "      <td>0.208255</td>\n",
       "      <td>0.024514</td>\n",
       "      <td>0.097785</td>\n",
       "      <td>0.024297</td>\n",
       "      <td>0.314077</td>\n",
       "      <td>0.906926</td>\n",
       "      <td>0.332721</td>\n",
       "      <td>0.000000</td>\n",
       "      <td>0.150000</td>\n",
       "      <td>...</td>\n",
       "      <td>0.000000</td>\n",
       "      <td>0.0</td>\n",
       "      <td>0.0</td>\n",
       "      <td>0.333333</td>\n",
       "      <td>0.0</td>\n",
       "      <td>0.266667</td>\n",
       "      <td>0.000</td>\n",
       "      <td>0.0</td>\n",
       "      <td>0.133333</td>\n",
       "      <td>0.0</td>\n",
       "    </tr>\n",
       "    <tr>\n",
       "      <th>BJU</th>\n",
       "      <td>0.847470</td>\n",
       "      <td>0.256198</td>\n",
       "      <td>0.040641</td>\n",
       "      <td>0.113862</td>\n",
       "      <td>0.044154</td>\n",
       "      <td>0.496257</td>\n",
       "      <td>0.994511</td>\n",
       "      <td>0.165441</td>\n",
       "      <td>1.000000</td>\n",
       "      <td>0.700000</td>\n",
       "      <td>...</td>\n",
       "      <td>0.181818</td>\n",
       "      <td>0.0</td>\n",
       "      <td>0.0</td>\n",
       "      <td>0.666667</td>\n",
       "      <td>0.0</td>\n",
       "      <td>0.866667</td>\n",
       "      <td>1.000</td>\n",
       "      <td>0.0</td>\n",
       "      <td>0.266667</td>\n",
       "      <td>0.0</td>\n",
       "    </tr>\n",
       "    <tr>\n",
       "      <th>CCA</th>\n",
       "      <td>0.214846</td>\n",
       "      <td>0.211194</td>\n",
       "      <td>0.026990</td>\n",
       "      <td>0.121028</td>\n",
       "      <td>0.011395</td>\n",
       "      <td>0.292734</td>\n",
       "      <td>0.917127</td>\n",
       "      <td>0.220588</td>\n",
       "      <td>0.093023</td>\n",
       "      <td>0.766667</td>\n",
       "      <td>...</td>\n",
       "      <td>0.181818</td>\n",
       "      <td>1.0</td>\n",
       "      <td>0.0</td>\n",
       "      <td>0.500000</td>\n",
       "      <td>1.0</td>\n",
       "      <td>0.600000</td>\n",
       "      <td>0.875</td>\n",
       "      <td>1.0</td>\n",
       "      <td>0.066667</td>\n",
       "      <td>0.0</td>\n",
       "    </tr>\n",
       "    <tr>\n",
       "      <th>CHO</th>\n",
       "      <td>0.366518</td>\n",
       "      <td>0.260306</td>\n",
       "      <td>0.020351</td>\n",
       "      <td>0.096488</td>\n",
       "      <td>0.000000</td>\n",
       "      <td>0.333582</td>\n",
       "      <td>0.957288</td>\n",
       "      <td>0.170956</td>\n",
       "      <td>0.023256</td>\n",
       "      <td>0.266667</td>\n",
       "      <td>...</td>\n",
       "      <td>0.000000</td>\n",
       "      <td>0.0</td>\n",
       "      <td>0.0</td>\n",
       "      <td>0.000000</td>\n",
       "      <td>0.0</td>\n",
       "      <td>0.200000</td>\n",
       "      <td>0.000</td>\n",
       "      <td>0.0</td>\n",
       "      <td>0.000000</td>\n",
       "      <td>0.0</td>\n",
       "    </tr>\n",
       "  </tbody>\n",
       "</table>\n",
       "<p>5 rows × 23 columns</p>\n",
       "</div>"
      ],
      "text/plain": [
       "       pIndex        CO       NO2        O3       SO2      PM10      PM25  \\\n",
       "AJM  0.063152  0.160576  0.014453  0.162434  0.017040  0.245542  0.892866   \n",
       "ATI  0.206851  0.208255  0.024514  0.097785  0.024297  0.314077  0.906926   \n",
       "BJU  0.847470  0.256198  0.040641  0.113862  0.044154  0.496257  0.994511   \n",
       "CCA  0.214846  0.211194  0.026990  0.121028  0.011395  0.292734  0.917127   \n",
       "CHO  0.366518  0.260306  0.020351  0.096488  0.000000  0.333582  0.957288   \n",
       "\n",
       "     Altitude    Stores  Restaurants & Bars  ...  Museums & Galleries  Plazas  \\\n",
       "AJM  0.843750  0.046512            0.250000  ...             0.000000     0.0   \n",
       "ATI  0.332721  0.000000            0.150000  ...             0.000000     0.0   \n",
       "BJU  0.165441  1.000000            0.700000  ...             0.181818     0.0   \n",
       "CCA  0.220588  0.093023            0.766667  ...             0.181818     1.0   \n",
       "CHO  0.170956  0.023256            0.266667  ...             0.000000     0.0   \n",
       "\n",
       "     Farms  Parks & Forests  Schools  Gyms & Sports  Stadiums & Theaters  \\\n",
       "AJM    0.0         0.166667      0.0       0.266667                0.000   \n",
       "ATI    0.0         0.333333      0.0       0.266667                0.000   \n",
       "BJU    0.0         0.666667      0.0       0.866667                1.000   \n",
       "CCA    0.0         0.500000      1.0       0.600000                0.875   \n",
       "CHO    0.0         0.000000      0.0       0.200000                0.000   \n",
       "\n",
       "     Bus Stations  Sports Fields  Industrial  \n",
       "AJM           0.0       0.000000         0.0  \n",
       "ATI           0.0       0.133333         0.0  \n",
       "BJU           0.0       0.266667         0.0  \n",
       "CCA           1.0       0.066667         0.0  \n",
       "CHO           0.0       0.000000         0.0  \n",
       "\n",
       "[5 rows x 23 columns]"
      ]
     },
     "execution_count": 41,
     "metadata": {},
     "output_type": "execute_result"
    }
   ],
   "source": [
    "cdmx_n = normalize_dataframe(cdmx_n)\n",
    "cdmx_n.head()"
   ]
  },
  {
   "cell_type": "markdown",
   "metadata": {},
   "source": [
    "Now that we have all our variables together, we should see some statistics. For starters, the pollutants should be correlated to our pIndex enough to be statistically significant. Let's see if this is the case: "
   ]
  },
  {
   "cell_type": "code",
   "execution_count": 42,
   "metadata": {},
   "outputs": [],
   "source": [
    "def pearson_correlations(df, center):\n",
    "    df_corr = df.corr()\n",
    "    col = df_corr.loc[:, center]\n",
    "    #col = col.dropna()\n",
    "    psn_pval = np.zeros((len(col), 3), dtype = object)\n",
    "    \n",
    "    for i, variable in enumerate(col.keys()):\n",
    "        psn_pval[i, 0] = variable\n",
    "        psn_pval[i, 1], psn_pval[i, 2] = stats.pearsonr(df[variable], df[center])\n",
    "    \n",
    "    return psn_pval"
   ]
  },
  {
   "cell_type": "code",
   "execution_count": 43,
   "metadata": {},
   "outputs": [],
   "source": [
    "def print_correlations(array):\n",
    "    for i in range(array.shape[0]):\n",
    "        switch = False\n",
    "        variable = array[i, 0]\n",
    "        coef = array[i, 1]\n",
    "        pval = array[i, 2]\n",
    "        if ((coef >= 0.7) | (coef <= -0.7)):\n",
    "            word = ' strong'\n",
    "            switch = True\n",
    "        elif ((coef >= 0.5) | (coef <= -0.5)):\n",
    "            word = 'moderate'\n",
    "            switch = True\n",
    "        elif ((coef >= 0.3) | (coef <= -0.3)):\n",
    "            word = '  weak'\n",
    "            switch = True\n",
    "        if switch:\n",
    "            print('%+20s --> %+5.2f | %-8s | p value = %6.4f' % (variable, coef, word, pval))"
   ]
  },
  {
   "cell_type": "code",
   "execution_count": 44,
   "metadata": {},
   "outputs": [
    {
     "name": "stdout",
     "output_type": "stream",
     "text": [
      "              pIndex --> +1.00 |  strong  | p value = 0.0000\n",
      "                  CO --> +0.74 |  strong  | p value = 0.0000\n",
      "                 NO2 --> +0.49 |   weak   | p value = 0.0116\n",
      "                  O3 --> -0.57 | moderate | p value = 0.0022\n",
      "                 SO2 --> +0.35 |   weak   | p value = 0.0777\n",
      "                PM10 --> +0.84 |  strong  | p value = 0.0000\n",
      "                PM25 --> +0.88 |  strong  | p value = 0.0000\n"
     ]
    }
   ],
   "source": [
    "print_correlations(pearson_correlations(cdmx_n[['pIndex'] + molecules], 'pIndex'))"
   ]
  },
  {
   "cell_type": "markdown",
   "metadata": {},
   "source": [
    "The only pollutant which we cannot affirm is statistically correlated to our pIndex is SO2, but then again, the P value is not that large. We can let it slide, because the (possible) correlation is the weakest of all, anyway. The numbers that really stand out here are the correlation coefficient and p value of O3. Since O3 is a pollutant, it is expected that it would correlate positively with pIndex - it was even used in the calculation of pIndex. But we must not forget that correlation does not equal causation. There are many complex interactions between chemical species. For example, a quick review of available literature states that O3 can be obtained as a direct product of photolysis of NO2 (sillman, 1999): sunlight breaks NO2 into NO + O, and then O rapidly bounds to O2 to produce O3. NO2, in turn, can also be produced from NO and O3, which counters the other reaction, but sometimes this balance can break, for different reasons. If this is the case for GMX, then we should see a negative correlation between NO2 and O3 in our data: \n"
   ]
  },
  {
   "cell_type": "code",
   "execution_count": 45,
   "metadata": {},
   "outputs": [
    {
     "name": "stdout",
     "output_type": "stream",
     "text": [
      "                  CO --> -0.57 | moderate | p value = 0.0025\n",
      "                 NO2 --> -0.44 |   weak   | p value = 0.0231\n",
      "                  O3 --> +1.00 |  strong  | p value = 0.0000\n",
      "                PM10 --> -0.50 |   weak   | p value = 0.0096\n",
      "                PM25 --> -0.49 |   weak   | p value = 0.0104\n"
     ]
    }
   ],
   "source": [
    "print_correlations(pearson_correlations(cdmx_n[molecules], 'O3'))"
   ]
  },
  {
   "cell_type": "markdown",
   "metadata": {},
   "source": [
    "Excellent! It's statistically significant, even. We already made some progress. We also see that O3 has a negative correlation to every pollutant, except for SO2, for which no correlation exists. This could mean that, aside from chemical competition between pollutants, there could also be some underlying mechanism, much like a see-saw, with O3 in one end and CO, NO2, PM10 and PM25 on the other end.\n",
    "\n",
    "Now, let's see the correlation between pIndex and the venues, for GMX as a whole:"
   ]
  },
  {
   "cell_type": "code",
   "execution_count": 46,
   "metadata": {},
   "outputs": [
    {
     "name": "stdout",
     "output_type": "stream",
     "text": [
      "              pIndex --> +1.00 |  strong  | p value = 0.0000\n",
      "            Altitude --> -0.62 | moderate | p value = 0.0007\n",
      " Buildings & Offices --> -0.30 |   weak   | p value = 0.1325\n",
      "    Hotels & Hostels --> +0.41 |   weak   | p value = 0.0367\n",
      "       Gyms & Sports --> -0.37 |   weak   | p value = 0.0612\n",
      "          Industrial --> +0.39 |   weak   | p value = 0.0520\n"
     ]
    }
   ],
   "source": [
    "print_correlations(pearson_correlations(cdmx_n.drop(columns = molecules), 'pIndex'))"
   ]
  },
  {
   "cell_type": "markdown",
   "metadata": {},
   "source": [
    "It seems that, for the data available, altitude has the highest influence over pIndex. Normally, altitude should have a positive correlation with pIndex. However, that would only be the case if we were looking at data from lower altitudes, too: the effects that we are analyzing are local, not global. Thus, <i>inside</i> GMX, the lower you go, the more polluted it is, since GMX is, for the most part, a basin surrounded by mountains, and wind has a hard time dragging pollutants out of it. Thus, altitude <i>locally</i> correlates negatively to pollution.\n",
    "\n",
    "\n",
    "Since altitude is by far the most correlated variable to pIndex, <b> We will choose altitude, and pIndex, as our two clustering variables.</b> This will account for differences in altitude in our next correlation analyses."
   ]
  },
  {
   "cell_type": "markdown",
   "metadata": {},
   "source": [
    "<hr>\n",
    "<h1 align='center'> 3. Clustering </h1> <a name=\"methodology_clustering\"></a>\n",
    "<hr>"
   ]
  },
  {
   "cell_type": "markdown",
   "metadata": {},
   "source": [
    "Now let's cluster. We're going to use kmeans for this, and do a grid search to find the optimum number of clusters; but first, out of curiosity, let's see what happens if we cluster using all variables instead of just altitude and pIndex:"
   ]
  },
  {
   "cell_type": "code",
   "execution_count": 47,
   "metadata": {},
   "outputs": [
    {
     "data": {
      "text/plain": [
       "(Text(0,0.5,'Silhouetter Score'), Text(0.5,1,'Silhouetter Score Curve'))"
      ]
     },
     "execution_count": 47,
     "metadata": {},
     "output_type": "execute_result"
    },
    {
     "data": {
      "image/png": "[encoded data removed]",
      "text/plain": [
       "<matplotlib.figure.Figure at 0x7fd7bdc139b0>"
      ]
     },
     "metadata": {
      "needs_background": "light"
     },
     "output_type": "display_data"
    }
   ],
   "source": [
    "sil = []\n",
    "inertia = []\n",
    "for k in range(2,15):\n",
    "    km = KMeans(n_clusters=k, random_state = 0).fit(cdmx_n) \n",
    "    y_pred = km.predict(cdmx_n)\n",
    "    inertia.append((k, km.inertia_))\n",
    "    sil.append((k, metrics.silhouette_score(cdmx_n, y_pred)))\n",
    "fig, ax = plt.subplots(1,2, figsize=(12,4))# Plotting Elbow Curve\n",
    "x_iner = [x[0] for x in inertia]\n",
    "y_iner  = [x[1] for x in inertia]\n",
    "ax[0].plot(x_iner, y_iner)\n",
    "ax[0].set_xlabel('Number of Clusters')\n",
    "ax[0].set_ylabel('Intertia')\n",
    "ax[0].set_title('Elbow Curve')# Plotting Silhouetter Score\n",
    "x_sil = [x[0] for x in sil]\n",
    "y_sil  = [x[1] for x in sil]\n",
    "ax[1].plot(x_sil, y_sil), ax[1].set_xlabel('Number of Clusters')\n",
    "ax[1].set_ylabel('Silhouetter Score'), ax[1].set_title('Silhouetter Score Curve')"
   ]
  },
  {
   "cell_type": "markdown",
   "metadata": {},
   "source": [
    "Our silhouette scores are too low (meaning that clusters are too close to one another), and the elbow isn't very defined. Using only altitude and pIndex, we get:"
   ]
  },
  {
   "cell_type": "code",
   "execution_count": 48,
   "metadata": {},
   "outputs": [
    {
     "data": {
      "text/plain": [
       "Text(0.5,1,'Silhouetter Score Curve')"
      ]
     },
     "execution_count": 48,
     "metadata": {},
     "output_type": "execute_result"
    },
    {
     "data": {
      "image/png": "[encoded data removed]",
      "text/plain": [
       "<matplotlib.figure.Figure at 0x7fd7bdbb7fd0>"
      ]
     },
     "metadata": {
      "needs_background": "light"
     },
     "output_type": "display_data"
    }
   ],
   "source": [
    "sil = []\n",
    "inertia = []\n",
    "\n",
    "subset = ['pIndex', 'Altitude']\n",
    "\n",
    "for k in range(2,21):\n",
    "    km = KMeans(n_clusters=k, random_state = 0)\n",
    "    km.fit(cdmx_n[subset]) \n",
    "    y_pred = km.predict(cdmx_n[subset])\n",
    "    inertia.append((k, km.inertia_))\n",
    "    sil.append((k, metrics.silhouette_score(cdmx_n[subset], y_pred)))\n",
    "fig, ax = plt.subplots(1,2, figsize=(12,4))# Plotting Elbow Curve\n",
    "x_iner = [x[0] for x in inertia]\n",
    "y_iner  = [x[1] for x in inertia]\n",
    "ax[0].plot(x_iner, y_iner)\n",
    "ax[0].set_xlabel('Number of Clusters')\n",
    "ax[0].set_ylabel('Intertia')\n",
    "ax[0].set_title('Elbow Curve') # Plotting Silhouetter Score\n",
    "x_sil = [x[0] for x in sil]\n",
    "y_sil  = [x[1] for x in sil]\n",
    "ax[1].plot(x_sil, y_sil)\n",
    "ax[1].set_xlabel('Number of Clusters')\n",
    "ax[1].set_ylabel('Silhouetter Score')\n",
    "ax[1].set_title('Silhouetter Score Curve')"
   ]
  },
  {
   "cell_type": "markdown",
   "metadata": {},
   "source": [
    "This is better! After clustering, we can analyze which variables have an effect on pIndex and which don't. Here, we will use 4 clusters, since the elbow at 2  clusters is too high in its graph; also, 5 clusters leave us with 2 samples in one of the clusters, and that's not enough to determine correlations."
   ]
  },
  {
   "cell_type": "markdown",
   "metadata": {},
   "source": [
    "### Analysis: kmeans clustering with 4 clusters and subset 'pIndex', 'Altitude':"
   ]
  },
  {
   "cell_type": "code",
   "execution_count": 49,
   "metadata": {},
   "outputs": [
    {
     "name": "stdout",
     "output_type": "stream",
     "text": [
      "(array([0, 1, 2, 3], dtype=int32), array([ 8, 11,  3,  4]))\n"
     ]
    }
   ],
   "source": [
    "x = cdmx_n[subset]\n",
    "kmeans = KMeans(n_clusters = 4, random_state=0).fit(x)\n",
    "print(np.unique(kmeans.labels_, return_counts=True))"
   ]
  },
  {
   "cell_type": "markdown",
   "metadata": {},
   "source": [
    "We have four clusters. One of them has 3 elements, and other has 4. Drawing conclusions from such small sample sizes using correlation analysis will prove difficult and dangerous, but we're going to try anyway. Worst case scenario, our correlations make no sense, and we conclude that this is not the correct method to study this particular case; best case scenario, our correlations make a lot of sense, and we're able to explain them. Either way, results are results. Let's carry on and see our clusters:"
   ]
  },
  {
   "cell_type": "code",
   "execution_count": 50,
   "metadata": {},
   "outputs": [
    {
     "data": {
      "text/html": [
       "<div>\n",
       "<style scoped>\n",
       "    .dataframe tbody tr th:only-of-type {\n",
       "        vertical-align: middle;\n",
       "    }\n",
       "\n",
       "    .dataframe tbody tr th {\n",
       "        vertical-align: top;\n",
       "    }\n",
       "\n",
       "    .dataframe thead th {\n",
       "        text-align: right;\n",
       "    }\n",
       "</style>\n",
       "<table border=\"1\" class=\"dataframe\">\n",
       "  <thead>\n",
       "    <tr style=\"text-align: right;\">\n",
       "      <th></th>\n",
       "      <th>Cluster</th>\n",
       "      <th>Latitude</th>\n",
       "      <th>Longitude</th>\n",
       "      <th>Altitude</th>\n",
       "    </tr>\n",
       "  </thead>\n",
       "  <tbody>\n",
       "    <tr>\n",
       "      <th>AJM</th>\n",
       "      <td>2</td>\n",
       "      <td>19.272100</td>\n",
       "      <td>-99.207658</td>\n",
       "      <td>2619</td>\n",
       "    </tr>\n",
       "    <tr>\n",
       "      <th>ATI</th>\n",
       "      <td>3</td>\n",
       "      <td>19.576963</td>\n",
       "      <td>-99.254133</td>\n",
       "      <td>2341</td>\n",
       "    </tr>\n",
       "    <tr>\n",
       "      <th>BJU</th>\n",
       "      <td>0</td>\n",
       "      <td>19.371612</td>\n",
       "      <td>-99.158969</td>\n",
       "      <td>2250</td>\n",
       "    </tr>\n",
       "    <tr>\n",
       "      <th>CCA</th>\n",
       "      <td>3</td>\n",
       "      <td>19.326200</td>\n",
       "      <td>-99.176100</td>\n",
       "      <td>2280</td>\n",
       "    </tr>\n",
       "    <tr>\n",
       "      <th>CHO</th>\n",
       "      <td>1</td>\n",
       "      <td>19.266948</td>\n",
       "      <td>-98.886088</td>\n",
       "      <td>2253</td>\n",
       "    </tr>\n",
       "  </tbody>\n",
       "</table>\n",
       "</div>"
      ],
      "text/plain": [
       "     Cluster   Latitude  Longitude  Altitude\n",
       "AJM        2  19.272100 -99.207658      2619\n",
       "ATI        3  19.576963 -99.254133      2341\n",
       "BJU        0  19.371612 -99.158969      2250\n",
       "CCA        3  19.326200 -99.176100      2280\n",
       "CHO        1  19.266948 -98.886088      2253"
      ]
     },
     "execution_count": 50,
     "metadata": {},
     "output_type": "execute_result"
    }
   ],
   "source": [
    "cluster_map = deleg.copy()\n",
    "cluster_cdmx_n = x.copy()\n",
    "\n",
    "#Add clusters to cluster_map, to cluster_cdmx, and cluster_cdmx_n\n",
    "if not ('Cluster' in cluster_map.columns):\n",
    "    cluster_map.insert(0, 'Cluster', kmeans.labels_)\n",
    "if not ('Cluster' in cluster_cdmx_n.columns):\n",
    "    cluster_cdmx_n.insert(0, 'Cluster', kmeans.labels_)\n",
    "\n",
    "cluster_map.head()"
   ]
  },
  {
   "cell_type": "code",
   "execution_count": 51,
   "metadata": {},
   "outputs": [
    {
     "data": {
      "text/html": [
       "<div style=\"width:100%;\"><div style=\"position:relative;width:100%;height:0;padding-bottom:60%;\"><iframe src=\"data:text/html;charset=utf-8;base64,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\" style=\"position:absolute;width:100%;height:100%;left:0;top:0;border:none !important;\" allowfullscreen webkitallowfullscreen mozallowfullscreen></iframe></div></div>"
      ],
      "text/plain": [
       "<folium.folium.Map at 0x7fd7bdb43b70>"
      ]
     },
     "execution_count": 51,
     "metadata": {},
     "output_type": "execute_result"
    }
   ],
   "source": [
    "# set color scheme for the clusters\n",
    "colors_array = ['#ff3300', 'orange', '#00cc00', '#3366ff']\n",
    "\n",
    "# create map\n",
    "map_clusters = folium.Map(location=[latitude, longitude], zoom_start=10)\n",
    "\n",
    "# add markers to the map\n",
    "markers_colors = []\n",
    "for lat, lon, poi, cluster in zip(cluster_map['Latitude'], cluster_map['Longitude'], cluster_map.index, cluster_map['Cluster']):\n",
    "    label = folium.Popup(str(poi) + ' Cluster ' + str(cluster), parse_html=True)\n",
    "    folium.CircleMarker(\n",
    "        [lat, lon],\n",
    "        radius=5,\n",
    "        popup=label,\n",
    "        color= colors_array[cluster],\n",
    "        fill=True,\n",
    "        fill_color= colors_array[cluster],\n",
    "        fill_opacity=0.8).add_to(map_clusters)\n",
    "       \n",
    "map_clusters"
   ]
  },
  {
   "cell_type": "markdown",
   "metadata": {},
   "source": [
    "Beautiful. "
   ]
  },
  {
   "cell_type": "markdown",
   "metadata": {},
   "source": [
    "<hr>\n",
    "<h1 align='center'> 4. Results and discussion <h1> <a name=\"results\"></a>\n",
    "<hr>"
   ]
  },
  {
   "cell_type": "markdown",
   "metadata": {},
   "source": [
    "We shall now examine our clusters, first visually, and then statistically."
   ]
  },
  {
   "cell_type": "code",
   "execution_count": 52,
   "metadata": {},
   "outputs": [],
   "source": [
    "clusters = len(np.unique(kmeans.labels_))\n",
    "c = np.zeros(clusters, dtype = object) # define array of clusters\n",
    "\n",
    "for i in range(clusters):\n",
    "    c[i] = cdmx_n.loc[cluster_cdmx_n['Cluster'] == i, :]"
   ]
  },
  {
   "cell_type": "code",
   "execution_count": 53,
   "metadata": {},
   "outputs": [],
   "source": [
    "pd.set_option('display.max_columns', None)\n",
    "global_columns = cdmx_n.columns"
   ]
  },
  {
   "cell_type": "code",
   "execution_count": 54,
   "metadata": {
    "jupyter": {
     "source_hidden": true
    }
   },
   "outputs": [],
   "source": [
    "def color_map(df, row_labels, col_labels):\n",
    "    df = df.T\n",
    "    fig, ax = plt.subplots()\n",
    "    im = ax.pcolor(df, cmap='RdBu')\n",
    "\n",
    "    #move ticks and labels to the center\n",
    "    ax.set_xticks(np.arange(df.shape[1]) + 0.5, minor=False)\n",
    "    ax.set_yticks(np.arange(df.shape[0]) + 0.5, minor=False)\n",
    "\n",
    "    #insert labels\n",
    "    ax.set_xticklabels(row_labels, minor=False)\n",
    "    ax.set_yticklabels(col_labels, minor=False)\n",
    "\n",
    "    #rotate label if too long\n",
    "    plt.xticks(rotation=90)\n",
    "\n",
    "    fig.set_size_inches(7, 5.5)\n",
    "    fig.colorbar(im)\n",
    "    plt.show()"
   ]
  },
  {
   "cell_type": "code",
   "execution_count": 55,
   "metadata": {
    "jupyter": {
     "source_hidden": true
    }
   },
   "outputs": [],
   "source": [
    "#This function generates a correlation matrix. It also multiplies \n",
    "#the correlation coefficients by a factor of their respective\n",
    "#p values. This generates a weighted correlation matrix which\n",
    "#hides or weakens the effect of any correlation coefficient with\n",
    "#a p value higher than 0.05.\n",
    "\n",
    "def correlation_matrix_dataframe(df, switch):\n",
    "    length = len(df.columns)\n",
    "    cmatrix = np.zeros((length, length))\n",
    "    \n",
    "    for i, row in enumerate(df.columns):\n",
    "        correlations = pearson_correlations(df, row)\n",
    "        for j in range(i + 1, len(correlations)):\n",
    "            coefficient = correlations[j, 1]\n",
    "            p_value = correlations[j, 2]\n",
    "            \n",
    "            if (p_value > 0.05) & (switch):\n",
    "                p_factor = 1./(10 + p_value - 0.05) # masking high p-valued correlations\n",
    "            else:\n",
    "                p_factor = 1.\n",
    "            \n",
    "            cmatrix[i, j] = coefficient * p_factor\n",
    "            cmatrix[j, i] = coefficient * p_factor\n",
    "\n",
    "    np.fill_diagonal(cmatrix, 1.0)\n",
    "    \n",
    "    return cmatrix"
   ]
  },
  {
   "cell_type": "markdown",
   "metadata": {},
   "source": [
    "### Cluster 0 "
   ]
  },
  {
   "cell_type": "code",
   "execution_count": 56,
   "metadata": {},
   "outputs": [
    {
     "data": {
      "text/html": [
       "<div>\n",
       "<style scoped>\n",
       "    .dataframe tbody tr th:only-of-type {\n",
       "        vertical-align: middle;\n",
       "    }\n",
       "\n",
       "    .dataframe tbody tr th {\n",
       "        vertical-align: top;\n",
       "    }\n",
       "\n",
       "    .dataframe thead th {\n",
       "        text-align: right;\n",
       "    }\n",
       "</style>\n",
       "<table border=\"1\" class=\"dataframe\">\n",
       "  <thead>\n",
       "    <tr style=\"text-align: right;\">\n",
       "      <th></th>\n",
       "      <th>pIndex</th>\n",
       "      <th>CO</th>\n",
       "      <th>NO2</th>\n",
       "      <th>O3</th>\n",
       "      <th>SO2</th>\n",
       "      <th>PM10</th>\n",
       "      <th>PM25</th>\n",
       "      <th>Altitude</th>\n",
       "      <th>Stores</th>\n",
       "      <th>Restaurants &amp; Bars</th>\n",
       "      <th>Medical</th>\n",
       "      <th>Buildings &amp; Offices</th>\n",
       "      <th>Hotels &amp; Hostels</th>\n",
       "      <th>Museums &amp; Galleries</th>\n",
       "      <th>Plazas</th>\n",
       "      <th>Farms</th>\n",
       "      <th>Parks &amp; Forests</th>\n",
       "      <th>Schools</th>\n",
       "      <th>Gyms &amp; Sports</th>\n",
       "      <th>Stadiums &amp; Theaters</th>\n",
       "      <th>Bus Stations</th>\n",
       "      <th>Sports Fields</th>\n",
       "      <th>Industrial</th>\n",
       "    </tr>\n",
       "  </thead>\n",
       "  <tbody>\n",
       "    <tr>\n",
       "      <th>BJU</th>\n",
       "      <td>0.847470</td>\n",
       "      <td>0.256198</td>\n",
       "      <td>0.040641</td>\n",
       "      <td>0.113862</td>\n",
       "      <td>0.044154</td>\n",
       "      <td>0.496257</td>\n",
       "      <td>0.994511</td>\n",
       "      <td>0.165441</td>\n",
       "      <td>1.000000</td>\n",
       "      <td>0.700000</td>\n",
       "      <td>0.0</td>\n",
       "      <td>0.6</td>\n",
       "      <td>1.0</td>\n",
       "      <td>0.181818</td>\n",
       "      <td>0.0</td>\n",
       "      <td>0.0</td>\n",
       "      <td>0.666667</td>\n",
       "      <td>0.0</td>\n",
       "      <td>0.866667</td>\n",
       "      <td>1.000</td>\n",
       "      <td>0.0</td>\n",
       "      <td>0.266667</td>\n",
       "      <td>0.0</td>\n",
       "    </tr>\n",
       "    <tr>\n",
       "      <th>CUT</th>\n",
       "      <td>0.706593</td>\n",
       "      <td>0.351886</td>\n",
       "      <td>0.021723</td>\n",
       "      <td>0.106789</td>\n",
       "      <td>0.025036</td>\n",
       "      <td>0.379847</td>\n",
       "      <td>0.979027</td>\n",
       "      <td>0.189338</td>\n",
       "      <td>0.069767</td>\n",
       "      <td>0.083333</td>\n",
       "      <td>0.0</td>\n",
       "      <td>0.2</td>\n",
       "      <td>1.0</td>\n",
       "      <td>0.000000</td>\n",
       "      <td>1.0</td>\n",
       "      <td>0.0</td>\n",
       "      <td>0.333333</td>\n",
       "      <td>0.0</td>\n",
       "      <td>0.000000</td>\n",
       "      <td>0.375</td>\n",
       "      <td>0.5</td>\n",
       "      <td>1.000000</td>\n",
       "      <td>0.0</td>\n",
       "    </tr>\n",
       "    <tr>\n",
       "      <th>LPR</th>\n",
       "      <td>0.741839</td>\n",
       "      <td>0.440067</td>\n",
       "      <td>0.028166</td>\n",
       "      <td>0.109363</td>\n",
       "      <td>0.011614</td>\n",
       "      <td>0.337304</td>\n",
       "      <td>0.958139</td>\n",
       "      <td>0.261029</td>\n",
       "      <td>0.209302</td>\n",
       "      <td>0.016667</td>\n",
       "      <td>0.0</td>\n",
       "      <td>0.0</td>\n",
       "      <td>0.0</td>\n",
       "      <td>0.000000</td>\n",
       "      <td>0.0</td>\n",
       "      <td>0.0</td>\n",
       "      <td>0.500000</td>\n",
       "      <td>0.0</td>\n",
       "      <td>0.133333</td>\n",
       "      <td>0.250</td>\n",
       "      <td>0.0</td>\n",
       "      <td>0.000000</td>\n",
       "      <td>0.0</td>\n",
       "    </tr>\n",
       "    <tr>\n",
       "      <th>MER</th>\n",
       "      <td>0.622147</td>\n",
       "      <td>0.290442</td>\n",
       "      <td>0.042524</td>\n",
       "      <td>0.107401</td>\n",
       "      <td>0.023314</td>\n",
       "      <td>0.385396</td>\n",
       "      <td>0.966489</td>\n",
       "      <td>0.156250</td>\n",
       "      <td>0.581395</td>\n",
       "      <td>0.666667</td>\n",
       "      <td>0.0</td>\n",
       "      <td>0.0</td>\n",
       "      <td>0.0</td>\n",
       "      <td>1.000000</td>\n",
       "      <td>1.0</td>\n",
       "      <td>0.0</td>\n",
       "      <td>0.500000</td>\n",
       "      <td>0.5</td>\n",
       "      <td>0.266667</td>\n",
       "      <td>0.125</td>\n",
       "      <td>0.5</td>\n",
       "      <td>0.066667</td>\n",
       "      <td>0.0</td>\n",
       "    </tr>\n",
       "    <tr>\n",
       "      <th>SAG</th>\n",
       "      <td>0.645533</td>\n",
       "      <td>0.295999</td>\n",
       "      <td>0.028343</td>\n",
       "      <td>0.093548</td>\n",
       "      <td>0.012488</td>\n",
       "      <td>0.429552</td>\n",
       "      <td>0.969134</td>\n",
       "      <td>0.148897</td>\n",
       "      <td>0.139535</td>\n",
       "      <td>0.333333</td>\n",
       "      <td>0.0</td>\n",
       "      <td>0.0</td>\n",
       "      <td>0.0</td>\n",
       "      <td>0.000000</td>\n",
       "      <td>0.0</td>\n",
       "      <td>0.0</td>\n",
       "      <td>0.000000</td>\n",
       "      <td>0.0</td>\n",
       "      <td>0.266667</td>\n",
       "      <td>0.000</td>\n",
       "      <td>0.0</td>\n",
       "      <td>0.000000</td>\n",
       "      <td>0.0</td>\n",
       "    </tr>\n",
       "    <tr>\n",
       "      <th>TLA</th>\n",
       "      <td>0.616621</td>\n",
       "      <td>0.317312</td>\n",
       "      <td>0.038944</td>\n",
       "      <td>0.090505</td>\n",
       "      <td>0.036439</td>\n",
       "      <td>0.369252</td>\n",
       "      <td>0.959923</td>\n",
       "      <td>0.277574</td>\n",
       "      <td>0.418605</td>\n",
       "      <td>1.000000</td>\n",
       "      <td>0.0</td>\n",
       "      <td>0.2</td>\n",
       "      <td>1.0</td>\n",
       "      <td>0.000000</td>\n",
       "      <td>0.0</td>\n",
       "      <td>0.0</td>\n",
       "      <td>0.166667</td>\n",
       "      <td>0.0</td>\n",
       "      <td>0.266667</td>\n",
       "      <td>0.250</td>\n",
       "      <td>0.5</td>\n",
       "      <td>0.000000</td>\n",
       "      <td>0.0</td>\n",
       "    </tr>\n",
       "    <tr>\n",
       "      <th>VIF</th>\n",
       "      <td>0.607153</td>\n",
       "      <td>0.227209</td>\n",
       "      <td>0.022628</td>\n",
       "      <td>0.089884</td>\n",
       "      <td>0.034898</td>\n",
       "      <td>0.458350</td>\n",
       "      <td>0.973940</td>\n",
       "      <td>0.150735</td>\n",
       "      <td>0.069767</td>\n",
       "      <td>0.233333</td>\n",
       "      <td>0.0</td>\n",
       "      <td>0.0</td>\n",
       "      <td>0.0</td>\n",
       "      <td>0.000000</td>\n",
       "      <td>0.0</td>\n",
       "      <td>0.0</td>\n",
       "      <td>0.000000</td>\n",
       "      <td>0.0</td>\n",
       "      <td>0.000000</td>\n",
       "      <td>0.125</td>\n",
       "      <td>0.0</td>\n",
       "      <td>0.066667</td>\n",
       "      <td>0.0</td>\n",
       "    </tr>\n",
       "    <tr>\n",
       "      <th>XAL</th>\n",
       "      <td>1.000000</td>\n",
       "      <td>0.370503</td>\n",
       "      <td>0.040105</td>\n",
       "      <td>0.081705</td>\n",
       "      <td>0.021105</td>\n",
       "      <td>0.520247</td>\n",
       "      <td>1.000000</td>\n",
       "      <td>0.000000</td>\n",
       "      <td>0.162791</td>\n",
       "      <td>0.083333</td>\n",
       "      <td>0.0</td>\n",
       "      <td>0.0</td>\n",
       "      <td>0.0</td>\n",
       "      <td>0.090909</td>\n",
       "      <td>0.0</td>\n",
       "      <td>0.0</td>\n",
       "      <td>0.500000</td>\n",
       "      <td>0.0</td>\n",
       "      <td>0.133333</td>\n",
       "      <td>0.000</td>\n",
       "      <td>0.0</td>\n",
       "      <td>0.000000</td>\n",
       "      <td>1.0</td>\n",
       "    </tr>\n",
       "  </tbody>\n",
       "</table>\n",
       "</div>"
      ],
      "text/plain": [
       "       pIndex        CO       NO2        O3       SO2      PM10      PM25  \\\n",
       "BJU  0.847470  0.256198  0.040641  0.113862  0.044154  0.496257  0.994511   \n",
       "CUT  0.706593  0.351886  0.021723  0.106789  0.025036  0.379847  0.979027   \n",
       "LPR  0.741839  0.440067  0.028166  0.109363  0.011614  0.337304  0.958139   \n",
       "MER  0.622147  0.290442  0.042524  0.107401  0.023314  0.385396  0.966489   \n",
       "SAG  0.645533  0.295999  0.028343  0.093548  0.012488  0.429552  0.969134   \n",
       "TLA  0.616621  0.317312  0.038944  0.090505  0.036439  0.369252  0.959923   \n",
       "VIF  0.607153  0.227209  0.022628  0.089884  0.034898  0.458350  0.973940   \n",
       "XAL  1.000000  0.370503  0.040105  0.081705  0.021105  0.520247  1.000000   \n",
       "\n",
       "     Altitude    Stores  Restaurants & Bars  Medical  Buildings & Offices  \\\n",
       "BJU  0.165441  1.000000            0.700000      0.0                  0.6   \n",
       "CUT  0.189338  0.069767            0.083333      0.0                  0.2   \n",
       "LPR  0.261029  0.209302            0.016667      0.0                  0.0   \n",
       "MER  0.156250  0.581395            0.666667      0.0                  0.0   \n",
       "SAG  0.148897  0.139535            0.333333      0.0                  0.0   \n",
       "TLA  0.277574  0.418605            1.000000      0.0                  0.2   \n",
       "VIF  0.150735  0.069767            0.233333      0.0                  0.0   \n",
       "XAL  0.000000  0.162791            0.083333      0.0                  0.0   \n",
       "\n",
       "     Hotels & Hostels  Museums & Galleries  Plazas  Farms  Parks & Forests  \\\n",
       "BJU               1.0             0.181818     0.0    0.0         0.666667   \n",
       "CUT               1.0             0.000000     1.0    0.0         0.333333   \n",
       "LPR               0.0             0.000000     0.0    0.0         0.500000   \n",
       "MER               0.0             1.000000     1.0    0.0         0.500000   \n",
       "SAG               0.0             0.000000     0.0    0.0         0.000000   \n",
       "TLA               1.0             0.000000     0.0    0.0         0.166667   \n",
       "VIF               0.0             0.000000     0.0    0.0         0.000000   \n",
       "XAL               0.0             0.090909     0.0    0.0         0.500000   \n",
       "\n",
       "     Schools  Gyms & Sports  Stadiums & Theaters  Bus Stations  Sports Fields  \\\n",
       "BJU      0.0       0.866667                1.000           0.0       0.266667   \n",
       "CUT      0.0       0.000000                0.375           0.5       1.000000   \n",
       "LPR      0.0       0.133333                0.250           0.0       0.000000   \n",
       "MER      0.5       0.266667                0.125           0.5       0.066667   \n",
       "SAG      0.0       0.266667                0.000           0.0       0.000000   \n",
       "TLA      0.0       0.266667                0.250           0.5       0.000000   \n",
       "VIF      0.0       0.000000                0.125           0.0       0.066667   \n",
       "XAL      0.0       0.133333                0.000           0.0       0.000000   \n",
       "\n",
       "     Industrial  \n",
       "BJU         0.0  \n",
       "CUT         0.0  \n",
       "LPR         0.0  \n",
       "MER         0.0  \n",
       "SAG         0.0  \n",
       "TLA         0.0  \n",
       "VIF         0.0  \n",
       "XAL         1.0  "
      ]
     },
     "execution_count": 56,
     "metadata": {},
     "output_type": "execute_result"
    }
   ],
   "source": [
    "c[0]"
   ]
  },
  {
   "cell_type": "markdown",
   "metadata": {},
   "source": [
    "These stations report the highest pollution. Understandably, the industrial category has a very strong, positive influence on pollution here, as the only station with a factory nearby has the highest pIndex out of all the stations in the dataset; however, we have to consider that this is one of the caveats of using extremely small sized sets of samples: every individual sample will have an enormous effect on whatever statistics we derive. Before we're content with our confirmation that industries pollute, we should see every correlation in our cluster. "
   ]
  },
  {
   "cell_type": "code",
   "execution_count": 57,
   "metadata": {},
   "outputs": [
    {
     "name": "stderr",
     "output_type": "stream",
     "text": [
      "/usr/local/lib/python3.6/dist-packages/scipy/stats/stats.py:3010: RuntimeWarning: invalid value encountered in double_scalars\n",
      "  r = r_num / r_den\n"
     ]
    },
    {
     "data": {
      "image/png": "[encoded data removed]",
      "text/plain": [
       "<matplotlib.figure.Figure at 0x7fd7bdb67c18>"
      ]
     },
     "metadata": {
      "needs_background": "light"
     },
     "output_type": "display_data"
    }
   ],
   "source": [
    "color_map(correlation_matrix_dataframe(c[0], True), c[0].columns, global_columns)"
   ]
  },
  {
   "cell_type": "markdown",
   "metadata": {},
   "source": [
    "The Industrial variable has a strong, negative correlation to altitude, and altitude has strong, negative correlations with PM25 and PM10; PM25 has a strong, positive correlation to pIndex. We can conclude that the Industrial variable is indeed strongly correlated to pIndex, but not by causation, but by association, since a low altitude, in this particular case, is associated both with the presence of a soap factory and PM25, which is strongly correlated to pIndex. If we had more than one instance of the Industrial variable in this cluster, we could analyze this further. Other than that, there are no other venue types that can be correlated to pIndex. "
   ]
  },
  {
   "cell_type": "code",
   "execution_count": 58,
   "metadata": {},
   "outputs": [
    {
     "name": "stderr",
     "output_type": "stream",
     "text": [
      "/usr/local/lib/python3.6/dist-packages/scipy/stats/stats.py:1713: FutureWarning: Using a non-tuple sequence for multidimensional indexing is deprecated; use `arr[tuple(seq)]` instead of `arr[seq]`. In the future this will be interpreted as an array index, `arr[np.array(seq)]`, which will result either in an error or a different result.\n",
      "  return np.add.reduce(sorted[indexer] * weights, axis=axis) / sumval\n"
     ]
    },
    {
     "data": {
      "text/plain": [
       "<matplotlib.axes._subplots.AxesSubplot at 0x7fd7c0c9fb70>"
      ]
     },
     "execution_count": 58,
     "metadata": {},
     "output_type": "execute_result"
    },
    {
     "data": {
      "image/png": "[encoded data removed]",
      "text/plain": [
       "<matplotlib.figure.Figure at 0x7fd7bdc6c668>"
      ]
     },
     "metadata": {
      "needs_background": "light"
     },
     "output_type": "display_data"
    }
   ],
   "source": [
    "y = 'PM25'\n",
    "x = 'Altitude'\n",
    "sns.regplot(x = x, y = y, data=c[0][[x, y]])"
   ]
  },
  {
   "cell_type": "markdown",
   "metadata": {},
   "source": [
    "x = 'Industrial'\n",
    "y = 'pIndex'\n",
    "sns.regplot(x = x, y = y, data=c[0][[x, y]])"
   ]
  },
  {
   "cell_type": "markdown",
   "metadata": {},
   "source": [
    "Almost no correlation between Industrial and pIndex."
   ]
  },
  {
   "cell_type": "markdown",
   "metadata": {},
   "source": [
    "### Cluster 1"
   ]
  },
  {
   "cell_type": "code",
   "execution_count": 59,
   "metadata": {},
   "outputs": [
    {
     "data": {
      "text/html": [
       "<div>\n",
       "<style scoped>\n",
       "    .dataframe tbody tr th:only-of-type {\n",
       "        vertical-align: middle;\n",
       "    }\n",
       "\n",
       "    .dataframe tbody tr th {\n",
       "        vertical-align: top;\n",
       "    }\n",
       "\n",
       "    .dataframe thead th {\n",
       "        text-align: right;\n",
       "    }\n",
       "</style>\n",
       "<table border=\"1\" class=\"dataframe\">\n",
       "  <thead>\n",
       "    <tr style=\"text-align: right;\">\n",
       "      <th></th>\n",
       "      <th>pIndex</th>\n",
       "      <th>CO</th>\n",
       "      <th>NO2</th>\n",
       "      <th>O3</th>\n",
       "      <th>SO2</th>\n",
       "      <th>PM10</th>\n",
       "      <th>PM25</th>\n",
       "      <th>Altitude</th>\n",
       "      <th>Stores</th>\n",
       "      <th>Restaurants &amp; Bars</th>\n",
       "      <th>Medical</th>\n",
       "      <th>Buildings &amp; Offices</th>\n",
       "      <th>Hotels &amp; Hostels</th>\n",
       "      <th>Museums &amp; Galleries</th>\n",
       "      <th>Plazas</th>\n",
       "      <th>Farms</th>\n",
       "      <th>Parks &amp; Forests</th>\n",
       "      <th>Schools</th>\n",
       "      <th>Gyms &amp; Sports</th>\n",
       "      <th>Stadiums &amp; Theaters</th>\n",
       "      <th>Bus Stations</th>\n",
       "      <th>Sports Fields</th>\n",
       "      <th>Industrial</th>\n",
       "    </tr>\n",
       "  </thead>\n",
       "  <tbody>\n",
       "    <tr>\n",
       "      <th>CHO</th>\n",
       "      <td>0.366518</td>\n",
       "      <td>0.260306</td>\n",
       "      <td>0.020351</td>\n",
       "      <td>0.096488</td>\n",
       "      <td>0.000000</td>\n",
       "      <td>0.333582</td>\n",
       "      <td>0.957288</td>\n",
       "      <td>0.170956</td>\n",
       "      <td>0.023256</td>\n",
       "      <td>0.266667</td>\n",
       "      <td>0.0</td>\n",
       "      <td>0.2</td>\n",
       "      <td>0.0</td>\n",
       "      <td>0.000000</td>\n",
       "      <td>0.0</td>\n",
       "      <td>0.0</td>\n",
       "      <td>0.000000</td>\n",
       "      <td>0.0</td>\n",
       "      <td>0.200000</td>\n",
       "      <td>0.000</td>\n",
       "      <td>0.0</td>\n",
       "      <td>0.000000</td>\n",
       "      <td>0.0</td>\n",
       "    </tr>\n",
       "    <tr>\n",
       "      <th>FAC</th>\n",
       "      <td>0.430544</td>\n",
       "      <td>0.299086</td>\n",
       "      <td>0.032952</td>\n",
       "      <td>0.119550</td>\n",
       "      <td>0.026691</td>\n",
       "      <td>0.269352</td>\n",
       "      <td>0.957341</td>\n",
       "      <td>0.255515</td>\n",
       "      <td>0.186047</td>\n",
       "      <td>0.716667</td>\n",
       "      <td>0.0</td>\n",
       "      <td>0.0</td>\n",
       "      <td>0.0</td>\n",
       "      <td>0.000000</td>\n",
       "      <td>1.0</td>\n",
       "      <td>0.0</td>\n",
       "      <td>0.666667</td>\n",
       "      <td>0.0</td>\n",
       "      <td>0.333333</td>\n",
       "      <td>0.750</td>\n",
       "      <td>0.0</td>\n",
       "      <td>0.066667</td>\n",
       "      <td>0.0</td>\n",
       "    </tr>\n",
       "    <tr>\n",
       "      <th>GAM</th>\n",
       "      <td>0.393242</td>\n",
       "      <td>0.171998</td>\n",
       "      <td>0.030883</td>\n",
       "      <td>0.126453</td>\n",
       "      <td>0.002680</td>\n",
       "      <td>0.378658</td>\n",
       "      <td>0.972767</td>\n",
       "      <td>0.123162</td>\n",
       "      <td>0.534884</td>\n",
       "      <td>0.550000</td>\n",
       "      <td>0.0</td>\n",
       "      <td>0.2</td>\n",
       "      <td>0.0</td>\n",
       "      <td>0.000000</td>\n",
       "      <td>0.0</td>\n",
       "      <td>0.0</td>\n",
       "      <td>0.000000</td>\n",
       "      <td>0.0</td>\n",
       "      <td>0.600000</td>\n",
       "      <td>0.125</td>\n",
       "      <td>0.5</td>\n",
       "      <td>0.000000</td>\n",
       "      <td>0.0</td>\n",
       "    </tr>\n",
       "    <tr>\n",
       "      <th>HGM</th>\n",
       "      <td>0.439562</td>\n",
       "      <td>0.254764</td>\n",
       "      <td>0.037537</td>\n",
       "      <td>0.113954</td>\n",
       "      <td>0.021208</td>\n",
       "      <td>0.315251</td>\n",
       "      <td>0.967460</td>\n",
       "      <td>0.136029</td>\n",
       "      <td>0.627907</td>\n",
       "      <td>0.783333</td>\n",
       "      <td>0.0</td>\n",
       "      <td>0.0</td>\n",
       "      <td>0.0</td>\n",
       "      <td>0.272727</td>\n",
       "      <td>1.0</td>\n",
       "      <td>0.0</td>\n",
       "      <td>0.000000</td>\n",
       "      <td>0.5</td>\n",
       "      <td>0.266667</td>\n",
       "      <td>0.500</td>\n",
       "      <td>0.0</td>\n",
       "      <td>0.000000</td>\n",
       "      <td>0.0</td>\n",
       "    </tr>\n",
       "    <tr>\n",
       "      <th>IZT</th>\n",
       "      <td>0.486104</td>\n",
       "      <td>0.289204</td>\n",
       "      <td>0.036225</td>\n",
       "      <td>0.108617</td>\n",
       "      <td>0.015849</td>\n",
       "      <td>0.325170</td>\n",
       "      <td>0.961974</td>\n",
       "      <td>0.143382</td>\n",
       "      <td>0.441860</td>\n",
       "      <td>0.950000</td>\n",
       "      <td>0.0</td>\n",
       "      <td>0.0</td>\n",
       "      <td>0.0</td>\n",
       "      <td>0.000000</td>\n",
       "      <td>1.0</td>\n",
       "      <td>0.0</td>\n",
       "      <td>0.000000</td>\n",
       "      <td>0.0</td>\n",
       "      <td>0.266667</td>\n",
       "      <td>0.125</td>\n",
       "      <td>0.0</td>\n",
       "      <td>0.066667</td>\n",
       "      <td>0.0</td>\n",
       "    </tr>\n",
       "    <tr>\n",
       "      <th>LLA</th>\n",
       "      <td>0.469941</td>\n",
       "      <td>0.285730</td>\n",
       "      <td>0.030699</td>\n",
       "      <td>0.098515</td>\n",
       "      <td>0.021647</td>\n",
       "      <td>0.333786</td>\n",
       "      <td>0.957334</td>\n",
       "      <td>0.128676</td>\n",
       "      <td>0.488372</td>\n",
       "      <td>0.133333</td>\n",
       "      <td>0.0</td>\n",
       "      <td>0.4</td>\n",
       "      <td>0.0</td>\n",
       "      <td>0.090909</td>\n",
       "      <td>0.0</td>\n",
       "      <td>0.0</td>\n",
       "      <td>0.000000</td>\n",
       "      <td>0.0</td>\n",
       "      <td>0.133333</td>\n",
       "      <td>0.125</td>\n",
       "      <td>0.0</td>\n",
       "      <td>0.066667</td>\n",
       "      <td>0.0</td>\n",
       "    </tr>\n",
       "    <tr>\n",
       "      <th>NEZ</th>\n",
       "      <td>0.568160</td>\n",
       "      <td>0.292895</td>\n",
       "      <td>0.028917</td>\n",
       "      <td>0.119268</td>\n",
       "      <td>0.018692</td>\n",
       "      <td>0.345143</td>\n",
       "      <td>0.979488</td>\n",
       "      <td>0.137868</td>\n",
       "      <td>0.209302</td>\n",
       "      <td>0.383333</td>\n",
       "      <td>0.0</td>\n",
       "      <td>0.0</td>\n",
       "      <td>0.0</td>\n",
       "      <td>0.000000</td>\n",
       "      <td>0.0</td>\n",
       "      <td>1.0</td>\n",
       "      <td>0.000000</td>\n",
       "      <td>0.0</td>\n",
       "      <td>0.400000</td>\n",
       "      <td>0.000</td>\n",
       "      <td>0.0</td>\n",
       "      <td>0.000000</td>\n",
       "      <td>0.0</td>\n",
       "    </tr>\n",
       "    <tr>\n",
       "      <th>TAH</th>\n",
       "      <td>0.471490</td>\n",
       "      <td>0.212784</td>\n",
       "      <td>0.015414</td>\n",
       "      <td>0.138732</td>\n",
       "      <td>0.002397</td>\n",
       "      <td>0.388521</td>\n",
       "      <td>0.970757</td>\n",
       "      <td>0.251838</td>\n",
       "      <td>0.000000</td>\n",
       "      <td>0.000000</td>\n",
       "      <td>0.0</td>\n",
       "      <td>0.0</td>\n",
       "      <td>0.0</td>\n",
       "      <td>0.000000</td>\n",
       "      <td>1.0</td>\n",
       "      <td>0.0</td>\n",
       "      <td>0.500000</td>\n",
       "      <td>0.0</td>\n",
       "      <td>0.533333</td>\n",
       "      <td>0.250</td>\n",
       "      <td>0.0</td>\n",
       "      <td>0.133333</td>\n",
       "      <td>0.0</td>\n",
       "    </tr>\n",
       "    <tr>\n",
       "      <th>TLI</th>\n",
       "      <td>0.391678</td>\n",
       "      <td>0.293454</td>\n",
       "      <td>0.032427</td>\n",
       "      <td>0.118381</td>\n",
       "      <td>0.048196</td>\n",
       "      <td>0.261401</td>\n",
       "      <td>0.928677</td>\n",
       "      <td>0.281250</td>\n",
       "      <td>0.162791</td>\n",
       "      <td>0.133333</td>\n",
       "      <td>0.0</td>\n",
       "      <td>0.2</td>\n",
       "      <td>0.0</td>\n",
       "      <td>0.000000</td>\n",
       "      <td>0.0</td>\n",
       "      <td>0.0</td>\n",
       "      <td>0.000000</td>\n",
       "      <td>0.0</td>\n",
       "      <td>0.066667</td>\n",
       "      <td>0.250</td>\n",
       "      <td>0.0</td>\n",
       "      <td>0.000000</td>\n",
       "      <td>0.5</td>\n",
       "    </tr>\n",
       "    <tr>\n",
       "      <th>UAX</th>\n",
       "      <td>0.423437</td>\n",
       "      <td>0.236550</td>\n",
       "      <td>0.022073</td>\n",
       "      <td>0.110762</td>\n",
       "      <td>0.006811</td>\n",
       "      <td>0.365995</td>\n",
       "      <td>0.958677</td>\n",
       "      <td>0.158088</td>\n",
       "      <td>0.558140</td>\n",
       "      <td>0.616667</td>\n",
       "      <td>0.0</td>\n",
       "      <td>0.6</td>\n",
       "      <td>0.0</td>\n",
       "      <td>0.000000</td>\n",
       "      <td>0.0</td>\n",
       "      <td>1.0</td>\n",
       "      <td>0.833333</td>\n",
       "      <td>0.0</td>\n",
       "      <td>0.466667</td>\n",
       "      <td>0.125</td>\n",
       "      <td>0.0</td>\n",
       "      <td>0.000000</td>\n",
       "      <td>0.0</td>\n",
       "    </tr>\n",
       "    <tr>\n",
       "      <th>UIZ</th>\n",
       "      <td>0.502548</td>\n",
       "      <td>0.271620</td>\n",
       "      <td>0.031608</td>\n",
       "      <td>0.114503</td>\n",
       "      <td>0.011488</td>\n",
       "      <td>0.349561</td>\n",
       "      <td>0.967753</td>\n",
       "      <td>0.112132</td>\n",
       "      <td>0.162791</td>\n",
       "      <td>0.733333</td>\n",
       "      <td>0.0</td>\n",
       "      <td>0.0</td>\n",
       "      <td>0.0</td>\n",
       "      <td>0.090909</td>\n",
       "      <td>0.0</td>\n",
       "      <td>1.0</td>\n",
       "      <td>0.333333</td>\n",
       "      <td>0.0</td>\n",
       "      <td>0.466667</td>\n",
       "      <td>0.000</td>\n",
       "      <td>0.0</td>\n",
       "      <td>0.000000</td>\n",
       "      <td>0.5</td>\n",
       "    </tr>\n",
       "  </tbody>\n",
       "</table>\n",
       "</div>"
      ],
      "text/plain": [
       "       pIndex        CO       NO2        O3       SO2      PM10      PM25  \\\n",
       "CHO  0.366518  0.260306  0.020351  0.096488  0.000000  0.333582  0.957288   \n",
       "FAC  0.430544  0.299086  0.032952  0.119550  0.026691  0.269352  0.957341   \n",
       "GAM  0.393242  0.171998  0.030883  0.126453  0.002680  0.378658  0.972767   \n",
       "HGM  0.439562  0.254764  0.037537  0.113954  0.021208  0.315251  0.967460   \n",
       "IZT  0.486104  0.289204  0.036225  0.108617  0.015849  0.325170  0.961974   \n",
       "LLA  0.469941  0.285730  0.030699  0.098515  0.021647  0.333786  0.957334   \n",
       "NEZ  0.568160  0.292895  0.028917  0.119268  0.018692  0.345143  0.979488   \n",
       "TAH  0.471490  0.212784  0.015414  0.138732  0.002397  0.388521  0.970757   \n",
       "TLI  0.391678  0.293454  0.032427  0.118381  0.048196  0.261401  0.928677   \n",
       "UAX  0.423437  0.236550  0.022073  0.110762  0.006811  0.365995  0.958677   \n",
       "UIZ  0.502548  0.271620  0.031608  0.114503  0.011488  0.349561  0.967753   \n",
       "\n",
       "     Altitude    Stores  Restaurants & Bars  Medical  Buildings & Offices  \\\n",
       "CHO  0.170956  0.023256            0.266667      0.0                  0.2   \n",
       "FAC  0.255515  0.186047            0.716667      0.0                  0.0   \n",
       "GAM  0.123162  0.534884            0.550000      0.0                  0.2   \n",
       "HGM  0.136029  0.627907            0.783333      0.0                  0.0   \n",
       "IZT  0.143382  0.441860            0.950000      0.0                  0.0   \n",
       "LLA  0.128676  0.488372            0.133333      0.0                  0.4   \n",
       "NEZ  0.137868  0.209302            0.383333      0.0                  0.0   \n",
       "TAH  0.251838  0.000000            0.000000      0.0                  0.0   \n",
       "TLI  0.281250  0.162791            0.133333      0.0                  0.2   \n",
       "UAX  0.158088  0.558140            0.616667      0.0                  0.6   \n",
       "UIZ  0.112132  0.162791            0.733333      0.0                  0.0   \n",
       "\n",
       "     Hotels & Hostels  Museums & Galleries  Plazas  Farms  Parks & Forests  \\\n",
       "CHO               0.0             0.000000     0.0    0.0         0.000000   \n",
       "FAC               0.0             0.000000     1.0    0.0         0.666667   \n",
       "GAM               0.0             0.000000     0.0    0.0         0.000000   \n",
       "HGM               0.0             0.272727     1.0    0.0         0.000000   \n",
       "IZT               0.0             0.000000     1.0    0.0         0.000000   \n",
       "LLA               0.0             0.090909     0.0    0.0         0.000000   \n",
       "NEZ               0.0             0.000000     0.0    1.0         0.000000   \n",
       "TAH               0.0             0.000000     1.0    0.0         0.500000   \n",
       "TLI               0.0             0.000000     0.0    0.0         0.000000   \n",
       "UAX               0.0             0.000000     0.0    1.0         0.833333   \n",
       "UIZ               0.0             0.090909     0.0    1.0         0.333333   \n",
       "\n",
       "     Schools  Gyms & Sports  Stadiums & Theaters  Bus Stations  Sports Fields  \\\n",
       "CHO      0.0       0.200000                0.000           0.0       0.000000   \n",
       "FAC      0.0       0.333333                0.750           0.0       0.066667   \n",
       "GAM      0.0       0.600000                0.125           0.5       0.000000   \n",
       "HGM      0.5       0.266667                0.500           0.0       0.000000   \n",
       "IZT      0.0       0.266667                0.125           0.0       0.066667   \n",
       "LLA      0.0       0.133333                0.125           0.0       0.066667   \n",
       "NEZ      0.0       0.400000                0.000           0.0       0.000000   \n",
       "TAH      0.0       0.533333                0.250           0.0       0.133333   \n",
       "TLI      0.0       0.066667                0.250           0.0       0.000000   \n",
       "UAX      0.0       0.466667                0.125           0.0       0.000000   \n",
       "UIZ      0.0       0.466667                0.000           0.0       0.000000   \n",
       "\n",
       "     Industrial  \n",
       "CHO         0.0  \n",
       "FAC         0.0  \n",
       "GAM         0.0  \n",
       "HGM         0.0  \n",
       "IZT         0.0  \n",
       "LLA         0.0  \n",
       "NEZ         0.0  \n",
       "TAH         0.0  \n",
       "TLI         0.5  \n",
       "UAX         0.0  \n",
       "UIZ         0.5  "
      ]
     },
     "execution_count": 59,
     "metadata": {},
     "output_type": "execute_result"
    }
   ],
   "source": [
    "c[1]"
   ]
  },
  {
   "cell_type": "markdown",
   "metadata": {},
   "source": [
    "This cluster represents the moderately polluted areas. This is an understatement, however: let's not lose sight of PM25, which is high accross every cluster, well into the \"very dangerous\" IMECA level. Let's see the correlations between variables. "
   ]
  },
  {
   "cell_type": "code",
   "execution_count": 60,
   "metadata": {},
   "outputs": [
    {
     "data": {
      "image/png": "[encoded data removed]",
      "text/plain": [
       "<matplotlib.figure.Figure at 0x7fd7c0c02390>"
      ]
     },
     "metadata": {
      "needs_background": "light"
     },
     "output_type": "display_data"
    }
   ],
   "source": [
    "color_map(correlation_matrix_dataframe(c[1], True), c[1].columns, global_columns)"
   ]
  },
  {
   "cell_type": "markdown",
   "metadata": {},
   "source": [
    "Here, we have bus stations only near the GAM station, and this seems to be negatively correlated to CO; however, this is the same case as in the Industrial variable on cluster 0. We will not trust that correlation. Fortunately, there are restaurants & bars, and gyms & sports venues near every station in this cluster, and those two variables are correlated to different pollutants (even if not directly to pIndex). We can inspect some regression plots, then:"
   ]
  },
  {
   "cell_type": "code",
   "execution_count": 61,
   "metadata": {},
   "outputs": [
    {
     "data": {
      "text/plain": [
       "<matplotlib.axes._subplots.AxesSubplot at 0x7fd7c0d85be0>"
      ]
     },
     "execution_count": 61,
     "metadata": {},
     "output_type": "execute_result"
    },
    {
     "data": {
      "image/png": "[encoded data removed]",
      "text/plain": [
       "<matplotlib.figure.Figure at 0x7fd7bdd15c18>"
      ]
     },
     "metadata": {
      "needs_background": "light"
     },
     "output_type": "display_data"
    }
   ],
   "source": [
    "x = 'Restaurants & Bars'\n",
    "y = 'NO2'\n",
    "sns.regplot(x = x, y = y, data=c[1][[x, y]])"
   ]
  },
  {
   "cell_type": "markdown",
   "metadata": {},
   "source": [
    "Even though the relationship between restaurants & bars and NO2 might not be linear (it looks like a sine wave), it's clearly positive. One source of NO2 is the combustion of fossil fuels, such as coal, gas and oil. Having many places to eat, in a place such as GMX, guarantees the existence of many taco places and burger joints. This correlation, then, could be more of a causation."
   ]
  },
  {
   "cell_type": "code",
   "execution_count": 62,
   "metadata": {},
   "outputs": [
    {
     "data": {
      "text/plain": [
       "<matplotlib.axes._subplots.AxesSubplot at 0x7fd7bd8ed748>"
      ]
     },
     "execution_count": 62,
     "metadata": {},
     "output_type": "execute_result"
    },
    {
     "data": {
      "image/png": "[encoded data removed]",
      "text/plain": [
       "<matplotlib.figure.Figure at 0x7fd7bda9bd68>"
      ]
     },
     "metadata": {
      "needs_background": "light"
     },
     "output_type": "display_data"
    }
   ],
   "source": [
    "x = 'Gyms & Sports'\n",
    "y = 'CO'\n",
    "sns.regplot(x = x, y = y, data=c[1][[x, y]])"
   ]
  },
  {
   "cell_type": "code",
   "execution_count": 63,
   "metadata": {},
   "outputs": [
    {
     "data": {
      "text/plain": [
       "<matplotlib.axes._subplots.AxesSubplot at 0x7fd7bd84c5f8>"
      ]
     },
     "execution_count": 63,
     "metadata": {},
     "output_type": "execute_result"
    },
    {
     "data": {
      "image/png": "[encoded data removed]",
      "text/plain": [
       "<matplotlib.figure.Figure at 0x7fd7c0cff5c0>"
      ]
     },
     "metadata": {
      "needs_background": "light"
     },
     "output_type": "display_data"
    }
   ],
   "source": [
    "x = 'Gyms & Sports'\n",
    "y = 'SO2'\n",
    "sns.regplot(x = x, y = y, data=c[1][[x, y]])"
   ]
  },
  {
   "cell_type": "code",
   "execution_count": 64,
   "metadata": {},
   "outputs": [
    {
     "data": {
      "text/plain": [
       "<matplotlib.axes._subplots.AxesSubplot at 0x7fd7bd8eda20>"
      ]
     },
     "execution_count": 64,
     "metadata": {},
     "output_type": "execute_result"
    },
    {
     "data": {
      "image/png": "[encoded data removed]",
      "text/plain": [
       "<matplotlib.figure.Figure at 0x7fd7bd874320>"
      ]
     },
     "metadata": {
      "needs_background": "light"
     },
     "output_type": "display_data"
    }
   ],
   "source": [
    "x = 'Gyms & Sports'\n",
    "y = 'O3'\n",
    "sns.regplot(x = x, y = y, data=c[1][[x, y]])"
   ]
  },
  {
   "cell_type": "code",
   "execution_count": 65,
   "metadata": {},
   "outputs": [
    {
     "data": {
      "text/plain": [
       "<matplotlib.axes._subplots.AxesSubplot at 0x7fd7bd7dfe80>"
      ]
     },
     "execution_count": 65,
     "metadata": {},
     "output_type": "execute_result"
    },
    {
     "data": {
      "image/png": "[encoded data removed]",
      "text/plain": [
       "<matplotlib.figure.Figure at 0x7fd7bd829c50>"
      ]
     },
     "metadata": {
      "needs_background": "light"
     },
     "output_type": "display_data"
    }
   ],
   "source": [
    "x = 'Gyms & Sports'\n",
    "y = 'PM10'\n",
    "sns.regplot(x = x, y = y, data=c[1][[x, y]])"
   ]
  },
  {
   "cell_type": "code",
   "execution_count": 66,
   "metadata": {},
   "outputs": [
    {
     "data": {
      "text/plain": [
       "<matplotlib.axes._subplots.AxesSubplot at 0x7fd7bd76a358>"
      ]
     },
     "execution_count": 66,
     "metadata": {},
     "output_type": "execute_result"
    },
    {
     "data": {
      "image/png": "[encoded data removed]",
      "text/plain": [
       "<matplotlib.figure.Figure at 0x7fd7bd762748>"
      ]
     },
     "metadata": {
      "needs_background": "light"
     },
     "output_type": "display_data"
    }
   ],
   "source": [
    "x = 'Gyms & Sports'\n",
    "y = 'PM25'\n",
    "sns.regplot(x = x, y = y, data=c[1][[x, y]])"
   ]
  },
  {
   "cell_type": "markdown",
   "metadata": {},
   "source": [
    "Every plot here behaves kind of like a wave, much like the Restaurants & Bars - NO2 plot. However, in these two last plots, it looks like some specific points are tilting the correlations to make them seem stronger than they really are. For example, in the last plot, if we took the first point away, the correlation would look extremely weak, or even nonexistent. I would argue that the gyms & sports venues are only correlated to CO, SO2 and O3, since air quality is directly related to the amount of exercise a person can do, and thus, areas with lower pollution are more suited for exercise. As for the wave-like behavior, more data is needed to explain it."
   ]
  },
  {
   "cell_type": "markdown",
   "metadata": {},
   "source": [
    "### Cluster 2 "
   ]
  },
  {
   "cell_type": "code",
   "execution_count": 67,
   "metadata": {},
   "outputs": [
    {
     "data": {
      "text/html": [
       "<div>\n",
       "<style scoped>\n",
       "    .dataframe tbody tr th:only-of-type {\n",
       "        vertical-align: middle;\n",
       "    }\n",
       "\n",
       "    .dataframe tbody tr th {\n",
       "        vertical-align: top;\n",
       "    }\n",
       "\n",
       "    .dataframe thead th {\n",
       "        text-align: right;\n",
       "    }\n",
       "</style>\n",
       "<table border=\"1\" class=\"dataframe\">\n",
       "  <thead>\n",
       "    <tr style=\"text-align: right;\">\n",
       "      <th></th>\n",
       "      <th>pIndex</th>\n",
       "      <th>CO</th>\n",
       "      <th>NO2</th>\n",
       "      <th>O3</th>\n",
       "      <th>SO2</th>\n",
       "      <th>PM10</th>\n",
       "      <th>PM25</th>\n",
       "      <th>Altitude</th>\n",
       "      <th>Stores</th>\n",
       "      <th>Restaurants &amp; Bars</th>\n",
       "      <th>Medical</th>\n",
       "      <th>Buildings &amp; Offices</th>\n",
       "      <th>Hotels &amp; Hostels</th>\n",
       "      <th>Museums &amp; Galleries</th>\n",
       "      <th>Plazas</th>\n",
       "      <th>Farms</th>\n",
       "      <th>Parks &amp; Forests</th>\n",
       "      <th>Schools</th>\n",
       "      <th>Gyms &amp; Sports</th>\n",
       "      <th>Stadiums &amp; Theaters</th>\n",
       "      <th>Bus Stations</th>\n",
       "      <th>Sports Fields</th>\n",
       "      <th>Industrial</th>\n",
       "    </tr>\n",
       "  </thead>\n",
       "  <tbody>\n",
       "    <tr>\n",
       "      <th>AJM</th>\n",
       "      <td>0.063152</td>\n",
       "      <td>0.160576</td>\n",
       "      <td>0.014453</td>\n",
       "      <td>0.162434</td>\n",
       "      <td>0.017040</td>\n",
       "      <td>0.245542</td>\n",
       "      <td>0.892866</td>\n",
       "      <td>0.843750</td>\n",
       "      <td>0.046512</td>\n",
       "      <td>0.250000</td>\n",
       "      <td>0.0</td>\n",
       "      <td>0.2</td>\n",
       "      <td>0.0</td>\n",
       "      <td>0.0</td>\n",
       "      <td>0.0</td>\n",
       "      <td>0.0</td>\n",
       "      <td>0.166667</td>\n",
       "      <td>0.0</td>\n",
       "      <td>0.266667</td>\n",
       "      <td>0.000</td>\n",
       "      <td>0.0</td>\n",
       "      <td>0.000000</td>\n",
       "      <td>0.0</td>\n",
       "    </tr>\n",
       "    <tr>\n",
       "      <th>CUA</th>\n",
       "      <td>0.303390</td>\n",
       "      <td>0.294866</td>\n",
       "      <td>0.023970</td>\n",
       "      <td>0.109620</td>\n",
       "      <td>0.012078</td>\n",
       "      <td>0.224163</td>\n",
       "      <td>0.966879</td>\n",
       "      <td>1.000000</td>\n",
       "      <td>0.465116</td>\n",
       "      <td>0.433333</td>\n",
       "      <td>0.0</td>\n",
       "      <td>0.4</td>\n",
       "      <td>0.0</td>\n",
       "      <td>0.0</td>\n",
       "      <td>0.0</td>\n",
       "      <td>0.0</td>\n",
       "      <td>0.000000</td>\n",
       "      <td>0.0</td>\n",
       "      <td>1.000000</td>\n",
       "      <td>0.000</td>\n",
       "      <td>0.0</td>\n",
       "      <td>0.200000</td>\n",
       "      <td>0.0</td>\n",
       "    </tr>\n",
       "    <tr>\n",
       "      <th>SFE</th>\n",
       "      <td>0.000000</td>\n",
       "      <td>0.153873</td>\n",
       "      <td>0.025254</td>\n",
       "      <td>0.122352</td>\n",
       "      <td>0.007593</td>\n",
       "      <td>0.246152</td>\n",
       "      <td>0.901235</td>\n",
       "      <td>0.806985</td>\n",
       "      <td>0.372093</td>\n",
       "      <td>0.600000</td>\n",
       "      <td>0.0</td>\n",
       "      <td>1.0</td>\n",
       "      <td>0.0</td>\n",
       "      <td>0.0</td>\n",
       "      <td>0.0</td>\n",
       "      <td>0.0</td>\n",
       "      <td>0.166667</td>\n",
       "      <td>0.0</td>\n",
       "      <td>0.666667</td>\n",
       "      <td>0.125</td>\n",
       "      <td>0.5</td>\n",
       "      <td>0.066667</td>\n",
       "      <td>0.0</td>\n",
       "    </tr>\n",
       "  </tbody>\n",
       "</table>\n",
       "</div>"
      ],
      "text/plain": [
       "       pIndex        CO       NO2        O3       SO2      PM10      PM25  \\\n",
       "AJM  0.063152  0.160576  0.014453  0.162434  0.017040  0.245542  0.892866   \n",
       "CUA  0.303390  0.294866  0.023970  0.109620  0.012078  0.224163  0.966879   \n",
       "SFE  0.000000  0.153873  0.025254  0.122352  0.007593  0.246152  0.901235   \n",
       "\n",
       "     Altitude    Stores  Restaurants & Bars  Medical  Buildings & Offices  \\\n",
       "AJM  0.843750  0.046512            0.250000      0.0                  0.2   \n",
       "CUA  1.000000  0.465116            0.433333      0.0                  0.4   \n",
       "SFE  0.806985  0.372093            0.600000      0.0                  1.0   \n",
       "\n",
       "     Hotels & Hostels  Museums & Galleries  Plazas  Farms  Parks & Forests  \\\n",
       "AJM               0.0                  0.0     0.0    0.0         0.166667   \n",
       "CUA               0.0                  0.0     0.0    0.0         0.000000   \n",
       "SFE               0.0                  0.0     0.0    0.0         0.166667   \n",
       "\n",
       "     Schools  Gyms & Sports  Stadiums & Theaters  Bus Stations  Sports Fields  \\\n",
       "AJM      0.0       0.266667                0.000           0.0       0.000000   \n",
       "CUA      0.0       1.000000                0.000           0.0       0.200000   \n",
       "SFE      0.0       0.666667                0.125           0.5       0.066667   \n",
       "\n",
       "     Industrial  \n",
       "AJM         0.0  \n",
       "CUA         0.0  \n",
       "SFE         0.0  "
      ]
     },
     "execution_count": 67,
     "metadata": {},
     "output_type": "execute_result"
    }
   ],
   "source": [
    "c[2]"
   ]
  },
  {
   "cell_type": "markdown",
   "metadata": {},
   "source": [
    "This cluster includes the stations with the highest altitude and the least pollution - except for the CUA station. There are only three stations, so we need to be extra wary of what our statistics tell us."
   ]
  },
  {
   "cell_type": "code",
   "execution_count": 68,
   "metadata": {},
   "outputs": [
    {
     "data": {
      "image/png": "[encoded data removed]",
      "text/plain": [
       "<matplotlib.figure.Figure at 0x7fd7bd728b00>"
      ]
     },
     "metadata": {
      "needs_background": "light"
     },
     "output_type": "display_data"
    }
   ],
   "source": [
    "color_map(correlation_matrix_dataframe(c[2], True), c[2].columns, global_columns)"
   ]
  },
  {
   "cell_type": "markdown",
   "metadata": {},
   "source": [
    "The Parks & Forests variable seems to have a negative correlation with CO. Indeed, it is known that plants use CO for many processes (Bidwell 1972, Uffen 1981, Wang 2016), which could actually mean that this correlation is a causation. The correlations are consistent, too: Parks & Forests is negatively correlated to CO and positively correlated to PM10, and PM10 is negatively correlated to CO. The link between these three variables could be altitude. The higher you go, the less protection you have from sunlight. Sunlight catalyzes many chemical reactions, some of which could be forming PM10 from CO. However, we do not have enough data to confirm this."
   ]
  },
  {
   "cell_type": "markdown",
   "metadata": {},
   "source": [
    "### Cluster 3"
   ]
  },
  {
   "cell_type": "code",
   "execution_count": 69,
   "metadata": {},
   "outputs": [
    {
     "data": {
      "text/html": [
       "<div>\n",
       "<style scoped>\n",
       "    .dataframe tbody tr th:only-of-type {\n",
       "        vertical-align: middle;\n",
       "    }\n",
       "\n",
       "    .dataframe tbody tr th {\n",
       "        vertical-align: top;\n",
       "    }\n",
       "\n",
       "    .dataframe thead th {\n",
       "        text-align: right;\n",
       "    }\n",
       "</style>\n",
       "<table border=\"1\" class=\"dataframe\">\n",
       "  <thead>\n",
       "    <tr style=\"text-align: right;\">\n",
       "      <th></th>\n",
       "      <th>pIndex</th>\n",
       "      <th>CO</th>\n",
       "      <th>NO2</th>\n",
       "      <th>O3</th>\n",
       "      <th>SO2</th>\n",
       "      <th>PM10</th>\n",
       "      <th>PM25</th>\n",
       "      <th>Altitude</th>\n",
       "      <th>Stores</th>\n",
       "      <th>Restaurants &amp; Bars</th>\n",
       "      <th>Medical</th>\n",
       "      <th>Buildings &amp; Offices</th>\n",
       "      <th>Hotels &amp; Hostels</th>\n",
       "      <th>Museums &amp; Galleries</th>\n",
       "      <th>Plazas</th>\n",
       "      <th>Farms</th>\n",
       "      <th>Parks &amp; Forests</th>\n",
       "      <th>Schools</th>\n",
       "      <th>Gyms &amp; Sports</th>\n",
       "      <th>Stadiums &amp; Theaters</th>\n",
       "      <th>Bus Stations</th>\n",
       "      <th>Sports Fields</th>\n",
       "      <th>Industrial</th>\n",
       "    </tr>\n",
       "  </thead>\n",
       "  <tbody>\n",
       "    <tr>\n",
       "      <th>ATI</th>\n",
       "      <td>0.206851</td>\n",
       "      <td>0.208255</td>\n",
       "      <td>0.024514</td>\n",
       "      <td>0.097785</td>\n",
       "      <td>0.024297</td>\n",
       "      <td>0.314077</td>\n",
       "      <td>0.906926</td>\n",
       "      <td>0.332721</td>\n",
       "      <td>0.000000</td>\n",
       "      <td>0.150000</td>\n",
       "      <td>0.0</td>\n",
       "      <td>0.2</td>\n",
       "      <td>0.0</td>\n",
       "      <td>0.000000</td>\n",
       "      <td>0.0</td>\n",
       "      <td>0.0</td>\n",
       "      <td>0.333333</td>\n",
       "      <td>0.0</td>\n",
       "      <td>0.266667</td>\n",
       "      <td>0.000</td>\n",
       "      <td>0.0</td>\n",
       "      <td>0.133333</td>\n",
       "      <td>0.0</td>\n",
       "    </tr>\n",
       "    <tr>\n",
       "      <th>CCA</th>\n",
       "      <td>0.214846</td>\n",
       "      <td>0.211194</td>\n",
       "      <td>0.026990</td>\n",
       "      <td>0.121028</td>\n",
       "      <td>0.011395</td>\n",
       "      <td>0.292734</td>\n",
       "      <td>0.917127</td>\n",
       "      <td>0.220588</td>\n",
       "      <td>0.093023</td>\n",
       "      <td>0.766667</td>\n",
       "      <td>0.0</td>\n",
       "      <td>0.0</td>\n",
       "      <td>0.0</td>\n",
       "      <td>0.181818</td>\n",
       "      <td>1.0</td>\n",
       "      <td>0.0</td>\n",
       "      <td>0.500000</td>\n",
       "      <td>1.0</td>\n",
       "      <td>0.600000</td>\n",
       "      <td>0.875</td>\n",
       "      <td>1.0</td>\n",
       "      <td>0.066667</td>\n",
       "      <td>0.0</td>\n",
       "    </tr>\n",
       "    <tr>\n",
       "      <th>MGH</th>\n",
       "      <td>0.220160</td>\n",
       "      <td>0.266887</td>\n",
       "      <td>0.034691</td>\n",
       "      <td>0.099863</td>\n",
       "      <td>0.020461</td>\n",
       "      <td>0.245423</td>\n",
       "      <td>0.916211</td>\n",
       "      <td>0.378676</td>\n",
       "      <td>0.255814</td>\n",
       "      <td>0.866667</td>\n",
       "      <td>1.0</td>\n",
       "      <td>0.0</td>\n",
       "      <td>0.0</td>\n",
       "      <td>1.000000</td>\n",
       "      <td>1.0</td>\n",
       "      <td>0.0</td>\n",
       "      <td>1.000000</td>\n",
       "      <td>0.0</td>\n",
       "      <td>0.533333</td>\n",
       "      <td>0.125</td>\n",
       "      <td>0.0</td>\n",
       "      <td>0.000000</td>\n",
       "      <td>0.0</td>\n",
       "    </tr>\n",
       "    <tr>\n",
       "      <th>PED</th>\n",
       "      <td>0.061857</td>\n",
       "      <td>0.173215</td>\n",
       "      <td>0.023902</td>\n",
       "      <td>0.152341</td>\n",
       "      <td>0.010437</td>\n",
       "      <td>0.235708</td>\n",
       "      <td>0.896560</td>\n",
       "      <td>0.305147</td>\n",
       "      <td>0.604651</td>\n",
       "      <td>0.433333</td>\n",
       "      <td>0.0</td>\n",
       "      <td>0.2</td>\n",
       "      <td>0.0</td>\n",
       "      <td>0.090909</td>\n",
       "      <td>1.0</td>\n",
       "      <td>1.0</td>\n",
       "      <td>0.333333</td>\n",
       "      <td>0.0</td>\n",
       "      <td>0.733333</td>\n",
       "      <td>0.000</td>\n",
       "      <td>0.0</td>\n",
       "      <td>0.066667</td>\n",
       "      <td>0.0</td>\n",
       "    </tr>\n",
       "  </tbody>\n",
       "</table>\n",
       "</div>"
      ],
      "text/plain": [
       "       pIndex        CO       NO2        O3       SO2      PM10      PM25  \\\n",
       "ATI  0.206851  0.208255  0.024514  0.097785  0.024297  0.314077  0.906926   \n",
       "CCA  0.214846  0.211194  0.026990  0.121028  0.011395  0.292734  0.917127   \n",
       "MGH  0.220160  0.266887  0.034691  0.099863  0.020461  0.245423  0.916211   \n",
       "PED  0.061857  0.173215  0.023902  0.152341  0.010437  0.235708  0.896560   \n",
       "\n",
       "     Altitude    Stores  Restaurants & Bars  Medical  Buildings & Offices  \\\n",
       "ATI  0.332721  0.000000            0.150000      0.0                  0.2   \n",
       "CCA  0.220588  0.093023            0.766667      0.0                  0.0   \n",
       "MGH  0.378676  0.255814            0.866667      1.0                  0.0   \n",
       "PED  0.305147  0.604651            0.433333      0.0                  0.2   \n",
       "\n",
       "     Hotels & Hostels  Museums & Galleries  Plazas  Farms  Parks & Forests  \\\n",
       "ATI               0.0             0.000000     0.0    0.0         0.333333   \n",
       "CCA               0.0             0.181818     1.0    0.0         0.500000   \n",
       "MGH               0.0             1.000000     1.0    0.0         1.000000   \n",
       "PED               0.0             0.090909     1.0    1.0         0.333333   \n",
       "\n",
       "     Schools  Gyms & Sports  Stadiums & Theaters  Bus Stations  Sports Fields  \\\n",
       "ATI      0.0       0.266667                0.000           0.0       0.133333   \n",
       "CCA      1.0       0.600000                0.875           1.0       0.066667   \n",
       "MGH      0.0       0.533333                0.125           0.0       0.000000   \n",
       "PED      0.0       0.733333                0.000           0.0       0.066667   \n",
       "\n",
       "     Industrial  \n",
       "ATI         0.0  \n",
       "CCA         0.0  \n",
       "MGH         0.0  \n",
       "PED         0.0  "
      ]
     },
     "execution_count": 69,
     "metadata": {},
     "output_type": "execute_result"
    }
   ],
   "source": [
    "c[3]"
   ]
  },
  {
   "cell_type": "markdown",
   "metadata": {},
   "source": [
    "Cluster 3 is yet another small-sized set. Stations here have the second places in both altitude and pIndex. "
   ]
  },
  {
   "cell_type": "code",
   "execution_count": 70,
   "metadata": {},
   "outputs": [
    {
     "data": {
      "image/png": "[encoded data removed]",
      "text/plain": [
       "<matplotlib.figure.Figure at 0x7fd7bd6c5e80>"
      ]
     },
     "metadata": {
      "needs_background": "light"
     },
     "output_type": "display_data"
    }
   ],
   "source": [
    "color_map(correlation_matrix_dataframe(c[3], True), c[3].columns, global_columns)"
   ]
  },
  {
   "cell_type": "markdown",
   "metadata": {},
   "source": [
    "The variables Farms and Medical occur only one station at a time, which is why we should ignore their correlations. The only variables that we can trust are really correlated to NO2 are Parks & Forests and Museums & Galleries. If we look at their regression plots:"
   ]
  },
  {
   "cell_type": "code",
   "execution_count": 71,
   "metadata": {},
   "outputs": [
    {
     "data": {
      "text/plain": [
       "<matplotlib.axes._subplots.AxesSubplot at 0x7fd7bd51e860>"
      ]
     },
     "execution_count": 71,
     "metadata": {},
     "output_type": "execute_result"
    },
    {
     "data": {
      "image/png": "[encoded data removed]",
      "text/plain": [
       "<matplotlib.figure.Figure at 0x7fd7bd652cf8>"
      ]
     },
     "metadata": {
      "needs_background": "light"
     },
     "output_type": "display_data"
    }
   ],
   "source": [
    "y = 'NO2'\n",
    "x = 'Parks & Forests'\n",
    "sns.regplot(x = x, y = y, data=c[3][[x, y]])"
   ]
  },
  {
   "cell_type": "code",
   "execution_count": 72,
   "metadata": {},
   "outputs": [
    {
     "data": {
      "text/plain": [
       "<matplotlib.axes._subplots.AxesSubplot at 0x7fd7bd467f60>"
      ]
     },
     "execution_count": 72,
     "metadata": {},
     "output_type": "execute_result"
    },
    {
     "data": {
      "image/png": "[encoded data removed]",
      "text/plain": [
       "<matplotlib.figure.Figure at 0x7fd7bd40efd0>"
      ]
     },
     "metadata": {
      "needs_background": "light"
     },
     "output_type": "display_data"
    }
   ],
   "source": [
    "y = 'NO2'\n",
    "x = 'Museums & Galleries'\n",
    "sns.regplot(x = x, y = y, data=c[3][[x, y]])"
   ]
  },
  {
   "cell_type": "markdown",
   "metadata": {},
   "source": [
    "we can see a nice, linear correlations. The mechanism for which museums and galleries would be (weakly) correlated to a NO2 increase could be attributed to them being places that many people visit all year long. Some of the most iconic museums, galleries and theaters are congregated here, including the National Auditorium. The same can be said about the Parks & Forests variable. The MGH station is located near Chapultepec, a forest which is a mayor cultural asset in Mexico City. However, more can be said about NO2 and forests. A sweden paper (Grundström 2014) suggests that urban forests have a very small effect in reducing NO2 and no effect on O3, while research conducted on the USA (Yli-Pelkonen 2017) suggests that O3 but not NO2 is reduced by urban trees. Another study, conducted in the Netherlands (Dorsey 2004) found that soils in forests can be a net source of reactive NO. NO can be oxidized to NO2 by reacting with O3 and other chemical species. From the varying results of research in different countries, we see that urban trees have different effects depending on their specific contexts and species. It could be the case that the Chapultepec forest is actually one of those NO producing forests. Specific studies should be conducted before reaching this conclusion."
   ]
  },
  {
   "cell_type": "markdown",
   "metadata": {},
   "source": [
    "### GMX"
   ]
  },
  {
   "cell_type": "markdown",
   "metadata": {},
   "source": [
    "Now let's see the correlation matrix for GMX as a whole:"
   ]
  },
  {
   "cell_type": "code",
   "execution_count": 73,
   "metadata": {},
   "outputs": [
    {
     "data": {
      "image/png": "[encoded data removed]",
      "text/plain": [
       "<matplotlib.figure.Figure at 0x7fd7bd480f60>"
      ]
     },
     "metadata": {
      "needs_background": "light"
     },
     "output_type": "display_data"
    }
   ],
   "source": [
    "color_map(correlation_matrix_dataframe(cdmx_n, True), global_columns, global_columns)"
   ]
  },
  {
   "cell_type": "markdown",
   "metadata": {},
   "source": [
    "We see some familiar correlations, such as the negative correlation between Gyms & Sports and CO that we saw in cluster 1, or the positive correlation between Museums & Galleries and NO2 that we saw in cluster 3. However, most of the other correlations between venues and pollutants are nowhere to be seen. "
   ]
  },
  {
   "cell_type": "markdown",
   "metadata": {},
   "source": [
    "<hr>\n",
    "<h1 align='center'> 5. Conclusions <h1> <a name=\"conclusion\"></a>\n",
    "<hr>"
   ]
  },
  {
   "cell_type": "markdown",
   "metadata": {},
   "source": [
    "While some effects cannot be seen in the complete GMX dataset, they can be seen once we partition our data into smaller datasets. Some of these effects include:\n",
    "\n",
    "<ul>\n",
    "    <li>In the most polluted, lowest altitude regions (cluster 0), the presence of a soap factory nearby the XAL station was strongly correlated with pIndex. We cannot directly conclude that this factory is the culprit, since we do not have many factories in our data. </li>\n",
    "    <li>In regions with moderate pollution and low altitude (cluster 1), having many places to eat is correlated to higher NO2 concentrations, and having places where you can exercise is correlated to lower SO2 and CO concentrations, and higher O3 concentrations.</li>\n",
    "    <li>About clusters 2 and 3, I suspect that urban forests play different roles. In cluster 2, we see a negative correlation between Parks & Forests and CO. In cluster 3, we see a positive correlation between NO2 and Parks & Forests. While we cannot be sure of the inner workings behind these observations, these results hint at what other studies already say: that urban forests behave one way here, and a different way over there. Specific research should have to be done to address this.</li>\n",
    "</ul>\n",
    "\n",
    "Also, because of the presence of wind, there might be a correlation between venue and station positionings. If we look at our clustering map, we see that the most polluted areas are to the northeast of GMX, and the least polluted to the southwest. This model doesn't consider winds, but our clustering suggests that it should, which is an important conclusion by itself."
   ]
  },
  {
   "cell_type": "markdown",
   "metadata": {},
   "source": [
    "<hr>\n",
    "<h1 align='center'> 6. Final remarks <h1> <a name=\"remarks\"></a>\n",
    "<hr>"
   ]
  },
  {
   "cell_type": "markdown",
   "metadata": {},
   "source": [
    "Through our clustering analysis, we learned about some correlations that were invisible when looking at the whole dataset. This is a double-edged sword, because reducing the size of the datasets will result in more drastic effects being observed, but less generalization power. Ideally, I would have liked to work with a much bigger dataset. Even a hundred stations would have been enough, but after cleaning the data, we ended up discarding about 12 stations, and only 26 remained. Even so, because we clustered our stations using educated criteria, we can trust that any phenomenon observed (such as the positive correlation between forests and NO2) is well justified in arising suspicion. While our datasets were too small to conduct comfortable statistics, those statistics are still statistics, and can be valuable when interpreted under the right context.\n",
    "\n",
    "When I get the chance, I would like to repeat this experiment incorporating distances from every venue to every station, since pollution is known to travel by wind. It isn't static, as this model wordlessly implies, and the pollution from some venues could be impacting on venues far away. \n",
    "\n",
    "Finally, I hope you had as much fun reading this as I had writing it. Thank you."
   ]
  },
  {
   "cell_type": "code",
   "execution_count": null,
   "metadata": {},
   "outputs": [],
   "source": []
  }
 ],
 "metadata": {
  "kernelspec": {
   "display_name": "Python 3",
   "language": "python",
   "name": "python3"
  },
  "language_info": {
   "codemirror_mode": {
    "name": "ipython",
    "version": 3
   },
   "file_extension": ".py",
   "mimetype": "text/x-python",
   "name": "python",
   "nbconvert_exporter": "python",
   "pygments_lexer": "ipython3",
   "version": "3.6.9"
  }
 },
 "nbformat": 4,
 "nbformat_minor": 4
}
