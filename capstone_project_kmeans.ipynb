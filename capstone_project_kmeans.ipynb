{
 "cells": [
  {
   "cell_type": "markdown",
   "metadata": {},
   "source": [
    "<h1 align = 'center'> \n",
    "    Machine learning against pollution: clustering analysis of Greater Mexico City's air quality \n",
    "</h1>"
   ]
  },
  {
   "cell_type": "markdown",
   "metadata": {},
   "source": [
    "<h4 align = 'center'>\n",
    "    A. Payen-Sandoval\n",
    "</h4>"
   ]
  },
  {
   "cell_type": "markdown",
   "metadata": {},
   "source": [
    "In this notebook, we will inspect the possible relationships between air quality (measured in the IMECA unit) and the types and amounts of venues in a 2km radius around air quality measuring stations, spread across Greater Mexico City (GMX)."
   ]
  },
  {
   "cell_type": "markdown",
   "metadata": {},
   "source": [
    "## Table of contents\n",
    "* [0. Introduction](#introduction)\n",
    "* [1. Required libraries](#libraries)\n",
    "* [2.a Data: air quality](#data_air)\n",
    "* [2.b Data: venues](#data_venues)\n",
    "* [2.c Data: joining the pieces together](#data_join)\n",
    "* [3 Exploratory analysis of the data](#exploration)\n",
    "* [4. Clustering](#methodology_clustering)\n",
    "* [5. Results and discussion](#results)\n",
    "* [6. Conclusion](#conclusion)\n",
    "* [7. Final remarks](#remarks)"
   ]
  },
  {
   "cell_type": "markdown",
   "metadata": {},
   "source": [
    "<hr>\n",
    "<h1 align='center'> 0. Introduction </h1> <a name=\"introduction\"></a>\n",
    "<hr>"
   ]
  },
  {
   "cell_type": "markdown",
   "metadata": {},
   "source": [
    "Greater Mexico City (GMX), which comprises Mexico City and the east half of the surrounding State of Mexico, is one of the largest, most populated regions in the world, housing over 20 million people (Borbet 2018). In 1992, GMX was considered the most polluted urban area in the world (Campbell 2016). It got much better, for some years, but around 2016, pollution notoriously started coming back (Schachar 2018). Since then, multiple measures have been implemented, from strict regulation of vehicle traffic to outright recommending people not to go out during certain times of day, when pollution reaches its peak values. These measures are not enough, however, and pollution is taking its toll on public health and the economy. \n",
    "\n",
    "GMX is an interesting candidate to study pollution: it contains heavily urbanized areas, rural areas, mountains, lakes, basins and, of course, an immense amount and diversity of venues. In GMX, The IMECA ('metropolitan index for air quality', by its spanish meaning) is a standarized unit used to measure multiple pollutants. Being an adimensional unit, it provides easy understanding of its meaning to the general population, and allows direct comparison between pollutants. \n",
    "\n",
    "The goal of this work is to analyze the influence that different types and amounts of venues can have on the IMECA values of carbon monoxide (CO), ozone (O<sub>3</sub>), nitrogen dioxide (NO<sub>2</sub>), sulfur dioxide (SO<sub>2</sub>), particulate matter with less than 10 micrometers in diameter (PM10) and particulate matter with less than 2.5 micrometers in diameter (PM25), in the vicinity of air quality measuring stations spread across GMX. \n",
    "\n",
    "This and future studies of the same type could be used by governments and private institutions to measure the impact of building or adapting new venues and avoid future environmental contingencies. "
   ]
  },
  {
   "cell_type": "markdown",
   "metadata": {},
   "source": [
    "<hr>\n",
    "<h1 align='center'> 1. Required libraries </h1> <a name=\"libraries\"></a>\n",
    "<hr>"
   ]
  },
  {
   "cell_type": "markdown",
   "metadata": {},
   "source": [
    "We first install and import any libraries that we need. "
   ]
  },
  {
   "cell_type": "code",
   "execution_count": 1,
   "metadata": {},
   "outputs": [
    {
     "name": "stdout",
     "output_type": "stream",
     "text": [
      "Requirement already satisfied: lxml in /usr/local/lib/python3.6/dist-packages (4.5.0)\n",
      "\u001b[33mYou are using pip version 19.0.3, however version 20.0.2 is available.\n",
      "You should consider upgrading via the 'pip install --upgrade pip' command.\u001b[0m\n",
      "Requirement already satisfied: cssselect in /usr/local/lib/python3.6/dist-packages (1.1.0)\n",
      "\u001b[33mYou are using pip version 19.0.3, however version 20.0.2 is available.\n",
      "You should consider upgrading via the 'pip install --upgrade pip' command.\u001b[0m\n",
      "Requirement already satisfied: folium in /usr/local/lib/python3.6/dist-packages (0.10.1)\n",
      "Requirement already satisfied: numpy in /usr/local/lib/python3.6/dist-packages (from folium) (1.15.4)\n",
      "Requirement already satisfied: jinja2>=2.9 in /usr/local/lib/python3.6/dist-packages (from folium) (2.11.1)\n",
      "Requirement already satisfied: requests in /usr/lib/python3/dist-packages (from folium) (2.18.4)\n",
      "Requirement already satisfied: branca>=0.3.0 in /usr/local/lib/python3.6/dist-packages (from folium) (0.3.1)\n",
      "Requirement already satisfied: MarkupSafe>=0.23 in /usr/lib/python3/dist-packages (from jinja2>=2.9->folium) (1.0)\n",
      "Requirement already satisfied: six in /usr/lib/python3/dist-packages (from branca>=0.3.0->folium) (1.11.0)\n",
      "\u001b[33mYou are using pip version 19.0.3, however version 20.0.2 is available.\n",
      "You should consider upgrading via the 'pip install --upgrade pip' command.\u001b[0m\n"
     ]
    }
   ],
   "source": [
    "!python3 -m pip install lxml\n",
    "!python3 -m pip install cssselect\n",
    "!python3 -m pip install folium"
   ]
  },
  {
   "cell_type": "code",
   "execution_count": 2,
   "metadata": {},
   "outputs": [],
   "source": [
    "%matplotlib inline\n",
    "\n",
    "import requests, json, random\n",
    "import folium\n",
    "import seaborn as sns\n",
    "import pandas as pd\n",
    "import numpy as np\n",
    "from scipy import stats\n",
    "from pandas.io.json import json_normalize\n",
    "from mpl_toolkits.axes_grid1 import make_axes_locatable\n",
    "from lxml.html import parse\n",
    "import lxml.html as lh\n",
    "from sklearn.cluster import KMeans\n",
    "from sklearn.cluster import DBSCAN\n",
    "from sklearn import preprocessing, metrics\n",
    "import matplotlib.pyplot as plt\n",
    "import matplotlib.cm as cm\n",
    "import matplotlib.colors as colors"
   ]
  },
  {
   "cell_type": "markdown",
   "metadata": {},
   "source": [
    "<hr>\n",
    "<h1 align='center'> 2.a Data: air quality </h1> <a name=\"data_air\"></a>\n",
    "<hr>"
   ]
  },
  {
   "cell_type": "markdown",
   "metadata": {},
   "source": [
    "The air quality data is split into six files: one for carbon monoxide (CO), nitrogen dioxide (NO<sub>2</sub>), ozone (O<sub>3</sub>), sulfur dioxide (SO<sub>2</sub>), particulate matter less than 10 micrometers in diameter (PM10) and particulate matter less than 2.5 micrometers in diameter (PM25).\n",
    "\n",
    "Let's read the data files and see their contents:"
   ]
  },
  {
   "cell_type": "code",
   "execution_count": 3,
   "metadata": {},
   "outputs": [],
   "source": [
    "molecules = ['CO', 'NO2', 'O3', 'SO2', 'PM10', 'PM25'] \n",
    "dfs = np.zeros(len(molecules), dtype = object) # creating an array for dataframes\n",
    " \n",
    "for i, molecule in enumerate(molecules):\n",
    "    dfs[i] = pd.read_csv(molecule + '.csv', delimiter=',')"
   ]
  },
  {
   "cell_type": "markdown",
   "metadata": {},
   "source": [
    "This is what the NO<sub>2</sub> file looks like:"
   ]
  },
  {
   "cell_type": "code",
   "execution_count": 4,
   "metadata": {},
   "outputs": [
    {
     "data": {
      "text/html": [
       "<div>\n",
       "<style scoped>\n",
       "    .dataframe tbody tr th:only-of-type {\n",
       "        vertical-align: middle;\n",
       "    }\n",
       "\n",
       "    .dataframe tbody tr th {\n",
       "        vertical-align: top;\n",
       "    }\n",
       "\n",
       "    .dataframe thead th {\n",
       "        text-align: right;\n",
       "    }\n",
       "</style>\n",
       "<table border=\"1\" class=\"dataframe\">\n",
       "  <thead>\n",
       "    <tr style=\"text-align: right;\">\n",
       "      <th></th>\n",
       "      <th>FECHA</th>\n",
       "      <th>HORA</th>\n",
       "      <th>ACO</th>\n",
       "      <th>AJM</th>\n",
       "      <th>ATI</th>\n",
       "      <th>BJU</th>\n",
       "      <th>CAM</th>\n",
       "      <th>CCA</th>\n",
       "      <th>CHO</th>\n",
       "      <th>COY</th>\n",
       "      <th>...</th>\n",
       "      <th>SAG</th>\n",
       "      <th>SFE</th>\n",
       "      <th>SJA</th>\n",
       "      <th>TAH</th>\n",
       "      <th>TLA</th>\n",
       "      <th>TLI</th>\n",
       "      <th>UAX</th>\n",
       "      <th>UIZ</th>\n",
       "      <th>VIF</th>\n",
       "      <th>XAL</th>\n",
       "    </tr>\n",
       "  </thead>\n",
       "  <tbody>\n",
       "    <tr>\n",
       "      <th>0</th>\n",
       "      <td>2019-01-01</td>\n",
       "      <td>1</td>\n",
       "      <td>-99</td>\n",
       "      <td>-99</td>\n",
       "      <td>-99</td>\n",
       "      <td>-99</td>\n",
       "      <td>-99</td>\n",
       "      <td>-99</td>\n",
       "      <td>-99</td>\n",
       "      <td>-99</td>\n",
       "      <td>...</td>\n",
       "      <td>-99</td>\n",
       "      <td>-99</td>\n",
       "      <td>-99</td>\n",
       "      <td>-99</td>\n",
       "      <td>-99</td>\n",
       "      <td>-99</td>\n",
       "      <td>-99</td>\n",
       "      <td>-99</td>\n",
       "      <td>-99</td>\n",
       "      <td>-99</td>\n",
       "    </tr>\n",
       "    <tr>\n",
       "      <th>1</th>\n",
       "      <td>2019-01-01</td>\n",
       "      <td>2</td>\n",
       "      <td>-99</td>\n",
       "      <td>-99</td>\n",
       "      <td>-99</td>\n",
       "      <td>-99</td>\n",
       "      <td>-99</td>\n",
       "      <td>-99</td>\n",
       "      <td>-99</td>\n",
       "      <td>-99</td>\n",
       "      <td>...</td>\n",
       "      <td>-99</td>\n",
       "      <td>-99</td>\n",
       "      <td>-99</td>\n",
       "      <td>-99</td>\n",
       "      <td>-99</td>\n",
       "      <td>-99</td>\n",
       "      <td>-99</td>\n",
       "      <td>-99</td>\n",
       "      <td>-99</td>\n",
       "      <td>-99</td>\n",
       "    </tr>\n",
       "    <tr>\n",
       "      <th>2</th>\n",
       "      <td>2019-01-01</td>\n",
       "      <td>3</td>\n",
       "      <td>-99</td>\n",
       "      <td>-99</td>\n",
       "      <td>-99</td>\n",
       "      <td>-99</td>\n",
       "      <td>-99</td>\n",
       "      <td>-99</td>\n",
       "      <td>-99</td>\n",
       "      <td>-99</td>\n",
       "      <td>...</td>\n",
       "      <td>-99</td>\n",
       "      <td>-99</td>\n",
       "      <td>-99</td>\n",
       "      <td>-99</td>\n",
       "      <td>-99</td>\n",
       "      <td>-99</td>\n",
       "      <td>-99</td>\n",
       "      <td>-99</td>\n",
       "      <td>-99</td>\n",
       "      <td>-99</td>\n",
       "    </tr>\n",
       "    <tr>\n",
       "      <th>3</th>\n",
       "      <td>2019-01-01</td>\n",
       "      <td>4</td>\n",
       "      <td>-99</td>\n",
       "      <td>1</td>\n",
       "      <td>15</td>\n",
       "      <td>15</td>\n",
       "      <td>17</td>\n",
       "      <td>15</td>\n",
       "      <td>13</td>\n",
       "      <td>-99</td>\n",
       "      <td>...</td>\n",
       "      <td>15</td>\n",
       "      <td>7</td>\n",
       "      <td>-99</td>\n",
       "      <td>11</td>\n",
       "      <td>14</td>\n",
       "      <td>-99</td>\n",
       "      <td>14</td>\n",
       "      <td>16</td>\n",
       "      <td>18</td>\n",
       "      <td>17</td>\n",
       "    </tr>\n",
       "    <tr>\n",
       "      <th>4</th>\n",
       "      <td>2019-01-01</td>\n",
       "      <td>5</td>\n",
       "      <td>-99</td>\n",
       "      <td>1</td>\n",
       "      <td>12</td>\n",
       "      <td>15</td>\n",
       "      <td>16</td>\n",
       "      <td>13</td>\n",
       "      <td>12</td>\n",
       "      <td>-99</td>\n",
       "      <td>...</td>\n",
       "      <td>14</td>\n",
       "      <td>6</td>\n",
       "      <td>-99</td>\n",
       "      <td>7</td>\n",
       "      <td>14</td>\n",
       "      <td>-99</td>\n",
       "      <td>14</td>\n",
       "      <td>16</td>\n",
       "      <td>16</td>\n",
       "      <td>16</td>\n",
       "    </tr>\n",
       "  </tbody>\n",
       "</table>\n",
       "<p>5 rows × 37 columns</p>\n",
       "</div>"
      ],
      "text/plain": [
       "        FECHA  HORA  ACO  AJM  ATI  BJU  CAM  CCA  CHO  COY  ...  SAG  SFE  \\\n",
       "0  2019-01-01     1  -99  -99  -99  -99  -99  -99  -99  -99  ...  -99  -99   \n",
       "1  2019-01-01     2  -99  -99  -99  -99  -99  -99  -99  -99  ...  -99  -99   \n",
       "2  2019-01-01     3  -99  -99  -99  -99  -99  -99  -99  -99  ...  -99  -99   \n",
       "3  2019-01-01     4  -99    1   15   15   17   15   13  -99  ...   15    7   \n",
       "4  2019-01-01     5  -99    1   12   15   16   13   12  -99  ...   14    6   \n",
       "\n",
       "   SJA  TAH  TLA  TLI  UAX  UIZ  VIF  XAL  \n",
       "0  -99  -99  -99  -99  -99  -99  -99  -99  \n",
       "1  -99  -99  -99  -99  -99  -99  -99  -99  \n",
       "2  -99  -99  -99  -99  -99  -99  -99  -99  \n",
       "3  -99   11   14  -99   14   16   18   17  \n",
       "4  -99    7   14  -99   14   16   16   16  \n",
       "\n",
       "[5 rows x 37 columns]"
      ]
     },
     "execution_count": 4,
     "metadata": {},
     "output_type": "execute_result"
    }
   ],
   "source": [
    "dfs[1].head()"
   ]
  },
  {
   "cell_type": "markdown",
   "metadata": {},
   "source": [
    "The fist and second columns are the date and hour in which measurements were taken. The next columns correspond to the codenames of the stations. We will see more of these codes in section 2, when we prepare the venue data. Let's see in which months pollution is highest, so that we can choose an appropriate range of time to analyze:"
   ]
  },
  {
   "cell_type": "code",
   "execution_count": 5,
   "metadata": {},
   "outputs": [
    {
     "name": "stdout",
     "output_type": "stream",
     "text": [
      "CO --> TLA 2019-02-15 25\n",
      "NO2 --> CAM 2019-01-07 52\n",
      "O3 --> CAM 2019-03-30 155\n",
      "SO2 --> TLI 2019-12-19 68\n",
      "PM10 --> VIF 2019-01-01 166\n",
      "PM25 --> NEZ 2019-01-01 185\n"
     ]
    }
   ],
   "source": [
    "for df, mol in zip(dfs, molecules):\n",
    "    proxy = df.drop(columns = ['FECHA', 'HORA'])\n",
    "    max_pollution = proxy.values.max()\n",
    "    max_pol_col = proxy.max().idxmax()\n",
    "    max_pol_row = proxy[max_pol_col].idxmax()\n",
    "    \n",
    "    print(mol, '-->', max_pol_col, df.loc[max_pol_row, 'FECHA'], max_pollution)"
   ]
  },
  {
   "cell_type": "markdown",
   "metadata": {},
   "source": [
    "From last year, the winter months (plus march) were the most polluted. We will take the data from january to march of 2019, and december of 2019."
   ]
  },
  {
   "cell_type": "code",
   "execution_count": 6,
   "metadata": {
    "jupyter": {
     "source_hidden": true
    }
   },
   "outputs": [],
   "source": [
    "def format_dataframe(df):\n",
    "    \n",
    "    df = df.loc[df['FECHA'].str.contains('-01-') | df['FECHA'].str.contains('-02-') | \n",
    "           df['FECHA'].str.contains('-03-') | df['FECHA'].str.contains('-12-')].copy()\n",
    "    df = df.drop(columns = ['FECHA', 'HORA'])\n",
    "    \n",
    "    for col in df.columns[2:]:\n",
    "        df.loc[:, col] = pd.to_numeric(df[col], errors = 'coerce')\n",
    "\n",
    "    return df.copy()"
   ]
  },
  {
   "cell_type": "code",
   "execution_count": 7,
   "metadata": {},
   "outputs": [],
   "source": [
    "for i, frame in enumerate(dfs):\n",
    "    dfs[i] = format_dataframe(frame)"
   ]
  },
  {
   "cell_type": "code",
   "execution_count": 8,
   "metadata": {},
   "outputs": [
    {
     "data": {
      "text/html": [
       "<div>\n",
       "<style scoped>\n",
       "    .dataframe tbody tr th:only-of-type {\n",
       "        vertical-align: middle;\n",
       "    }\n",
       "\n",
       "    .dataframe tbody tr th {\n",
       "        vertical-align: top;\n",
       "    }\n",
       "\n",
       "    .dataframe thead th {\n",
       "        text-align: right;\n",
       "    }\n",
       "</style>\n",
       "<table border=\"1\" class=\"dataframe\">\n",
       "  <thead>\n",
       "    <tr style=\"text-align: right;\">\n",
       "      <th></th>\n",
       "      <th>ACO</th>\n",
       "      <th>AJM</th>\n",
       "      <th>ATI</th>\n",
       "      <th>BJU</th>\n",
       "      <th>CAM</th>\n",
       "      <th>CCA</th>\n",
       "      <th>CHO</th>\n",
       "      <th>COY</th>\n",
       "      <th>CUA</th>\n",
       "      <th>CUT</th>\n",
       "      <th>...</th>\n",
       "      <th>SAG</th>\n",
       "      <th>SFE</th>\n",
       "      <th>SJA</th>\n",
       "      <th>TAH</th>\n",
       "      <th>TLA</th>\n",
       "      <th>TLI</th>\n",
       "      <th>UAX</th>\n",
       "      <th>UIZ</th>\n",
       "      <th>VIF</th>\n",
       "      <th>XAL</th>\n",
       "    </tr>\n",
       "  </thead>\n",
       "  <tbody>\n",
       "    <tr>\n",
       "      <th>0</th>\n",
       "      <td>-99</td>\n",
       "      <td>-99</td>\n",
       "      <td>-99</td>\n",
       "      <td>-99</td>\n",
       "      <td>-99</td>\n",
       "      <td>-99</td>\n",
       "      <td>-99</td>\n",
       "      <td>-99</td>\n",
       "      <td>-99</td>\n",
       "      <td>-99</td>\n",
       "      <td>...</td>\n",
       "      <td>-99</td>\n",
       "      <td>-99</td>\n",
       "      <td>-99</td>\n",
       "      <td>-99</td>\n",
       "      <td>-99</td>\n",
       "      <td>-99</td>\n",
       "      <td>-99</td>\n",
       "      <td>-99</td>\n",
       "      <td>-99</td>\n",
       "      <td>-99</td>\n",
       "    </tr>\n",
       "    <tr>\n",
       "      <th>1</th>\n",
       "      <td>-99</td>\n",
       "      <td>-99</td>\n",
       "      <td>-99</td>\n",
       "      <td>-99</td>\n",
       "      <td>-99</td>\n",
       "      <td>-99</td>\n",
       "      <td>-99</td>\n",
       "      <td>-99</td>\n",
       "      <td>-99</td>\n",
       "      <td>-99</td>\n",
       "      <td>...</td>\n",
       "      <td>-99</td>\n",
       "      <td>-99</td>\n",
       "      <td>-99</td>\n",
       "      <td>-99</td>\n",
       "      <td>-99</td>\n",
       "      <td>-99</td>\n",
       "      <td>-99</td>\n",
       "      <td>-99</td>\n",
       "      <td>-99</td>\n",
       "      <td>-99</td>\n",
       "    </tr>\n",
       "    <tr>\n",
       "      <th>2</th>\n",
       "      <td>-99</td>\n",
       "      <td>-99</td>\n",
       "      <td>-99</td>\n",
       "      <td>-99</td>\n",
       "      <td>-99</td>\n",
       "      <td>-99</td>\n",
       "      <td>-99</td>\n",
       "      <td>-99</td>\n",
       "      <td>-99</td>\n",
       "      <td>-99</td>\n",
       "      <td>...</td>\n",
       "      <td>-99</td>\n",
       "      <td>-99</td>\n",
       "      <td>-99</td>\n",
       "      <td>-99</td>\n",
       "      <td>-99</td>\n",
       "      <td>-99</td>\n",
       "      <td>-99</td>\n",
       "      <td>-99</td>\n",
       "      <td>-99</td>\n",
       "      <td>-99</td>\n",
       "    </tr>\n",
       "    <tr>\n",
       "      <th>3</th>\n",
       "      <td>-99</td>\n",
       "      <td>1</td>\n",
       "      <td>15</td>\n",
       "      <td>15</td>\n",
       "      <td>17</td>\n",
       "      <td>15</td>\n",
       "      <td>13</td>\n",
       "      <td>-99</td>\n",
       "      <td>14</td>\n",
       "      <td>9</td>\n",
       "      <td>...</td>\n",
       "      <td>15</td>\n",
       "      <td>7</td>\n",
       "      <td>-99</td>\n",
       "      <td>11</td>\n",
       "      <td>14</td>\n",
       "      <td>-99</td>\n",
       "      <td>14</td>\n",
       "      <td>16</td>\n",
       "      <td>18</td>\n",
       "      <td>17</td>\n",
       "    </tr>\n",
       "    <tr>\n",
       "      <th>4</th>\n",
       "      <td>-99</td>\n",
       "      <td>1</td>\n",
       "      <td>12</td>\n",
       "      <td>15</td>\n",
       "      <td>16</td>\n",
       "      <td>13</td>\n",
       "      <td>12</td>\n",
       "      <td>-99</td>\n",
       "      <td>16</td>\n",
       "      <td>8</td>\n",
       "      <td>...</td>\n",
       "      <td>14</td>\n",
       "      <td>6</td>\n",
       "      <td>-99</td>\n",
       "      <td>7</td>\n",
       "      <td>14</td>\n",
       "      <td>-99</td>\n",
       "      <td>14</td>\n",
       "      <td>16</td>\n",
       "      <td>16</td>\n",
       "      <td>16</td>\n",
       "    </tr>\n",
       "  </tbody>\n",
       "</table>\n",
       "<p>5 rows × 35 columns</p>\n",
       "</div>"
      ],
      "text/plain": [
       "   ACO  AJM  ATI  BJU  CAM  CCA  CHO  COY  CUA  CUT  ...  SAG  SFE  SJA  TAH  \\\n",
       "0  -99  -99  -99  -99  -99  -99  -99  -99  -99  -99  ...  -99  -99  -99  -99   \n",
       "1  -99  -99  -99  -99  -99  -99  -99  -99  -99  -99  ...  -99  -99  -99  -99   \n",
       "2  -99  -99  -99  -99  -99  -99  -99  -99  -99  -99  ...  -99  -99  -99  -99   \n",
       "3  -99    1   15   15   17   15   13  -99   14    9  ...   15    7  -99   11   \n",
       "4  -99    1   12   15   16   13   12  -99   16    8  ...   14    6  -99    7   \n",
       "\n",
       "   TLA  TLI  UAX  UIZ  VIF  XAL  \n",
       "0  -99  -99  -99  -99  -99  -99  \n",
       "1  -99  -99  -99  -99  -99  -99  \n",
       "2  -99  -99  -99  -99  -99  -99  \n",
       "3   14  -99   14   16   18   17  \n",
       "4   14  -99   14   16   16   16  \n",
       "\n",
       "[5 rows x 35 columns]"
      ]
     },
     "execution_count": 8,
     "metadata": {},
     "output_type": "execute_result"
    }
   ],
   "source": [
    "dfs[1].head()"
   ]
  },
  {
   "cell_type": "markdown",
   "metadata": {},
   "source": [
    "Now we see some columns with -99, such as \"ACO\", \"AJM\", etc. This is the case for every dataframe. We should maybe get rid of those columns, but first, we should count the proportion of -99 values per column. We're going to save any column with at least 66% of useful data."
   ]
  },
  {
   "cell_type": "code",
   "execution_count": 9,
   "metadata": {
    "jupyter": {
     "source_hidden": true
    }
   },
   "outputs": [],
   "source": [
    "def filter_empty(df):\n",
    "    length = df.shape[0]\n",
    "    valid_columns = []\n",
    "\n",
    "    for col in df.columns.values:\n",
    "        series = df[col] == -99\n",
    "        counts = series.value_counts()\n",
    "        ratio = (counts.values * np.array(counts.index).astype(int)).sum()/length\n",
    "        if ratio < 0.34:\n",
    "            valid_columns.append(col) # getting the names of columns with >66% fullness\n",
    "\n",
    "    return df[valid_columns].copy()"
   ]
  },
  {
   "cell_type": "code",
   "execution_count": 10,
   "metadata": {},
   "outputs": [],
   "source": [
    "for i, frame in enumerate(dfs):\n",
    "    dfs[i] = filter_empty(frame)"
   ]
  },
  {
   "cell_type": "code",
   "execution_count": 11,
   "metadata": {},
   "outputs": [],
   "source": [
    "max_stations = 0\n",
    "for frame in dfs:\n",
    "    cols = frame.shape[1]\n",
    "    if cols > max_stations:\n",
    "        max_stations = cols # we count the total number of surviving stations\n",
    "        stations_set = frame.columns.values"
   ]
  },
  {
   "cell_type": "markdown",
   "metadata": {},
   "source": [
    "We will now take a big leap: averaging every column, for each dataframe, separately. This will give us a seasonal average of each pollutant, at each station. The averages will be stored in a new dataframe, along their respective stations."
   ]
  },
  {
   "cell_type": "code",
   "execution_count": 12,
   "metadata": {},
   "outputs": [
    {
     "name": "stdout",
     "output_type": "stream",
     "text": [
      "(26, 6)\n"
     ]
    },
    {
     "data": {
      "text/html": [
       "<div>\n",
       "<style scoped>\n",
       "    .dataframe tbody tr th:only-of-type {\n",
       "        vertical-align: middle;\n",
       "    }\n",
       "\n",
       "    .dataframe tbody tr th {\n",
       "        vertical-align: top;\n",
       "    }\n",
       "\n",
       "    .dataframe thead th {\n",
       "        text-align: right;\n",
       "    }\n",
       "</style>\n",
       "<table border=\"1\" class=\"dataframe\">\n",
       "  <thead>\n",
       "    <tr style=\"text-align: right;\">\n",
       "      <th></th>\n",
       "      <th>CO</th>\n",
       "      <th>NO2</th>\n",
       "      <th>O3</th>\n",
       "      <th>SO2</th>\n",
       "      <th>PM10</th>\n",
       "      <th>PM25</th>\n",
       "    </tr>\n",
       "  </thead>\n",
       "  <tbody>\n",
       "    <tr>\n",
       "      <th>AJM</th>\n",
       "      <td>2.957509</td>\n",
       "      <td>7.826194</td>\n",
       "      <td>29.899060</td>\n",
       "      <td>5.377872</td>\n",
       "      <td>48.423798</td>\n",
       "      <td>61.818256</td>\n",
       "    </tr>\n",
       "    <tr>\n",
       "      <th>ATI</th>\n",
       "      <td>3.788774</td>\n",
       "      <td>11.174881</td>\n",
       "      <td>18.627983</td>\n",
       "      <td>6.873116</td>\n",
       "      <td>61.458678</td>\n",
       "      <td>NaN</td>\n",
       "    </tr>\n",
       "    <tr>\n",
       "      <th>BJU</th>\n",
       "      <td>4.624619</td>\n",
       "      <td>NaN</td>\n",
       "      <td>21.430937</td>\n",
       "      <td>NaN</td>\n",
       "      <td>NaN</td>\n",
       "      <td>NaN</td>\n",
       "    </tr>\n",
       "    <tr>\n",
       "      <th>CCA</th>\n",
       "      <td>3.840015</td>\n",
       "      <td>11.999284</td>\n",
       "      <td>22.680272</td>\n",
       "      <td>4.214862</td>\n",
       "      <td>NaN</td>\n",
       "      <td>63.772226</td>\n",
       "    </tr>\n",
       "    <tr>\n",
       "      <th>CHO</th>\n",
       "      <td>4.696246</td>\n",
       "      <td>9.789322</td>\n",
       "      <td>18.401833</td>\n",
       "      <td>1.866947</td>\n",
       "      <td>NaN</td>\n",
       "      <td>NaN</td>\n",
       "    </tr>\n",
       "  </tbody>\n",
       "</table>\n",
       "</div>"
      ],
      "text/plain": [
       "           CO        NO2         O3       SO2       PM10       PM25\n",
       "AJM  2.957509   7.826194  29.899060  5.377872  48.423798  61.818256\n",
       "ATI  3.788774  11.174881  18.627983  6.873116  61.458678        NaN\n",
       "BJU  4.624619        NaN  21.430937       NaN        NaN        NaN\n",
       "CCA  3.840015  11.999284  22.680272  4.214862        NaN  63.772226\n",
       "CHO  4.696246   9.789322  18.401833  1.866947        NaN        NaN"
      ]
     },
     "execution_count": 12,
     "metadata": {},
     "output_type": "execute_result"
    }
   ],
   "source": [
    "cd = np.zeros((max_stations, len(molecules))) \n",
    "\n",
    "for j, molecule in enumerate(molecules): #for each molecule\n",
    "    current = dfs[j]\n",
    "    for i, col in enumerate(stations_set):\n",
    "        if col in current.columns:       #check if columns from the big set are in subset\n",
    "            cd[i, j] = current.loc[:, col].replace(-99, np.nan).mean()\n",
    "    \n",
    "cd = pd.DataFrame(data = cd)\n",
    "cd.columns = molecules\n",
    "cd.index = stations_set\n",
    "\n",
    "cd = cd.replace(0, np.nan)\n",
    "stations_set = frame.columns.values\n",
    "\n",
    "print(cd.shape)\n",
    "cd.head()"
   ]
  },
  {
   "cell_type": "markdown",
   "metadata": {},
   "source": [
    "Our data doesn't look that promising. There are a lot of stations that haven't been working (apparently), and thus, we have missing data. To mitigate some of this, let's fill the NaNs with the means of their respective columns, and add some noise so the clustering algorithm doesn't group those stations together instantly."
   ]
  },
  {
   "cell_type": "code",
   "execution_count": 13,
   "metadata": {},
   "outputs": [
    {
     "data": {
      "text/html": [
       "<div>\n",
       "<style scoped>\n",
       "    .dataframe tbody tr th:only-of-type {\n",
       "        vertical-align: middle;\n",
       "    }\n",
       "\n",
       "    .dataframe tbody tr th {\n",
       "        vertical-align: top;\n",
       "    }\n",
       "\n",
       "    .dataframe thead th {\n",
       "        text-align: right;\n",
       "    }\n",
       "</style>\n",
       "<table border=\"1\" class=\"dataframe\">\n",
       "  <thead>\n",
       "    <tr style=\"text-align: right;\">\n",
       "      <th></th>\n",
       "      <th>CO</th>\n",
       "      <th>NO2</th>\n",
       "      <th>O3</th>\n",
       "      <th>SO2</th>\n",
       "      <th>PM10</th>\n",
       "      <th>PM25</th>\n",
       "    </tr>\n",
       "  </thead>\n",
       "  <tbody>\n",
       "    <tr>\n",
       "      <th>AJM</th>\n",
       "      <td>2.957509</td>\n",
       "      <td>7.826194</td>\n",
       "      <td>29.899060</td>\n",
       "      <td>5.377872</td>\n",
       "      <td>48.423798</td>\n",
       "      <td>61.818256</td>\n",
       "    </tr>\n",
       "    <tr>\n",
       "      <th>ATI</th>\n",
       "      <td>3.788774</td>\n",
       "      <td>11.174881</td>\n",
       "      <td>18.627983</td>\n",
       "      <td>6.873116</td>\n",
       "      <td>61.458678</td>\n",
       "      <td>62.950649</td>\n",
       "    </tr>\n",
       "    <tr>\n",
       "      <th>BJU</th>\n",
       "      <td>4.624619</td>\n",
       "      <td>16.542634</td>\n",
       "      <td>21.430937</td>\n",
       "      <td>10.964558</td>\n",
       "      <td>96.108170</td>\n",
       "      <td>79.460323</td>\n",
       "    </tr>\n",
       "    <tr>\n",
       "      <th>CCA</th>\n",
       "      <td>3.840015</td>\n",
       "      <td>11.999284</td>\n",
       "      <td>22.680272</td>\n",
       "      <td>4.214862</td>\n",
       "      <td>57.399327</td>\n",
       "      <td>63.772226</td>\n",
       "    </tr>\n",
       "    <tr>\n",
       "      <th>CHO</th>\n",
       "      <td>4.696246</td>\n",
       "      <td>9.789322</td>\n",
       "      <td>18.401833</td>\n",
       "      <td>1.866947</td>\n",
       "      <td>65.168476</td>\n",
       "      <td>69.238241</td>\n",
       "    </tr>\n",
       "  </tbody>\n",
       "</table>\n",
       "</div>"
      ],
      "text/plain": [
       "           CO        NO2         O3        SO2       PM10       PM25\n",
       "AJM  2.957509   7.826194  29.899060   5.377872  48.423798  61.818256\n",
       "ATI  3.788774  11.174881  18.627983   6.873116  61.458678  62.950649\n",
       "BJU  4.624619  16.542634  21.430937  10.964558  96.108170  79.460323\n",
       "CCA  3.840015  11.999284  22.680272   4.214862  57.399327  63.772226\n",
       "CHO  4.696246   9.789322  18.401833   1.866947  65.168476  69.238241"
      ]
     },
     "execution_count": 13,
     "metadata": {},
     "output_type": "execute_result"
    }
   ],
   "source": [
    "for i, col in enumerate(molecules):\n",
    "    column_data = cd[col]\n",
    "    mean = column_data.mean()\n",
    "    maxi = column_data.max()\n",
    "    for j, row in enumerate(cd.index.values):\n",
    "        if np.isnan(cd.loc[row, col]):\n",
    "            random.seed(j)\n",
    "            noise = random.uniform(-1.0, 1.0) * random.uniform(0.0, maxi - mean)\n",
    "            cd.loc[row, col] = mean + noise\n",
    "\n",
    "cd.head()"
   ]
  },
  {
   "cell_type": "markdown",
   "metadata": {},
   "source": [
    "We haven't normalized yet, but we will, once the dataset is complete. As things are, most of our data is in inconsistent units (some in parts per million (ppm), some in parts per billion (ppb) and others in micrograms per cubic meter (ug/m^3)."
   ]
  },
  {
   "cell_type": "markdown",
   "metadata": {},
   "source": [
    "<hr>\n",
    "<h1 align='center'> 2.b Data: venues </h1> <a name=\"data_venues\"></a>\n",
    "<hr>"
   ]
  },
  {
   "cell_type": "markdown",
   "metadata": {},
   "source": [
    "We will now obtain the coordinates for each station from the Dirección de Monitoreo Atmosférico (Athmospheric Monitoring Direction, url: http://www.aire.cdmx.gob.mx/default.php?opc=%27ZaBhnmI=&dc=%27ZA==)"
   ]
  },
  {
   "cell_type": "code",
   "execution_count": 15,
   "metadata": {
    "jupyter": {
     "source_hidden": true
    }
   },
   "outputs": [],
   "source": [
    "def scrape_table(url, length, level):\n",
    "    req = requests.get(url)\n",
    "    doc = lh.fromstring(req.content)\n",
    "    tr_elements = doc.xpath('//tr')\n",
    "    col=[] # Create empty list\n",
    "    \n",
    "    for t in tr_elements[level]:  # create header of the table\n",
    "        name = t.text_content()\n",
    "        col.append((name.replace(\"\\n\",\"\"),[]))\n",
    "        \n",
    "    for j in range(level + 1,len(tr_elements)): # populate the table\n",
    "        raw_row = tr_elements[j]\n",
    "        row = [clean_string(word.text_content()) for word in raw_row.iterchildren()] # get words in each column\n",
    "        \n",
    "        if len(row)!= length: # if the row doesn't have \"length\" columns, then it isn't part of our table\n",
    "            break\n",
    "            \n",
    "        for i, data in enumerate(row):\n",
    "            col[i][1].append(data)\n",
    "\n",
    "    Dict={title:column for (title,column) in col}\n",
    "    return pd.DataFrame(Dict)"
   ]
  },
  {
   "cell_type": "code",
   "execution_count": 16,
   "metadata": {
    "jupyter": {
     "source_hidden": true
    }
   },
   "outputs": [],
   "source": [
    "def clean_string(string):\n",
    "    return string.replace('\\t', '').replace('\\n', '').replace('\\r', '').replace(\"msnm\", '')"
   ]
  },
  {
   "cell_type": "markdown",
   "metadata": {},
   "source": [
    "Inspecting the url, we see that there is only one table. The column 'Clave' contains short names (or Codes) for the stations, 'Nombre' contains the actual names of the stations, 'Alcaldía o municipio' is where the stations are located, and 'Entidad' is either Mexico City or Estado de Mexico, which is the area around Mexico City. "
   ]
  },
  {
   "cell_type": "code",
   "execution_count": 19,
   "metadata": {},
   "outputs": [
    {
     "data": {
      "text/html": [
       "<div>\n",
       "<style scoped>\n",
       "    .dataframe tbody tr th:only-of-type {\n",
       "        vertical-align: middle;\n",
       "    }\n",
       "\n",
       "    .dataframe tbody tr th {\n",
       "        vertical-align: top;\n",
       "    }\n",
       "\n",
       "    .dataframe thead th {\n",
       "        text-align: right;\n",
       "    }\n",
       "</style>\n",
       "<table border=\"1\" class=\"dataframe\">\n",
       "  <thead>\n",
       "    <tr style=\"text-align: right;\">\n",
       "      <th></th>\n",
       "      <th>Clave</th>\n",
       "      <th>Nombre</th>\n",
       "      <th>Alcaldía o municipio</th>\n",
       "      <th>Entidad</th>\n",
       "    </tr>\n",
       "  </thead>\n",
       "  <tbody>\n",
       "    <tr>\n",
       "      <th>0</th>\n",
       "      <td>ACO</td>\n",
       "      <td>Acolman</td>\n",
       "      <td>Acolman</td>\n",
       "      <td>Estado de México</td>\n",
       "    </tr>\n",
       "    <tr>\n",
       "      <th>1</th>\n",
       "      <td>AJU</td>\n",
       "      <td>Ajusco</td>\n",
       "      <td>Tlalpan</td>\n",
       "      <td>CDMX</td>\n",
       "    </tr>\n",
       "    <tr>\n",
       "      <th>2</th>\n",
       "      <td>AJM</td>\n",
       "      <td>Ajusco Medio</td>\n",
       "      <td>Tlalpan</td>\n",
       "      <td>CDMX</td>\n",
       "    </tr>\n",
       "    <tr>\n",
       "      <th>3</th>\n",
       "      <td>ATI</td>\n",
       "      <td>Atizapán</td>\n",
       "      <td>Atizapán de Zaragoza</td>\n",
       "      <td>Estado de México</td>\n",
       "    </tr>\n",
       "    <tr>\n",
       "      <th>4</th>\n",
       "      <td>BJU</td>\n",
       "      <td>Benito Juarez</td>\n",
       "      <td>Benito Juárez</td>\n",
       "      <td>CDMX</td>\n",
       "    </tr>\n",
       "  </tbody>\n",
       "</table>\n",
       "</div>"
      ],
      "text/plain": [
       "  Clave         Nombre  Alcaldía o municipio           Entidad\n",
       "0   ACO        Acolman               Acolman  Estado de México\n",
       "1   AJU         Ajusco               Tlalpan              CDMX\n",
       "2   AJM   Ajusco Medio               Tlalpan              CDMX\n",
       "3   ATI       Atizapán  Atizapán de Zaragoza  Estado de México\n",
       "4   BJU  Benito Juarez         Benito Juárez              CDMX"
      ]
     },
     "execution_count": 19,
     "metadata": {},
     "output_type": "execute_result"
    }
   ],
   "source": [
    "deleg = scrape_table('http://www.aire.cdmx.gob.mx/default.php?opc=%27ZaBhnmI=&dc=%27ZA==', 4, 0)\n",
    "deleg.head()"
   ]
  },
  {
   "cell_type": "markdown",
   "metadata": {},
   "source": [
    "We then get the data from the links inside the table above. This will give us the coordinates of each station:"
   ]
  },
  {
   "cell_type": "code",
   "execution_count": 20,
   "metadata": {},
   "outputs": [
    {
     "data": {
      "text/html": [
       "<div>\n",
       "<style scoped>\n",
       "    .dataframe tbody tr th:only-of-type {\n",
       "        vertical-align: middle;\n",
       "    }\n",
       "\n",
       "    .dataframe tbody tr th {\n",
       "        vertical-align: top;\n",
       "    }\n",
       "\n",
       "    .dataframe thead th {\n",
       "        text-align: right;\n",
       "    }\n",
       "</style>\n",
       "<table border=\"1\" class=\"dataframe\">\n",
       "  <thead>\n",
       "    <tr style=\"text-align: right;\">\n",
       "      <th></th>\n",
       "      <th>Domicilio</th>\n",
       "      <th>Alcaldía o municipio</th>\n",
       "      <th>Estado</th>\n",
       "      <th>Latitud</th>\n",
       "      <th>Longitud</th>\n",
       "      <th>Altitud</th>\n",
       "    </tr>\n",
       "  </thead>\n",
       "  <tbody>\n",
       "    <tr>\n",
       "      <th>0</th>\n",
       "      <td>Calzada de los Agustinos s/n, Col. Centro, C.P...</td>\n",
       "      <td>Acolman</td>\n",
       "      <td>Estado de México</td>\n",
       "      <td>19.635501</td>\n",
       "      <td>-98.912003</td>\n",
       "      <td>2198</td>\n",
       "    </tr>\n",
       "    <tr>\n",
       "      <th>1</th>\n",
       "      <td>Km 36.5 Carretera Federal México-Cuernavaca, C...</td>\n",
       "      <td>Tlalpan</td>\n",
       "      <td>CDMX</td>\n",
       "      <td>19.154674</td>\n",
       "      <td>-99.162459</td>\n",
       "      <td>2953</td>\n",
       "    </tr>\n",
       "    <tr>\n",
       "      <th>2</th>\n",
       "      <td>Encinos # 41, col. Miguel Hidalgo 4ta sección,...</td>\n",
       "      <td>Tlalpan</td>\n",
       "      <td>CDMX</td>\n",
       "      <td>19.272100</td>\n",
       "      <td>-99.207658</td>\n",
       "      <td>2619</td>\n",
       "    </tr>\n",
       "    <tr>\n",
       "      <th>3</th>\n",
       "      <td>Oceano Pacífico s/n, Col. Lomas Lindas, C.P. 5...</td>\n",
       "      <td>Atizapán de Zaragoza</td>\n",
       "      <td>Estado de México</td>\n",
       "      <td>19.576963</td>\n",
       "      <td>-99.254133</td>\n",
       "      <td>2341</td>\n",
       "    </tr>\n",
       "    <tr>\n",
       "      <th>4</th>\n",
       "      <td>Municipio libre y Uxmal, Col. Santa Cruz Atoya...</td>\n",
       "      <td>Benito Juárez</td>\n",
       "      <td>CDMX</td>\n",
       "      <td>19.371612</td>\n",
       "      <td>-99.158969</td>\n",
       "      <td>2250</td>\n",
       "    </tr>\n",
       "  </tbody>\n",
       "</table>\n",
       "</div>"
      ],
      "text/plain": [
       "                                           Domicilio  Alcaldía o municipio  \\\n",
       "0  Calzada de los Agustinos s/n, Col. Centro, C.P...               Acolman   \n",
       "1  Km 36.5 Carretera Federal México-Cuernavaca, C...               Tlalpan   \n",
       "2  Encinos # 41, col. Miguel Hidalgo 4ta sección,...               Tlalpan   \n",
       "3  Oceano Pacífico s/n, Col. Lomas Lindas, C.P. 5...  Atizapán de Zaragoza   \n",
       "4  Municipio libre y Uxmal, Col. Santa Cruz Atoya...         Benito Juárez   \n",
       "\n",
       "             Estado    Latitud     Longitud Altitud  \n",
       "0  Estado de México  19.635501   -98.912003   2198   \n",
       "1              CDMX  19.154674   -99.162459   2953   \n",
       "2              CDMX  19.272100  -99.207658    2619   \n",
       "3  Estado de México  19.576963   -99.254133   2341   \n",
       "4              CDMX  19.371612   -99.158969   2250   "
      ]
     },
     "execution_count": 20,
     "metadata": {},
     "output_type": "execute_result"
    }
   ],
   "source": [
    "dom = parse('http://www.aire.cdmx.gob.mx/default.php?opc=%27ZaBhnmI=&dc=%27ZA==').getroot()\n",
    "links = dom.cssselect('a')\n",
    "\n",
    "latlon = []\n",
    "\n",
    "for link in links:\n",
    "    if len(link.text_content()) == 3:\n",
    "        latlon.append(scrape_table(link.get('href'), 6, 2))\n",
    "\n",
    "ll = latlon[0]\n",
    "\n",
    "for i in range(1, len(latlon)):\n",
    "    ll = ll.append(latlon[i], ignore_index=True)\n",
    "\n",
    "ll.head()"
   ]
  },
  {
   "cell_type": "markdown",
   "metadata": {},
   "source": [
    "From the dataframes, we only need 'Clave', 'Latitud', 'Longitud' and 'Altitud'. Let's drop every other column, join the dataframes, make 'Clave' the index, rename the columns and drop every station without air quality data:"
   ]
  },
  {
   "cell_type": "code",
   "execution_count": 21,
   "metadata": {},
   "outputs": [
    {
     "data": {
      "text/html": [
       "<div>\n",
       "<style scoped>\n",
       "    .dataframe tbody tr th:only-of-type {\n",
       "        vertical-align: middle;\n",
       "    }\n",
       "\n",
       "    .dataframe tbody tr th {\n",
       "        vertical-align: top;\n",
       "    }\n",
       "\n",
       "    .dataframe thead th {\n",
       "        text-align: right;\n",
       "    }\n",
       "</style>\n",
       "<table border=\"1\" class=\"dataframe\">\n",
       "  <thead>\n",
       "    <tr style=\"text-align: right;\">\n",
       "      <th></th>\n",
       "      <th>Latitude</th>\n",
       "      <th>Longitude</th>\n",
       "      <th>Altitude</th>\n",
       "    </tr>\n",
       "  </thead>\n",
       "  <tbody>\n",
       "    <tr>\n",
       "      <th>AJM</th>\n",
       "      <td>19.272100</td>\n",
       "      <td>-99.207658</td>\n",
       "      <td>2619</td>\n",
       "    </tr>\n",
       "    <tr>\n",
       "      <th>ATI</th>\n",
       "      <td>19.576963</td>\n",
       "      <td>-99.254133</td>\n",
       "      <td>2341</td>\n",
       "    </tr>\n",
       "    <tr>\n",
       "      <th>BJU</th>\n",
       "      <td>19.371612</td>\n",
       "      <td>-99.158969</td>\n",
       "      <td>2250</td>\n",
       "    </tr>\n",
       "    <tr>\n",
       "      <th>CCA</th>\n",
       "      <td>19.326200</td>\n",
       "      <td>-99.176100</td>\n",
       "      <td>2280</td>\n",
       "    </tr>\n",
       "    <tr>\n",
       "      <th>CHO</th>\n",
       "      <td>19.266948</td>\n",
       "      <td>-98.886088</td>\n",
       "      <td>2253</td>\n",
       "    </tr>\n",
       "  </tbody>\n",
       "</table>\n",
       "</div>"
      ],
      "text/plain": [
       "      Latitude  Longitude  Altitude\n",
       "AJM  19.272100 -99.207658      2619\n",
       "ATI  19.576963 -99.254133      2341\n",
       "BJU  19.371612 -99.158969      2250\n",
       "CCA  19.326200 -99.176100      2280\n",
       "CHO  19.266948 -98.886088      2253"
      ]
     },
     "execution_count": 21,
     "metadata": {},
     "output_type": "execute_result"
    }
   ],
   "source": [
    "if 'Clave' in deleg.columns:\n",
    "    deleg = deleg[['Clave']].join(ll[['Latitud', 'Longitud', 'Altitud']])\n",
    "    deleg.index = deleg['Clave']\n",
    "    deleg.drop(columns = ['Clave'], inplace= True)\n",
    "\n",
    "deleg.index.name = None\n",
    "deleg.rename(columns = {'Latitud': 'Latitude', 'Longitud': 'Longitude', 'Altitud': 'Altitude'}, inplace = True)\n",
    "deleg.loc['FAR', 'Latitude'] = 19.473692\n",
    "\n",
    "for col in deleg.columns:\n",
    "    deleg.loc[:, col] = pd.to_numeric(deleg[col], errors = 'coerce')\n",
    "    \n",
    "deleg = deleg.loc[cd.index.values].copy()\n",
    "    \n",
    "deleg.head()"
   ]
  },
  {
   "cell_type": "markdown",
   "metadata": {},
   "source": [
    "We see that our coordinates dataframe has the same stations as our air quality dataframe. Let's visualize these stations."
   ]
  },
  {
   "cell_type": "code",
   "execution_count": 22,
   "metadata": {},
   "outputs": [
    {
     "data": {
      "text/html": [
       "<div style=\"width:100%;\"><div style=\"position:relative;width:100%;height:0;padding-bottom:60%;\"><iframe src=\"data:text/html;charset=utf-8;base64,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\" style=\"position:absolute;width:100%;height:100%;left:0;top:0;border:none !important;\" allowfullscreen webkitallowfullscreen mozallowfullscreen></iframe></div></div>"
      ],
      "text/plain": [
       "<folium.folium.Map at 0x7f61495c1ac8>"
      ]
     },
     "execution_count": 22,
     "metadata": {},
     "output_type": "execute_result"
    }
   ],
   "source": [
    "# create map of Mexico City (and Estado de Mexico) using latitude and longitude values\n",
    "latitude = 19.4284700\n",
    "longitude = -99.1276600\n",
    "\n",
    "map_mx = folium.Map(location=[latitude, longitude], zoom_start = 10)\n",
    "    \n",
    "# add markers to map\n",
    "for lat, lng, label in zip(deleg['Latitude'], deleg['Longitude'], deleg.index):\n",
    "    label = folium.Popup(label, parse_html=True)\n",
    "    folium.CircleMarker(\n",
    "        [lat, lng],\n",
    "        radius=5,\n",
    "        popup=label,\n",
    "        color='blue',\n",
    "        fill=True,\n",
    "        fill_color='#3186cc',\n",
    "        fill_opacity=0.8,\n",
    "        parse_html=False).add_to(map_mx)  \n",
    "\n",
    "map_mx"
   ]
  },
  {
   "cell_type": "markdown",
   "metadata": {},
   "source": [
    "Now we can set up our credentials for the Foursquare API:"
   ]
  },
  {
   "cell_type": "code",
   "execution_count": 23,
   "metadata": {},
   "outputs": [],
   "source": []
  },
  {
   "cell_type": "markdown",
   "metadata": {},
   "source": [
    "Define the function to fetch locations near to our stations:"
   ]
  },
  {
   "cell_type": "code",
   "execution_count": 24,
   "metadata": {
    "jupyter": {
     "source_hidden": true
    }
   },
   "outputs": [],
   "source": [
    "def getNearbyVenues(names, latitudes, longitudes, radius):\n",
    "    \n",
    "    venues_list=[]\n",
    "    for name, lat, lng in zip(names, latitudes, longitudes):\n",
    "        # create the API request URL\n",
    "        url = 'https://api.foursquare.com/v2/venues/explore?&client_id={}&oauth_token={}&client_secret={}&v={}&ll={},{}&radius={}&limit={}'.format(\n",
    "            CLIENT_ID,\n",
    "            TOKEN,\n",
    "            CLIENT_SECRET, \n",
    "            VERSION, \n",
    "            lat, \n",
    "            lng, \n",
    "            radius, \n",
    "            LIMIT)\n",
    "            \n",
    "        # make the GET request\n",
    "        try:\n",
    "            results = requests.get(url).json()['response']['groups'][0]['items']\n",
    "\n",
    "            # return only relevant information for each nearby venue\n",
    "            venues_list.append([(\n",
    "                name, \n",
    "                lat, \n",
    "                lng, \n",
    "                v['venue']['name'], \n",
    "                v['venue']['location']['lat'], \n",
    "                v['venue']['location']['lng'],  \n",
    "                v['venue']['categories'][0]['name']) for v in results])\n",
    "        except:\n",
    "            pass\n",
    "\n",
    "    nearby_venues = pd.DataFrame([item for venue_list in venues_list for item in venue_list])\n",
    "    nearby_venues.columns = ['Code', \n",
    "                  'Latitude', \n",
    "                  'Longitude', \n",
    "                  'Venue', \n",
    "                  'Venue Latitude', \n",
    "                  'Venue Longitude', \n",
    "                  'Venue Category']\n",
    "    \n",
    "    return(nearby_venues)"
   ]
  },
  {
   "cell_type": "markdown",
   "metadata": {},
   "source": [
    "For good measure, we will grab every venue from a 500 m radius to a 2000 m radius. The 500 m search yields some venues that do not exist in the 2000 m search, maybe due to some restriction in the API. We can then join both dataframes and drop the duplicates, to prevent overlapping. "
   ]
  },
  {
   "cell_type": "code",
   "execution_count": 25,
   "metadata": {},
   "outputs": [],
   "source": [
    "venues0 = getNearbyVenues(names = deleg.index,\n",
    "                         latitudes = deleg['Latitude'],\n",
    "                         longitudes = deleg['Longitude'],\n",
    "                         radius = 500)"
   ]
  },
  {
   "cell_type": "code",
   "execution_count": 26,
   "metadata": {},
   "outputs": [],
   "source": [
    "venues1 = getNearbyVenues(names = deleg.index,\n",
    "                         latitudes = deleg['Latitude'],\n",
    "                         longitudes = deleg['Longitude'],\n",
    "                         radius = 2000)"
   ]
  },
  {
   "cell_type": "markdown",
   "metadata": {},
   "source": [
    "Let's drop the duplicate venues. We will do this by comparing the venue name along with its latitude and longitude, as there cannot be two different venues with the same name and coordinates."
   ]
  },
  {
   "cell_type": "code",
   "execution_count": 27,
   "metadata": {},
   "outputs": [
    {
     "name": "stdout",
     "output_type": "stream",
     "text": [
      "(2405, 7)\n",
      "(2137, 7)\n"
     ]
    },
    {
     "data": {
      "text/html": [
       "<div>\n",
       "<style scoped>\n",
       "    .dataframe tbody tr th:only-of-type {\n",
       "        vertical-align: middle;\n",
       "    }\n",
       "\n",
       "    .dataframe tbody tr th {\n",
       "        vertical-align: top;\n",
       "    }\n",
       "\n",
       "    .dataframe thead th {\n",
       "        text-align: right;\n",
       "    }\n",
       "</style>\n",
       "<table border=\"1\" class=\"dataframe\">\n",
       "  <thead>\n",
       "    <tr style=\"text-align: right;\">\n",
       "      <th></th>\n",
       "      <th>Code</th>\n",
       "      <th>Latitude</th>\n",
       "      <th>Longitude</th>\n",
       "      <th>Venue</th>\n",
       "      <th>Venue Latitude</th>\n",
       "      <th>Venue Longitude</th>\n",
       "      <th>Venue Category</th>\n",
       "    </tr>\n",
       "  </thead>\n",
       "  <tbody>\n",
       "    <tr>\n",
       "      <th>0</th>\n",
       "      <td>AJM</td>\n",
       "      <td>19.2721</td>\n",
       "      <td>-99.207658</td>\n",
       "      <td>Carnitas del Ajusco</td>\n",
       "      <td>19.272523</td>\n",
       "      <td>-99.208687</td>\n",
       "      <td>Mexican Restaurant</td>\n",
       "    </tr>\n",
       "    <tr>\n",
       "      <th>1</th>\n",
       "      <td>AJM</td>\n",
       "      <td>19.2721</td>\n",
       "      <td>-99.207658</td>\n",
       "      <td>El Mostachón</td>\n",
       "      <td>19.273790</td>\n",
       "      <td>-99.207150</td>\n",
       "      <td>Taco Place</td>\n",
       "    </tr>\n",
       "    <tr>\n",
       "      <th>2</th>\n",
       "      <td>AJM</td>\n",
       "      <td>19.2721</td>\n",
       "      <td>-99.207658</td>\n",
       "      <td>La naranja mecánica</td>\n",
       "      <td>19.273658</td>\n",
       "      <td>-99.207507</td>\n",
       "      <td>Convenience Store</td>\n",
       "    </tr>\n",
       "    <tr>\n",
       "      <th>3</th>\n",
       "      <td>AJM</td>\n",
       "      <td>19.2721</td>\n",
       "      <td>-99.207658</td>\n",
       "      <td>Oxxo</td>\n",
       "      <td>19.274657</td>\n",
       "      <td>-99.209401</td>\n",
       "      <td>Convenience Store</td>\n",
       "    </tr>\n",
       "    <tr>\n",
       "      <th>4</th>\n",
       "      <td>AJM</td>\n",
       "      <td>19.2721</td>\n",
       "      <td>-99.207658</td>\n",
       "      <td>Sykaryos Paintball</td>\n",
       "      <td>19.272159</td>\n",
       "      <td>-99.209839</td>\n",
       "      <td>Paintball Field</td>\n",
       "    </tr>\n",
       "  </tbody>\n",
       "</table>\n",
       "</div>"
      ],
      "text/plain": [
       "  Code  Latitude  Longitude                Venue  Venue Latitude  \\\n",
       "0  AJM   19.2721 -99.207658  Carnitas del Ajusco       19.272523   \n",
       "1  AJM   19.2721 -99.207658         El Mostachón       19.273790   \n",
       "2  AJM   19.2721 -99.207658  La naranja mecánica       19.273658   \n",
       "3  AJM   19.2721 -99.207658                 Oxxo       19.274657   \n",
       "4  AJM   19.2721 -99.207658   Sykaryos Paintball       19.272159   \n",
       "\n",
       "   Venue Longitude      Venue Category  \n",
       "0       -99.208687  Mexican Restaurant  \n",
       "1       -99.207150          Taco Place  \n",
       "2       -99.207507   Convenience Store  \n",
       "3       -99.209401   Convenience Store  \n",
       "4       -99.209839     Paintball Field  "
      ]
     },
     "execution_count": 27,
     "metadata": {},
     "output_type": "execute_result"
    }
   ],
   "source": [
    "venues = venues0.append(venues1)\n",
    "print(venues.shape)\n",
    "venues = venues.drop_duplicates(subset = ['Venue', 'Venue Latitude', 'Venue Longitude'], keep = False)\n",
    "venues = venues.reset_index(drop = True)\n",
    "print(venues.shape)\n",
    "venues.head()"
   ]
  },
  {
   "cell_type": "markdown",
   "metadata": {},
   "source": [
    "Dropping duplicates, we got rid of almost 300 venues; however, we still have more than 2000 venues. If we do one-hot encoding, we will have hundreds of dimensions in our data (one per category), and we don't even have a hundred data samples. If we are to cluster this, we need to group our venues in more general categories, and use those categories as our new dimensions. We will group every place to eat under a 'Restaurants & Bars' label, every shop and store under the 'Stores' label, and so on. Sadly, we will do that manually."
   ]
  },
  {
   "cell_type": "code",
   "execution_count": 28,
   "metadata": {},
   "outputs": [],
   "source": [
    "categories = np.unique(venues['Venue Category'])\n",
    "stations = deleg.index.values\n",
    "\n",
    "stores = ['Store', 'Shop', 'Auto Dealership', 'Bookstore', 'Bakery', 'Market']\n",
    "restaurants_bars = ['Restaurant', 'Bar', 'Joint', 'Beer', 'Place', 'Botanero', \n",
    "                    'Breakfast Spot', 'Food', 'Brewery', 'Tea', 'Cafeteria', 'Buffet']\n",
    "medical = ['Dentist', 'Dental', 'Doctor', 'Veterinarian']\n",
    "buildings = ['Building', 'Office']\n",
    "hotels_hostels = ['Bed & Breakfast', 'Hostel', 'Motel']\n",
    "museums_galleries = ['Museum', 'Gallery', 'Exhibit']\n",
    "plazas = ['Plaza']\n",
    "farms = ['Farm']\n",
    "parks_forests = ['Park', 'Forest']\n",
    "schools = ['University', 'School']\n",
    "gyms_sports = ['Gym', 'Sports', 'Studio', 'Martial Arts', 'Paintball', 'Go Kart']\n",
    "stadiums_theaters = ['Stadium', 'Concert Hall', 'Theater']\n",
    "bus_stations = ['Bus Stop', 'Bus Station']\n",
    "sports_fields = ['Soccer', 'Golf']\n",
    "industrial = ['Gas Station', 'Distillery']\n",
    "\n",
    "venues_list = [stores, restaurants_bars, medical, buildings, hotels_hostels, museums_galleries, plazas, \n",
    "         farms, parks_forests, schools, gyms_sports, stadiums_theaters, bus_stations, sports_fields, industrial]\n",
    "names = ['Stores', 'Restaurants & Bars', 'Medical', 'Buildings & Offices', 'Hotels & Hostels',\n",
    "        'Museums & Galleries', 'Plazas', 'Farms', 'Parks & Forests', 'Schools', 'Gyms & Sports', \n",
    "         'Stadiums & Theaters', 'Bus Stations', 'Sports Fields', 'Industrial']\n",
    "\n",
    "skull = np.zeros((len(stations) + 1, len(venues_list) + 1), dtype=object)\n",
    "skull[0, 0] = 'Code'\n",
    "skull[0, 1:] = names\n",
    "skull[1:, 0] = stations\n",
    "\n",
    "for i, station in enumerate(stations):\n",
    "    venues_in_station = venues[venues['Code'] == station]\n",
    "    for j, type_of_venue in enumerate(venues_list):\n",
    "        count = 0\n",
    "        for k, specific_venue in enumerate(type_of_venue):\n",
    "            a = venues_in_station[venues_in_station['Venue Category'].str.contains(specific_venue)]\n",
    "            count += a['Venue Category'].count()\n",
    "        skull[i + 1, j + 1] = count    "
   ]
  },
  {
   "cell_type": "code",
   "execution_count": 29,
   "metadata": {},
   "outputs": [
    {
     "data": {
      "text/html": [
       "<div>\n",
       "<style scoped>\n",
       "    .dataframe tbody tr th:only-of-type {\n",
       "        vertical-align: middle;\n",
       "    }\n",
       "\n",
       "    .dataframe tbody tr th {\n",
       "        vertical-align: top;\n",
       "    }\n",
       "\n",
       "    .dataframe thead th {\n",
       "        text-align: right;\n",
       "    }\n",
       "</style>\n",
       "<table border=\"1\" class=\"dataframe\">\n",
       "  <thead>\n",
       "    <tr style=\"text-align: right;\">\n",
       "      <th></th>\n",
       "      <th>Stores</th>\n",
       "      <th>Restaurants &amp; Bars</th>\n",
       "      <th>Medical</th>\n",
       "      <th>Buildings &amp; Offices</th>\n",
       "      <th>Hotels &amp; Hostels</th>\n",
       "      <th>Museums &amp; Galleries</th>\n",
       "      <th>Plazas</th>\n",
       "      <th>Farms</th>\n",
       "      <th>Parks &amp; Forests</th>\n",
       "      <th>Schools</th>\n",
       "      <th>Gyms &amp; Sports</th>\n",
       "      <th>Stadiums &amp; Theaters</th>\n",
       "      <th>Bus Stations</th>\n",
       "      <th>Sports Fields</th>\n",
       "      <th>Industrial</th>\n",
       "    </tr>\n",
       "  </thead>\n",
       "  <tbody>\n",
       "    <tr>\n",
       "      <th>AJM</th>\n",
       "      <td>7</td>\n",
       "      <td>28</td>\n",
       "      <td>0</td>\n",
       "      <td>1</td>\n",
       "      <td>0</td>\n",
       "      <td>0</td>\n",
       "      <td>0</td>\n",
       "      <td>0</td>\n",
       "      <td>1</td>\n",
       "      <td>0</td>\n",
       "      <td>4</td>\n",
       "      <td>0</td>\n",
       "      <td>0</td>\n",
       "      <td>0</td>\n",
       "      <td>0</td>\n",
       "    </tr>\n",
       "    <tr>\n",
       "      <th>ATI</th>\n",
       "      <td>5</td>\n",
       "      <td>22</td>\n",
       "      <td>0</td>\n",
       "      <td>1</td>\n",
       "      <td>0</td>\n",
       "      <td>0</td>\n",
       "      <td>0</td>\n",
       "      <td>0</td>\n",
       "      <td>2</td>\n",
       "      <td>0</td>\n",
       "      <td>4</td>\n",
       "      <td>0</td>\n",
       "      <td>0</td>\n",
       "      <td>2</td>\n",
       "      <td>0</td>\n",
       "    </tr>\n",
       "    <tr>\n",
       "      <th>BJU</th>\n",
       "      <td>48</td>\n",
       "      <td>55</td>\n",
       "      <td>0</td>\n",
       "      <td>3</td>\n",
       "      <td>1</td>\n",
       "      <td>2</td>\n",
       "      <td>0</td>\n",
       "      <td>0</td>\n",
       "      <td>4</td>\n",
       "      <td>0</td>\n",
       "      <td>13</td>\n",
       "      <td>8</td>\n",
       "      <td>0</td>\n",
       "      <td>4</td>\n",
       "      <td>0</td>\n",
       "    </tr>\n",
       "    <tr>\n",
       "      <th>CCA</th>\n",
       "      <td>9</td>\n",
       "      <td>59</td>\n",
       "      <td>0</td>\n",
       "      <td>0</td>\n",
       "      <td>0</td>\n",
       "      <td>2</td>\n",
       "      <td>1</td>\n",
       "      <td>0</td>\n",
       "      <td>3</td>\n",
       "      <td>2</td>\n",
       "      <td>9</td>\n",
       "      <td>7</td>\n",
       "      <td>2</td>\n",
       "      <td>1</td>\n",
       "      <td>0</td>\n",
       "    </tr>\n",
       "    <tr>\n",
       "      <th>CHO</th>\n",
       "      <td>6</td>\n",
       "      <td>29</td>\n",
       "      <td>0</td>\n",
       "      <td>1</td>\n",
       "      <td>0</td>\n",
       "      <td>0</td>\n",
       "      <td>0</td>\n",
       "      <td>0</td>\n",
       "      <td>0</td>\n",
       "      <td>0</td>\n",
       "      <td>3</td>\n",
       "      <td>0</td>\n",
       "      <td>0</td>\n",
       "      <td>0</td>\n",
       "      <td>0</td>\n",
       "    </tr>\n",
       "  </tbody>\n",
       "</table>\n",
       "</div>"
      ],
      "text/plain": [
       "     Stores  Restaurants & Bars  Medical  Buildings & Offices  \\\n",
       "AJM       7                  28        0                    1   \n",
       "ATI       5                  22        0                    1   \n",
       "BJU      48                  55        0                    3   \n",
       "CCA       9                  59        0                    0   \n",
       "CHO       6                  29        0                    1   \n",
       "\n",
       "     Hotels & Hostels  Museums & Galleries  Plazas  Farms  Parks & Forests  \\\n",
       "AJM                 0                    0       0      0                1   \n",
       "ATI                 0                    0       0      0                2   \n",
       "BJU                 1                    2       0      0                4   \n",
       "CCA                 0                    2       1      0                3   \n",
       "CHO                 0                    0       0      0                0   \n",
       "\n",
       "     Schools  Gyms & Sports  Stadiums & Theaters  Bus Stations  Sports Fields  \\\n",
       "AJM        0              4                    0             0              0   \n",
       "ATI        0              4                    0             0              2   \n",
       "BJU        0             13                    8             0              4   \n",
       "CCA        2              9                    7             2              1   \n",
       "CHO        0              3                    0             0              0   \n",
       "\n",
       "     Industrial  \n",
       "AJM           0  \n",
       "ATI           0  \n",
       "BJU           0  \n",
       "CCA           0  \n",
       "CHO           0  "
      ]
     },
     "execution_count": 29,
     "metadata": {},
     "output_type": "execute_result"
    }
   ],
   "source": [
    "mx = pd.DataFrame(skull[1:, 1:])\n",
    "mx.index = skull[1:, 0]\n",
    "mx.columns = skull[0, 1:]\n",
    "mx.loc['XAL', 'Industrial'] += 1 # accounting for soap factory in XAL, missregistered in foursquare as a lounge\n",
    "\n",
    "mx.head()"
   ]
  },
  {
   "cell_type": "code",
   "execution_count": 30,
   "metadata": {},
   "outputs": [
    {
     "name": "stdout",
     "output_type": "stream",
     "text": [
      "(2137, 7)\n",
      "(26, 15)\n"
     ]
    }
   ],
   "source": [
    "print(venues.shape)\n",
    "print(mx.shape)"
   ]
  },
  {
   "cell_type": "markdown",
   "metadata": {},
   "source": [
    "We've reduced our dimensions from a possible few hundred to 15."
   ]
  },
  {
   "cell_type": "markdown",
   "metadata": {},
   "source": [
    "<hr>\n",
    "<h1 align='center'> 2.c Data: joining the pieces together </h1> <a name=\"data_join\"></a>\n",
    "<hr>"
   ]
  },
  {
   "cell_type": "markdown",
   "metadata": {},
   "source": [
    "Let's add the altitude to this dataframe, mx, and join it with the air quality dataframe, cd:"
   ]
  },
  {
   "cell_type": "code",
   "execution_count": 32,
   "metadata": {},
   "outputs": [
    {
     "data": {
      "text/html": [
       "<div>\n",
       "<style scoped>\n",
       "    .dataframe tbody tr th:only-of-type {\n",
       "        vertical-align: middle;\n",
       "    }\n",
       "\n",
       "    .dataframe tbody tr th {\n",
       "        vertical-align: top;\n",
       "    }\n",
       "\n",
       "    .dataframe thead th {\n",
       "        text-align: right;\n",
       "    }\n",
       "</style>\n",
       "<table border=\"1\" class=\"dataframe\">\n",
       "  <thead>\n",
       "    <tr style=\"text-align: right;\">\n",
       "      <th></th>\n",
       "      <th>CO</th>\n",
       "      <th>NO2</th>\n",
       "      <th>O3</th>\n",
       "      <th>SO2</th>\n",
       "      <th>PM10</th>\n",
       "      <th>PM25</th>\n",
       "      <th>Altitude</th>\n",
       "      <th>Stores</th>\n",
       "      <th>Restaurants &amp; Bars</th>\n",
       "      <th>Medical</th>\n",
       "      <th>...</th>\n",
       "      <th>Museums &amp; Galleries</th>\n",
       "      <th>Plazas</th>\n",
       "      <th>Farms</th>\n",
       "      <th>Parks &amp; Forests</th>\n",
       "      <th>Schools</th>\n",
       "      <th>Gyms &amp; Sports</th>\n",
       "      <th>Stadiums &amp; Theaters</th>\n",
       "      <th>Bus Stations</th>\n",
       "      <th>Sports Fields</th>\n",
       "      <th>Industrial</th>\n",
       "    </tr>\n",
       "  </thead>\n",
       "  <tbody>\n",
       "    <tr>\n",
       "      <th>AJM</th>\n",
       "      <td>2.957509</td>\n",
       "      <td>7.826194</td>\n",
       "      <td>29.899060</td>\n",
       "      <td>5.377872</td>\n",
       "      <td>48.423798</td>\n",
       "      <td>61.818256</td>\n",
       "      <td>2619</td>\n",
       "      <td>7</td>\n",
       "      <td>28</td>\n",
       "      <td>0</td>\n",
       "      <td>...</td>\n",
       "      <td>0</td>\n",
       "      <td>0</td>\n",
       "      <td>0</td>\n",
       "      <td>1</td>\n",
       "      <td>0</td>\n",
       "      <td>4</td>\n",
       "      <td>0</td>\n",
       "      <td>0</td>\n",
       "      <td>0</td>\n",
       "      <td>0</td>\n",
       "    </tr>\n",
       "    <tr>\n",
       "      <th>ATI</th>\n",
       "      <td>3.788774</td>\n",
       "      <td>11.174881</td>\n",
       "      <td>18.627983</td>\n",
       "      <td>6.873116</td>\n",
       "      <td>61.458678</td>\n",
       "      <td>62.950649</td>\n",
       "      <td>2341</td>\n",
       "      <td>5</td>\n",
       "      <td>22</td>\n",
       "      <td>0</td>\n",
       "      <td>...</td>\n",
       "      <td>0</td>\n",
       "      <td>0</td>\n",
       "      <td>0</td>\n",
       "      <td>2</td>\n",
       "      <td>0</td>\n",
       "      <td>4</td>\n",
       "      <td>0</td>\n",
       "      <td>0</td>\n",
       "      <td>2</td>\n",
       "      <td>0</td>\n",
       "    </tr>\n",
       "    <tr>\n",
       "      <th>BJU</th>\n",
       "      <td>4.624619</td>\n",
       "      <td>16.542634</td>\n",
       "      <td>21.430937</td>\n",
       "      <td>10.964558</td>\n",
       "      <td>96.108170</td>\n",
       "      <td>79.460323</td>\n",
       "      <td>2250</td>\n",
       "      <td>48</td>\n",
       "      <td>55</td>\n",
       "      <td>0</td>\n",
       "      <td>...</td>\n",
       "      <td>2</td>\n",
       "      <td>0</td>\n",
       "      <td>0</td>\n",
       "      <td>4</td>\n",
       "      <td>0</td>\n",
       "      <td>13</td>\n",
       "      <td>8</td>\n",
       "      <td>0</td>\n",
       "      <td>4</td>\n",
       "      <td>0</td>\n",
       "    </tr>\n",
       "    <tr>\n",
       "      <th>CCA</th>\n",
       "      <td>3.840015</td>\n",
       "      <td>11.999284</td>\n",
       "      <td>22.680272</td>\n",
       "      <td>4.214862</td>\n",
       "      <td>57.399327</td>\n",
       "      <td>63.772226</td>\n",
       "      <td>2280</td>\n",
       "      <td>9</td>\n",
       "      <td>59</td>\n",
       "      <td>0</td>\n",
       "      <td>...</td>\n",
       "      <td>2</td>\n",
       "      <td>1</td>\n",
       "      <td>0</td>\n",
       "      <td>3</td>\n",
       "      <td>2</td>\n",
       "      <td>9</td>\n",
       "      <td>7</td>\n",
       "      <td>2</td>\n",
       "      <td>1</td>\n",
       "      <td>0</td>\n",
       "    </tr>\n",
       "    <tr>\n",
       "      <th>CHO</th>\n",
       "      <td>4.696246</td>\n",
       "      <td>9.789322</td>\n",
       "      <td>18.401833</td>\n",
       "      <td>1.866947</td>\n",
       "      <td>65.168476</td>\n",
       "      <td>69.238241</td>\n",
       "      <td>2253</td>\n",
       "      <td>6</td>\n",
       "      <td>29</td>\n",
       "      <td>0</td>\n",
       "      <td>...</td>\n",
       "      <td>0</td>\n",
       "      <td>0</td>\n",
       "      <td>0</td>\n",
       "      <td>0</td>\n",
       "      <td>0</td>\n",
       "      <td>3</td>\n",
       "      <td>0</td>\n",
       "      <td>0</td>\n",
       "      <td>0</td>\n",
       "      <td>0</td>\n",
       "    </tr>\n",
       "  </tbody>\n",
       "</table>\n",
       "<p>5 rows × 22 columns</p>\n",
       "</div>"
      ],
      "text/plain": [
       "           CO        NO2         O3        SO2       PM10       PM25  \\\n",
       "AJM  2.957509   7.826194  29.899060   5.377872  48.423798  61.818256   \n",
       "ATI  3.788774  11.174881  18.627983   6.873116  61.458678  62.950649   \n",
       "BJU  4.624619  16.542634  21.430937  10.964558  96.108170  79.460323   \n",
       "CCA  3.840015  11.999284  22.680272   4.214862  57.399327  63.772226   \n",
       "CHO  4.696246   9.789322  18.401833   1.866947  65.168476  69.238241   \n",
       "\n",
       "     Altitude  Stores  Restaurants & Bars  Medical  ...  Museums & Galleries  \\\n",
       "AJM      2619       7                  28        0  ...                    0   \n",
       "ATI      2341       5                  22        0  ...                    0   \n",
       "BJU      2250      48                  55        0  ...                    2   \n",
       "CCA      2280       9                  59        0  ...                    2   \n",
       "CHO      2253       6                  29        0  ...                    0   \n",
       "\n",
       "     Plazas  Farms  Parks & Forests  Schools  Gyms & Sports  \\\n",
       "AJM       0      0                1        0              4   \n",
       "ATI       0      0                2        0              4   \n",
       "BJU       0      0                4        0             13   \n",
       "CCA       1      0                3        2              9   \n",
       "CHO       0      0                0        0              3   \n",
       "\n",
       "     Stadiums & Theaters  Bus Stations  Sports Fields  Industrial  \n",
       "AJM                    0             0              0           0  \n",
       "ATI                    0             0              2           0  \n",
       "BJU                    8             0              4           0  \n",
       "CCA                    7             2              1           0  \n",
       "CHO                    0             0              0           0  \n",
       "\n",
       "[5 rows x 22 columns]"
      ]
     },
     "execution_count": 32,
     "metadata": {},
     "output_type": "execute_result"
    }
   ],
   "source": [
    "if not ('Altitude' in mx.columns): \n",
    "    mx.insert(0, 'Altitude', deleg['Altitude'])\n",
    "cdmx = cd.join(mx)\n",
    "cdmx = cdmx.dropna()\n",
    "cdmx.head()"
   ]
  },
  {
   "cell_type": "markdown",
   "metadata": {},
   "source": [
    "Let's proceed to calculate the IMECA for each pollutant. The IMECA ('metropolitan index for air quality', by its spanish meaning) is a uniform scale by which every pollutant can be compared to each other without worrying about units. First, we have to convert every molecule concentration to ppm (O<sub>3</sub>, SO<sub>2</sub> and NO<sub>2</sub> are in ppb units.)"
   ]
  },
  {
   "cell_type": "code",
   "execution_count": 33,
   "metadata": {},
   "outputs": [
    {
     "data": {
      "text/html": [
       "<div>\n",
       "<style scoped>\n",
       "    .dataframe tbody tr th:only-of-type {\n",
       "        vertical-align: middle;\n",
       "    }\n",
       "\n",
       "    .dataframe tbody tr th {\n",
       "        vertical-align: top;\n",
       "    }\n",
       "\n",
       "    .dataframe thead th {\n",
       "        text-align: right;\n",
       "    }\n",
       "</style>\n",
       "<table border=\"1\" class=\"dataframe\">\n",
       "  <thead>\n",
       "    <tr style=\"text-align: right;\">\n",
       "      <th></th>\n",
       "      <th>CO</th>\n",
       "      <th>NO2</th>\n",
       "      <th>O3</th>\n",
       "      <th>SO2</th>\n",
       "      <th>PM10</th>\n",
       "      <th>PM25</th>\n",
       "      <th>Altitude</th>\n",
       "      <th>Stores</th>\n",
       "      <th>Restaurants &amp; Bars</th>\n",
       "      <th>Medical</th>\n",
       "      <th>...</th>\n",
       "      <th>Museums &amp; Galleries</th>\n",
       "      <th>Plazas</th>\n",
       "      <th>Farms</th>\n",
       "      <th>Parks &amp; Forests</th>\n",
       "      <th>Schools</th>\n",
       "      <th>Gyms &amp; Sports</th>\n",
       "      <th>Stadiums &amp; Theaters</th>\n",
       "      <th>Bus Stations</th>\n",
       "      <th>Sports Fields</th>\n",
       "      <th>Industrial</th>\n",
       "    </tr>\n",
       "  </thead>\n",
       "  <tbody>\n",
       "    <tr>\n",
       "      <th>AJM</th>\n",
       "      <td>2.957509</td>\n",
       "      <td>0.007826</td>\n",
       "      <td>0.029899</td>\n",
       "      <td>0.005378</td>\n",
       "      <td>48.423798</td>\n",
       "      <td>61.818256</td>\n",
       "      <td>2619</td>\n",
       "      <td>7</td>\n",
       "      <td>28</td>\n",
       "      <td>0</td>\n",
       "      <td>...</td>\n",
       "      <td>0</td>\n",
       "      <td>0</td>\n",
       "      <td>0</td>\n",
       "      <td>1</td>\n",
       "      <td>0</td>\n",
       "      <td>4</td>\n",
       "      <td>0</td>\n",
       "      <td>0</td>\n",
       "      <td>0</td>\n",
       "      <td>0</td>\n",
       "    </tr>\n",
       "    <tr>\n",
       "      <th>ATI</th>\n",
       "      <td>3.788774</td>\n",
       "      <td>0.011175</td>\n",
       "      <td>0.018628</td>\n",
       "      <td>0.006873</td>\n",
       "      <td>61.458678</td>\n",
       "      <td>62.950649</td>\n",
       "      <td>2341</td>\n",
       "      <td>5</td>\n",
       "      <td>22</td>\n",
       "      <td>0</td>\n",
       "      <td>...</td>\n",
       "      <td>0</td>\n",
       "      <td>0</td>\n",
       "      <td>0</td>\n",
       "      <td>2</td>\n",
       "      <td>0</td>\n",
       "      <td>4</td>\n",
       "      <td>0</td>\n",
       "      <td>0</td>\n",
       "      <td>2</td>\n",
       "      <td>0</td>\n",
       "    </tr>\n",
       "    <tr>\n",
       "      <th>BJU</th>\n",
       "      <td>4.624619</td>\n",
       "      <td>0.016543</td>\n",
       "      <td>0.021431</td>\n",
       "      <td>0.010965</td>\n",
       "      <td>96.108170</td>\n",
       "      <td>79.460323</td>\n",
       "      <td>2250</td>\n",
       "      <td>48</td>\n",
       "      <td>55</td>\n",
       "      <td>0</td>\n",
       "      <td>...</td>\n",
       "      <td>2</td>\n",
       "      <td>0</td>\n",
       "      <td>0</td>\n",
       "      <td>4</td>\n",
       "      <td>0</td>\n",
       "      <td>13</td>\n",
       "      <td>8</td>\n",
       "      <td>0</td>\n",
       "      <td>4</td>\n",
       "      <td>0</td>\n",
       "    </tr>\n",
       "    <tr>\n",
       "      <th>CCA</th>\n",
       "      <td>3.840015</td>\n",
       "      <td>0.011999</td>\n",
       "      <td>0.022680</td>\n",
       "      <td>0.004215</td>\n",
       "      <td>57.399327</td>\n",
       "      <td>63.772226</td>\n",
       "      <td>2280</td>\n",
       "      <td>9</td>\n",
       "      <td>59</td>\n",
       "      <td>0</td>\n",
       "      <td>...</td>\n",
       "      <td>2</td>\n",
       "      <td>1</td>\n",
       "      <td>0</td>\n",
       "      <td>3</td>\n",
       "      <td>2</td>\n",
       "      <td>9</td>\n",
       "      <td>7</td>\n",
       "      <td>2</td>\n",
       "      <td>1</td>\n",
       "      <td>0</td>\n",
       "    </tr>\n",
       "    <tr>\n",
       "      <th>CHO</th>\n",
       "      <td>4.696246</td>\n",
       "      <td>0.009789</td>\n",
       "      <td>0.018402</td>\n",
       "      <td>0.001867</td>\n",
       "      <td>65.168476</td>\n",
       "      <td>69.238241</td>\n",
       "      <td>2253</td>\n",
       "      <td>6</td>\n",
       "      <td>29</td>\n",
       "      <td>0</td>\n",
       "      <td>...</td>\n",
       "      <td>0</td>\n",
       "      <td>0</td>\n",
       "      <td>0</td>\n",
       "      <td>0</td>\n",
       "      <td>0</td>\n",
       "      <td>3</td>\n",
       "      <td>0</td>\n",
       "      <td>0</td>\n",
       "      <td>0</td>\n",
       "      <td>0</td>\n",
       "    </tr>\n",
       "  </tbody>\n",
       "</table>\n",
       "<p>5 rows × 22 columns</p>\n",
       "</div>"
      ],
      "text/plain": [
       "           CO       NO2        O3       SO2       PM10       PM25  Altitude  \\\n",
       "AJM  2.957509  0.007826  0.029899  0.005378  48.423798  61.818256      2619   \n",
       "ATI  3.788774  0.011175  0.018628  0.006873  61.458678  62.950649      2341   \n",
       "BJU  4.624619  0.016543  0.021431  0.010965  96.108170  79.460323      2250   \n",
       "CCA  3.840015  0.011999  0.022680  0.004215  57.399327  63.772226      2280   \n",
       "CHO  4.696246  0.009789  0.018402  0.001867  65.168476  69.238241      2253   \n",
       "\n",
       "     Stores  Restaurants & Bars  Medical  ...  Museums & Galleries  Plazas  \\\n",
       "AJM       7                  28        0  ...                    0       0   \n",
       "ATI       5                  22        0  ...                    0       0   \n",
       "BJU      48                  55        0  ...                    2       0   \n",
       "CCA       9                  59        0  ...                    2       1   \n",
       "CHO       6                  29        0  ...                    0       0   \n",
       "\n",
       "     Farms  Parks & Forests  Schools  Gyms & Sports  Stadiums & Theaters  \\\n",
       "AJM      0                1        0              4                    0   \n",
       "ATI      0                2        0              4                    0   \n",
       "BJU      0                4        0             13                    8   \n",
       "CCA      0                3        2              9                    7   \n",
       "CHO      0                0        0              3                    0   \n",
       "\n",
       "     Bus Stations  Sports Fields  Industrial  \n",
       "AJM             0              0           0  \n",
       "ATI             0              2           0  \n",
       "BJU             0              4           0  \n",
       "CCA             2              1           0  \n",
       "CHO             0              0           0  \n",
       "\n",
       "[5 rows x 22 columns]"
      ]
     },
     "execution_count": 33,
     "metadata": {},
     "output_type": "execute_result"
    }
   ],
   "source": [
    "cdmx_ppm = cdmx.copy()\n",
    "cdmx_ppm['O3'] = cdmx_ppm['O3'].multiply(1./1000)\n",
    "cdmx_ppm['NO2'] = cdmx_ppm['NO2'].multiply(1./1000)\n",
    "cdmx_ppm['SO2'] = cdmx_ppm['SO2'].multiply(1./1000)\n",
    "cdmx_ppm.head()"
   ]
  },
  {
   "cell_type": "markdown",
   "metadata": {},
   "source": [
    "Next, let's calculate the IMECA, according to Gaceta Oficial del Distrito Federal (the official Mexico City law on how to calculate this):"
   ]
  },
  {
   "cell_type": "code",
   "execution_count": 34,
   "metadata": {
    "jupyter": {
     "source_hidden": true
    }
   },
   "outputs": [],
   "source": [
    "def imeca(df):\n",
    "    df_ = df.copy()\n",
    "    \n",
    "    #for O3\n",
    "    df_['O3'] = df['O3'].multiply(100./0.11)\n",
    "    \n",
    "    #for SO2\n",
    "    df_['SO2'] = df['SO2'].multiply(100./0.13) \n",
    "    \n",
    "    #for CO\n",
    "    df_.loc[df['CO'] <= 5.50, ['CO']] = df.loc[df['CO'] <= 5.50, ['CO']] * (50./5.50)\n",
    "    df_.loc[df['CO'] > 5.50 , ['CO']] = 1.82 + df.loc[df['CO'] > 5.50, ['CO']] * (49./5.49)\n",
    "    df_.loc[df['CO'] > 11.00 , ['CO']] = 2.73+ df.loc[df['CO'] > 11.00, ['CO']] * (49./5.49)\n",
    "    df_.loc[df['CO'] > 16.50 , ['CO']] = 3.64 + df.loc[df['CO'] > 16.50, ['CO']] * (49./5.49)\n",
    "    df_.loc[df['CO'] > 22.00 , ['CO']] = df.loc[df['CO'] > 22.00, ['CO']] * (201./22.01)\n",
    "    \n",
    "    #for NO2\n",
    "    df_.loc[df['NO2'] <= 0.105, ['NO2']] = df.loc[df['NO2'] <= 0.105, ['NO2']] * (50./0.105)\n",
    "    df_.loc[df['NO2'] > 0.105, ['NO2']] = 1.058 + df.loc[df['NO2'] > 0.105, ['NO2']] * (49./0.104)\n",
    "    df_.loc[df['NO2'] > 0.210, ['NO2']] = 1.587 + df.loc[df['NO2'] > 0.210, ['NO2']] * (49./0.104)\n",
    "    df_.loc[df['NO2'] > 0.315, ['NO2']] = 2.115 + df.loc[df['NO2'] < 0.315, ['NO2']] * (49./0.104)\n",
    "    df_.loc[df['NO2'] > 0.420, ['NO2']] = df.loc[df['NO2'] < 0.420, ['NO2']] * (201./0.421)\n",
    "    \n",
    "    #for PM10\n",
    "    df_.loc[df['PM10'] <= 120.0 , ['PM10']] = df.loc[df['PM10'] <= 120.0, ['PM10']] * (5./6)\n",
    "    df_.loc[df['PM10'] > 120.0 , ['PM10']] = 40.0 + df.loc[df['PM10'] > 120.0, ['PM10']] * (0.5)\n",
    "    df_.loc[df['PM10'] > 320.0 , ['PM10']] = df.loc[df['PM10'] > 320.0, ['PM10']] * (5./8)\n",
    "    \n",
    "    #for PM25\n",
    "    df_.loc[df['PM25'] <= 15.4 , ['PM25']] = df.loc[df['PM25'] <= 15.4, ['PM25']] * (50./15.4)\n",
    "    df_.loc[df['PM25'] > 15.4 , ['PM25']] = 20.5 + df.loc[df['PM25'] > 15.4, ['PM25']] * (49./24.9)\n",
    "    df_.loc[df['PM25'] > 40.4 , ['PM25']] = 21.3 + df.loc[df['PM25'] > 40.4, ['PM25']] * (49./24.9)\n",
    "    df_.loc[df['PM25'] > 65.4 , ['PM25']] = 113.2 + df.loc[df['PM25'] > 65.4, ['PM25']] * (49./84.9)\n",
    "    df_.loc[df['PM25'] > 150.4 , ['PM25']] = df.loc[df['PM25'] > 150.4, ['PM25']] * (201./150.5)\n",
    "    \n",
    "    return df_"
   ]
  },
  {
   "cell_type": "code",
   "execution_count": 35,
   "metadata": {},
   "outputs": [
    {
     "data": {
      "text/html": [
       "<div>\n",
       "<style scoped>\n",
       "    .dataframe tbody tr th:only-of-type {\n",
       "        vertical-align: middle;\n",
       "    }\n",
       "\n",
       "    .dataframe tbody tr th {\n",
       "        vertical-align: top;\n",
       "    }\n",
       "\n",
       "    .dataframe thead th {\n",
       "        text-align: right;\n",
       "    }\n",
       "</style>\n",
       "<table border=\"1\" class=\"dataframe\">\n",
       "  <thead>\n",
       "    <tr style=\"text-align: right;\">\n",
       "      <th></th>\n",
       "      <th>CO</th>\n",
       "      <th>NO2</th>\n",
       "      <th>O3</th>\n",
       "      <th>SO2</th>\n",
       "      <th>PM10</th>\n",
       "      <th>PM25</th>\n",
       "      <th>Altitude</th>\n",
       "      <th>Stores</th>\n",
       "      <th>Restaurants &amp; Bars</th>\n",
       "      <th>Medical</th>\n",
       "      <th>...</th>\n",
       "      <th>Museums &amp; Galleries</th>\n",
       "      <th>Plazas</th>\n",
       "      <th>Farms</th>\n",
       "      <th>Parks &amp; Forests</th>\n",
       "      <th>Schools</th>\n",
       "      <th>Gyms &amp; Sports</th>\n",
       "      <th>Stadiums &amp; Theaters</th>\n",
       "      <th>Bus Stations</th>\n",
       "      <th>Sports Fields</th>\n",
       "      <th>Industrial</th>\n",
       "    </tr>\n",
       "  </thead>\n",
       "  <tbody>\n",
       "    <tr>\n",
       "      <th>AJM</th>\n",
       "      <td>26.886450</td>\n",
       "      <td>3.726759</td>\n",
       "      <td>27.180964</td>\n",
       "      <td>4.136824</td>\n",
       "      <td>40.353165</td>\n",
       "      <td>142.950383</td>\n",
       "      <td>2619</td>\n",
       "      <td>7</td>\n",
       "      <td>28</td>\n",
       "      <td>0</td>\n",
       "      <td>...</td>\n",
       "      <td>0</td>\n",
       "      <td>0</td>\n",
       "      <td>0</td>\n",
       "      <td>1</td>\n",
       "      <td>0</td>\n",
       "      <td>4</td>\n",
       "      <td>0</td>\n",
       "      <td>0</td>\n",
       "      <td>0</td>\n",
       "      <td>0</td>\n",
       "    </tr>\n",
       "    <tr>\n",
       "      <th>ATI</th>\n",
       "      <td>34.443400</td>\n",
       "      <td>5.321372</td>\n",
       "      <td>16.934530</td>\n",
       "      <td>5.287012</td>\n",
       "      <td>51.215565</td>\n",
       "      <td>145.178786</td>\n",
       "      <td>2341</td>\n",
       "      <td>5</td>\n",
       "      <td>22</td>\n",
       "      <td>0</td>\n",
       "      <td>...</td>\n",
       "      <td>0</td>\n",
       "      <td>0</td>\n",
       "      <td>0</td>\n",
       "      <td>2</td>\n",
       "      <td>0</td>\n",
       "      <td>4</td>\n",
       "      <td>0</td>\n",
       "      <td>0</td>\n",
       "      <td>2</td>\n",
       "      <td>0</td>\n",
       "    </tr>\n",
       "    <tr>\n",
       "      <th>BJU</th>\n",
       "      <td>42.041990</td>\n",
       "      <td>7.877445</td>\n",
       "      <td>19.482670</td>\n",
       "      <td>8.434276</td>\n",
       "      <td>80.090142</td>\n",
       "      <td>159.060493</td>\n",
       "      <td>2250</td>\n",
       "      <td>48</td>\n",
       "      <td>55</td>\n",
       "      <td>0</td>\n",
       "      <td>...</td>\n",
       "      <td>2</td>\n",
       "      <td>0</td>\n",
       "      <td>0</td>\n",
       "      <td>4</td>\n",
       "      <td>0</td>\n",
       "      <td>13</td>\n",
       "      <td>8</td>\n",
       "      <td>0</td>\n",
       "      <td>4</td>\n",
       "      <td>0</td>\n",
       "    </tr>\n",
       "    <tr>\n",
       "      <th>CCA</th>\n",
       "      <td>34.909223</td>\n",
       "      <td>5.713945</td>\n",
       "      <td>20.618429</td>\n",
       "      <td>3.242201</td>\n",
       "      <td>47.832773</td>\n",
       "      <td>146.795545</td>\n",
       "      <td>2280</td>\n",
       "      <td>9</td>\n",
       "      <td>59</td>\n",
       "      <td>0</td>\n",
       "      <td>...</td>\n",
       "      <td>2</td>\n",
       "      <td>1</td>\n",
       "      <td>0</td>\n",
       "      <td>3</td>\n",
       "      <td>2</td>\n",
       "      <td>9</td>\n",
       "      <td>7</td>\n",
       "      <td>2</td>\n",
       "      <td>1</td>\n",
       "      <td>0</td>\n",
       "    </tr>\n",
       "    <tr>\n",
       "      <th>CHO</th>\n",
       "      <td>42.693143</td>\n",
       "      <td>4.661582</td>\n",
       "      <td>16.728939</td>\n",
       "      <td>1.436113</td>\n",
       "      <td>54.307063</td>\n",
       "      <td>153.160822</td>\n",
       "      <td>2253</td>\n",
       "      <td>6</td>\n",
       "      <td>29</td>\n",
       "      <td>0</td>\n",
       "      <td>...</td>\n",
       "      <td>0</td>\n",
       "      <td>0</td>\n",
       "      <td>0</td>\n",
       "      <td>0</td>\n",
       "      <td>0</td>\n",
       "      <td>3</td>\n",
       "      <td>0</td>\n",
       "      <td>0</td>\n",
       "      <td>0</td>\n",
       "      <td>0</td>\n",
       "    </tr>\n",
       "  </tbody>\n",
       "</table>\n",
       "<p>5 rows × 22 columns</p>\n",
       "</div>"
      ],
      "text/plain": [
       "            CO       NO2         O3       SO2       PM10        PM25  \\\n",
       "AJM  26.886450  3.726759  27.180964  4.136824  40.353165  142.950383   \n",
       "ATI  34.443400  5.321372  16.934530  5.287012  51.215565  145.178786   \n",
       "BJU  42.041990  7.877445  19.482670  8.434276  80.090142  159.060493   \n",
       "CCA  34.909223  5.713945  20.618429  3.242201  47.832773  146.795545   \n",
       "CHO  42.693143  4.661582  16.728939  1.436113  54.307063  153.160822   \n",
       "\n",
       "     Altitude  Stores  Restaurants & Bars  Medical  ...  Museums & Galleries  \\\n",
       "AJM      2619       7                  28        0  ...                    0   \n",
       "ATI      2341       5                  22        0  ...                    0   \n",
       "BJU      2250      48                  55        0  ...                    2   \n",
       "CCA      2280       9                  59        0  ...                    2   \n",
       "CHO      2253       6                  29        0  ...                    0   \n",
       "\n",
       "     Plazas  Farms  Parks & Forests  Schools  Gyms & Sports  \\\n",
       "AJM       0      0                1        0              4   \n",
       "ATI       0      0                2        0              4   \n",
       "BJU       0      0                4        0             13   \n",
       "CCA       1      0                3        2              9   \n",
       "CHO       0      0                0        0              3   \n",
       "\n",
       "     Stadiums & Theaters  Bus Stations  Sports Fields  Industrial  \n",
       "AJM                    0             0              0           0  \n",
       "ATI                    0             0              2           0  \n",
       "BJU                    8             0              4           0  \n",
       "CCA                    7             2              1           0  \n",
       "CHO                    0             0              0           0  \n",
       "\n",
       "[5 rows x 22 columns]"
      ]
     },
     "execution_count": 35,
     "metadata": {},
     "output_type": "execute_result"
    }
   ],
   "source": [
    "cdmx_imeca = imeca(cdmx_ppm)\n",
    "cdmx_imeca.head()"
   ]
  },
  {
   "cell_type": "markdown",
   "metadata": {},
   "source": [
    "Normalizing the last dataframe using minmax:"
   ]
  },
  {
   "cell_type": "code",
   "execution_count": 36,
   "metadata": {},
   "outputs": [],
   "source": [
    "def normalize_dataframe(df): \n",
    "    filtered_columns = list(df.drop(columns = molecules).columns.values)\n",
    "    df_n = df.copy()\n",
    "    \n",
    "    max_pol = df_n.loc[:, molecules].values.max()\n",
    "    min_pol = df_n.loc[:, molecules].values.min()\n",
    "    \n",
    "    for col in molecules:\n",
    "        factor = 1./(max_pol - min_pol)\n",
    "        df_n[col] = (df_n[col] - min_pol) * factor\n",
    "    \n",
    "    for col in filtered_columns:\n",
    "        if col in df_n.columns:\n",
    "            factor = 1.0/(df_n[col].max() - df_n[col].min())\n",
    "            df_n[col] = (df_n[col] - df_n[col].min()).multiply(factor)\n",
    "            \n",
    "    return df_n"
   ]
  },
  {
   "cell_type": "code",
   "execution_count": 37,
   "metadata": {},
   "outputs": [
    {
     "data": {
      "text/html": [
       "<div>\n",
       "<style scoped>\n",
       "    .dataframe tbody tr th:only-of-type {\n",
       "        vertical-align: middle;\n",
       "    }\n",
       "\n",
       "    .dataframe tbody tr th {\n",
       "        vertical-align: top;\n",
       "    }\n",
       "\n",
       "    .dataframe thead th {\n",
       "        text-align: right;\n",
       "    }\n",
       "</style>\n",
       "<table border=\"1\" class=\"dataframe\">\n",
       "  <thead>\n",
       "    <tr style=\"text-align: right;\">\n",
       "      <th></th>\n",
       "      <th>CO</th>\n",
       "      <th>NO2</th>\n",
       "      <th>O3</th>\n",
       "      <th>SO2</th>\n",
       "      <th>PM10</th>\n",
       "      <th>PM25</th>\n",
       "      <th>Altitude</th>\n",
       "      <th>Stores</th>\n",
       "      <th>Restaurants &amp; Bars</th>\n",
       "      <th>Medical</th>\n",
       "      <th>...</th>\n",
       "      <th>Museums &amp; Galleries</th>\n",
       "      <th>Plazas</th>\n",
       "      <th>Farms</th>\n",
       "      <th>Parks &amp; Forests</th>\n",
       "      <th>Schools</th>\n",
       "      <th>Gyms &amp; Sports</th>\n",
       "      <th>Stadiums &amp; Theaters</th>\n",
       "      <th>Bus Stations</th>\n",
       "      <th>Sports Fields</th>\n",
       "      <th>Industrial</th>\n",
       "    </tr>\n",
       "  </thead>\n",
       "  <tbody>\n",
       "    <tr>\n",
       "      <th>AJM</th>\n",
       "      <td>0.160576</td>\n",
       "      <td>0.014453</td>\n",
       "      <td>0.162434</td>\n",
       "      <td>0.017040</td>\n",
       "      <td>0.245542</td>\n",
       "      <td>0.892866</td>\n",
       "      <td>0.843750</td>\n",
       "      <td>0.046512</td>\n",
       "      <td>0.250000</td>\n",
       "      <td>0.0</td>\n",
       "      <td>...</td>\n",
       "      <td>0.000000</td>\n",
       "      <td>0.0</td>\n",
       "      <td>0.0</td>\n",
       "      <td>0.166667</td>\n",
       "      <td>0.0</td>\n",
       "      <td>0.266667</td>\n",
       "      <td>0.000</td>\n",
       "      <td>0.0</td>\n",
       "      <td>0.000000</td>\n",
       "      <td>0.0</td>\n",
       "    </tr>\n",
       "    <tr>\n",
       "      <th>ATI</th>\n",
       "      <td>0.208255</td>\n",
       "      <td>0.024514</td>\n",
       "      <td>0.097785</td>\n",
       "      <td>0.024297</td>\n",
       "      <td>0.314077</td>\n",
       "      <td>0.906926</td>\n",
       "      <td>0.332721</td>\n",
       "      <td>0.000000</td>\n",
       "      <td>0.150000</td>\n",
       "      <td>0.0</td>\n",
       "      <td>...</td>\n",
       "      <td>0.000000</td>\n",
       "      <td>0.0</td>\n",
       "      <td>0.0</td>\n",
       "      <td>0.333333</td>\n",
       "      <td>0.0</td>\n",
       "      <td>0.266667</td>\n",
       "      <td>0.000</td>\n",
       "      <td>0.0</td>\n",
       "      <td>0.133333</td>\n",
       "      <td>0.0</td>\n",
       "    </tr>\n",
       "    <tr>\n",
       "      <th>BJU</th>\n",
       "      <td>0.256198</td>\n",
       "      <td>0.040641</td>\n",
       "      <td>0.113862</td>\n",
       "      <td>0.044154</td>\n",
       "      <td>0.496257</td>\n",
       "      <td>0.994511</td>\n",
       "      <td>0.165441</td>\n",
       "      <td>1.000000</td>\n",
       "      <td>0.700000</td>\n",
       "      <td>0.0</td>\n",
       "      <td>...</td>\n",
       "      <td>0.181818</td>\n",
       "      <td>0.0</td>\n",
       "      <td>0.0</td>\n",
       "      <td>0.666667</td>\n",
       "      <td>0.0</td>\n",
       "      <td>0.866667</td>\n",
       "      <td>1.000</td>\n",
       "      <td>0.0</td>\n",
       "      <td>0.266667</td>\n",
       "      <td>0.0</td>\n",
       "    </tr>\n",
       "    <tr>\n",
       "      <th>CCA</th>\n",
       "      <td>0.211194</td>\n",
       "      <td>0.026990</td>\n",
       "      <td>0.121028</td>\n",
       "      <td>0.011395</td>\n",
       "      <td>0.292734</td>\n",
       "      <td>0.917127</td>\n",
       "      <td>0.220588</td>\n",
       "      <td>0.093023</td>\n",
       "      <td>0.766667</td>\n",
       "      <td>0.0</td>\n",
       "      <td>...</td>\n",
       "      <td>0.181818</td>\n",
       "      <td>1.0</td>\n",
       "      <td>0.0</td>\n",
       "      <td>0.500000</td>\n",
       "      <td>1.0</td>\n",
       "      <td>0.600000</td>\n",
       "      <td>0.875</td>\n",
       "      <td>1.0</td>\n",
       "      <td>0.066667</td>\n",
       "      <td>0.0</td>\n",
       "    </tr>\n",
       "    <tr>\n",
       "      <th>CHO</th>\n",
       "      <td>0.260306</td>\n",
       "      <td>0.020351</td>\n",
       "      <td>0.096488</td>\n",
       "      <td>0.000000</td>\n",
       "      <td>0.333582</td>\n",
       "      <td>0.957288</td>\n",
       "      <td>0.170956</td>\n",
       "      <td>0.023256</td>\n",
       "      <td>0.266667</td>\n",
       "      <td>0.0</td>\n",
       "      <td>...</td>\n",
       "      <td>0.000000</td>\n",
       "      <td>0.0</td>\n",
       "      <td>0.0</td>\n",
       "      <td>0.000000</td>\n",
       "      <td>0.0</td>\n",
       "      <td>0.200000</td>\n",
       "      <td>0.000</td>\n",
       "      <td>0.0</td>\n",
       "      <td>0.000000</td>\n",
       "      <td>0.0</td>\n",
       "    </tr>\n",
       "  </tbody>\n",
       "</table>\n",
       "<p>5 rows × 22 columns</p>\n",
       "</div>"
      ],
      "text/plain": [
       "           CO       NO2        O3       SO2      PM10      PM25  Altitude  \\\n",
       "AJM  0.160576  0.014453  0.162434  0.017040  0.245542  0.892866  0.843750   \n",
       "ATI  0.208255  0.024514  0.097785  0.024297  0.314077  0.906926  0.332721   \n",
       "BJU  0.256198  0.040641  0.113862  0.044154  0.496257  0.994511  0.165441   \n",
       "CCA  0.211194  0.026990  0.121028  0.011395  0.292734  0.917127  0.220588   \n",
       "CHO  0.260306  0.020351  0.096488  0.000000  0.333582  0.957288  0.170956   \n",
       "\n",
       "       Stores  Restaurants & Bars  Medical  ...  Museums & Galleries  Plazas  \\\n",
       "AJM  0.046512            0.250000      0.0  ...             0.000000     0.0   \n",
       "ATI  0.000000            0.150000      0.0  ...             0.000000     0.0   \n",
       "BJU  1.000000            0.700000      0.0  ...             0.181818     0.0   \n",
       "CCA  0.093023            0.766667      0.0  ...             0.181818     1.0   \n",
       "CHO  0.023256            0.266667      0.0  ...             0.000000     0.0   \n",
       "\n",
       "     Farms  Parks & Forests  Schools  Gyms & Sports  Stadiums & Theaters  \\\n",
       "AJM    0.0         0.166667      0.0       0.266667                0.000   \n",
       "ATI    0.0         0.333333      0.0       0.266667                0.000   \n",
       "BJU    0.0         0.666667      0.0       0.866667                1.000   \n",
       "CCA    0.0         0.500000      1.0       0.600000                0.875   \n",
       "CHO    0.0         0.000000      0.0       0.200000                0.000   \n",
       "\n",
       "     Bus Stations  Sports Fields  Industrial  \n",
       "AJM           0.0       0.000000         0.0  \n",
       "ATI           0.0       0.133333         0.0  \n",
       "BJU           0.0       0.266667         0.0  \n",
       "CCA           1.0       0.066667         0.0  \n",
       "CHO           0.0       0.000000         0.0  \n",
       "\n",
       "[5 rows x 22 columns]"
      ]
     },
     "execution_count": 37,
     "metadata": {},
     "output_type": "execute_result"
    }
   ],
   "source": [
    "cdmx_imeca = normalize_dataframe(cdmx_imeca)\n",
    "cdmx_imeca.head()"
   ]
  },
  {
   "cell_type": "markdown",
   "metadata": {},
   "source": [
    "We are now going to create one last dataframe. We will average each column in cdmx to create a single pollution value. This value, which we will call 'pIndex' (for 'pollution index'), will summarize the values for all molecules. The other columns from cdmx will be copied on to the new dataframe. "
   ]
  },
  {
   "cell_type": "code",
   "execution_count": 38,
   "metadata": {},
   "outputs": [
    {
     "data": {
      "text/html": [
       "<div>\n",
       "<style scoped>\n",
       "    .dataframe tbody tr th:only-of-type {\n",
       "        vertical-align: middle;\n",
       "    }\n",
       "\n",
       "    .dataframe tbody tr th {\n",
       "        vertical-align: top;\n",
       "    }\n",
       "\n",
       "    .dataframe thead th {\n",
       "        text-align: right;\n",
       "    }\n",
       "</style>\n",
       "<table border=\"1\" class=\"dataframe\">\n",
       "  <thead>\n",
       "    <tr style=\"text-align: right;\">\n",
       "      <th></th>\n",
       "      <th>pIndex</th>\n",
       "      <th>CO</th>\n",
       "      <th>NO2</th>\n",
       "      <th>O3</th>\n",
       "      <th>SO2</th>\n",
       "      <th>PM10</th>\n",
       "      <th>PM25</th>\n",
       "      <th>Altitude</th>\n",
       "      <th>Stores</th>\n",
       "      <th>Restaurants &amp; Bars</th>\n",
       "      <th>...</th>\n",
       "      <th>Museums &amp; Galleries</th>\n",
       "      <th>Plazas</th>\n",
       "      <th>Farms</th>\n",
       "      <th>Parks &amp; Forests</th>\n",
       "      <th>Schools</th>\n",
       "      <th>Gyms &amp; Sports</th>\n",
       "      <th>Stadiums &amp; Theaters</th>\n",
       "      <th>Bus Stations</th>\n",
       "      <th>Sports Fields</th>\n",
       "      <th>Industrial</th>\n",
       "    </tr>\n",
       "  </thead>\n",
       "  <tbody>\n",
       "    <tr>\n",
       "      <th>AJM</th>\n",
       "      <td>0.248818</td>\n",
       "      <td>0.160576</td>\n",
       "      <td>0.014453</td>\n",
       "      <td>0.162434</td>\n",
       "      <td>0.017040</td>\n",
       "      <td>0.245542</td>\n",
       "      <td>0.892866</td>\n",
       "      <td>0.843750</td>\n",
       "      <td>0.046512</td>\n",
       "      <td>0.250000</td>\n",
       "      <td>...</td>\n",
       "      <td>0.000000</td>\n",
       "      <td>0.0</td>\n",
       "      <td>0.0</td>\n",
       "      <td>0.166667</td>\n",
       "      <td>0.0</td>\n",
       "      <td>0.266667</td>\n",
       "      <td>0.000</td>\n",
       "      <td>0.0</td>\n",
       "      <td>0.000000</td>\n",
       "      <td>0.0</td>\n",
       "    </tr>\n",
       "    <tr>\n",
       "      <th>ATI</th>\n",
       "      <td>0.262642</td>\n",
       "      <td>0.208255</td>\n",
       "      <td>0.024514</td>\n",
       "      <td>0.097785</td>\n",
       "      <td>0.024297</td>\n",
       "      <td>0.314077</td>\n",
       "      <td>0.906926</td>\n",
       "      <td>0.332721</td>\n",
       "      <td>0.000000</td>\n",
       "      <td>0.150000</td>\n",
       "      <td>...</td>\n",
       "      <td>0.000000</td>\n",
       "      <td>0.0</td>\n",
       "      <td>0.0</td>\n",
       "      <td>0.333333</td>\n",
       "      <td>0.0</td>\n",
       "      <td>0.266667</td>\n",
       "      <td>0.000</td>\n",
       "      <td>0.0</td>\n",
       "      <td>0.133333</td>\n",
       "      <td>0.0</td>\n",
       "    </tr>\n",
       "    <tr>\n",
       "      <th>BJU</th>\n",
       "      <td>0.324270</td>\n",
       "      <td>0.256198</td>\n",
       "      <td>0.040641</td>\n",
       "      <td>0.113862</td>\n",
       "      <td>0.044154</td>\n",
       "      <td>0.496257</td>\n",
       "      <td>0.994511</td>\n",
       "      <td>0.165441</td>\n",
       "      <td>1.000000</td>\n",
       "      <td>0.700000</td>\n",
       "      <td>...</td>\n",
       "      <td>0.181818</td>\n",
       "      <td>0.0</td>\n",
       "      <td>0.0</td>\n",
       "      <td>0.666667</td>\n",
       "      <td>0.0</td>\n",
       "      <td>0.866667</td>\n",
       "      <td>1.000</td>\n",
       "      <td>0.0</td>\n",
       "      <td>0.266667</td>\n",
       "      <td>0.0</td>\n",
       "    </tr>\n",
       "    <tr>\n",
       "      <th>CCA</th>\n",
       "      <td>0.263411</td>\n",
       "      <td>0.211194</td>\n",
       "      <td>0.026990</td>\n",
       "      <td>0.121028</td>\n",
       "      <td>0.011395</td>\n",
       "      <td>0.292734</td>\n",
       "      <td>0.917127</td>\n",
       "      <td>0.220588</td>\n",
       "      <td>0.093023</td>\n",
       "      <td>0.766667</td>\n",
       "      <td>...</td>\n",
       "      <td>0.181818</td>\n",
       "      <td>1.0</td>\n",
       "      <td>0.0</td>\n",
       "      <td>0.500000</td>\n",
       "      <td>1.0</td>\n",
       "      <td>0.600000</td>\n",
       "      <td>0.875</td>\n",
       "      <td>1.0</td>\n",
       "      <td>0.066667</td>\n",
       "      <td>0.0</td>\n",
       "    </tr>\n",
       "    <tr>\n",
       "      <th>CHO</th>\n",
       "      <td>0.278002</td>\n",
       "      <td>0.260306</td>\n",
       "      <td>0.020351</td>\n",
       "      <td>0.096488</td>\n",
       "      <td>0.000000</td>\n",
       "      <td>0.333582</td>\n",
       "      <td>0.957288</td>\n",
       "      <td>0.170956</td>\n",
       "      <td>0.023256</td>\n",
       "      <td>0.266667</td>\n",
       "      <td>...</td>\n",
       "      <td>0.000000</td>\n",
       "      <td>0.0</td>\n",
       "      <td>0.0</td>\n",
       "      <td>0.000000</td>\n",
       "      <td>0.0</td>\n",
       "      <td>0.200000</td>\n",
       "      <td>0.000</td>\n",
       "      <td>0.0</td>\n",
       "      <td>0.000000</td>\n",
       "      <td>0.0</td>\n",
       "    </tr>\n",
       "  </tbody>\n",
       "</table>\n",
       "<p>5 rows × 23 columns</p>\n",
       "</div>"
      ],
      "text/plain": [
       "       pIndex        CO       NO2        O3       SO2      PM10      PM25  \\\n",
       "AJM  0.248818  0.160576  0.014453  0.162434  0.017040  0.245542  0.892866   \n",
       "ATI  0.262642  0.208255  0.024514  0.097785  0.024297  0.314077  0.906926   \n",
       "BJU  0.324270  0.256198  0.040641  0.113862  0.044154  0.496257  0.994511   \n",
       "CCA  0.263411  0.211194  0.026990  0.121028  0.011395  0.292734  0.917127   \n",
       "CHO  0.278002  0.260306  0.020351  0.096488  0.000000  0.333582  0.957288   \n",
       "\n",
       "     Altitude    Stores  Restaurants & Bars  ...  Museums & Galleries  Plazas  \\\n",
       "AJM  0.843750  0.046512            0.250000  ...             0.000000     0.0   \n",
       "ATI  0.332721  0.000000            0.150000  ...             0.000000     0.0   \n",
       "BJU  0.165441  1.000000            0.700000  ...             0.181818     0.0   \n",
       "CCA  0.220588  0.093023            0.766667  ...             0.181818     1.0   \n",
       "CHO  0.170956  0.023256            0.266667  ...             0.000000     0.0   \n",
       "\n",
       "     Farms  Parks & Forests  Schools  Gyms & Sports  Stadiums & Theaters  \\\n",
       "AJM    0.0         0.166667      0.0       0.266667                0.000   \n",
       "ATI    0.0         0.333333      0.0       0.266667                0.000   \n",
       "BJU    0.0         0.666667      0.0       0.866667                1.000   \n",
       "CCA    0.0         0.500000      1.0       0.600000                0.875   \n",
       "CHO    0.0         0.000000      0.0       0.200000                0.000   \n",
       "\n",
       "     Bus Stations  Sports Fields  Industrial  \n",
       "AJM           0.0       0.000000         0.0  \n",
       "ATI           0.0       0.133333         0.0  \n",
       "BJU           0.0       0.266667         0.0  \n",
       "CCA           1.0       0.066667         0.0  \n",
       "CHO           0.0       0.000000         0.0  \n",
       "\n",
       "[5 rows x 23 columns]"
      ]
     },
     "execution_count": 38,
     "metadata": {},
     "output_type": "execute_result"
    }
   ],
   "source": [
    "cdmx_n = np.zeros((cdmx_imeca.shape[0], 1))\n",
    "len_molecules = len(molecules)\n",
    "\n",
    "for i, row in enumerate(cdmx_imeca.index):\n",
    "    average = 0\n",
    "    len_data = 0\n",
    "    for col in molecules:\n",
    "        average += cdmx_imeca.loc[row, col]\n",
    "        len_data += 1\n",
    "    cdmx_n[i] = average/len_data\n",
    "    \n",
    "cdmx_n = pd.DataFrame(data = cdmx_n, columns = ['pIndex'])\n",
    "cdmx_n.index = cdmx_imeca.index\n",
    "cdmx_n = cdmx_n.join(cdmx_imeca)\n",
    "cdmx_n.head()"
   ]
  },
  {
   "cell_type": "markdown",
   "metadata": {},
   "source": [
    "Normalizing the pIndex column:"
   ]
  },
  {
   "cell_type": "code",
   "execution_count": 39,
   "metadata": {},
   "outputs": [
    {
     "data": {
      "text/html": [
       "<div>\n",
       "<style scoped>\n",
       "    .dataframe tbody tr th:only-of-type {\n",
       "        vertical-align: middle;\n",
       "    }\n",
       "\n",
       "    .dataframe tbody tr th {\n",
       "        vertical-align: top;\n",
       "    }\n",
       "\n",
       "    .dataframe thead th {\n",
       "        text-align: right;\n",
       "    }\n",
       "</style>\n",
       "<table border=\"1\" class=\"dataframe\">\n",
       "  <thead>\n",
       "    <tr style=\"text-align: right;\">\n",
       "      <th></th>\n",
       "      <th>pIndex</th>\n",
       "      <th>CO</th>\n",
       "      <th>NO2</th>\n",
       "      <th>O3</th>\n",
       "      <th>SO2</th>\n",
       "      <th>PM10</th>\n",
       "      <th>PM25</th>\n",
       "      <th>Altitude</th>\n",
       "      <th>Stores</th>\n",
       "      <th>Restaurants &amp; Bars</th>\n",
       "      <th>...</th>\n",
       "      <th>Museums &amp; Galleries</th>\n",
       "      <th>Plazas</th>\n",
       "      <th>Farms</th>\n",
       "      <th>Parks &amp; Forests</th>\n",
       "      <th>Schools</th>\n",
       "      <th>Gyms &amp; Sports</th>\n",
       "      <th>Stadiums &amp; Theaters</th>\n",
       "      <th>Bus Stations</th>\n",
       "      <th>Sports Fields</th>\n",
       "      <th>Industrial</th>\n",
       "    </tr>\n",
       "  </thead>\n",
       "  <tbody>\n",
       "    <tr>\n",
       "      <th>AJM</th>\n",
       "      <td>0.063152</td>\n",
       "      <td>0.160576</td>\n",
       "      <td>0.014453</td>\n",
       "      <td>0.162434</td>\n",
       "      <td>0.017040</td>\n",
       "      <td>0.245542</td>\n",
       "      <td>0.892866</td>\n",
       "      <td>0.843750</td>\n",
       "      <td>0.046512</td>\n",
       "      <td>0.250000</td>\n",
       "      <td>...</td>\n",
       "      <td>0.000000</td>\n",
       "      <td>0.0</td>\n",
       "      <td>0.0</td>\n",
       "      <td>0.166667</td>\n",
       "      <td>0.0</td>\n",
       "      <td>0.266667</td>\n",
       "      <td>0.000</td>\n",
       "      <td>0.0</td>\n",
       "      <td>0.000000</td>\n",
       "      <td>0.0</td>\n",
       "    </tr>\n",
       "    <tr>\n",
       "      <th>ATI</th>\n",
       "      <td>0.206851</td>\n",
       "      <td>0.208255</td>\n",
       "      <td>0.024514</td>\n",
       "      <td>0.097785</td>\n",
       "      <td>0.024297</td>\n",
       "      <td>0.314077</td>\n",
       "      <td>0.906926</td>\n",
       "      <td>0.332721</td>\n",
       "      <td>0.000000</td>\n",
       "      <td>0.150000</td>\n",
       "      <td>...</td>\n",
       "      <td>0.000000</td>\n",
       "      <td>0.0</td>\n",
       "      <td>0.0</td>\n",
       "      <td>0.333333</td>\n",
       "      <td>0.0</td>\n",
       "      <td>0.266667</td>\n",
       "      <td>0.000</td>\n",
       "      <td>0.0</td>\n",
       "      <td>0.133333</td>\n",
       "      <td>0.0</td>\n",
       "    </tr>\n",
       "    <tr>\n",
       "      <th>BJU</th>\n",
       "      <td>0.847470</td>\n",
       "      <td>0.256198</td>\n",
       "      <td>0.040641</td>\n",
       "      <td>0.113862</td>\n",
       "      <td>0.044154</td>\n",
       "      <td>0.496257</td>\n",
       "      <td>0.994511</td>\n",
       "      <td>0.165441</td>\n",
       "      <td>1.000000</td>\n",
       "      <td>0.700000</td>\n",
       "      <td>...</td>\n",
       "      <td>0.181818</td>\n",
       "      <td>0.0</td>\n",
       "      <td>0.0</td>\n",
       "      <td>0.666667</td>\n",
       "      <td>0.0</td>\n",
       "      <td>0.866667</td>\n",
       "      <td>1.000</td>\n",
       "      <td>0.0</td>\n",
       "      <td>0.266667</td>\n",
       "      <td>0.0</td>\n",
       "    </tr>\n",
       "    <tr>\n",
       "      <th>CCA</th>\n",
       "      <td>0.214846</td>\n",
       "      <td>0.211194</td>\n",
       "      <td>0.026990</td>\n",
       "      <td>0.121028</td>\n",
       "      <td>0.011395</td>\n",
       "      <td>0.292734</td>\n",
       "      <td>0.917127</td>\n",
       "      <td>0.220588</td>\n",
       "      <td>0.093023</td>\n",
       "      <td>0.766667</td>\n",
       "      <td>...</td>\n",
       "      <td>0.181818</td>\n",
       "      <td>1.0</td>\n",
       "      <td>0.0</td>\n",
       "      <td>0.500000</td>\n",
       "      <td>1.0</td>\n",
       "      <td>0.600000</td>\n",
       "      <td>0.875</td>\n",
       "      <td>1.0</td>\n",
       "      <td>0.066667</td>\n",
       "      <td>0.0</td>\n",
       "    </tr>\n",
       "    <tr>\n",
       "      <th>CHO</th>\n",
       "      <td>0.366518</td>\n",
       "      <td>0.260306</td>\n",
       "      <td>0.020351</td>\n",
       "      <td>0.096488</td>\n",
       "      <td>0.000000</td>\n",
       "      <td>0.333582</td>\n",
       "      <td>0.957288</td>\n",
       "      <td>0.170956</td>\n",
       "      <td>0.023256</td>\n",
       "      <td>0.266667</td>\n",
       "      <td>...</td>\n",
       "      <td>0.000000</td>\n",
       "      <td>0.0</td>\n",
       "      <td>0.0</td>\n",
       "      <td>0.000000</td>\n",
       "      <td>0.0</td>\n",
       "      <td>0.200000</td>\n",
       "      <td>0.000</td>\n",
       "      <td>0.0</td>\n",
       "      <td>0.000000</td>\n",
       "      <td>0.0</td>\n",
       "    </tr>\n",
       "  </tbody>\n",
       "</table>\n",
       "<p>5 rows × 23 columns</p>\n",
       "</div>"
      ],
      "text/plain": [
       "       pIndex        CO       NO2        O3       SO2      PM10      PM25  \\\n",
       "AJM  0.063152  0.160576  0.014453  0.162434  0.017040  0.245542  0.892866   \n",
       "ATI  0.206851  0.208255  0.024514  0.097785  0.024297  0.314077  0.906926   \n",
       "BJU  0.847470  0.256198  0.040641  0.113862  0.044154  0.496257  0.994511   \n",
       "CCA  0.214846  0.211194  0.026990  0.121028  0.011395  0.292734  0.917127   \n",
       "CHO  0.366518  0.260306  0.020351  0.096488  0.000000  0.333582  0.957288   \n",
       "\n",
       "     Altitude    Stores  Restaurants & Bars  ...  Museums & Galleries  Plazas  \\\n",
       "AJM  0.843750  0.046512            0.250000  ...             0.000000     0.0   \n",
       "ATI  0.332721  0.000000            0.150000  ...             0.000000     0.0   \n",
       "BJU  0.165441  1.000000            0.700000  ...             0.181818     0.0   \n",
       "CCA  0.220588  0.093023            0.766667  ...             0.181818     1.0   \n",
       "CHO  0.170956  0.023256            0.266667  ...             0.000000     0.0   \n",
       "\n",
       "     Farms  Parks & Forests  Schools  Gyms & Sports  Stadiums & Theaters  \\\n",
       "AJM    0.0         0.166667      0.0       0.266667                0.000   \n",
       "ATI    0.0         0.333333      0.0       0.266667                0.000   \n",
       "BJU    0.0         0.666667      0.0       0.866667                1.000   \n",
       "CCA    0.0         0.500000      1.0       0.600000                0.875   \n",
       "CHO    0.0         0.000000      0.0       0.200000                0.000   \n",
       "\n",
       "     Bus Stations  Sports Fields  Industrial  \n",
       "AJM           0.0       0.000000         0.0  \n",
       "ATI           0.0       0.133333         0.0  \n",
       "BJU           0.0       0.266667         0.0  \n",
       "CCA           1.0       0.066667         0.0  \n",
       "CHO           0.0       0.000000         0.0  \n",
       "\n",
       "[5 rows x 23 columns]"
      ]
     },
     "execution_count": 39,
     "metadata": {},
     "output_type": "execute_result"
    }
   ],
   "source": [
    "cdmx_n = normalize_dataframe(cdmx_n)\n",
    "cdmx_n.head()"
   ]
  },
  {
   "cell_type": "markdown",
   "metadata": {},
   "source": [
    "<hr>\n",
    "<h1 align='center'> 3. Exploratory analysis of the data </h1> <a name=\"exploration\"></a>\n",
    "<hr>"
   ]
  },
  {
   "cell_type": "markdown",
   "metadata": {},
   "source": [
    "Now that we have all our variables together, we should see some statistics. Let's see the means of the non-normalized IMECA scores:"
   ]
  },
  {
   "cell_type": "code",
   "execution_count": 87,
   "metadata": {},
   "outputs": [
    {
     "data": {
      "text/plain": [
       "CO                       43.418071\n",
       "NO2                       6.044227\n",
       "O3                       19.258842\n",
       "SO2                       4.410976\n",
       "PM10                     55.363371\n",
       "PM25                    152.484217\n",
       "Altitude               2309.307692\n",
       "Stores                   18.038462\n",
       "Restaurants & Bars       40.423077\n",
       "Medical                   0.076923\n",
       "Buildings & Offices       0.884615\n",
       "Hotels & Hostels          0.115385\n",
       "Museums & Galleries       1.269231\n",
       "Plazas                    0.346154\n",
       "Farms                     0.153846\n",
       "Parks & Forests           1.730769\n",
       "Schools                   0.153846\n",
       "Gyms & Sports             5.615385\n",
       "Stadiums & Theaters       1.692308\n",
       "Bus Stations              0.269231\n",
       "Sports Fields             1.307692\n",
       "Industrial                0.153846\n",
       "dtype: float64"
      ]
     },
     "execution_count": 87,
     "metadata": {},
     "output_type": "execute_result"
    }
   ],
   "source": [
    "imeca(cdmx_ppm).mean()"
   ]
  },
  {
   "cell_type": "markdown",
   "metadata": {},
   "source": [
    "For reference, the IMECA scores are classified according to the following:\n",
    "\n",
    "Good:            0 - 50\n",
    "Regular:        50 - 100\n",
    "Bad:           100 - 150\n",
    "Very Bad:      150 - 200\n",
    "Extremely bad:     > 200\n",
    "\n",
    "This implies that concentrations of NO<sub>2</sub>, O<sub>3</sub> and SO<sub>2</sub> are nothing to worry about, concentrations of CO and PM10 are regular, and PM25 is at a dangerous level.\n",
    "\n",
    "About the venues, we could expect, due to the large amount of stores and places to eat around each station, that those two variables have a high influence on pollution, followed by the Parks & Forests variable. \n",
    "\n",
    "\n",
    "Now let's see our normalized data. For starters, the pollutants should be correlated to our pIndex enough to be statistically significant. Let's see if this is the case: "
   ]
  },
  {
   "cell_type": "code",
   "execution_count": 74,
   "metadata": {},
   "outputs": [],
   "source": [
    "# this function returns pearson correlations, names of variables involved, \n",
    "# and p values of the correlations between 'center' and the rest of \n",
    "# the variables in df\n",
    "\n",
    "def pearson_correlations(df, center): \n",
    "    df_corr = df.corr()\n",
    "    col = df_corr.loc[:, center]\n",
    "    psn_pval = np.zeros((len(col), 3), dtype = object)\n",
    "    \n",
    "    for i, variable in enumerate(col.keys()):\n",
    "        psn_pval[i, 0] = variable\n",
    "        psn_pval[i, 1], psn_pval[i, 2] = stats.pearsonr(df[variable], df[center])\n",
    "    \n",
    "    return psn_pval"
   ]
  },
  {
   "cell_type": "code",
   "execution_count": 88,
   "metadata": {},
   "outputs": [],
   "source": [
    "# this function prints every correlation from pearson_correlations\n",
    "\n",
    "def print_correlations(array):\n",
    "    for i in range(array.shape[0]):\n",
    "        switch = False\n",
    "        variable = array[i, 0]\n",
    "        coef = array[i, 1]\n",
    "        pval = array[i, 2]\n",
    "        if ((coef >= 0.7) | (coef <= -0.7)):\n",
    "            word = ' strong'\n",
    "            switch = True\n",
    "        elif ((coef >= 0.5) | (coef <= -0.5)):\n",
    "            word = 'moderate'\n",
    "            switch = True\n",
    "        elif ((coef >= 0.3) | (coef <= -0.3)):\n",
    "            word = '  weak'\n",
    "            switch = True\n",
    "        if switch:\n",
    "            print('%+20s --> %+5.2f | %-8s | p value = %6.4f' % (variable, coef, word, pval))"
   ]
  },
  {
   "cell_type": "code",
   "execution_count": 42,
   "metadata": {},
   "outputs": [
    {
     "name": "stdout",
     "output_type": "stream",
     "text": [
      "              pIndex --> +1.00 |  strong  | p value = 0.0000\n",
      "                  CO --> +0.74 |  strong  | p value = 0.0000\n",
      "                 NO2 --> +0.49 |   weak   | p value = 0.0116\n",
      "                  O3 --> -0.57 | moderate | p value = 0.0022\n",
      "                 SO2 --> +0.35 |   weak   | p value = 0.0777\n",
      "                PM10 --> +0.84 |  strong  | p value = 0.0000\n",
      "                PM25 --> +0.88 |  strong  | p value = 0.0000\n"
     ]
    }
   ],
   "source": [
    "print_correlations(pearson_correlations(cdmx_n[['pIndex'] + molecules], 'pIndex'))"
   ]
  },
  {
   "cell_type": "markdown",
   "metadata": {},
   "source": [
    "The only pollutant which we cannot affirm is statistically correlated to our pIndex is SO<sub>2</sub>, but then again, the p value is not that large. We can let it slide, because the (possible) correlation is the weakest of all, anyway. The numbers that really stand out here are the correlation coefficient and p value of O<sub>3</sub>. Since O<sub>3</sub> is a pollutant, it is expected that it would correlate positively with pIndex - it was even used in the calculation of pIndex. But we must not forget that correlation does not equal causation. There are many complex interactions between chemical species. For example, a quick review of available literature states that O<sub>3</sub> can be obtained as a direct product of photolysis of NO<sub>2</sub> (sillman, 1999): sunlight breaks NO<sub>2</sub> into NO + O, and then O rapidly bounds to O<sub>2</sub> to produce O<sub>3</sub>, which results in a net loss of NO<sub>2</sub> and a net gain of O<sub>3</sub>. NO<sub>2</sub>, in turn, can also be produced from NO and O<sub>3</sub>, which counters the other reaction, but sometimes this balance can break, for different reasons. If this is the case for GMX, then we should see a negative correlation between NO<sub>2</sub> and O<sub>3</sub> in our data: \n"
   ]
  },
  {
   "cell_type": "code",
   "execution_count": 43,
   "metadata": {},
   "outputs": [
    {
     "name": "stdout",
     "output_type": "stream",
     "text": [
      "                  CO --> -0.57 | moderate | p value = 0.0025\n",
      "                 NO2 --> -0.44 |   weak   | p value = 0.0231\n",
      "                  O3 --> +1.00 |  strong  | p value = 0.0000\n",
      "                PM10 --> -0.50 |   weak   | p value = 0.0096\n",
      "                PM25 --> -0.49 |   weak   | p value = 0.0104\n"
     ]
    }
   ],
   "source": [
    "print_correlations(pearson_correlations(cdmx_n[molecules], 'O3'))"
   ]
  },
  {
   "cell_type": "markdown",
   "metadata": {},
   "source": [
    "Excellent! It's statistically significant, even. We already made some progress. We also see that O<sub>3</sub> has a negative correlation to every pollutant, except for SO<sub>2</sub>, for which no correlation exists. This could mean that, aside from chemical competition between pollutants, there could also be some underlying mechanism, much like a see-saw, with O<sub>3</sub> in one end and CO, NO<sub>2</sub>, PM10 and PM25 on the other end.\n",
    "\n",
    "Now, let's see the correlation between pIndex and the venues, for GMX as a whole:"
   ]
  },
  {
   "cell_type": "code",
   "execution_count": 44,
   "metadata": {},
   "outputs": [
    {
     "name": "stdout",
     "output_type": "stream",
     "text": [
      "              pIndex --> +1.00 |  strong  | p value = 0.0000\n",
      "            Altitude --> -0.62 | moderate | p value = 0.0007\n",
      " Buildings & Offices --> -0.30 |   weak   | p value = 0.1325\n",
      "    Hotels & Hostels --> +0.41 |   weak   | p value = 0.0367\n",
      "       Gyms & Sports --> -0.37 |   weak   | p value = 0.0612\n",
      "          Industrial --> +0.39 |   weak   | p value = 0.0520\n"
     ]
    }
   ],
   "source": [
    "print_correlations(pearson_correlations(cdmx_n.drop(columns = molecules), 'pIndex'))"
   ]
  },
  {
   "cell_type": "markdown",
   "metadata": {},
   "source": [
    "It seems that, for the data available, altitude has the highest influence over pIndex. Normally, altitude should have a positive correlation with pIndex. However, that would only be the case if we were looking at data from lower altitudes, too: the effects that we are analyzing are local, not global. Thus, <i>inside</i> GMX, the lower you go, the more polluted it is, since GMX is, for the most part, a basin surrounded by mountains, and wind has a hard time dragging pollutants out of it. Thus, altitude <i>locally</i> correlates negatively to pollution.\n",
    "\n",
    "\n",
    "Since altitude is by far the most correlated variable to pIndex, <b> We will choose altitude, and pIndex, as our two clustering variables.</b> This will account for differences in altitude in our next correlation analyses."
   ]
  },
  {
   "cell_type": "markdown",
   "metadata": {},
   "source": [
    "<hr>\n",
    "<h1 align='center'> 4. Clustering </h1> <a name=\"methodology_clustering\"></a>\n",
    "<hr>"
   ]
  },
  {
   "cell_type": "markdown",
   "metadata": {},
   "source": [
    "Now let's cluster. <b>We're going to use kmeans for this </b>, and do a grid search to find the optimum number of clusters; but first, out of curiosity, let's see what happens if we cluster using all variables instead of just altitude and pIndex:"
   ]
  },
  {
   "cell_type": "code",
   "execution_count": 45,
   "metadata": {},
   "outputs": [
    {
     "data": {
      "text/plain": [
       "(Text(0,0.5,'Silhouetter Score'), Text(0.5,1,'Silhouetter Score Curve'))"
      ]
     },
     "execution_count": 45,
     "metadata": {},
     "output_type": "execute_result"
    },
    {
     "data": {
      "image/png": "[encoded data removed]",
      "text/plain": [
       "<matplotlib.figure.Figure at 0x7f6146d794e0>"
      ]
     },
     "metadata": {
      "needs_background": "light"
     },
     "output_type": "display_data"
    }
   ],
   "source": [
    "sil = []\n",
    "inertia = []\n",
    "for k in range(2,15):\n",
    "    km = KMeans(n_clusters=k, random_state = 0).fit(cdmx_n) \n",
    "    y_pred = km.predict(cdmx_n)\n",
    "    inertia.append((k, km.inertia_))\n",
    "    sil.append((k, metrics.silhouette_score(cdmx_n, y_pred)))\n",
    "fig, ax = plt.subplots(1,2, figsize=(12,4))# Plotting Elbow Curve\n",
    "x_iner = [x[0] for x in inertia]\n",
    "y_iner  = [x[1] for x in inertia]\n",
    "ax[0].plot(x_iner, y_iner)\n",
    "ax[0].set_xlabel('Number of Clusters')\n",
    "ax[0].set_ylabel('Intertia')\n",
    "ax[0].set_title('Elbow Curve')# Plotting Silhouetter Score\n",
    "x_sil = [x[0] for x in sil]\n",
    "y_sil  = [x[1] for x in sil]\n",
    "ax[1].plot(x_sil, y_sil), ax[1].set_xlabel('Number of Clusters')\n",
    "ax[1].set_ylabel('Silhouetter Score'), ax[1].set_title('Silhouetter Score Curve')"
   ]
  },
  {
   "cell_type": "markdown",
   "metadata": {},
   "source": [
    "Our silhouette scores are too low (meaning that clusters are too close to one another), and the elbow isn't very defined. Using only altitude and pIndex, we get:"
   ]
  },
  {
   "cell_type": "code",
   "execution_count": 46,
   "metadata": {},
   "outputs": [
    {
     "data": {
      "text/plain": [
       "Text(0.5,1,'Silhouetter Score Curve')"
      ]
     },
     "execution_count": 46,
     "metadata": {},
     "output_type": "execute_result"
    },
    {
     "data": {
      "image/png": "[encoded data removed]",
      "text/plain": [
       "<matplotlib.figure.Figure at 0x7f6146c3c908>"
      ]
     },
     "metadata": {
      "needs_background": "light"
     },
     "output_type": "display_data"
    }
   ],
   "source": [
    "sil = []\n",
    "inertia = []\n",
    "\n",
    "subset = ['pIndex', 'Altitude']\n",
    "\n",
    "for k in range(2,21):\n",
    "    km = KMeans(n_clusters=k, random_state = 0)\n",
    "    km.fit(cdmx_n[subset]) \n",
    "    y_pred = km.predict(cdmx_n[subset])\n",
    "    inertia.append((k, km.inertia_))\n",
    "    sil.append((k, metrics.silhouette_score(cdmx_n[subset], y_pred)))\n",
    "fig, ax = plt.subplots(1,2, figsize=(12,4))# Plotting Elbow Curve\n",
    "x_iner = [x[0] for x in inertia]\n",
    "y_iner  = [x[1] for x in inertia]\n",
    "ax[0].plot(x_iner, y_iner)\n",
    "ax[0].set_xlabel('Number of Clusters')\n",
    "ax[0].set_ylabel('Intertia')\n",
    "ax[0].set_title('Elbow Curve') # Plotting Silhouetter Score\n",
    "x_sil = [x[0] for x in sil]\n",
    "y_sil  = [x[1] for x in sil]\n",
    "ax[1].plot(x_sil, y_sil)\n",
    "ax[1].set_xlabel('Number of Clusters')\n",
    "ax[1].set_ylabel('Silhouetter Score')\n",
    "ax[1].set_title('Silhouetter Score Curve')"
   ]
  },
  {
   "cell_type": "markdown",
   "metadata": {},
   "source": [
    "This is better! After clustering, we can analyze which variables have an effect on pIndex and which don't. Here, we will use 4 clusters, since the elbow at 2  clusters is too high in its graph; also, 5 clusters leave us with 2 samples in one of the clusters, and that's not enough to determine correlations."
   ]
  },
  {
   "cell_type": "markdown",
   "metadata": {},
   "source": [
    "### Analysis: kmeans clustering with 4 clusters and subset 'pIndex', 'Altitude':"
   ]
  },
  {
   "cell_type": "code",
   "execution_count": 47,
   "metadata": {},
   "outputs": [
    {
     "name": "stdout",
     "output_type": "stream",
     "text": [
      "(array([0, 1, 2, 3], dtype=int32), array([ 8, 11,  3,  4]))\n"
     ]
    }
   ],
   "source": [
    "x = cdmx_n[subset]\n",
    "kmeans = KMeans(n_clusters = 4, random_state=0).fit(x)\n",
    "print(np.unique(kmeans.labels_, return_counts=True))"
   ]
  },
  {
   "cell_type": "markdown",
   "metadata": {},
   "source": [
    "We have four clusters. One of them has 3 elements, and other has 4. Drawing conclusions from such small sample sizes using correlation analysis will prove difficult and dangerous, but we're going to try anyway. Worst case scenario, our correlations make no sense, and we conclude that this is not the correct method to study this particular case; best case scenario, our correlations make a lot of sense, and we're able to explain them. Either way, results are results. Let's carry on and see our clusters:"
   ]
  },
  {
   "cell_type": "code",
   "execution_count": 48,
   "metadata": {},
   "outputs": [
    {
     "data": {
      "text/html": [
       "<div>\n",
       "<style scoped>\n",
       "    .dataframe tbody tr th:only-of-type {\n",
       "        vertical-align: middle;\n",
       "    }\n",
       "\n",
       "    .dataframe tbody tr th {\n",
       "        vertical-align: top;\n",
       "    }\n",
       "\n",
       "    .dataframe thead th {\n",
       "        text-align: right;\n",
       "    }\n",
       "</style>\n",
       "<table border=\"1\" class=\"dataframe\">\n",
       "  <thead>\n",
       "    <tr style=\"text-align: right;\">\n",
       "      <th></th>\n",
       "      <th>Cluster</th>\n",
       "      <th>Latitude</th>\n",
       "      <th>Longitude</th>\n",
       "      <th>Altitude</th>\n",
       "    </tr>\n",
       "  </thead>\n",
       "  <tbody>\n",
       "    <tr>\n",
       "      <th>AJM</th>\n",
       "      <td>2</td>\n",
       "      <td>19.272100</td>\n",
       "      <td>-99.207658</td>\n",
       "      <td>2619</td>\n",
       "    </tr>\n",
       "    <tr>\n",
       "      <th>ATI</th>\n",
       "      <td>3</td>\n",
       "      <td>19.576963</td>\n",
       "      <td>-99.254133</td>\n",
       "      <td>2341</td>\n",
       "    </tr>\n",
       "    <tr>\n",
       "      <th>BJU</th>\n",
       "      <td>0</td>\n",
       "      <td>19.371612</td>\n",
       "      <td>-99.158969</td>\n",
       "      <td>2250</td>\n",
       "    </tr>\n",
       "    <tr>\n",
       "      <th>CCA</th>\n",
       "      <td>3</td>\n",
       "      <td>19.326200</td>\n",
       "      <td>-99.176100</td>\n",
       "      <td>2280</td>\n",
       "    </tr>\n",
       "    <tr>\n",
       "      <th>CHO</th>\n",
       "      <td>1</td>\n",
       "      <td>19.266948</td>\n",
       "      <td>-98.886088</td>\n",
       "      <td>2253</td>\n",
       "    </tr>\n",
       "  </tbody>\n",
       "</table>\n",
       "</div>"
      ],
      "text/plain": [
       "     Cluster   Latitude  Longitude  Altitude\n",
       "AJM        2  19.272100 -99.207658      2619\n",
       "ATI        3  19.576963 -99.254133      2341\n",
       "BJU        0  19.371612 -99.158969      2250\n",
       "CCA        3  19.326200 -99.176100      2280\n",
       "CHO        1  19.266948 -98.886088      2253"
      ]
     },
     "execution_count": 48,
     "metadata": {},
     "output_type": "execute_result"
    }
   ],
   "source": [
    "cluster_map = deleg.copy()\n",
    "cluster_cdmx_n = x.copy()\n",
    "\n",
    "#Add clusters to cluster_map, to cluster_cdmx, and cluster_cdmx_n\n",
    "if not ('Cluster' in cluster_map.columns):\n",
    "    cluster_map.insert(0, 'Cluster', kmeans.labels_)\n",
    "if not ('Cluster' in cluster_cdmx_n.columns):\n",
    "    cluster_cdmx_n.insert(0, 'Cluster', kmeans.labels_)\n",
    "\n",
    "cluster_map.head()"
   ]
  },
  {
   "cell_type": "code",
   "execution_count": 49,
   "metadata": {},
   "outputs": [
    {
     "data": {
      "text/html": [
       "<div style=\"width:100%;\"><div style=\"position:relative;width:100%;height:0;padding-bottom:60%;\"><iframe src=\"data:text/html;charset=utf-8;base64,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\" style=\"position:absolute;width:100%;height:100%;left:0;top:0;border:none !important;\" allowfullscreen webkitallowfullscreen mozallowfullscreen></iframe></div></div>"
      ],
      "text/plain": [
       "<folium.folium.Map at 0x7f6146c435f8>"
      ]
     },
     "execution_count": 49,
     "metadata": {},
     "output_type": "execute_result"
    }
   ],
   "source": [
    "# set color scheme for the clusters\n",
    "colors_array = ['#ff3300', 'orange', '#00cc00', '#3366ff']\n",
    "\n",
    "# create map\n",
    "map_clusters = folium.Map(location=[latitude, longitude], zoom_start=10)\n",
    "\n",
    "# add markers to the map\n",
    "markers_colors = []\n",
    "for lat, lon, poi, cluster in zip(cluster_map['Latitude'], cluster_map['Longitude'], cluster_map.index, cluster_map['Cluster']):\n",
    "    label = folium.Popup(str(poi) + ' Cluster ' + str(cluster), parse_html=True)\n",
    "    folium.CircleMarker(\n",
    "        [lat, lon],\n",
    "        radius=5,\n",
    "        popup=label,\n",
    "        color= colors_array[cluster],\n",
    "        fill=True,\n",
    "        fill_color= colors_array[cluster],\n",
    "        fill_opacity=0.8).add_to(map_clusters)\n",
    "       \n",
    "map_clusters"
   ]
  },
  {
   "cell_type": "markdown",
   "metadata": {},
   "source": [
    "Beautiful. "
   ]
  },
  {
   "cell_type": "markdown",
   "metadata": {},
   "source": [
    "<hr>\n",
    "<h1 align='center'> 5. Results and discussion <h1> <a name=\"results\"></a>\n",
    "<hr>"
   ]
  },
  {
   "cell_type": "markdown",
   "metadata": {},
   "source": [
    "We shall now examine our clusters, first visually, and then statistically."
   ]
  },
  {
   "cell_type": "code",
   "execution_count": 50,
   "metadata": {},
   "outputs": [],
   "source": [
    "clusters = len(np.unique(kmeans.labels_))\n",
    "c = np.zeros(clusters, dtype = object) # define array of clusters\n",
    "\n",
    "for i in range(clusters):\n",
    "    c[i] = cdmx_n.loc[cluster_cdmx_n['Cluster'] == i, :]"
   ]
  },
  {
   "cell_type": "code",
   "execution_count": 51,
   "metadata": {},
   "outputs": [],
   "source": [
    "pd.set_option('display.max_columns', None)\n",
    "global_columns = cdmx_n.columns"
   ]
  },
  {
   "cell_type": "code",
   "execution_count": 89,
   "metadata": {
    "jupyter": {
     "source_hidden": true
    }
   },
   "outputs": [],
   "source": [
    "# this function generates a colormap from the data in df. \n",
    "# it can also be used to draw a correlation matrix,\n",
    "# we just need to pass the names of the rows and columns,\n",
    "# which should be the same, and a numpy array that corresponds\n",
    "# to those rows and columns.\n",
    "\n",
    "def color_map(df, row_labels, col_labels):\n",
    "    df = df.T\n",
    "    fig, ax = plt.subplots()\n",
    "    im = ax.pcolor(df, cmap='RdBu')\n",
    "\n",
    "    #move ticks and labels to the center\n",
    "    ax.set_xticks(np.arange(df.shape[1]) + 0.5, minor=False)\n",
    "    ax.set_yticks(np.arange(df.shape[0]) + 0.5, minor=False)\n",
    "\n",
    "    #insert labels\n",
    "    ax.set_xticklabels(row_labels, minor=False)\n",
    "    ax.set_yticklabels(col_labels, minor=False)\n",
    "\n",
    "    #rotate label if too long\n",
    "    plt.xticks(rotation=90)\n",
    "\n",
    "    fig.set_size_inches(7, 5.5)\n",
    "    fig.colorbar(im)\n",
    "    plt.show()"
   ]
  },
  {
   "cell_type": "code",
   "execution_count": 53,
   "metadata": {
    "jupyter": {
     "source_hidden": true
    }
   },
   "outputs": [],
   "source": [
    "# this function generates a correlation matrix. It also multiplies \n",
    "# the correlation coefficients by a factor of their respective\n",
    "# p values. This generates a weighted correlation matrix which\n",
    "# hides or weakens the effect of any correlation coefficient with\n",
    "# a p value higher than 0.05.\n",
    "\n",
    "def correlation_matrix_dataframe(df, switch):\n",
    "    length = len(df.columns)\n",
    "    cmatrix = np.zeros((length, length))\n",
    "    \n",
    "    for i, row in enumerate(df.columns):\n",
    "        correlations = pearson_correlations(df, row)\n",
    "        for j in range(i + 1, len(correlations)):\n",
    "            coefficient = correlations[j, 1]\n",
    "            p_value = correlations[j, 2]\n",
    "            \n",
    "            if (p_value > 0.05) & (switch):\n",
    "                p_factor = 1./(10 + p_value - 0.05) # masking high p-valued correlations\n",
    "            else:\n",
    "                p_factor = 1.\n",
    "            \n",
    "            cmatrix[i, j] = coefficient * p_factor\n",
    "            cmatrix[j, i] = coefficient * p_factor\n",
    "\n",
    "    np.fill_diagonal(cmatrix, 1.0)\n",
    "    \n",
    "    return cmatrix"
   ]
  },
  {
   "cell_type": "markdown",
   "metadata": {},
   "source": [
    "### Cluster 0 "
   ]
  },
  {
   "cell_type": "code",
   "execution_count": 54,
   "metadata": {},
   "outputs": [
    {
     "data": {
      "text/html": [
       "<div>\n",
       "<style scoped>\n",
       "    .dataframe tbody tr th:only-of-type {\n",
       "        vertical-align: middle;\n",
       "    }\n",
       "\n",
       "    .dataframe tbody tr th {\n",
       "        vertical-align: top;\n",
       "    }\n",
       "\n",
       "    .dataframe thead th {\n",
       "        text-align: right;\n",
       "    }\n",
       "</style>\n",
       "<table border=\"1\" class=\"dataframe\">\n",
       "  <thead>\n",
       "    <tr style=\"text-align: right;\">\n",
       "      <th></th>\n",
       "      <th>pIndex</th>\n",
       "      <th>CO</th>\n",
       "      <th>NO2</th>\n",
       "      <th>O3</th>\n",
       "      <th>SO2</th>\n",
       "      <th>PM10</th>\n",
       "      <th>PM25</th>\n",
       "      <th>Altitude</th>\n",
       "      <th>Stores</th>\n",
       "      <th>Restaurants &amp; Bars</th>\n",
       "      <th>Medical</th>\n",
       "      <th>Buildings &amp; Offices</th>\n",
       "      <th>Hotels &amp; Hostels</th>\n",
       "      <th>Museums &amp; Galleries</th>\n",
       "      <th>Plazas</th>\n",
       "      <th>Farms</th>\n",
       "      <th>Parks &amp; Forests</th>\n",
       "      <th>Schools</th>\n",
       "      <th>Gyms &amp; Sports</th>\n",
       "      <th>Stadiums &amp; Theaters</th>\n",
       "      <th>Bus Stations</th>\n",
       "      <th>Sports Fields</th>\n",
       "      <th>Industrial</th>\n",
       "    </tr>\n",
       "  </thead>\n",
       "  <tbody>\n",
       "    <tr>\n",
       "      <th>BJU</th>\n",
       "      <td>0.847470</td>\n",
       "      <td>0.256198</td>\n",
       "      <td>0.040641</td>\n",
       "      <td>0.113862</td>\n",
       "      <td>0.044154</td>\n",
       "      <td>0.496257</td>\n",
       "      <td>0.994511</td>\n",
       "      <td>0.165441</td>\n",
       "      <td>1.000000</td>\n",
       "      <td>0.700000</td>\n",
       "      <td>0.0</td>\n",
       "      <td>0.6</td>\n",
       "      <td>1.0</td>\n",
       "      <td>0.181818</td>\n",
       "      <td>0.0</td>\n",
       "      <td>0.0</td>\n",
       "      <td>0.666667</td>\n",
       "      <td>0.0</td>\n",
       "      <td>0.866667</td>\n",
       "      <td>1.000</td>\n",
       "      <td>0.0</td>\n",
       "      <td>0.266667</td>\n",
       "      <td>0.0</td>\n",
       "    </tr>\n",
       "    <tr>\n",
       "      <th>CUT</th>\n",
       "      <td>0.706593</td>\n",
       "      <td>0.351886</td>\n",
       "      <td>0.021723</td>\n",
       "      <td>0.106789</td>\n",
       "      <td>0.025036</td>\n",
       "      <td>0.379847</td>\n",
       "      <td>0.979027</td>\n",
       "      <td>0.189338</td>\n",
       "      <td>0.069767</td>\n",
       "      <td>0.083333</td>\n",
       "      <td>0.0</td>\n",
       "      <td>0.2</td>\n",
       "      <td>1.0</td>\n",
       "      <td>0.000000</td>\n",
       "      <td>1.0</td>\n",
       "      <td>0.0</td>\n",
       "      <td>0.333333</td>\n",
       "      <td>0.0</td>\n",
       "      <td>0.000000</td>\n",
       "      <td>0.375</td>\n",
       "      <td>0.5</td>\n",
       "      <td>1.000000</td>\n",
       "      <td>0.0</td>\n",
       "    </tr>\n",
       "    <tr>\n",
       "      <th>LPR</th>\n",
       "      <td>0.741839</td>\n",
       "      <td>0.440067</td>\n",
       "      <td>0.028166</td>\n",
       "      <td>0.109363</td>\n",
       "      <td>0.011614</td>\n",
       "      <td>0.337304</td>\n",
       "      <td>0.958139</td>\n",
       "      <td>0.261029</td>\n",
       "      <td>0.209302</td>\n",
       "      <td>0.016667</td>\n",
       "      <td>0.0</td>\n",
       "      <td>0.0</td>\n",
       "      <td>0.0</td>\n",
       "      <td>0.000000</td>\n",
       "      <td>0.0</td>\n",
       "      <td>0.0</td>\n",
       "      <td>0.500000</td>\n",
       "      <td>0.0</td>\n",
       "      <td>0.133333</td>\n",
       "      <td>0.250</td>\n",
       "      <td>0.0</td>\n",
       "      <td>0.000000</td>\n",
       "      <td>0.0</td>\n",
       "    </tr>\n",
       "    <tr>\n",
       "      <th>MER</th>\n",
       "      <td>0.622147</td>\n",
       "      <td>0.290442</td>\n",
       "      <td>0.042524</td>\n",
       "      <td>0.107401</td>\n",
       "      <td>0.023314</td>\n",
       "      <td>0.385396</td>\n",
       "      <td>0.966489</td>\n",
       "      <td>0.156250</td>\n",
       "      <td>0.581395</td>\n",
       "      <td>0.666667</td>\n",
       "      <td>0.0</td>\n",
       "      <td>0.0</td>\n",
       "      <td>0.0</td>\n",
       "      <td>1.000000</td>\n",
       "      <td>1.0</td>\n",
       "      <td>0.0</td>\n",
       "      <td>0.500000</td>\n",
       "      <td>0.5</td>\n",
       "      <td>0.266667</td>\n",
       "      <td>0.125</td>\n",
       "      <td>0.5</td>\n",
       "      <td>0.066667</td>\n",
       "      <td>0.0</td>\n",
       "    </tr>\n",
       "    <tr>\n",
       "      <th>SAG</th>\n",
       "      <td>0.645533</td>\n",
       "      <td>0.295999</td>\n",
       "      <td>0.028343</td>\n",
       "      <td>0.093548</td>\n",
       "      <td>0.012488</td>\n",
       "      <td>0.429552</td>\n",
       "      <td>0.969134</td>\n",
       "      <td>0.148897</td>\n",
       "      <td>0.139535</td>\n",
       "      <td>0.333333</td>\n",
       "      <td>0.0</td>\n",
       "      <td>0.0</td>\n",
       "      <td>0.0</td>\n",
       "      <td>0.000000</td>\n",
       "      <td>0.0</td>\n",
       "      <td>0.0</td>\n",
       "      <td>0.000000</td>\n",
       "      <td>0.0</td>\n",
       "      <td>0.266667</td>\n",
       "      <td>0.000</td>\n",
       "      <td>0.0</td>\n",
       "      <td>0.000000</td>\n",
       "      <td>0.0</td>\n",
       "    </tr>\n",
       "    <tr>\n",
       "      <th>TLA</th>\n",
       "      <td>0.616621</td>\n",
       "      <td>0.317312</td>\n",
       "      <td>0.038944</td>\n",
       "      <td>0.090505</td>\n",
       "      <td>0.036439</td>\n",
       "      <td>0.369252</td>\n",
       "      <td>0.959923</td>\n",
       "      <td>0.277574</td>\n",
       "      <td>0.418605</td>\n",
       "      <td>1.000000</td>\n",
       "      <td>0.0</td>\n",
       "      <td>0.2</td>\n",
       "      <td>1.0</td>\n",
       "      <td>0.000000</td>\n",
       "      <td>0.0</td>\n",
       "      <td>0.0</td>\n",
       "      <td>0.166667</td>\n",
       "      <td>0.0</td>\n",
       "      <td>0.266667</td>\n",
       "      <td>0.250</td>\n",
       "      <td>0.5</td>\n",
       "      <td>0.000000</td>\n",
       "      <td>0.0</td>\n",
       "    </tr>\n",
       "    <tr>\n",
       "      <th>VIF</th>\n",
       "      <td>0.607153</td>\n",
       "      <td>0.227209</td>\n",
       "      <td>0.022628</td>\n",
       "      <td>0.089884</td>\n",
       "      <td>0.034898</td>\n",
       "      <td>0.458350</td>\n",
       "      <td>0.973940</td>\n",
       "      <td>0.150735</td>\n",
       "      <td>0.069767</td>\n",
       "      <td>0.233333</td>\n",
       "      <td>0.0</td>\n",
       "      <td>0.0</td>\n",
       "      <td>0.0</td>\n",
       "      <td>0.000000</td>\n",
       "      <td>0.0</td>\n",
       "      <td>0.0</td>\n",
       "      <td>0.000000</td>\n",
       "      <td>0.0</td>\n",
       "      <td>0.000000</td>\n",
       "      <td>0.125</td>\n",
       "      <td>0.0</td>\n",
       "      <td>0.066667</td>\n",
       "      <td>0.0</td>\n",
       "    </tr>\n",
       "    <tr>\n",
       "      <th>XAL</th>\n",
       "      <td>1.000000</td>\n",
       "      <td>0.370503</td>\n",
       "      <td>0.040105</td>\n",
       "      <td>0.081705</td>\n",
       "      <td>0.021105</td>\n",
       "      <td>0.520247</td>\n",
       "      <td>1.000000</td>\n",
       "      <td>0.000000</td>\n",
       "      <td>0.162791</td>\n",
       "      <td>0.083333</td>\n",
       "      <td>0.0</td>\n",
       "      <td>0.0</td>\n",
       "      <td>0.0</td>\n",
       "      <td>0.090909</td>\n",
       "      <td>0.0</td>\n",
       "      <td>0.0</td>\n",
       "      <td>0.500000</td>\n",
       "      <td>0.0</td>\n",
       "      <td>0.133333</td>\n",
       "      <td>0.000</td>\n",
       "      <td>0.0</td>\n",
       "      <td>0.000000</td>\n",
       "      <td>1.0</td>\n",
       "    </tr>\n",
       "  </tbody>\n",
       "</table>\n",
       "</div>"
      ],
      "text/plain": [
       "       pIndex        CO       NO2        O3       SO2      PM10      PM25  \\\n",
       "BJU  0.847470  0.256198  0.040641  0.113862  0.044154  0.496257  0.994511   \n",
       "CUT  0.706593  0.351886  0.021723  0.106789  0.025036  0.379847  0.979027   \n",
       "LPR  0.741839  0.440067  0.028166  0.109363  0.011614  0.337304  0.958139   \n",
       "MER  0.622147  0.290442  0.042524  0.107401  0.023314  0.385396  0.966489   \n",
       "SAG  0.645533  0.295999  0.028343  0.093548  0.012488  0.429552  0.969134   \n",
       "TLA  0.616621  0.317312  0.038944  0.090505  0.036439  0.369252  0.959923   \n",
       "VIF  0.607153  0.227209  0.022628  0.089884  0.034898  0.458350  0.973940   \n",
       "XAL  1.000000  0.370503  0.040105  0.081705  0.021105  0.520247  1.000000   \n",
       "\n",
       "     Altitude    Stores  Restaurants & Bars  Medical  Buildings & Offices  \\\n",
       "BJU  0.165441  1.000000            0.700000      0.0                  0.6   \n",
       "CUT  0.189338  0.069767            0.083333      0.0                  0.2   \n",
       "LPR  0.261029  0.209302            0.016667      0.0                  0.0   \n",
       "MER  0.156250  0.581395            0.666667      0.0                  0.0   \n",
       "SAG  0.148897  0.139535            0.333333      0.0                  0.0   \n",
       "TLA  0.277574  0.418605            1.000000      0.0                  0.2   \n",
       "VIF  0.150735  0.069767            0.233333      0.0                  0.0   \n",
       "XAL  0.000000  0.162791            0.083333      0.0                  0.0   \n",
       "\n",
       "     Hotels & Hostels  Museums & Galleries  Plazas  Farms  Parks & Forests  \\\n",
       "BJU               1.0             0.181818     0.0    0.0         0.666667   \n",
       "CUT               1.0             0.000000     1.0    0.0         0.333333   \n",
       "LPR               0.0             0.000000     0.0    0.0         0.500000   \n",
       "MER               0.0             1.000000     1.0    0.0         0.500000   \n",
       "SAG               0.0             0.000000     0.0    0.0         0.000000   \n",
       "TLA               1.0             0.000000     0.0    0.0         0.166667   \n",
       "VIF               0.0             0.000000     0.0    0.0         0.000000   \n",
       "XAL               0.0             0.090909     0.0    0.0         0.500000   \n",
       "\n",
       "     Schools  Gyms & Sports  Stadiums & Theaters  Bus Stations  Sports Fields  \\\n",
       "BJU      0.0       0.866667                1.000           0.0       0.266667   \n",
       "CUT      0.0       0.000000                0.375           0.5       1.000000   \n",
       "LPR      0.0       0.133333                0.250           0.0       0.000000   \n",
       "MER      0.5       0.266667                0.125           0.5       0.066667   \n",
       "SAG      0.0       0.266667                0.000           0.0       0.000000   \n",
       "TLA      0.0       0.266667                0.250           0.5       0.000000   \n",
       "VIF      0.0       0.000000                0.125           0.0       0.066667   \n",
       "XAL      0.0       0.133333                0.000           0.0       0.000000   \n",
       "\n",
       "     Industrial  \n",
       "BJU         0.0  \n",
       "CUT         0.0  \n",
       "LPR         0.0  \n",
       "MER         0.0  \n",
       "SAG         0.0  \n",
       "TLA         0.0  \n",
       "VIF         0.0  \n",
       "XAL         1.0  "
      ]
     },
     "execution_count": 54,
     "metadata": {},
     "output_type": "execute_result"
    }
   ],
   "source": [
    "c[0]"
   ]
  },
  {
   "cell_type": "markdown",
   "metadata": {},
   "source": [
    "These stations report the highest pollution. Understandably, the industrial category has a very strong, positive influence on pollution here, as the only station with a factory nearby has the highest pIndex out of all the stations in the dataset; however, we have to consider that this is one of the caveats of using extremely small sized sets of samples: every individual sample will have an enormous effect on whatever statistics we derive. Before we're content with our confirmation that industries pollute, we should see every correlation in our cluster. "
   ]
  },
  {
   "cell_type": "code",
   "execution_count": 93,
   "metadata": {},
   "outputs": [
    {
     "data": {
      "image/png": "[encoded data removed]",
      "text/plain": [
       "<matplotlib.figure.Figure at 0x7f6146778278>"
      ]
     },
     "metadata": {
      "needs_background": "light"
     },
     "output_type": "display_data"
    }
   ],
   "source": [
    "color_map(correlation_matrix_dataframe(c[0], True), c[0].columns, global_columns)"
   ]
  },
  {
   "cell_type": "markdown",
   "metadata": {},
   "source": [
    "The Industrial variable has a strong, negative correlation to altitude, and altitude has strong, negative correlations with PM25 and PM10; PM25 has a strong, positive correlation to pIndex. We can conclude that the Industrial variable is indeed strongly correlated to pIndex, but not by causation, but by association, since a low altitude, in this particular case, is associated both with the presence of a soap factory and PM25, which is strongly correlated to pIndex. If we had more than one instance of the Industrial variable in this cluster, we could analyze this further. Other than that, there are no other venue types that can be correlated to pIndex. Stores can be correlated to NO<sub>2</sub> and Buildings & Offices can be correlated to SO<sub>2</sub>, but their regression plots tell us that, maybe, only the first of the two correlations is valid."
   ]
  },
  {
   "cell_type": "code",
   "execution_count": 94,
   "metadata": {},
   "outputs": [
    {
     "data": {
      "text/plain": [
       "<matplotlib.axes._subplots.AxesSubplot at 0x7f6146482f98>"
      ]
     },
     "execution_count": 94,
     "metadata": {},
     "output_type": "execute_result"
    },
    {
     "data": {
      "image/png": "[encoded data removed]",
      "text/plain": [
       "<matplotlib.figure.Figure at 0x7f614650f668>"
      ]
     },
     "metadata": {
      "needs_background": "light"
     },
     "output_type": "display_data"
    }
   ],
   "source": [
    "y = 'PM25'\n",
    "x = 'Altitude'\n",
    "sns.regplot(x = x, y = y, data=c[0][[x, y]])"
   ]
  },
  {
   "cell_type": "code",
   "execution_count": 57,
   "metadata": {},
   "outputs": [
    {
     "data": {
      "text/plain": [
       "<matplotlib.axes._subplots.AxesSubplot at 0x7f61469cecc0>"
      ]
     },
     "execution_count": 57,
     "metadata": {},
     "output_type": "execute_result"
    },
    {
     "data": {
      "image/png": "[encoded data removed]",
      "text/plain": [
       "<matplotlib.figure.Figure at 0x7f6146a1bba8>"
      ]
     },
     "metadata": {
      "needs_background": "light"
     },
     "output_type": "display_data"
    }
   ],
   "source": [
    "x = 'Industrial'\n",
    "y = 'pIndex'\n",
    "sns.regplot(x = x, y = y, data=c[0][[x, y]])"
   ]
  },
  {
   "cell_type": "markdown",
   "metadata": {},
   "source": [
    "Almost no correlation between Industrial and pIndex."
   ]
  },
  {
   "cell_type": "code",
   "execution_count": 91,
   "metadata": {},
   "outputs": [
    {
     "data": {
      "text/plain": [
       "<matplotlib.axes._subplots.AxesSubplot at 0x7f6149ce8ba8>"
      ]
     },
     "execution_count": 91,
     "metadata": {},
     "output_type": "execute_result"
    },
    {
     "data": {
      "image/png": "[encoded data removed]",
      "text/plain": [
       "<matplotlib.figure.Figure at 0x7f6149d14358>"
      ]
     },
     "metadata": {
      "needs_background": "light"
     },
     "output_type": "display_data"
    }
   ],
   "source": [
    "x = 'Stores'\n",
    "y = 'NO2'\n",
    "sns.regplot(x = x, y = y, data=c[0][[x, y]])"
   ]
  },
  {
   "cell_type": "code",
   "execution_count": 92,
   "metadata": {},
   "outputs": [
    {
     "data": {
      "text/plain": [
       "<matplotlib.axes._subplots.AxesSubplot at 0x7f614675d630>"
      ]
     },
     "execution_count": 92,
     "metadata": {},
     "output_type": "execute_result"
    },
    {
     "data": {
      "image/png": "[encoded data removed]",
      "text/plain": [
       "<matplotlib.figure.Figure at 0x7f61467fbb70>"
      ]
     },
     "metadata": {
      "needs_background": "light"
     },
     "output_type": "display_data"
    }
   ],
   "source": [
    "x = 'Buildings & Offices'\n",
    "y = 'SO2'\n",
    "sns.regplot(x = x, y = y, data=c[0][[x, y]])"
   ]
  },
  {
   "cell_type": "markdown",
   "metadata": {},
   "source": [
    "### Cluster 1"
   ]
  },
  {
   "cell_type": "code",
   "execution_count": 58,
   "metadata": {},
   "outputs": [
    {
     "data": {
      "text/html": [
       "<div>\n",
       "<style scoped>\n",
       "    .dataframe tbody tr th:only-of-type {\n",
       "        vertical-align: middle;\n",
       "    }\n",
       "\n",
       "    .dataframe tbody tr th {\n",
       "        vertical-align: top;\n",
       "    }\n",
       "\n",
       "    .dataframe thead th {\n",
       "        text-align: right;\n",
       "    }\n",
       "</style>\n",
       "<table border=\"1\" class=\"dataframe\">\n",
       "  <thead>\n",
       "    <tr style=\"text-align: right;\">\n",
       "      <th></th>\n",
       "      <th>pIndex</th>\n",
       "      <th>CO</th>\n",
       "      <th>NO2</th>\n",
       "      <th>O3</th>\n",
       "      <th>SO2</th>\n",
       "      <th>PM10</th>\n",
       "      <th>PM25</th>\n",
       "      <th>Altitude</th>\n",
       "      <th>Stores</th>\n",
       "      <th>Restaurants &amp; Bars</th>\n",
       "      <th>Medical</th>\n",
       "      <th>Buildings &amp; Offices</th>\n",
       "      <th>Hotels &amp; Hostels</th>\n",
       "      <th>Museums &amp; Galleries</th>\n",
       "      <th>Plazas</th>\n",
       "      <th>Farms</th>\n",
       "      <th>Parks &amp; Forests</th>\n",
       "      <th>Schools</th>\n",
       "      <th>Gyms &amp; Sports</th>\n",
       "      <th>Stadiums &amp; Theaters</th>\n",
       "      <th>Bus Stations</th>\n",
       "      <th>Sports Fields</th>\n",
       "      <th>Industrial</th>\n",
       "    </tr>\n",
       "  </thead>\n",
       "  <tbody>\n",
       "    <tr>\n",
       "      <th>CHO</th>\n",
       "      <td>0.366518</td>\n",
       "      <td>0.260306</td>\n",
       "      <td>0.020351</td>\n",
       "      <td>0.096488</td>\n",
       "      <td>0.000000</td>\n",
       "      <td>0.333582</td>\n",
       "      <td>0.957288</td>\n",
       "      <td>0.170956</td>\n",
       "      <td>0.023256</td>\n",
       "      <td>0.266667</td>\n",
       "      <td>0.0</td>\n",
       "      <td>0.2</td>\n",
       "      <td>0.0</td>\n",
       "      <td>0.000000</td>\n",
       "      <td>0.0</td>\n",
       "      <td>0.0</td>\n",
       "      <td>0.000000</td>\n",
       "      <td>0.0</td>\n",
       "      <td>0.200000</td>\n",
       "      <td>0.000</td>\n",
       "      <td>0.0</td>\n",
       "      <td>0.000000</td>\n",
       "      <td>0.0</td>\n",
       "    </tr>\n",
       "    <tr>\n",
       "      <th>FAC</th>\n",
       "      <td>0.430544</td>\n",
       "      <td>0.299086</td>\n",
       "      <td>0.032952</td>\n",
       "      <td>0.119550</td>\n",
       "      <td>0.026691</td>\n",
       "      <td>0.269352</td>\n",
       "      <td>0.957341</td>\n",
       "      <td>0.255515</td>\n",
       "      <td>0.186047</td>\n",
       "      <td>0.716667</td>\n",
       "      <td>0.0</td>\n",
       "      <td>0.0</td>\n",
       "      <td>0.0</td>\n",
       "      <td>0.000000</td>\n",
       "      <td>1.0</td>\n",
       "      <td>0.0</td>\n",
       "      <td>0.666667</td>\n",
       "      <td>0.0</td>\n",
       "      <td>0.333333</td>\n",
       "      <td>0.750</td>\n",
       "      <td>0.0</td>\n",
       "      <td>0.066667</td>\n",
       "      <td>0.0</td>\n",
       "    </tr>\n",
       "    <tr>\n",
       "      <th>GAM</th>\n",
       "      <td>0.393242</td>\n",
       "      <td>0.171998</td>\n",
       "      <td>0.030883</td>\n",
       "      <td>0.126453</td>\n",
       "      <td>0.002680</td>\n",
       "      <td>0.378658</td>\n",
       "      <td>0.972767</td>\n",
       "      <td>0.123162</td>\n",
       "      <td>0.534884</td>\n",
       "      <td>0.550000</td>\n",
       "      <td>0.0</td>\n",
       "      <td>0.2</td>\n",
       "      <td>0.0</td>\n",
       "      <td>0.000000</td>\n",
       "      <td>0.0</td>\n",
       "      <td>0.0</td>\n",
       "      <td>0.000000</td>\n",
       "      <td>0.0</td>\n",
       "      <td>0.600000</td>\n",
       "      <td>0.125</td>\n",
       "      <td>0.5</td>\n",
       "      <td>0.000000</td>\n",
       "      <td>0.0</td>\n",
       "    </tr>\n",
       "    <tr>\n",
       "      <th>HGM</th>\n",
       "      <td>0.439562</td>\n",
       "      <td>0.254764</td>\n",
       "      <td>0.037537</td>\n",
       "      <td>0.113954</td>\n",
       "      <td>0.021208</td>\n",
       "      <td>0.315251</td>\n",
       "      <td>0.967460</td>\n",
       "      <td>0.136029</td>\n",
       "      <td>0.627907</td>\n",
       "      <td>0.783333</td>\n",
       "      <td>0.0</td>\n",
       "      <td>0.0</td>\n",
       "      <td>0.0</td>\n",
       "      <td>0.272727</td>\n",
       "      <td>1.0</td>\n",
       "      <td>0.0</td>\n",
       "      <td>0.000000</td>\n",
       "      <td>0.5</td>\n",
       "      <td>0.266667</td>\n",
       "      <td>0.500</td>\n",
       "      <td>0.0</td>\n",
       "      <td>0.000000</td>\n",
       "      <td>0.0</td>\n",
       "    </tr>\n",
       "    <tr>\n",
       "      <th>IZT</th>\n",
       "      <td>0.486104</td>\n",
       "      <td>0.289204</td>\n",
       "      <td>0.036225</td>\n",
       "      <td>0.108617</td>\n",
       "      <td>0.015849</td>\n",
       "      <td>0.325170</td>\n",
       "      <td>0.961974</td>\n",
       "      <td>0.143382</td>\n",
       "      <td>0.441860</td>\n",
       "      <td>0.950000</td>\n",
       "      <td>0.0</td>\n",
       "      <td>0.0</td>\n",
       "      <td>0.0</td>\n",
       "      <td>0.000000</td>\n",
       "      <td>1.0</td>\n",
       "      <td>0.0</td>\n",
       "      <td>0.000000</td>\n",
       "      <td>0.0</td>\n",
       "      <td>0.266667</td>\n",
       "      <td>0.125</td>\n",
       "      <td>0.0</td>\n",
       "      <td>0.066667</td>\n",
       "      <td>0.0</td>\n",
       "    </tr>\n",
       "    <tr>\n",
       "      <th>LLA</th>\n",
       "      <td>0.469941</td>\n",
       "      <td>0.285730</td>\n",
       "      <td>0.030699</td>\n",
       "      <td>0.098515</td>\n",
       "      <td>0.021647</td>\n",
       "      <td>0.333786</td>\n",
       "      <td>0.957334</td>\n",
       "      <td>0.128676</td>\n",
       "      <td>0.488372</td>\n",
       "      <td>0.133333</td>\n",
       "      <td>0.0</td>\n",
       "      <td>0.4</td>\n",
       "      <td>0.0</td>\n",
       "      <td>0.090909</td>\n",
       "      <td>0.0</td>\n",
       "      <td>0.0</td>\n",
       "      <td>0.000000</td>\n",
       "      <td>0.0</td>\n",
       "      <td>0.133333</td>\n",
       "      <td>0.125</td>\n",
       "      <td>0.0</td>\n",
       "      <td>0.066667</td>\n",
       "      <td>0.0</td>\n",
       "    </tr>\n",
       "    <tr>\n",
       "      <th>NEZ</th>\n",
       "      <td>0.568160</td>\n",
       "      <td>0.292895</td>\n",
       "      <td>0.028917</td>\n",
       "      <td>0.119268</td>\n",
       "      <td>0.018692</td>\n",
       "      <td>0.345143</td>\n",
       "      <td>0.979488</td>\n",
       "      <td>0.137868</td>\n",
       "      <td>0.209302</td>\n",
       "      <td>0.383333</td>\n",
       "      <td>0.0</td>\n",
       "      <td>0.0</td>\n",
       "      <td>0.0</td>\n",
       "      <td>0.000000</td>\n",
       "      <td>0.0</td>\n",
       "      <td>1.0</td>\n",
       "      <td>0.000000</td>\n",
       "      <td>0.0</td>\n",
       "      <td>0.400000</td>\n",
       "      <td>0.000</td>\n",
       "      <td>0.0</td>\n",
       "      <td>0.000000</td>\n",
       "      <td>0.0</td>\n",
       "    </tr>\n",
       "    <tr>\n",
       "      <th>TAH</th>\n",
       "      <td>0.471490</td>\n",
       "      <td>0.212784</td>\n",
       "      <td>0.015414</td>\n",
       "      <td>0.138732</td>\n",
       "      <td>0.002397</td>\n",
       "      <td>0.388521</td>\n",
       "      <td>0.970757</td>\n",
       "      <td>0.251838</td>\n",
       "      <td>0.000000</td>\n",
       "      <td>0.000000</td>\n",
       "      <td>0.0</td>\n",
       "      <td>0.0</td>\n",
       "      <td>0.0</td>\n",
       "      <td>0.000000</td>\n",
       "      <td>1.0</td>\n",
       "      <td>0.0</td>\n",
       "      <td>0.500000</td>\n",
       "      <td>0.0</td>\n",
       "      <td>0.533333</td>\n",
       "      <td>0.250</td>\n",
       "      <td>0.0</td>\n",
       "      <td>0.133333</td>\n",
       "      <td>0.0</td>\n",
       "    </tr>\n",
       "    <tr>\n",
       "      <th>TLI</th>\n",
       "      <td>0.391678</td>\n",
       "      <td>0.293454</td>\n",
       "      <td>0.032427</td>\n",
       "      <td>0.118381</td>\n",
       "      <td>0.048196</td>\n",
       "      <td>0.261401</td>\n",
       "      <td>0.928677</td>\n",
       "      <td>0.281250</td>\n",
       "      <td>0.162791</td>\n",
       "      <td>0.133333</td>\n",
       "      <td>0.0</td>\n",
       "      <td>0.2</td>\n",
       "      <td>0.0</td>\n",
       "      <td>0.000000</td>\n",
       "      <td>0.0</td>\n",
       "      <td>0.0</td>\n",
       "      <td>0.000000</td>\n",
       "      <td>0.0</td>\n",
       "      <td>0.066667</td>\n",
       "      <td>0.250</td>\n",
       "      <td>0.0</td>\n",
       "      <td>0.000000</td>\n",
       "      <td>0.5</td>\n",
       "    </tr>\n",
       "    <tr>\n",
       "      <th>UAX</th>\n",
       "      <td>0.423437</td>\n",
       "      <td>0.236550</td>\n",
       "      <td>0.022073</td>\n",
       "      <td>0.110762</td>\n",
       "      <td>0.006811</td>\n",
       "      <td>0.365995</td>\n",
       "      <td>0.958677</td>\n",
       "      <td>0.158088</td>\n",
       "      <td>0.558140</td>\n",
       "      <td>0.616667</td>\n",
       "      <td>0.0</td>\n",
       "      <td>0.6</td>\n",
       "      <td>0.0</td>\n",
       "      <td>0.000000</td>\n",
       "      <td>0.0</td>\n",
       "      <td>1.0</td>\n",
       "      <td>0.833333</td>\n",
       "      <td>0.0</td>\n",
       "      <td>0.466667</td>\n",
       "      <td>0.125</td>\n",
       "      <td>0.0</td>\n",
       "      <td>0.000000</td>\n",
       "      <td>0.0</td>\n",
       "    </tr>\n",
       "    <tr>\n",
       "      <th>UIZ</th>\n",
       "      <td>0.502548</td>\n",
       "      <td>0.271620</td>\n",
       "      <td>0.031608</td>\n",
       "      <td>0.114503</td>\n",
       "      <td>0.011488</td>\n",
       "      <td>0.349561</td>\n",
       "      <td>0.967753</td>\n",
       "      <td>0.112132</td>\n",
       "      <td>0.162791</td>\n",
       "      <td>0.733333</td>\n",
       "      <td>0.0</td>\n",
       "      <td>0.0</td>\n",
       "      <td>0.0</td>\n",
       "      <td>0.090909</td>\n",
       "      <td>0.0</td>\n",
       "      <td>1.0</td>\n",
       "      <td>0.333333</td>\n",
       "      <td>0.0</td>\n",
       "      <td>0.466667</td>\n",
       "      <td>0.000</td>\n",
       "      <td>0.0</td>\n",
       "      <td>0.000000</td>\n",
       "      <td>0.5</td>\n",
       "    </tr>\n",
       "  </tbody>\n",
       "</table>\n",
       "</div>"
      ],
      "text/plain": [
       "       pIndex        CO       NO2        O3       SO2      PM10      PM25  \\\n",
       "CHO  0.366518  0.260306  0.020351  0.096488  0.000000  0.333582  0.957288   \n",
       "FAC  0.430544  0.299086  0.032952  0.119550  0.026691  0.269352  0.957341   \n",
       "GAM  0.393242  0.171998  0.030883  0.126453  0.002680  0.378658  0.972767   \n",
       "HGM  0.439562  0.254764  0.037537  0.113954  0.021208  0.315251  0.967460   \n",
       "IZT  0.486104  0.289204  0.036225  0.108617  0.015849  0.325170  0.961974   \n",
       "LLA  0.469941  0.285730  0.030699  0.098515  0.021647  0.333786  0.957334   \n",
       "NEZ  0.568160  0.292895  0.028917  0.119268  0.018692  0.345143  0.979488   \n",
       "TAH  0.471490  0.212784  0.015414  0.138732  0.002397  0.388521  0.970757   \n",
       "TLI  0.391678  0.293454  0.032427  0.118381  0.048196  0.261401  0.928677   \n",
       "UAX  0.423437  0.236550  0.022073  0.110762  0.006811  0.365995  0.958677   \n",
       "UIZ  0.502548  0.271620  0.031608  0.114503  0.011488  0.349561  0.967753   \n",
       "\n",
       "     Altitude    Stores  Restaurants & Bars  Medical  Buildings & Offices  \\\n",
       "CHO  0.170956  0.023256            0.266667      0.0                  0.2   \n",
       "FAC  0.255515  0.186047            0.716667      0.0                  0.0   \n",
       "GAM  0.123162  0.534884            0.550000      0.0                  0.2   \n",
       "HGM  0.136029  0.627907            0.783333      0.0                  0.0   \n",
       "IZT  0.143382  0.441860            0.950000      0.0                  0.0   \n",
       "LLA  0.128676  0.488372            0.133333      0.0                  0.4   \n",
       "NEZ  0.137868  0.209302            0.383333      0.0                  0.0   \n",
       "TAH  0.251838  0.000000            0.000000      0.0                  0.0   \n",
       "TLI  0.281250  0.162791            0.133333      0.0                  0.2   \n",
       "UAX  0.158088  0.558140            0.616667      0.0                  0.6   \n",
       "UIZ  0.112132  0.162791            0.733333      0.0                  0.0   \n",
       "\n",
       "     Hotels & Hostels  Museums & Galleries  Plazas  Farms  Parks & Forests  \\\n",
       "CHO               0.0             0.000000     0.0    0.0         0.000000   \n",
       "FAC               0.0             0.000000     1.0    0.0         0.666667   \n",
       "GAM               0.0             0.000000     0.0    0.0         0.000000   \n",
       "HGM               0.0             0.272727     1.0    0.0         0.000000   \n",
       "IZT               0.0             0.000000     1.0    0.0         0.000000   \n",
       "LLA               0.0             0.090909     0.0    0.0         0.000000   \n",
       "NEZ               0.0             0.000000     0.0    1.0         0.000000   \n",
       "TAH               0.0             0.000000     1.0    0.0         0.500000   \n",
       "TLI               0.0             0.000000     0.0    0.0         0.000000   \n",
       "UAX               0.0             0.000000     0.0    1.0         0.833333   \n",
       "UIZ               0.0             0.090909     0.0    1.0         0.333333   \n",
       "\n",
       "     Schools  Gyms & Sports  Stadiums & Theaters  Bus Stations  Sports Fields  \\\n",
       "CHO      0.0       0.200000                0.000           0.0       0.000000   \n",
       "FAC      0.0       0.333333                0.750           0.0       0.066667   \n",
       "GAM      0.0       0.600000                0.125           0.5       0.000000   \n",
       "HGM      0.5       0.266667                0.500           0.0       0.000000   \n",
       "IZT      0.0       0.266667                0.125           0.0       0.066667   \n",
       "LLA      0.0       0.133333                0.125           0.0       0.066667   \n",
       "NEZ      0.0       0.400000                0.000           0.0       0.000000   \n",
       "TAH      0.0       0.533333                0.250           0.0       0.133333   \n",
       "TLI      0.0       0.066667                0.250           0.0       0.000000   \n",
       "UAX      0.0       0.466667                0.125           0.0       0.000000   \n",
       "UIZ      0.0       0.466667                0.000           0.0       0.000000   \n",
       "\n",
       "     Industrial  \n",
       "CHO         0.0  \n",
       "FAC         0.0  \n",
       "GAM         0.0  \n",
       "HGM         0.0  \n",
       "IZT         0.0  \n",
       "LLA         0.0  \n",
       "NEZ         0.0  \n",
       "TAH         0.0  \n",
       "TLI         0.5  \n",
       "UAX         0.0  \n",
       "UIZ         0.5  "
      ]
     },
     "execution_count": 58,
     "metadata": {},
     "output_type": "execute_result"
    }
   ],
   "source": [
    "c[1]"
   ]
  },
  {
   "cell_type": "markdown",
   "metadata": {},
   "source": [
    "This cluster represents the moderately polluted areas. This is an understatement, however: let's not lose sight of PM25, which is high accross every cluster, well into the \"very bad\" IMECA level. Let's see the correlations between variables. "
   ]
  },
  {
   "cell_type": "code",
   "execution_count": 59,
   "metadata": {},
   "outputs": [
    {
     "data": {
      "image/png": "[encoded data removed]",
      "text/plain": [
       "<matplotlib.figure.Figure at 0x7f61469e13c8>"
      ]
     },
     "metadata": {
      "needs_background": "light"
     },
     "output_type": "display_data"
    }
   ],
   "source": [
    "color_map(correlation_matrix_dataframe(c[1], True), c[1].columns, global_columns)"
   ]
  },
  {
   "cell_type": "markdown",
   "metadata": {},
   "source": [
    "Here, we have bus stations only near the GAM station, and this seems to be negatively correlated to CO; however, this is the same case as in the Industrial variable on cluster 0. We will not trust that correlation. Fortunately, there are restaurants & bars, and gyms & sports venues near every station in this cluster, and those two variables are correlated to different pollutants (even if not directly to pIndex). We can inspect some regression plots, then:"
   ]
  },
  {
   "cell_type": "code",
   "execution_count": 60,
   "metadata": {},
   "outputs": [
    {
     "data": {
      "text/plain": [
       "<matplotlib.axes._subplots.AxesSubplot at 0x7f61499989b0>"
      ]
     },
     "execution_count": 60,
     "metadata": {},
     "output_type": "execute_result"
    },
    {
     "data": {
      "image/png": "[encoded data removed]",
      "text/plain": [
       "<matplotlib.figure.Figure at 0x7f6149e0dc88>"
      ]
     },
     "metadata": {
      "needs_background": "light"
     },
     "output_type": "display_data"
    }
   ],
   "source": [
    "x = 'Restaurants & Bars'\n",
    "y = 'NO2'\n",
    "sns.regplot(x = x, y = y, data=c[1][[x, y]])"
   ]
  },
  {
   "cell_type": "markdown",
   "metadata": {},
   "source": [
    "Even though the relationship between restaurants & bars and NO2 might not be linear (it looks like a sine wave), it's clearly positive. One source of NO2 is the combustion of fossil fuels, such as coal, gas and oil. Having many places to eat, in a place such as GMX, guarantees the existence of many taco places and burger joints. This correlation, then, could be more of a causation."
   ]
  },
  {
   "cell_type": "code",
   "execution_count": 61,
   "metadata": {},
   "outputs": [
    {
     "data": {
      "text/plain": [
       "<matplotlib.axes._subplots.AxesSubplot at 0x7f6149d84da0>"
      ]
     },
     "execution_count": 61,
     "metadata": {},
     "output_type": "execute_result"
    },
    {
     "data": {
      "image/png": "[encoded data removed]",
      "text/plain": [
       "<matplotlib.figure.Figure at 0x7f6149d07ac8>"
      ]
     },
     "metadata": {
      "needs_background": "light"
     },
     "output_type": "display_data"
    }
   ],
   "source": [
    "x = 'Gyms & Sports'\n",
    "y = 'CO'\n",
    "sns.regplot(x = x, y = y, data=c[1][[x, y]])"
   ]
  },
  {
   "cell_type": "code",
   "execution_count": 62,
   "metadata": {},
   "outputs": [
    {
     "data": {
      "text/plain": [
       "<matplotlib.axes._subplots.AxesSubplot at 0x7f6149e8cd30>"
      ]
     },
     "execution_count": 62,
     "metadata": {},
     "output_type": "execute_result"
    },
    {
     "data": {
      "image/png": "[encoded data removed]",
      "text/plain": [
       "<matplotlib.figure.Figure at 0x7f6149da44a8>"
      ]
     },
     "metadata": {
      "needs_background": "light"
     },
     "output_type": "display_data"
    }
   ],
   "source": [
    "x = 'Gyms & Sports'\n",
    "y = 'SO2'\n",
    "sns.regplot(x = x, y = y, data=c[1][[x, y]])"
   ]
  },
  {
   "cell_type": "code",
   "execution_count": 63,
   "metadata": {},
   "outputs": [
    {
     "data": {
      "text/plain": [
       "<matplotlib.axes._subplots.AxesSubplot at 0x7f6146a6d668>"
      ]
     },
     "execution_count": 63,
     "metadata": {},
     "output_type": "execute_result"
    },
    {
     "data": {
      "image/png": "[encoded data removed]",
      "text/plain": [
       "<matplotlib.figure.Figure at 0x7f6149db67b8>"
      ]
     },
     "metadata": {
      "needs_background": "light"
     },
     "output_type": "display_data"
    }
   ],
   "source": [
    "x = 'Gyms & Sports'\n",
    "y = 'O3'\n",
    "sns.regplot(x = x, y = y, data=c[1][[x, y]])"
   ]
  },
  {
   "cell_type": "code",
   "execution_count": 64,
   "metadata": {},
   "outputs": [
    {
     "data": {
      "text/plain": [
       "<matplotlib.axes._subplots.AxesSubplot at 0x7f61469acc50>"
      ]
     },
     "execution_count": 64,
     "metadata": {},
     "output_type": "execute_result"
    },
    {
     "data": {
      "image/png": "[encoded data removed]",
      "text/plain": [
       "<matplotlib.figure.Figure at 0x7f6146ac51d0>"
      ]
     },
     "metadata": {
      "needs_background": "light"
     },
     "output_type": "display_data"
    }
   ],
   "source": [
    "x = 'Gyms & Sports'\n",
    "y = 'PM10'\n",
    "sns.regplot(x = x, y = y, data=c[1][[x, y]])"
   ]
  },
  {
   "cell_type": "code",
   "execution_count": 65,
   "metadata": {},
   "outputs": [
    {
     "data": {
      "text/plain": [
       "<matplotlib.axes._subplots.AxesSubplot at 0x7f6146ad3630>"
      ]
     },
     "execution_count": 65,
     "metadata": {},
     "output_type": "execute_result"
    },
    {
     "data": {
      "image/png": "[encoded data removed]",
      "text/plain": [
       "<matplotlib.figure.Figure at 0x7f61469540f0>"
      ]
     },
     "metadata": {
      "needs_background": "light"
     },
     "output_type": "display_data"
    }
   ],
   "source": [
    "x = 'Gyms & Sports'\n",
    "y = 'PM25'\n",
    "sns.regplot(x = x, y = y, data=c[1][[x, y]])"
   ]
  },
  {
   "cell_type": "markdown",
   "metadata": {},
   "source": [
    "Every plot here behaves kind of like a wave, much like the Restaurants & Bars - NO<sub>2</sub> plot. However, in these two last plots, it looks like some specific points are tilting the correlations to make them seem stronger than they really are. For example, in the last plot, if we took the first point away, the correlation would look extremely weak, or even nonexistent. I would argue that the gyms & sports venues are only correlated to CO, SO<sub>2</sub> and O<sub>3</sub>, since air quality is directly related to the amount of exercise a person can do, and thus, areas with lower pollution are more suited for exercise. As for the wave-like behavior, more data is needed to explain it."
   ]
  },
  {
   "cell_type": "markdown",
   "metadata": {},
   "source": [
    "### Cluster 2 "
   ]
  },
  {
   "cell_type": "code",
   "execution_count": 66,
   "metadata": {},
   "outputs": [
    {
     "data": {
      "text/html": [
       "<div>\n",
       "<style scoped>\n",
       "    .dataframe tbody tr th:only-of-type {\n",
       "        vertical-align: middle;\n",
       "    }\n",
       "\n",
       "    .dataframe tbody tr th {\n",
       "        vertical-align: top;\n",
       "    }\n",
       "\n",
       "    .dataframe thead th {\n",
       "        text-align: right;\n",
       "    }\n",
       "</style>\n",
       "<table border=\"1\" class=\"dataframe\">\n",
       "  <thead>\n",
       "    <tr style=\"text-align: right;\">\n",
       "      <th></th>\n",
       "      <th>pIndex</th>\n",
       "      <th>CO</th>\n",
       "      <th>NO2</th>\n",
       "      <th>O3</th>\n",
       "      <th>SO2</th>\n",
       "      <th>PM10</th>\n",
       "      <th>PM25</th>\n",
       "      <th>Altitude</th>\n",
       "      <th>Stores</th>\n",
       "      <th>Restaurants &amp; Bars</th>\n",
       "      <th>Medical</th>\n",
       "      <th>Buildings &amp; Offices</th>\n",
       "      <th>Hotels &amp; Hostels</th>\n",
       "      <th>Museums &amp; Galleries</th>\n",
       "      <th>Plazas</th>\n",
       "      <th>Farms</th>\n",
       "      <th>Parks &amp; Forests</th>\n",
       "      <th>Schools</th>\n",
       "      <th>Gyms &amp; Sports</th>\n",
       "      <th>Stadiums &amp; Theaters</th>\n",
       "      <th>Bus Stations</th>\n",
       "      <th>Sports Fields</th>\n",
       "      <th>Industrial</th>\n",
       "    </tr>\n",
       "  </thead>\n",
       "  <tbody>\n",
       "    <tr>\n",
       "      <th>AJM</th>\n",
       "      <td>0.063152</td>\n",
       "      <td>0.160576</td>\n",
       "      <td>0.014453</td>\n",
       "      <td>0.162434</td>\n",
       "      <td>0.017040</td>\n",
       "      <td>0.245542</td>\n",
       "      <td>0.892866</td>\n",
       "      <td>0.843750</td>\n",
       "      <td>0.046512</td>\n",
       "      <td>0.250000</td>\n",
       "      <td>0.0</td>\n",
       "      <td>0.2</td>\n",
       "      <td>0.0</td>\n",
       "      <td>0.0</td>\n",
       "      <td>0.0</td>\n",
       "      <td>0.0</td>\n",
       "      <td>0.166667</td>\n",
       "      <td>0.0</td>\n",
       "      <td>0.266667</td>\n",
       "      <td>0.000</td>\n",
       "      <td>0.0</td>\n",
       "      <td>0.000000</td>\n",
       "      <td>0.0</td>\n",
       "    </tr>\n",
       "    <tr>\n",
       "      <th>CUA</th>\n",
       "      <td>0.303390</td>\n",
       "      <td>0.294866</td>\n",
       "      <td>0.023970</td>\n",
       "      <td>0.109620</td>\n",
       "      <td>0.012078</td>\n",
       "      <td>0.224163</td>\n",
       "      <td>0.966879</td>\n",
       "      <td>1.000000</td>\n",
       "      <td>0.465116</td>\n",
       "      <td>0.433333</td>\n",
       "      <td>0.0</td>\n",
       "      <td>0.4</td>\n",
       "      <td>0.0</td>\n",
       "      <td>0.0</td>\n",
       "      <td>0.0</td>\n",
       "      <td>0.0</td>\n",
       "      <td>0.000000</td>\n",
       "      <td>0.0</td>\n",
       "      <td>1.000000</td>\n",
       "      <td>0.000</td>\n",
       "      <td>0.0</td>\n",
       "      <td>0.200000</td>\n",
       "      <td>0.0</td>\n",
       "    </tr>\n",
       "    <tr>\n",
       "      <th>SFE</th>\n",
       "      <td>0.000000</td>\n",
       "      <td>0.153873</td>\n",
       "      <td>0.025254</td>\n",
       "      <td>0.122352</td>\n",
       "      <td>0.007593</td>\n",
       "      <td>0.246152</td>\n",
       "      <td>0.901235</td>\n",
       "      <td>0.806985</td>\n",
       "      <td>0.372093</td>\n",
       "      <td>0.600000</td>\n",
       "      <td>0.0</td>\n",
       "      <td>1.0</td>\n",
       "      <td>0.0</td>\n",
       "      <td>0.0</td>\n",
       "      <td>0.0</td>\n",
       "      <td>0.0</td>\n",
       "      <td>0.166667</td>\n",
       "      <td>0.0</td>\n",
       "      <td>0.666667</td>\n",
       "      <td>0.125</td>\n",
       "      <td>0.5</td>\n",
       "      <td>0.066667</td>\n",
       "      <td>0.0</td>\n",
       "    </tr>\n",
       "  </tbody>\n",
       "</table>\n",
       "</div>"
      ],
      "text/plain": [
       "       pIndex        CO       NO2        O3       SO2      PM10      PM25  \\\n",
       "AJM  0.063152  0.160576  0.014453  0.162434  0.017040  0.245542  0.892866   \n",
       "CUA  0.303390  0.294866  0.023970  0.109620  0.012078  0.224163  0.966879   \n",
       "SFE  0.000000  0.153873  0.025254  0.122352  0.007593  0.246152  0.901235   \n",
       "\n",
       "     Altitude    Stores  Restaurants & Bars  Medical  Buildings & Offices  \\\n",
       "AJM  0.843750  0.046512            0.250000      0.0                  0.2   \n",
       "CUA  1.000000  0.465116            0.433333      0.0                  0.4   \n",
       "SFE  0.806985  0.372093            0.600000      0.0                  1.0   \n",
       "\n",
       "     Hotels & Hostels  Museums & Galleries  Plazas  Farms  Parks & Forests  \\\n",
       "AJM               0.0                  0.0     0.0    0.0         0.166667   \n",
       "CUA               0.0                  0.0     0.0    0.0         0.000000   \n",
       "SFE               0.0                  0.0     0.0    0.0         0.166667   \n",
       "\n",
       "     Schools  Gyms & Sports  Stadiums & Theaters  Bus Stations  Sports Fields  \\\n",
       "AJM      0.0       0.266667                0.000           0.0       0.000000   \n",
       "CUA      0.0       1.000000                0.000           0.0       0.200000   \n",
       "SFE      0.0       0.666667                0.125           0.5       0.066667   \n",
       "\n",
       "     Industrial  \n",
       "AJM         0.0  \n",
       "CUA         0.0  \n",
       "SFE         0.0  "
      ]
     },
     "execution_count": 66,
     "metadata": {},
     "output_type": "execute_result"
    }
   ],
   "source": [
    "c[2]"
   ]
  },
  {
   "cell_type": "markdown",
   "metadata": {},
   "source": [
    "This cluster includes the stations with the highest altitude and the least pollution - except for the CUA station. There are only three stations, so we need to be extra wary of what our statistics tell us."
   ]
  },
  {
   "cell_type": "code",
   "execution_count": 67,
   "metadata": {},
   "outputs": [
    {
     "data": {
      "image/png": "[encoded data removed]",
      "text/plain": [
       "<matplotlib.figure.Figure at 0x7f6146925be0>"
      ]
     },
     "metadata": {
      "needs_background": "light"
     },
     "output_type": "display_data"
    }
   ],
   "source": [
    "color_map(correlation_matrix_dataframe(c[2], True), c[2].columns, global_columns)"
   ]
  },
  {
   "cell_type": "markdown",
   "metadata": {},
   "source": [
    "The Parks & Forests variable seems to have a negative correlation with CO. Indeed, it is known that plants use CO for many processes (Bidwell 1972, Uffen 1981, Wang 2016), which could actually mean that this correlation is a causation. The correlations are consistent, too: Parks & Forests is negatively correlated to CO and positively correlated to PM10, and PM10 is negatively correlated to CO. The link between these three variables could be altitude. The higher you go, the less protection you have from sunlight. Sunlight catalyzes many chemical reactions, some of which could be forming PM10 from CO. However, we do not have enough data to confirm this."
   ]
  },
  {
   "cell_type": "markdown",
   "metadata": {},
   "source": [
    "### Cluster 3"
   ]
  },
  {
   "cell_type": "code",
   "execution_count": 68,
   "metadata": {},
   "outputs": [
    {
     "data": {
      "text/html": [
       "<div>\n",
       "<style scoped>\n",
       "    .dataframe tbody tr th:only-of-type {\n",
       "        vertical-align: middle;\n",
       "    }\n",
       "\n",
       "    .dataframe tbody tr th {\n",
       "        vertical-align: top;\n",
       "    }\n",
       "\n",
       "    .dataframe thead th {\n",
       "        text-align: right;\n",
       "    }\n",
       "</style>\n",
       "<table border=\"1\" class=\"dataframe\">\n",
       "  <thead>\n",
       "    <tr style=\"text-align: right;\">\n",
       "      <th></th>\n",
       "      <th>pIndex</th>\n",
       "      <th>CO</th>\n",
       "      <th>NO2</th>\n",
       "      <th>O3</th>\n",
       "      <th>SO2</th>\n",
       "      <th>PM10</th>\n",
       "      <th>PM25</th>\n",
       "      <th>Altitude</th>\n",
       "      <th>Stores</th>\n",
       "      <th>Restaurants &amp; Bars</th>\n",
       "      <th>Medical</th>\n",
       "      <th>Buildings &amp; Offices</th>\n",
       "      <th>Hotels &amp; Hostels</th>\n",
       "      <th>Museums &amp; Galleries</th>\n",
       "      <th>Plazas</th>\n",
       "      <th>Farms</th>\n",
       "      <th>Parks &amp; Forests</th>\n",
       "      <th>Schools</th>\n",
       "      <th>Gyms &amp; Sports</th>\n",
       "      <th>Stadiums &amp; Theaters</th>\n",
       "      <th>Bus Stations</th>\n",
       "      <th>Sports Fields</th>\n",
       "      <th>Industrial</th>\n",
       "    </tr>\n",
       "  </thead>\n",
       "  <tbody>\n",
       "    <tr>\n",
       "      <th>ATI</th>\n",
       "      <td>0.206851</td>\n",
       "      <td>0.208255</td>\n",
       "      <td>0.024514</td>\n",
       "      <td>0.097785</td>\n",
       "      <td>0.024297</td>\n",
       "      <td>0.314077</td>\n",
       "      <td>0.906926</td>\n",
       "      <td>0.332721</td>\n",
       "      <td>0.000000</td>\n",
       "      <td>0.150000</td>\n",
       "      <td>0.0</td>\n",
       "      <td>0.2</td>\n",
       "      <td>0.0</td>\n",
       "      <td>0.000000</td>\n",
       "      <td>0.0</td>\n",
       "      <td>0.0</td>\n",
       "      <td>0.333333</td>\n",
       "      <td>0.0</td>\n",
       "      <td>0.266667</td>\n",
       "      <td>0.000</td>\n",
       "      <td>0.0</td>\n",
       "      <td>0.133333</td>\n",
       "      <td>0.0</td>\n",
       "    </tr>\n",
       "    <tr>\n",
       "      <th>CCA</th>\n",
       "      <td>0.214846</td>\n",
       "      <td>0.211194</td>\n",
       "      <td>0.026990</td>\n",
       "      <td>0.121028</td>\n",
       "      <td>0.011395</td>\n",
       "      <td>0.292734</td>\n",
       "      <td>0.917127</td>\n",
       "      <td>0.220588</td>\n",
       "      <td>0.093023</td>\n",
       "      <td>0.766667</td>\n",
       "      <td>0.0</td>\n",
       "      <td>0.0</td>\n",
       "      <td>0.0</td>\n",
       "      <td>0.181818</td>\n",
       "      <td>1.0</td>\n",
       "      <td>0.0</td>\n",
       "      <td>0.500000</td>\n",
       "      <td>1.0</td>\n",
       "      <td>0.600000</td>\n",
       "      <td>0.875</td>\n",
       "      <td>1.0</td>\n",
       "      <td>0.066667</td>\n",
       "      <td>0.0</td>\n",
       "    </tr>\n",
       "    <tr>\n",
       "      <th>MGH</th>\n",
       "      <td>0.220160</td>\n",
       "      <td>0.266887</td>\n",
       "      <td>0.034691</td>\n",
       "      <td>0.099863</td>\n",
       "      <td>0.020461</td>\n",
       "      <td>0.245423</td>\n",
       "      <td>0.916211</td>\n",
       "      <td>0.378676</td>\n",
       "      <td>0.255814</td>\n",
       "      <td>0.866667</td>\n",
       "      <td>1.0</td>\n",
       "      <td>0.0</td>\n",
       "      <td>0.0</td>\n",
       "      <td>1.000000</td>\n",
       "      <td>1.0</td>\n",
       "      <td>0.0</td>\n",
       "      <td>1.000000</td>\n",
       "      <td>0.0</td>\n",
       "      <td>0.533333</td>\n",
       "      <td>0.125</td>\n",
       "      <td>0.0</td>\n",
       "      <td>0.000000</td>\n",
       "      <td>0.0</td>\n",
       "    </tr>\n",
       "    <tr>\n",
       "      <th>PED</th>\n",
       "      <td>0.061857</td>\n",
       "      <td>0.173215</td>\n",
       "      <td>0.023902</td>\n",
       "      <td>0.152341</td>\n",
       "      <td>0.010437</td>\n",
       "      <td>0.235708</td>\n",
       "      <td>0.896560</td>\n",
       "      <td>0.305147</td>\n",
       "      <td>0.604651</td>\n",
       "      <td>0.433333</td>\n",
       "      <td>0.0</td>\n",
       "      <td>0.2</td>\n",
       "      <td>0.0</td>\n",
       "      <td>0.090909</td>\n",
       "      <td>1.0</td>\n",
       "      <td>1.0</td>\n",
       "      <td>0.333333</td>\n",
       "      <td>0.0</td>\n",
       "      <td>0.733333</td>\n",
       "      <td>0.000</td>\n",
       "      <td>0.0</td>\n",
       "      <td>0.066667</td>\n",
       "      <td>0.0</td>\n",
       "    </tr>\n",
       "  </tbody>\n",
       "</table>\n",
       "</div>"
      ],
      "text/plain": [
       "       pIndex        CO       NO2        O3       SO2      PM10      PM25  \\\n",
       "ATI  0.206851  0.208255  0.024514  0.097785  0.024297  0.314077  0.906926   \n",
       "CCA  0.214846  0.211194  0.026990  0.121028  0.011395  0.292734  0.917127   \n",
       "MGH  0.220160  0.266887  0.034691  0.099863  0.020461  0.245423  0.916211   \n",
       "PED  0.061857  0.173215  0.023902  0.152341  0.010437  0.235708  0.896560   \n",
       "\n",
       "     Altitude    Stores  Restaurants & Bars  Medical  Buildings & Offices  \\\n",
       "ATI  0.332721  0.000000            0.150000      0.0                  0.2   \n",
       "CCA  0.220588  0.093023            0.766667      0.0                  0.0   \n",
       "MGH  0.378676  0.255814            0.866667      1.0                  0.0   \n",
       "PED  0.305147  0.604651            0.433333      0.0                  0.2   \n",
       "\n",
       "     Hotels & Hostels  Museums & Galleries  Plazas  Farms  Parks & Forests  \\\n",
       "ATI               0.0             0.000000     0.0    0.0         0.333333   \n",
       "CCA               0.0             0.181818     1.0    0.0         0.500000   \n",
       "MGH               0.0             1.000000     1.0    0.0         1.000000   \n",
       "PED               0.0             0.090909     1.0    1.0         0.333333   \n",
       "\n",
       "     Schools  Gyms & Sports  Stadiums & Theaters  Bus Stations  Sports Fields  \\\n",
       "ATI      0.0       0.266667                0.000           0.0       0.133333   \n",
       "CCA      1.0       0.600000                0.875           1.0       0.066667   \n",
       "MGH      0.0       0.533333                0.125           0.0       0.000000   \n",
       "PED      0.0       0.733333                0.000           0.0       0.066667   \n",
       "\n",
       "     Industrial  \n",
       "ATI         0.0  \n",
       "CCA         0.0  \n",
       "MGH         0.0  \n",
       "PED         0.0  "
      ]
     },
     "execution_count": 68,
     "metadata": {},
     "output_type": "execute_result"
    }
   ],
   "source": [
    "c[3]"
   ]
  },
  {
   "cell_type": "markdown",
   "metadata": {},
   "source": [
    "Cluster 3 is yet another small-sized set. Stations here have the second places in both altitude and pIndex. "
   ]
  },
  {
   "cell_type": "code",
   "execution_count": 69,
   "metadata": {},
   "outputs": [
    {
     "data": {
      "image/png": "[encoded data removed]",
      "text/plain": [
       "<matplotlib.figure.Figure at 0x7f61468ffda0>"
      ]
     },
     "metadata": {
      "needs_background": "light"
     },
     "output_type": "display_data"
    }
   ],
   "source": [
    "color_map(correlation_matrix_dataframe(c[3], True), c[3].columns, global_columns)"
   ]
  },
  {
   "cell_type": "markdown",
   "metadata": {},
   "source": [
    "The variables Farms and Medical occur only one station at a time, which is why we should ignore their correlations. The only variables that we can trust are really correlated to NO<sub>2</sub> are Parks & Forests and Museums & Galleries. If we look at their regression plots:"
   ]
  },
  {
   "cell_type": "code",
   "execution_count": 70,
   "metadata": {},
   "outputs": [
    {
     "data": {
      "text/plain": [
       "<matplotlib.axes._subplots.AxesSubplot at 0x7f614673dda0>"
      ]
     },
     "execution_count": 70,
     "metadata": {},
     "output_type": "execute_result"
    },
    {
     "data": {
      "image/png": "[encoded data removed]",
      "text/plain": [
       "<matplotlib.figure.Figure at 0x7f61466ca978>"
      ]
     },
     "metadata": {
      "needs_background": "light"
     },
     "output_type": "display_data"
    }
   ],
   "source": [
    "y = 'NO2'\n",
    "x = 'Parks & Forests'\n",
    "sns.regplot(x = x, y = y, data=c[3][[x, y]])"
   ]
  },
  {
   "cell_type": "code",
   "execution_count": 71,
   "metadata": {},
   "outputs": [
    {
     "data": {
      "text/plain": [
       "<matplotlib.axes._subplots.AxesSubplot at 0x7f61466029e8>"
      ]
     },
     "execution_count": 71,
     "metadata": {},
     "output_type": "execute_result"
    },
    {
     "data": {
      "image/png": "[encoded data removed]",
      "text/plain": [
       "<matplotlib.figure.Figure at 0x7f61469175f8>"
      ]
     },
     "metadata": {
      "needs_background": "light"
     },
     "output_type": "display_data"
    }
   ],
   "source": [
    "y = 'NO2'\n",
    "x = 'Museums & Galleries'\n",
    "sns.regplot(x = x, y = y, data=c[3][[x, y]])"
   ]
  },
  {
   "cell_type": "markdown",
   "metadata": {},
   "source": [
    "we can see a nice, linear correlations. The mechanism for which museums and galleries would be (weakly) correlated to a NO<sub>2</sub> increase could be attributed to them being places that many people visit all year long. Some of the most iconic museums, galleries and theaters are congregated here, including the National Auditorium. The same can be said about the Parks & Forests variable. The MGH station is located near Chapultepec, a forest which is a major cultural asset in Mexico City. More can be said about NO<sub>2</sub> and forests. A sweden paper (Grundström 2014) suggests that urban forests have a very small effect in reducing NO<sub>2</sub> and no effect on O<sub>3</sub>, while research conducted on the USA (Yli-Pelkonen 2017) suggests that O<sub>3</sub> but not NO<sub>2</sub> is reduced by urban trees. Another study, conducted in the Netherlands (Dorsey 2004) found that soils in forests can be a net source of reactive NO. NO can be oxidized to NO<sub>2</sub> by reacting with O<sub>3</sub> and other chemical species. From the varying results of research in different countries, we see that urban trees have different effects depending on their specific contexts and species. It could be the case that the Chapultepec forest is actually one of those NO producing forests. Specific studies should be conducted before reaching this conclusion, but we are well justified in suspecting this."
   ]
  },
  {
   "cell_type": "markdown",
   "metadata": {},
   "source": [
    "### GMX"
   ]
  },
  {
   "cell_type": "markdown",
   "metadata": {},
   "source": [
    "Now let's see the correlation matrix for GMX as a whole:"
   ]
  },
  {
   "cell_type": "code",
   "execution_count": 72,
   "metadata": {},
   "outputs": [
    {
     "data": {
      "image/png": "[encoded data removed]",
      "text/plain": [
       "<matplotlib.figure.Figure at 0x7f61466cfcf8>"
      ]
     },
     "metadata": {
      "needs_background": "light"
     },
     "output_type": "display_data"
    }
   ],
   "source": [
    "color_map(correlation_matrix_dataframe(cdmx_n, True), global_columns, global_columns)"
   ]
  },
  {
   "cell_type": "markdown",
   "metadata": {},
   "source": [
    "We see some familiar correlations, such as the negative correlation between Gyms & Sports and CO that we saw in cluster 1, or the positive correlation between Museums & Galleries and NO<sub>2</sub> that we saw in cluster 3. However, most of the other correlations between venues and pollutants are nowhere to be seen. "
   ]
  },
  {
   "cell_type": "markdown",
   "metadata": {},
   "source": [
    "<hr>\n",
    "<h1 align='center'> 6. Conclusions <h1> <a name=\"conclusion\"></a>\n",
    "<hr>"
   ]
  },
  {
   "cell_type": "markdown",
   "metadata": {},
   "source": [
    "While some effects cannot be seen in the complete GMX dataset, they can be seen once we partition our data into smaller datasets. Some of these effects include:\n",
    "\n",
    "<ul>\n",
    "    <li>In the most polluted, lowest altitude regions (cluster 0), the presence of a soap factory nearby the XAL station was strongly correlated with pIndex. We cannot directly conclude that this factory is the culprit, since we do not have many factories in our data, and thus, this station is an outlier inside its own cluster. </li>\n",
    "    <li>In regions with moderate pollution and low altitude (cluster 1), having many places to eat is correlated to higher NO<sub>2</sub> concentrations, and having places where you can exercise is correlated to lower SO<sub>2</sub> and CO concentrations, and higher O<sub>3</sub> concentrations.</li>\n",
    "    <li>About clusters 2 and 3, I suspect that urban forests play different roles. In cluster 2, we see a negative correlation between Parks & Forests and CO. In cluster 3, we see a positive correlation between NO<sub>2</sub> and Parks & Forests. While we cannot be sure of the inner workings behind these observations, these results hint at what other studies already say: that urban forests behave one way here, and a different way over there. Specific research should have to be done to address this.</li>\n",
    "</ul>\n",
    "\n",
    "Also, because of the presence of wind, there might be a correlation between venue and station positionings. If we look at our clustering map, we see that the most polluted areas are to the northeast of GMX, and the least polluted to the southwest. This model doesn't consider winds, but our clustering suggests that it should, which is an important conclusion by itself."
   ]
  },
  {
   "cell_type": "markdown",
   "metadata": {},
   "source": [
    "<hr>\n",
    "<h1 align='center'> 7. Final remarks <h1> <a name=\"remarks\"></a>\n",
    "<hr>"
   ]
  },
  {
   "cell_type": "markdown",
   "metadata": {},
   "source": [
    "Through our clustering analysis, we learned about some correlations that were invisible when looking at the whole dataset. This is a double-edged sword, because reducing the size of the datasets will result in more drastic effects being observed, but less generalization power. Ideally, I would have liked to work with a much bigger dataset. Even a hundred stations would have been enough, but after cleaning the data, we ended up discarding about 12 stations, and only 26 remained. Even so, because we clustered our stations using educated criteria, we can trust that any phenomenon observed (such as the positive correlation between forests and NO<sub>2</sub>) is well justified in arising suspicion. While our datasets were too small to conduct comfortable statistics, those statistics are still statistics, and can be valuable when interpreted under the right context.\n",
    "\n",
    "When I get the chance, I would like to repeat this experiment incorporating distances from every venue to every station, since pollution is known to travel by wind. It isn't static, as this model wordlessly implies, and the pollution from some venues could be impacting on venues far away. This would also solve many NaN problems, since every station would have at least a tiny amount associated to each type of venue, which would help the correlation analysis immensely. \n",
    "\n",
    "Finally, I hope you had as much fun reading this as I had writing it. Thank you."
   ]
  },
  {
   "cell_type": "code",
   "execution_count": null,
   "metadata": {},
   "outputs": [],
   "source": []
  }
 ],
 "metadata": {
  "kernelspec": {
   "display_name": "Python 3",
   "language": "python",
   "name": "python3"
  },
  "language_info": {
   "codemirror_mode": {
    "name": "ipython",
    "version": 3
   },
   "file_extension": ".py",
   "mimetype": "text/x-python",
   "name": "python",
   "nbconvert_exporter": "python",
   "pygments_lexer": "ipython3",
   "version": "3.6.9"
  }
 },
 "nbformat": 4,
 "nbformat_minor": 4
}
